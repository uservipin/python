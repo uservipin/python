{
 "cells": [
  {
   "cell_type": "markdown",
   "id": "ef6b4aa3",
   "metadata": {},
   "source": [
    "# Reading and Writing to text files in Python"
   ]
  },
  {
   "cell_type": "code",
   "execution_count": null,
   "id": "62c55ac4",
   "metadata": {},
   "outputs": [],
   "source": []
  },
  {
   "cell_type": "markdown",
   "id": "261c40ad",
   "metadata": {
    "ExecuteTime": {
     "end_time": "2021-09-12T08:15:48.901678Z",
     "start_time": "2021-09-12T08:15:48.884433Z"
    }
   },
   "source": [
    "File Access Modes\n",
    "\n",
    "Access modes govern the type of operations possible in the opened file. It refers to how the file will be used once its opened. These modes also define the location of the File Handle in the file. File handle is like a cursor, which defines from where the data has to be read or written in the file. There are 6 access modes in python.\n",
    "\n",
    "\n",
    "1  Read Only (‘r’) : Open text file for reading. The handle is positioned at the beginning of the file. If the file does not exists, raises I/O error. This is also the default mode in which file is opened.\n",
    "\n",
    "2.    Read and Write (‘r+’) : Open the file for reading and writing. The handle is positioned at the beginning of the file. \n",
    "      Raises I/O error if the file does not exists.\n",
    "3.   Write Only (‘w’) : Open the file for writing. For existing file, the data is truncated and over-written. \n",
    "     The handle is positioned at the beginning of the file. Creates the file if the file does not exists.\n",
    "4.    Write and Read (‘w+’) : Open the file for reading and writing. For existing file, data is truncated and over-written.\n",
    "     The handle is positioned at the beginning of the file.5\n",
    "5.    Append Only (‘a’) : Open the file for writing. The file is created if it does not exist.\n",
    "      The handle is positioned at the end of the file.\n",
    "      The data being written will be inserted at the end, after the existing data.\n",
    "6.    Append and Read (‘a+’) : Open the file for reading and writing.\n",
    "      The file is created if it does not exist. The handle is positioned at the end of the file.\n",
    "      The data being written will be inserted at the end, after the existing data.\n"
   ]
  },
  {
   "cell_type": "code",
   "execution_count": 4,
   "id": "3c6b27f9",
   "metadata": {
    "ExecuteTime": {
     "end_time": "2021-09-12T08:20:40.300240Z",
     "start_time": "2021-09-12T08:20:40.281709Z"
    }
   },
   "outputs": [],
   "source": [
    "\n",
    "# Open function to open the file \"MyFile1.txt\" \n",
    "# (same directory) in append mode and\n",
    "file1 = open(\"MyFile.txt\",\"a\")\n",
    "  \n",
    "# store its reference in the variable file1 \n",
    "# and \"MyFile2.txt\" in D:\\Text in file2\n",
    "file2 = open(r\"MyFile2.txt\",\"w+\")"
   ]
  },
  {
   "cell_type": "markdown",
   "id": "837faa32",
   "metadata": {},
   "source": [
    "# Closing a file"
   ]
  },
  {
   "cell_type": "markdown",
   "id": "630f3115",
   "metadata": {},
   "source": [
    "close() function closes the file and frees the memory space acquired by that file. It is used at the time when the file is no longer needed or if it is to be opened in a different file mode.\n",
    "\n",
    "File_object.close()"
   ]
  },
  {
   "cell_type": "code",
   "execution_count": 5,
   "id": "10a3868c",
   "metadata": {
    "ExecuteTime": {
     "end_time": "2021-09-12T08:21:43.438431Z",
     "start_time": "2021-09-12T08:21:43.414401Z"
    }
   },
   "outputs": [],
   "source": [
    "# Opening and Closing a file \"MyFile.txt\"\n",
    "# for object name file1.\n",
    "file1 = open(\"MyFile.txt\",\"a\")\n",
    "file1.close()"
   ]
  },
  {
   "cell_type": "markdown",
   "id": "114ceb97",
   "metadata": {},
   "source": [
    "# Writing to a file"
   ]
  },
  {
   "cell_type": "markdown",
   "id": "14eca628",
   "metadata": {},
   "source": [
    "There are two ways to write in a file.\n",
    "\n",
    "1.   write() : Inserts the string str1 in a single line in the text file.\n",
    "    File_object.write(str1)\n",
    "2.   writelines() : For a list of string elements, each string is inserted in the text file.Used to insert multiple strings at a     single time.\n",
    "    File_object.writelines(L) for L = [str1, str2, str3]"
   ]
  },
  {
   "cell_type": "markdown",
   "id": "dffd8b7c",
   "metadata": {},
   "source": [
    "# Reading from a file"
   ]
  },
  {
   "cell_type": "markdown",
   "id": "1e70cfa2",
   "metadata": {},
   "source": [
    "There are three ways to read data from a text file.\n",
    "\n",
    "1. read() : Returns the read bytes in form of a string. Reads n bytes, if no n specified, reads the entire file.\n",
    "   File_object.read([n])\n",
    "2. readline() : Reads a line of the file and returns in form of a string.For specified n, reads at most n bytes. However, does not reads more than one line, even if n exceeds the length of the line.\n",
    "   File_object.readline([n])\n",
    "3. readlines() : Reads all the lines and return them as each line a string element in a list.\n",
    "   File_object.readlines()"
   ]
  },
  {
   "cell_type": "code",
   "execution_count": 6,
   "id": "cd2061f3",
   "metadata": {
    "ExecuteTime": {
     "end_time": "2021-09-12T08:26:07.706077Z",
     "start_time": "2021-09-12T08:26:07.689324Z"
    },
    "scrolled": true
   },
   "outputs": [
    {
     "ename": "SyntaxError",
     "evalue": "Missing parentheses in call to 'print'. Did you mean print(\"Output of Read function is \")? (<ipython-input-6-ac4d12228c8d>, line 13)",
     "output_type": "error",
     "traceback": [
      "\u001b[1;36m  File \u001b[1;32m\"<ipython-input-6-ac4d12228c8d>\"\u001b[1;36m, line \u001b[1;32m13\u001b[0m\n\u001b[1;33m    print \"Output of Read function is \"\u001b[0m\n\u001b[1;37m          ^\u001b[0m\n\u001b[1;31mSyntaxError\u001b[0m\u001b[1;31m:\u001b[0m Missing parentheses in call to 'print'. Did you mean print(\"Output of Read function is \")?\n"
     ]
    }
   ],
   "source": [
    "# Program to show various ways to read and\n",
    "# write data in a file.\n",
    "file1 = open(\"myfile.txt\",\"w\")\n",
    "L = [\"This is Delhi \\n\",\"This is Paris \\n\",\"This is London \\n\"] \n",
    "  \n",
    "# \\n is placed to indicate EOL (End of Line)\n",
    "file1.write(\"Hello \\n\")\n",
    "file1.writelines(L)\n",
    "file1.close() #to change file access modes\n",
    "  \n",
    "file1 = open(\"myfile.txt\",\"r+\") \n",
    "  \n",
    "print \"Output of Read function is \"\n",
    "print file1.read()\n",
    "print\n",
    "  \n",
    "# seek(n) takes the file handle to the nth\n",
    "# bite from the beginning.\n",
    "file1.seek(0) \n",
    "  \n",
    "print \"Output of Readline function is \"\n",
    "print file1.readline()\n",
    "print\n",
    "  \n",
    "file1.seek(0)\n",
    "  \n",
    "# To show difference between read and readline\n",
    "print \"Output of Read(9) function is \"\n",
    "print file1.read(9)\n",
    "print\n",
    "  \n",
    "file1.seek(0)\n",
    "  \n",
    "print \"Output of Readline(9) function is \"\n",
    "print file1.readline(9)\n",
    "  \n",
    "file1.seek(0)\n",
    "# readlines function\n",
    "print \"Output of Readlines function is \"\n",
    "print file1.readlines()\n",
    "print\n",
    "file1.close("
   ]
  },
  {
   "cell_type": "code",
   "execution_count": null,
   "id": "e1e2aa4b",
   "metadata": {},
   "outputs": [],
   "source": []
  },
  {
   "cell_type": "markdown",
   "id": "0cfde582",
   "metadata": {},
   "source": [
    "# Appending to a file\n",
    "\n"
   ]
  },
  {
   "cell_type": "code",
   "execution_count": null,
   "id": "17771668",
   "metadata": {},
   "outputs": [],
   "source": [
    "# Python program to illustrate\n",
    "# Append vs write mode\n",
    "file1 = open(\"myfile.txt\",\"w\")\n",
    "L = [\"This is Delhi \\n\",\"This is Paris \\n\",\"This is London \\n\"]\n",
    "file1.close()\n",
    "\n",
    "# Append-adds at last\n",
    "file1 = open(\"myfile.txt\",\"a\")#append mode\n",
    "file1.write(\"Today \\n\")\n",
    "file1.close()\n",
    "\n",
    "file1 = open(\"myfile.txt\",\"r\")\n",
    "print \"Output of Readlines after appending\"\n",
    "print file1.readlines()\n",
    "print\n",
    "file1.close()\n",
    "\n",
    "# Write-Overwrites\n",
    "file1 = open(\"myfile.txt\",\"w\")#write mode\n",
    "file1.write(\"Tomorrow \\n\")\n",
    "file1.close()\n",
    "\n",
    "file1 = open(\"myfile.txt\",\"r\")\n",
    "print \"Output of Readlines after writing\"\n",
    "print file1.readlines()\n",
    "print\n",
    "file1.close()\n"
   ]
  },
  {
   "cell_type": "code",
   "execution_count": null,
   "id": "4e9968fc",
   "metadata": {},
   "outputs": [],
   "source": [
    "def append_new_line(file_name, text_to_append):\n",
    "    \"\"\"Append given text as a new line at the end of file\"\"\"\n",
    "    # Open the file in append & read mode ('a+')\n",
    "    with open(file_name, \"a+\") as file_object:\n",
    "        # Move read cursor to the start of file.\n",
    "        file_object.seek(0)\n",
    "        # If file is not empty then append '\\n'\n",
    "        data = file_object.read(100)\n",
    "        if len(data) > 0:\n",
    "            file_object.write(\"\\n\")\n",
    "        # Append text at the end of file\n",
    "        file_object.write(text_to_append)\n",
    "def append_multiple_lines(file_name, lines_to_append):\n",
    "    # Open the file in append & read mode ('a+')\n",
    "    with open(file_name, \"a+\") as file_object:\n",
    "        appendEOL = False\n",
    "        # Move read cursor to the start of file.\n",
    "        file_object.seek(0)\n",
    "        # Check if file is not empty\n",
    "        data = file_object.read(100)\n",
    "        if len(data) > 0:\n",
    "            appendEOL = True\n",
    "        # Iterate over each string in the list\n",
    "        for line in lines_to_append:\n",
    "            # If file is not empty then append '\\n' before first line for\n",
    "            # other lines always append '\\n' before appending line\n",
    "            if appendEOL == True:\n",
    "                file_object.write(\"\\n\")\n",
    "                file_objectle.write()\n",
    "            else:\n",
    "                appendEOL = True\n",
    "            # Append element at the end of file\n",
    "            file_object.write(line)"
   ]
  },
  {
   "cell_type": "code",
   "execution_count": null,
   "id": "b3fdd2de",
   "metadata": {},
   "outputs": [],
   "source": []
  }
 ],
 "metadata": {
  "kernelspec": {
   "display_name": "Python 3",
   "language": "python",
   "name": "python3"
  },
  "language_info": {
   "codemirror_mode": {
    "name": "ipython",
    "version": 3
   },
   "file_extension": ".py",
   "mimetype": "text/x-python",
   "name": "python",
   "nbconvert_exporter": "python",
   "pygments_lexer": "ipython3",
   "version": "3.8.8"
  }
 },
 "nbformat": 4,
 "nbformat_minor": 5
}

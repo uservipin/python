{
 "cells": [
  {
   "cell_type": "markdown",
   "id": "9e3db019",
   "metadata": {
    "heading_collapsed": true
   },
   "source": [
    "# Factorial of Number"
   ]
  },
  {
   "cell_type": "markdown",
   "id": "978cf592",
   "metadata": {
    "heading_collapsed": true,
    "hidden": true
   },
   "source": [
    "## One line solution"
   ]
  },
  {
   "cell_type": "code",
   "execution_count": 25,
   "id": "fe8cf9fb",
   "metadata": {
    "ExecuteTime": {
     "end_time": "2021-10-10T19:45:34.350575Z",
     "start_time": "2021-10-10T19:45:34.331576Z"
    },
    "hidden": true,
    "scrolled": true
   },
   "outputs": [
    {
     "name": "stdout",
     "output_type": "stream",
     "text": [
      "Factorial of 5 is 120\n"
     ]
    }
   ],
   "source": [
    "\n",
    "def factorial(n):\n",
    "     \n",
    "    # single line to find factorial\n",
    "    return 1 if (n==1 or n==0) else n * factorial(n - 1);\n",
    " \n",
    "num = 5;\n",
    "print(\"Factorial of\",num,\"is\",\n",
    "factorial(num))"
   ]
  },
  {
   "cell_type": "markdown",
   "id": "eb51feb7",
   "metadata": {
    "heading_collapsed": true,
    "hidden": true
   },
   "source": [
    "## Iterative "
   ]
  },
  {
   "cell_type": "code",
   "execution_count": 23,
   "id": "d8616ec4",
   "metadata": {
    "ExecuteTime": {
     "end_time": "2021-10-10T19:43:28.508359Z",
     "start_time": "2021-10-10T19:43:28.493355Z"
    },
    "hidden": true,
    "scrolled": true
   },
   "outputs": [
    {
     "name": "stdout",
     "output_type": "stream",
     "text": [
      "Factorial of 5 is 120\n"
     ]
    }
   ],
   "source": [
    "# Python 3 program to find \n",
    "# factorial of given number\n",
    "def factorial(n):\n",
    "    if n < 0:\n",
    "        return 0\n",
    "    elif n == 0 or n == 1:\n",
    "        return 1\n",
    "    else:\n",
    "        fact = 1\n",
    "        while(n > 1):\n",
    "            fact *= n\n",
    "            n -= 1\n",
    "        return fact\n",
    " \n",
    "# Driver Code\n",
    "num = 5;\n",
    "print(\"Factorial of\",num,\"is\",factorial(num))"
   ]
  },
  {
   "cell_type": "markdown",
   "id": "1b7f4943",
   "metadata": {
    "heading_collapsed": true,
    "hidden": true
   },
   "source": [
    "## Build-in Function"
   ]
  },
  {
   "cell_type": "code",
   "execution_count": 24,
   "id": "6f0adb1b",
   "metadata": {
    "ExecuteTime": {
     "end_time": "2021-10-10T19:43:35.970494Z",
     "start_time": "2021-10-10T19:43:35.956485Z"
    },
    "hidden": true
   },
   "outputs": [
    {
     "name": "stdout",
     "output_type": "stream",
     "text": [
      "Factorial of 5 is 120\n"
     ]
    }
   ],
   "source": [
    "\n",
    "import math\n",
    " \n",
    "def factorial(n):\n",
    "    return(math.factorial(n))\n",
    " \n",
    " \n",
    "# Driver Code\n",
    "num = 5\n",
    "print(\"Factorial of\", num, \"is\",\n",
    "      factorial(num))"
   ]
  },
  {
   "cell_type": "markdown",
   "id": "6e103e46",
   "metadata": {
    "ExecuteTime": {
     "end_time": "2021-10-10T19:48:47.552301Z",
     "start_time": "2021-10-10T19:48:47.540228Z"
    },
    "heading_collapsed": true
   },
   "source": [
    "# Program for Interest"
   ]
  },
  {
   "cell_type": "markdown",
   "id": "18f585d4",
   "metadata": {
    "hidden": true
   },
   "source": [
    "## Simple Interest = (P x T x R)/100"
   ]
  },
  {
   "cell_type": "markdown",
   "id": "5f2daa9b",
   "metadata": {
    "heading_collapsed": true,
    "hidden": true
   },
   "source": [
    "## \n",
    "A = P(1 + R/100) t \n",
    "\n",
    "Compound Interest = A – P "
   ]
  },
  {
   "cell_type": "markdown",
   "id": "76670721",
   "metadata": {
    "heading_collapsed": true
   },
   "source": [
    "# Check Armstrong Number"
   ]
  },
  {
   "cell_type": "markdown",
   "id": "73ae89ab",
   "metadata": {
    "hidden": true
   },
   "source": [
    "## \n",
    "A positive integer of n digits is called an Armstrong number of order n (order is number of digits) if.\n",
    "\n",
    "abcd... = pow(a,n) + pow(b,n) + pow(c,n) + pow(d,n) + .... "
   ]
  },
  {
   "cell_type": "code",
   "execution_count": 92,
   "id": "64191f55",
   "metadata": {
    "ExecuteTime": {
     "end_time": "2021-10-10T20:30:54.282717Z",
     "start_time": "2021-10-10T20:30:54.264167Z"
    },
    "hidden": true
   },
   "outputs": [
    {
     "name": "stdout",
     "output_type": "stream",
     "text": [
      "ArmstrongNo\n"
     ]
    },
    {
     "data": {
      "text/plain": [
       "True"
      ]
     },
     "execution_count": 92,
     "metadata": {},
     "output_type": "execute_result"
    }
   ],
   "source": [
    "# Function to calculate order of the number\n",
    "\n",
    "def power_fun(x,y):\n",
    "#     y is power \n",
    "    if (y ==0):\n",
    "        \n",
    "        return 1 \n",
    "    \n",
    "    return pow(x,y)\n",
    "    \n",
    "\n",
    "def order(x):\n",
    "  \n",
    "    # Variable to store of the number\n",
    "    n = 0\n",
    "    while (x != 0):\n",
    "        n = n + 1\n",
    "        x = x // 10\n",
    "          \n",
    "    return n\n",
    "\n",
    "def is_armstrong_no(num):\n",
    "    original_num= num\n",
    "    noOfDigit= order(num)\n",
    "    sumOfNum= 0\n",
    "    \n",
    "    if num in range(0,19):\n",
    "        return True      \n",
    "        \n",
    "    while(num!= 0):\n",
    "        singleDigit= num%10\n",
    "        sumOfNum= sumOfNum + power_fun(singleDigit,noOfDigit)\n",
    "        num= num//10\n",
    "    \n",
    "    if sumOfNum == original_num:\n",
    "        print('ArmstrongNo')\n",
    "        return True\n",
    "    \n",
    "    return False\n",
    "\n",
    "\n",
    "is_armstrong_no(1634)"
   ]
  },
  {
   "cell_type": "markdown",
   "id": "768b3211",
   "metadata": {
    "ExecuteTime": {
     "end_time": "2021-10-10T20:37:00.326458Z",
     "start_time": "2021-10-10T20:37:00.310235Z"
    },
    "heading_collapsed": true
   },
   "source": [
    "# Prime numbers "
   ]
  },
  {
   "cell_type": "markdown",
   "id": "2c2747e2",
   "metadata": {
    "hidden": true
   },
   "source": [
    "## Print all Prime numbers in an Interval"
   ]
  },
  {
   "cell_type": "code",
   "execution_count": 95,
   "id": "60685c26",
   "metadata": {
    "ExecuteTime": {
     "end_time": "2021-10-10T20:38:05.902081Z",
     "start_time": "2021-10-10T20:38:05.881557Z"
    },
    "hidden": true
   },
   "outputs": [
    {
     "name": "stdout",
     "output_type": "stream",
     "text": [
      "23\n",
      "29\n",
      "31\n",
      "37\n",
      "41\n",
      "43\n",
      "47\n",
      "53\n",
      "59\n",
      "61\n",
      "67\n",
      "71\n",
      "73\n",
      "79\n",
      "83\n",
      "89\n",
      "97\n"
     ]
    }
   ],
   "source": [
    "start = 20\n",
    "end = 100\n",
    "  \n",
    "for i in range(start, end+1):\n",
    "    if i>1:\n",
    "        for j in range(2,i):\n",
    "            if(i % j==0):\n",
    "                break\n",
    "        else:\n",
    "            print(i)"
   ]
  },
  {
   "cell_type": "markdown",
   "id": "cfd92362",
   "metadata": {
    "hidden": true
   },
   "source": [
    "## check whether a number is Prime or not"
   ]
  },
  {
   "cell_type": "code",
   "execution_count": 98,
   "id": "edf24916",
   "metadata": {
    "ExecuteTime": {
     "end_time": "2021-10-10T20:42:14.970947Z",
     "start_time": "2021-10-10T20:42:14.962406Z"
    },
    "hidden": true
   },
   "outputs": [
    {
     "name": "stdout",
     "output_type": "stream",
     "text": [
      "50 is not a prime number\n"
     ]
    }
   ],
   "source": [
    "num = 50\n",
    " \n",
    "# If given number is greater than 1\n",
    "if num > 1:\n",
    "    # Iterate from 2 to n / 2\n",
    "    for i in range(2, int(num/2)+1):\n",
    "         # If num is divisible by any number between\n",
    "        # 2 and n / 2, it is not prime\n",
    "        if (num % i) == 0:\n",
    "            print(num, \"is not a prime number\")\n",
    "            break\n",
    "    else:\n",
    "        print(num, \"is a prime number\")\n",
    "else:\n",
    "    print(num, \"is not a prime number\")"
   ]
  },
  {
   "cell_type": "markdown",
   "id": "ba0c0e87",
   "metadata": {
    "heading_collapsed": true
   },
   "source": [
    "# Fibonacci number"
   ]
  },
  {
   "cell_type": "markdown",
   "id": "12c36e54",
   "metadata": {
    "hidden": true
   },
   "source": [
    "## Program for n-th Fibonacci number"
   ]
  },
  {
   "cell_type": "markdown",
   "id": "17d55919",
   "metadata": {
    "hidden": true
   },
   "source": [
    "### \n",
    "In mathematical terms, the sequence Fn of Fibonacci numbers is defined by the recurrence relation \n",
    "\n",
    "Fn = Fn-1 + Fn-2"
   ]
  },
  {
   "cell_type": "code",
   "execution_count": 121,
   "id": "11db3de2",
   "metadata": {
    "ExecuteTime": {
     "end_time": "2021-10-10T21:19:16.115413Z",
     "start_time": "2021-10-10T21:19:16.095883Z"
    },
    "hidden": true
   },
   "outputs": [
    {
     "data": {
      "text/plain": [
       "[0, 1, 1, 2, 3, 5, 8, 13, 21, 34, 55, 89, 144, 233, 377, 610, 987]"
      ]
     },
     "execution_count": 121,
     "metadata": {},
     "output_type": "execute_result"
    }
   ],
   "source": [
    "def Fibonacci(n):\n",
    "    \n",
    "    if(n ==0):\n",
    "        print('Incorrect option')\n",
    "    if (n==1):\n",
    "        return 0\n",
    "    if n==2 :\n",
    "        return 1\n",
    "    else:\n",
    "        return Fibonacci(n-2)+Fibonacci(n-1)\n",
    "    \n",
    "    \n",
    "list_of_Fibo=[Fibonacci(i) for i in range(1,18) ]\n",
    "\n",
    "# for i in range (1,10):\n",
    "#     print(Fibonacci(i))\n",
    "\n",
    "# print nth Fibonacci No.\n",
    "# Here Print 5th Fibonacci No.\n",
    "# print(Fibonacci(5))\n",
    "\n",
    "\n",
    "list_of_Fibo"
   ]
  },
  {
   "cell_type": "code",
   "execution_count": 103,
   "id": "f119189e",
   "metadata": {
    "ExecuteTime": {
     "end_time": "2021-10-10T20:57:53.832111Z",
     "start_time": "2021-10-10T20:57:53.823578Z"
    },
    "hidden": true
   },
   "outputs": [
    {
     "name": "stdout",
     "output_type": "stream",
     "text": [
      "144 is 12th fibonacci number\n"
     ]
    }
   ],
   "source": [
    "# To find the n-th Fibonacci Number using formula\n",
    "from math import sqrt\n",
    "# import square-root method from math library\n",
    "def nthFib(n):\n",
    "    res = (((1+sqrt(5))**n)-((1-sqrt(5)))**n)/(2**n*sqrt(5))\n",
    "    # compute the n-th fibonacci number\n",
    "    print(int(res),'is',str(n)+'th fibonacci number')\n",
    "    # format and print the number\n",
    "     \n",
    "# driver code\n",
    "nthFib(12)"
   ]
  },
  {
   "cell_type": "markdown",
   "id": "194e9567",
   "metadata": {
    "heading_collapsed": true,
    "hidden": true
   },
   "source": [
    "## check if a given number is Fibonacci number?"
   ]
  },
  {
   "cell_type": "markdown",
   "id": "65469036",
   "metadata": {
    "hidden": true
   },
   "source": [
    "### \n",
    "A number is Fibonacci if and only if one or both of (5*n2 + 4) or (5*n2 – 4) is a perfect square"
   ]
  },
  {
   "cell_type": "code",
   "execution_count": 105,
   "id": "79acb223",
   "metadata": {
    "ExecuteTime": {
     "end_time": "2021-10-10T21:04:55.048036Z",
     "start_time": "2021-10-10T21:04:55.029499Z"
    },
    "hidden": true
   },
   "outputs": [
    {
     "name": "stdout",
     "output_type": "stream",
     "text": [
      "N0 is Fibo\n",
      "N0 is Fibo\n",
      "N0 is Fibo\n",
      "N0 is Fibo\n",
      "No is not Fibo\n",
      "N0 is Fibo\n",
      "No is not Fibo\n",
      "No is not Fibo\n",
      "N0 is Fibo\n",
      "No is not Fibo\n"
     ]
    }
   ],
   "source": [
    "import math \n",
    "\n",
    "def isPerfectSquare(x):\n",
    "    s= int(math.sqrt(x))\n",
    "    return s*s== x\n",
    "\n",
    "def isFibonacci(n):\n",
    "    return isPerfectSquare(5*n*n+4) or isPerfectSquare(5*n*n-4)\n",
    "\n",
    "for i in range(10):\n",
    "    if(isFibonacci(i)== True):\n",
    "        print('N0 is Fibo')\n",
    "        \n",
    "    else:\n",
    "        print(\"No is not Fibo\")"
   ]
  },
  {
   "cell_type": "markdown",
   "id": "d66384b3",
   "metadata": {
    "heading_collapsed": true
   },
   "source": [
    "# Sum of squares of first n natural numbers"
   ]
  },
  {
   "cell_type": "code",
   "execution_count": null,
   "id": "1c2826c8",
   "metadata": {
    "hidden": true
   },
   "outputs": [],
   "source": []
  },
  {
   "cell_type": "code",
   "execution_count": null,
   "id": "ddb00ee0",
   "metadata": {
    "hidden": true
   },
   "outputs": [],
   "source": [
    "# Return the sum of\n",
    "# square of first n\n",
    "# natural numbers\n",
    "def squaresum(n) :\n",
    "  \n",
    "    # Iterate i from 1 \n",
    "    # and n finding \n",
    "    # square of i and\n",
    "    # add to sum.\n",
    "    sm = 0\n",
    "    for i in range(1, n+1) :\n",
    "        sm = sm + (i * i)\n",
    "      \n",
    "    return sm\n",
    "  \n",
    "# Driven Program\n",
    "n = 4\n",
    "print(squaresum(n))"
   ]
  },
  {
   "cell_type": "markdown",
   "id": "5b549dc9",
   "metadata": {
    "hidden": true
   },
   "source": [
    "###\n",
    "`\n",
    "sum of square (n * (n + 1) * (2 * n + 1)) // 6"
   ]
  },
  {
   "cell_type": "code",
   "execution_count": 122,
   "id": "6bbda2bd",
   "metadata": {
    "ExecuteTime": {
     "end_time": "2021-10-10T21:29:12.700134Z",
     "start_time": "2021-10-10T21:29:12.690133Z"
    },
    "hidden": true
   },
   "outputs": [
    {
     "name": "stdout",
     "output_type": "stream",
     "text": [
      "30\n"
     ]
    }
   ],
   "source": [
    "# Return the sum of \n",
    "# square of first n\n",
    "# natural numbers\n",
    "def squaresum(n) :\n",
    "    return (n * (n + 1) * (2 * n + 1)) // 6\n",
    "  \n",
    "# Driven Program\n",
    "n = 4\n",
    "print(squaresum(n))"
   ]
  },
  {
   "cell_type": "markdown",
   "id": "66fbd4ca",
   "metadata": {
    "heading_collapsed": true
   },
   "source": [
    "# cube sum of first n natural numbers"
   ]
  },
  {
   "cell_type": "code",
   "execution_count": 123,
   "id": "35061a2d",
   "metadata": {
    "ExecuteTime": {
     "end_time": "2021-10-10T21:29:46.806947Z",
     "start_time": "2021-10-10T21:29:46.796425Z"
    },
    "hidden": true
   },
   "outputs": [
    {
     "name": "stdout",
     "output_type": "stream",
     "text": [
      "225\n"
     ]
    }
   ],
   "source": [
    "# A formula based Python program to find sum\n",
    "# of series with cubes of first n natural \n",
    "# numbers\n",
    "  \n",
    "# Returns the sum of series \n",
    "def sumOfSeries(n):\n",
    "    x = (n * (n + 1)  / 2)\n",
    "    return (int)(x * x)\n",
    "  \n",
    "  \n",
    "   \n",
    "# Driver Function\n",
    "n = 5\n",
    "print(sumOfSeries(n))"
   ]
  },
  {
   "cell_type": "code",
   "execution_count": null,
   "id": "6b94e56b",
   "metadata": {
    "hidden": true
   },
   "outputs": [],
   "source": []
  },
  {
   "cell_type": "code",
   "execution_count": null,
   "id": "8381bbdf",
   "metadata": {
    "hidden": true
   },
   "outputs": [],
   "source": []
  },
  {
   "cell_type": "code",
   "execution_count": null,
   "id": "8a696bf8",
   "metadata": {
    "hidden": true
   },
   "outputs": [],
   "source": []
  }
 ],
 "metadata": {
  "kernelspec": {
   "display_name": "Python 3",
   "language": "python",
   "name": "python3"
  },
  "language_info": {
   "codemirror_mode": {
    "name": "ipython",
    "version": 3
   },
   "file_extension": ".py",
   "mimetype": "text/x-python",
   "name": "python",
   "nbconvert_exporter": "python",
   "pygments_lexer": "ipython3",
   "version": "3.8.8"
  },
  "toc": {
   "base_numbering": 1,
   "nav_menu": {},
   "number_sections": true,
   "sideBar": true,
   "skip_h1_title": false,
   "title_cell": "Table of Contents",
   "title_sidebar": "Contents",
   "toc_cell": false,
   "toc_position": {},
   "toc_section_display": true,
   "toc_window_display": false
  },
  "varInspector": {
   "cols": {
    "lenName": 16,
    "lenType": 16,
    "lenVar": 40
   },
   "kernels_config": {
    "python": {
     "delete_cmd_postfix": "",
     "delete_cmd_prefix": "del ",
     "library": "var_list.py",
     "varRefreshCmd": "print(var_dic_list())"
    },
    "r": {
     "delete_cmd_postfix": ") ",
     "delete_cmd_prefix": "rm(",
     "library": "var_list.r",
     "varRefreshCmd": "cat(var_dic_list()) "
    }
   },
   "types_to_exclude": [
    "module",
    "function",
    "builtin_function_or_method",
    "instance",
    "_Feature"
   ],
   "window_display": false
  }
 },
 "nbformat": 4,
 "nbformat_minor": 5
}

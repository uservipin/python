{
 "cells": [
  {
   "cell_type": "markdown",
   "id": "da25852e",
   "metadata": {
    "heading_collapsed": true
   },
   "source": [
    "# Interchange first and last elements in a list"
   ]
  },
  {
   "cell_type": "code",
   "execution_count": null,
   "id": "5baf6efc",
   "metadata": {
    "hidden": true
   },
   "outputs": [],
   "source": [
    "# Approach #1: Find the length of the list and simply swap the first element with (n-1)th element."
   ]
  },
  {
   "cell_type": "code",
   "execution_count": 1,
   "id": "e7b77b5d",
   "metadata": {
    "ExecuteTime": {
     "end_time": "2021-10-10T21:55:46.540622Z",
     "start_time": "2021-10-10T21:55:46.529619Z"
    },
    "hidden": true
   },
   "outputs": [
    {
     "name": "stdout",
     "output_type": "stream",
     "text": [
      "[24, 35, 9, 56, 12]\n"
     ]
    }
   ],
   "source": [
    "# Swap function\n",
    "def swapList(newList):\n",
    "    size = len(newList)\n",
    "     \n",
    "    # Swapping\n",
    "    temp = newList[0]\n",
    "    newList[0] = newList[size - 1]\n",
    "    newList[size - 1] = temp\n",
    "     \n",
    "    return newList\n",
    "     \n",
    "# Driver code\n",
    "newList = [12, 35, 9, 56, 24]\n",
    " \n",
    "print(swapList(newList))"
   ]
  },
  {
   "cell_type": "code",
   "execution_count": null,
   "id": "eac1e5c2",
   "metadata": {
    "hidden": true
   },
   "outputs": [],
   "source": [
    "# Approach \n",
    "#2: The last element of the list can be referred as list[-1]"
   ]
  },
  {
   "cell_type": "code",
   "execution_count": null,
   "id": "db55c4a8",
   "metadata": {
    "hidden": true
   },
   "outputs": [],
   "source": [
    "# Swap function\n",
    "def swapList(newList):\n",
    "     \n",
    "    newList[0], newList[-1] = newList[-1], newList[0]\n",
    " \n",
    "    return newList\n",
    "     \n",
    "# Driver code\n",
    "newList = [12, 35, 9, 56, 24]\n",
    "print(swapList(newList))"
   ]
  },
  {
   "cell_type": "code",
   "execution_count": null,
   "id": "52e2d392",
   "metadata": {
    "hidden": true
   },
   "outputs": [],
   "source": [
    "# Approach \n",
    "#3: Swap the first and last element is using tuple variable. Store the first and last element as a pair in a tuple variable, say get, and unpack those elements with first and last element in that list. Now, the First and last values in that list are swapped."
   ]
  },
  {
   "cell_type": "code",
   "execution_count": null,
   "id": "18381e7f",
   "metadata": {
    "hidden": true
   },
   "outputs": [],
   "source": [
    "def swapList(list):\n",
    "     \n",
    "    # Storing the first and last element\n",
    "    # as a pair in a tuple variable get\n",
    "    get = list[-1], list[0]\n",
    "     \n",
    "    # unpacking those elements\n",
    "    list[0], list[-1] = get\n",
    "     \n",
    "    return list\n",
    "     \n",
    "# Driver code\n",
    "newList = [12, 35, 9, 56, 24]\n",
    "print(swapList(newList))"
   ]
  },
  {
   "cell_type": "code",
   "execution_count": null,
   "id": "0df9f05a",
   "metadata": {
    "hidden": true
   },
   "outputs": [],
   "source": [
    "# Approach \n",
    "#4: Using * operand.  This operand proposes a change to iterable unpacking syntax, allowing to specify a “catch-all” name which will be assigned a list of all items not assigned to a “regular” name. "
   ]
  },
  {
   "cell_type": "code",
   "execution_count": null,
   "id": "92266bd3",
   "metadata": {
    "hidden": true
   },
   "outputs": [],
   "source": [
    "# Swap function\n",
    "def swapList(list):\n",
    "     \n",
    "    start, *middle, end = list\n",
    "    list = [end, *middle, start]\n",
    "     \n",
    "    return list\n",
    "     \n",
    "# Driver code\n",
    "newList = [12, 35, 9, 56, 24]\n",
    " \n",
    "print(swapList(newList))"
   ]
  },
  {
   "cell_type": "code",
   "execution_count": null,
   "id": "2757e0d5",
   "metadata": {
    "hidden": true
   },
   "outputs": [],
   "source": [
    "# Approach \n",
    "#5: Swap the first and last elements is to use the inbuilt function list.pop(). Pop the first element and store it in a variable. Similarly, pop the last element and store it in another variable. Now insert the two popped element at each other’s original position"
   ]
  },
  {
   "cell_type": "code",
   "execution_count": null,
   "id": "33cff196",
   "metadata": {
    "hidden": true
   },
   "outputs": [],
   "source": [
    "def swapList(list):\n",
    "     \n",
    "    first = list.pop(0)  \n",
    "    last = list.pop(-1)\n",
    "     \n",
    "    list.insert(0, last) \n",
    "    list.append(first)  \n",
    "     \n",
    "    return list\n",
    "     \n",
    "# Driver code\n",
    "newList = [12, 35, 9, 56, 24]\n",
    " \n",
    "print(swapList(newList))"
   ]
  },
  {
   "cell_type": "markdown",
   "id": "0f4c1ee4",
   "metadata": {
    "heading_collapsed": true
   },
   "source": [
    "# Swap two elements in a list"
   ]
  },
  {
   "cell_type": "code",
   "execution_count": 2,
   "id": "b9bd3dd2",
   "metadata": {
    "ExecuteTime": {
     "end_time": "2021-10-10T22:00:27.686005Z",
     "start_time": "2021-10-10T22:00:27.673005Z"
    },
    "hidden": true
   },
   "outputs": [
    {
     "name": "stdout",
     "output_type": "stream",
     "text": [
      "[19, 65, 23, 90]\n"
     ]
    }
   ],
   "source": [
    "def swapPositions(list, pos1, pos2):\n",
    "     \n",
    "    list[pos1], list[pos2] = list[pos2], list[pos1]\n",
    "    return list\n",
    " \n",
    "# Driver function\n",
    "List = [23, 65, 19, 90]\n",
    "pos1, pos2  = 1, 3\n",
    " \n",
    "print(swapPositions(List, pos1-1, pos2-1))"
   ]
  },
  {
   "cell_type": "code",
   "execution_count": 3,
   "id": "9dee326e",
   "metadata": {
    "ExecuteTime": {
     "end_time": "2021-10-10T22:00:37.080358Z",
     "start_time": "2021-10-10T22:00:37.068436Z"
    },
    "hidden": true
   },
   "outputs": [
    {
     "name": "stdout",
     "output_type": "stream",
     "text": [
      "[19, 65, 23, 90]\n"
     ]
    }
   ],
   "source": [
    "def swapPositions(list, pos1, pos2):\n",
    "     \n",
    "    # popping both the elements from list\n",
    "    first_ele = list.pop(pos1)  \n",
    "    second_ele = list.pop(pos2-1)\n",
    "    \n",
    "    # inserting in each others positions\n",
    "    list.insert(pos1, second_ele) \n",
    "    list.insert(pos2, first_ele) \n",
    "     \n",
    "    return list\n",
    " \n",
    "# Driver function\n",
    "List = [23, 65, 19, 90]\n",
    "pos1, pos2  = 1, 3\n",
    " \n",
    "print(swapPositions(List, pos1-1, pos2-1))"
   ]
  },
  {
   "cell_type": "markdown",
   "id": "f562c57f",
   "metadata": {
    "heading_collapsed": true
   },
   "source": [
    "# Find length of list"
   ]
  },
  {
   "cell_type": "markdown",
   "id": "496ca73b",
   "metadata": {
    "hidden": true
   },
   "source": [
    "## finding length of list using Naive Method"
   ]
  },
  {
   "cell_type": "code",
   "execution_count": null,
   "id": "a10e09ee",
   "metadata": {
    "hidden": true
   },
   "outputs": [],
   "source": [
    "test_list = [ 1, 4, 5, 7, 8 ]\n",
    "  \n",
    "# Printing test_list\n",
    "print (\"The list is : \" + str(test_list))\n",
    "  \n",
    "# Finding length of list \n",
    "# using loop\n",
    "# Initializing counter\n",
    "counter = 0\n",
    "for i in test_list:\n",
    "      \n",
    "    # incrementing counter\n",
    "    counter = counter + 1"
   ]
  },
  {
   "cell_type": "code",
   "execution_count": 4,
   "id": "dbdb4d69",
   "metadata": {
    "ExecuteTime": {
     "end_time": "2021-10-10T22:03:03.093729Z",
     "start_time": "2021-10-10T22:03:03.075723Z"
    },
    "hidden": true
   },
   "outputs": [
    {
     "name": "stdout",
     "output_type": "stream",
     "text": [
      "The length of list is:  4\n"
     ]
    }
   ],
   "source": [
    "a = []\n",
    "a.append(\"Hello\")\n",
    "a.append(\"Geeks\")\n",
    "a.append(\"For\")\n",
    "a.append(\"Geeks\")\n",
    "print(\"The length of list is: \", len(a))"
   ]
  },
  {
   "cell_type": "markdown",
   "id": "8628e0e9",
   "metadata": {
    "heading_collapsed": true
   },
   "source": [
    "# Check if element exists in list"
   ]
  },
  {
   "cell_type": "markdown",
   "id": "93765abc",
   "metadata": {
    "hidden": true
   },
   "source": [
    "## Method 1: Naive Method"
   ]
  },
  {
   "cell_type": "code",
   "execution_count": null,
   "id": "54daf706",
   "metadata": {
    "hidden": true
   },
   "outputs": [],
   "source": [
    "test_list = [ 1, 6, 3, 5, 3, 4 ]\n",
    " \n",
    "print(\"Checking if 4 exists in list ( using loop ) : \")\n",
    " \n",
    "# Checking if 4 exists in list\n",
    "# using loop\n",
    "for i in test_list:\n",
    "    if(i == 4) :\n",
    "        print (\"Element Exists\")\n",
    " \n",
    "    print(\"Checking if 4 exists in list ( using in ) : \")"
   ]
  },
  {
   "cell_type": "markdown",
   "id": "437a5e58",
   "metadata": {
    "hidden": true
   },
   "source": [
    "## Method 2: Using in"
   ]
  },
  {
   "cell_type": "code",
   "execution_count": 6,
   "id": "e82f7a0a",
   "metadata": {
    "ExecuteTime": {
     "end_time": "2021-10-10T22:05:22.603167Z",
     "start_time": "2021-10-10T22:05:22.599161Z"
    },
    "hidden": true
   },
   "outputs": [
    {
     "name": "stdout",
     "output_type": "stream",
     "text": [
      "Element Exists\n"
     ]
    }
   ],
   "source": [
    "test_list = [ 1, 6, 3, 5, 3, 4 ]\n",
    "\n",
    "if (4 in test_list):\n",
    "    print (\"Element Exists\")"
   ]
  },
  {
   "cell_type": "markdown",
   "id": "2228e512",
   "metadata": {
    "hidden": true
   },
   "source": [
    "## Method 3 : Using set() + in"
   ]
  },
  {
   "cell_type": "markdown",
   "id": "49f0d82c",
   "metadata": {
    "hidden": true
   },
   "source": [
    "### \n",
    "Converting the list into the set and then using in can possibly be more efficient than only using in. But having efficiency for a plus also has certain negatives. One among them is that the order of list is not preserved, and if you opt to take a new list for it, you would require to use extra space. Another drawback is that set disallows duplicity and hence duplicate elements would be removed from the original list."
   ]
  },
  {
   "cell_type": "markdown",
   "id": "380e776b",
   "metadata": {
    "hidden": true
   },
   "source": [
    "## Method 4 : Using sort() + bisect_left()"
   ]
  },
  {
   "cell_type": "markdown",
   "id": "ae80b4d3",
   "metadata": {
    "hidden": true
   },
   "source": [
    "### \n",
    "The conventional binary search way of testing element existence, hence list has to be sorted first and hence not preserving the element ordering. bisect_left() returns the first occurrence of the element to be found and has worked similarly to lower_bound() in C++ STL."
   ]
  },
  {
   "cell_type": "markdown",
   "id": "7069a5d9",
   "metadata": {
    "hidden": true
   },
   "source": [
    "### \n",
    "Note: The bisect function will only state the position of where to insert the element but not the details about if the element is present or not."
   ]
  },
  {
   "cell_type": "markdown",
   "id": "c8e174dd",
   "metadata": {
    "hidden": true
   },
   "source": [
    "## Method 5 : Using count()"
   ]
  },
  {
   "cell_type": "code",
   "execution_count": 7,
   "id": "b4248faa",
   "metadata": {
    "ExecuteTime": {
     "end_time": "2021-10-10T22:08:47.820544Z",
     "start_time": "2021-10-10T22:08:47.810562Z"
    },
    "hidden": true
   },
   "outputs": [
    {
     "name": "stdout",
     "output_type": "stream",
     "text": [
      "Checking if 15 exists in list\n",
      "Yes, 15 exists in list\n"
     ]
    }
   ],
   "source": [
    "test_list = [10, 15, 20, 7, 46, 2808]\n",
    " \n",
    "print(\"Checking if 15 exists in list\")\n",
    " \n",
    "# number of times element exists in list\n",
    "exist_count = test_list.count(15)\n",
    " \n",
    "# checking if it is more then 0\n",
    "if exist_count > 0:\n",
    "    print(\"Yes, 15 exists in list\")\n",
    "else:\n",
    "    print(\"No, 15 does not exists in list\")"
   ]
  },
  {
   "cell_type": "markdown",
   "id": "43b7bf74",
   "metadata": {
    "heading_collapsed": true
   },
   "source": [
    "# Different ways to clear a list"
   ]
  },
  {
   "cell_type": "markdown",
   "id": "87c70d97",
   "metadata": {
    "hidden": true
   },
   "source": [
    "## Method #1 : Using clear() method"
   ]
  },
  {
   "cell_type": "code",
   "execution_count": null,
   "id": "7120a2c9",
   "metadata": {
    "hidden": true
   },
   "outputs": [],
   "source": [
    "GEEK = [6, 0, 4, 1]\n",
    "print('GEEK before clear:', GEEK) \n",
    "  \n",
    "# Clearing list \n",
    "GEEK.clear() \n",
    "print('GEEK after clear:', GEEK)"
   ]
  },
  {
   "cell_type": "markdown",
   "id": "c9a587df",
   "metadata": {
    "hidden": true
   },
   "source": [
    "### \n",
    "Method #2 : Reinitializing the list : The initialization of the list in that scope, initializes the list with no value. i.e list of size 0. Let’s see the example demonstrating Method 1 and 2 to clear list"
   ]
  },
  {
   "cell_type": "code",
   "execution_count": 8,
   "id": "01fdc7c1",
   "metadata": {
    "ExecuteTime": {
     "end_time": "2021-10-10T22:11:42.115137Z",
     "start_time": "2021-10-10T22:11:42.103608Z"
    },
    "hidden": true
   },
   "outputs": [
    {
     "name": "stdout",
     "output_type": "stream",
     "text": [
      "List1 before deleting is : [1, 2, 3]\n",
      "List1 after clearing using clear() : []\n",
      "List2 before deleting is : [5, 6, 7]\n",
      "List2 after clearing using reinitialization : []\n"
     ]
    }
   ],
   "source": [
    "\n",
    "# Python3 code to demonstrate \n",
    "# clearing a list using\n",
    "# clear and Reinitializing \n",
    "  \n",
    "# Initializing lists\n",
    "list1 = [1, 2, 3]\n",
    "list2 = [5, 6, 7]\n",
    "  \n",
    "# Printing list1 before deleting \n",
    "print (\"List1 before deleting is : \" \n",
    "+  str(list1))\n",
    "  \n",
    "# deleting list using clear()\n",
    "list1.clear()\n",
    "  \n",
    "# Printing list1 after clearing\n",
    "print (\"List1 after clearing using clear() : \" \n",
    "+ str(list1))\n",
    "  \n",
    "# Printing list2 before deleting \n",
    "print (\"List2 before deleting is : \"\n",
    " +  str(list2))\n",
    "  \n",
    "# deleting list using reinitialization\n",
    "list2 = []\n",
    "  \n",
    "# Printing list2 after reinitialization\n",
    "print (\"List2 after clearing using reinitialization : \" \n",
    "+ str(list2))"
   ]
  },
  {
   "cell_type": "markdown",
   "id": "8845c5a6",
   "metadata": {
    "hidden": true
   },
   "source": [
    "### \n",
    "Method #3 : Using “*= 0” : This is a lesser known method, but this method removes all elements of the list and makes it empty."
   ]
  },
  {
   "cell_type": "code",
   "execution_count": 9,
   "id": "1b82fa6b",
   "metadata": {
    "ExecuteTime": {
     "end_time": "2021-10-10T22:12:21.629024Z",
     "start_time": "2021-10-10T22:12:21.616801Z"
    },
    "hidden": true
   },
   "outputs": [
    {
     "name": "stdout",
     "output_type": "stream",
     "text": [
      "List1 before deleting is : [1, 2, 3]\n",
      "List1 after clearing using *= 0: []\n"
     ]
    }
   ],
   "source": [
    "list1 = [1, 2, 3]\n",
    "  \n",
    "# Printing list1 before deleting \n",
    "print (\"List1 before deleting is : \" + str(list1))\n",
    "  \n",
    "# deleting list using *= 0\n",
    "list1 *= 0\n",
    "  \n",
    "# Printing list1 after *= 0\n",
    "print (\"List1 after clearing using *= 0: \" + str(list1))"
   ]
  },
  {
   "cell_type": "markdown",
   "id": "76ae0276",
   "metadata": {
    "hidden": true
   },
   "source": [
    "### \n",
    "Method #4 : Using del : del can be used to clear the list elements in a range, if we don’t give a range, all the elements are deleted."
   ]
  },
  {
   "cell_type": "code",
   "execution_count": 10,
   "id": "d308cee3",
   "metadata": {
    "ExecuteTime": {
     "end_time": "2021-10-10T22:13:00.999211Z",
     "start_time": "2021-10-10T22:13:00.985201Z"
    },
    "hidden": true
   },
   "outputs": [
    {
     "name": "stdout",
     "output_type": "stream",
     "text": [
      "List1 before deleting is : [1, 2, 3]\n",
      "List1 after clearing using del : []\n",
      "List2 before deleting is : [5, 6, 7]\n",
      "List2 after clearing using del : []\n"
     ]
    }
   ],
   "source": [
    "list1 = [1, 2, 3]\n",
    "list2 = [5, 6, 7]\n",
    "  \n",
    "# Printing list1 before deleting \n",
    "print (\"List1 before deleting is : \" + str(list1))\n",
    "  \n",
    "# deleting list1 using del\n",
    "del list1[:]\n",
    "print (\"List1 after clearing using del : \" + str(list1))\n",
    "  \n",
    "  \n",
    "# Printing list2 before deleting \n",
    "print (\"List2 before deleting is : \" + str(list2))\n",
    "  \n",
    "# deleting list using del\n",
    "del list2[:]\n",
    "print (\"List2 after clearing using del : \" + str(list2))"
   ]
  },
  {
   "cell_type": "markdown",
   "id": "c5539ddd",
   "metadata": {
    "heading_collapsed": true
   },
   "source": [
    "# Reversing a List"
   ]
  },
  {
   "cell_type": "markdown",
   "id": "28fecaeb",
   "metadata": {
    "hidden": true
   },
   "source": [
    "## Method 1: Using the reversed() built-in function."
   ]
  },
  {
   "cell_type": "markdown",
   "id": "84f473f1",
   "metadata": {
    "hidden": true
   },
   "source": [
    "### \n",
    "In this method, we neither reverse a list in-place(modify the original list), nor we create any copy of the list. Instead, we get a reverse iterator which we use to cycle through the list."
   ]
  },
  {
   "cell_type": "code",
   "execution_count": 11,
   "id": "906d67b2",
   "metadata": {
    "ExecuteTime": {
     "end_time": "2021-10-10T22:24:40.250798Z",
     "start_time": "2021-10-10T22:24:40.240789Z"
    },
    "hidden": true
   },
   "outputs": [
    {
     "name": "stdout",
     "output_type": "stream",
     "text": [
      "[15, 14, 13, 12, 11, 10]\n"
     ]
    }
   ],
   "source": [
    "# Reversing a list using reversed()\n",
    "def Reverse(lst):\n",
    "\treturn [ele for ele in reversed(lst)]\n",
    "\t\n",
    "# Driver Code\n",
    "lst = [10, 11, 12, 13, 14, 15]\n",
    "print(Reverse(lst))\n"
   ]
  },
  {
   "cell_type": "markdown",
   "id": "f567d9ab",
   "metadata": {
    "ExecuteTime": {
     "end_time": "2021-10-10T22:24:49.058758Z",
     "start_time": "2021-10-10T22:24:49.049758Z"
    },
    "hidden": true
   },
   "source": [
    "## Method 2: Using the reverse() built-in function."
   ]
  },
  {
   "cell_type": "markdown",
   "id": "00788027",
   "metadata": {
    "hidden": true
   },
   "source": [
    "### \n",
    "Using the reverse() method we can reverse the contents of the list object in-place i.e., we don’t need to create a new list instead we just copy the existing elements to the original list in reverse order. This method directly modifies the original list.append"
   ]
  },
  {
   "cell_type": "code",
   "execution_count": 13,
   "id": "63f2adc9",
   "metadata": {
    "ExecuteTime": {
     "end_time": "2021-10-10T22:27:50.819843Z",
     "start_time": "2021-10-10T22:27:50.809787Z"
    },
    "hidden": true
   },
   "outputs": [
    {
     "name": "stdout",
     "output_type": "stream",
     "text": [
      "[15, 14, 13, 12, 11, 10]\n"
     ]
    }
   ],
   "source": [
    "def Reverse(lst):\n",
    "    lst.reverse()\n",
    "    return lst\n",
    "      \n",
    "lst = [10, 11, 12, 13, 14, 15]\n",
    "print(Reverse(lst))"
   ]
  },
  {
   "cell_type": "markdown",
   "id": "1cbb922a",
   "metadata": {
    "hidden": true
   },
   "source": [
    "## Method 3: Using the slicing technique."
   ]
  },
  {
   "cell_type": "markdown",
   "id": "bbb879cd",
   "metadata": {
    "hidden": true
   },
   "source": [
    "### \n",
    "In this technique, a copy of the list is made and the list is not sorted in-place. Creating a copy requires more space to hold all of the existing elements. This exhausts more memory."
   ]
  },
  {
   "cell_type": "code",
   "execution_count": null,
   "id": "16f4abaf",
   "metadata": {
    "hidden": true
   },
   "outputs": [],
   "source": []
  },
  {
   "cell_type": "code",
   "execution_count": 19,
   "id": "0cf6b121",
   "metadata": {
    "ExecuteTime": {
     "end_time": "2021-10-10T22:38:49.236523Z",
     "start_time": "2021-10-10T22:38:49.222508Z"
    },
    "hidden": true
   },
   "outputs": [],
   "source": [
    "lst = [10, 11, 12, 13, 14, 15]\n",
    "new_lst = lst[::-1]"
   ]
  },
  {
   "cell_type": "code",
   "execution_count": 20,
   "id": "aa320c27",
   "metadata": {
    "ExecuteTime": {
     "end_time": "2021-10-10T22:38:52.641488Z",
     "start_time": "2021-10-10T22:38:52.626706Z"
    },
    "hidden": true
   },
   "outputs": [
    {
     "data": {
      "text/plain": [
       "[15, 14, 13, 12, 11, 10]"
      ]
     },
     "execution_count": 20,
     "metadata": {},
     "output_type": "execute_result"
    }
   ],
   "source": [
    "new_lst"
   ]
  },
  {
   "cell_type": "markdown",
   "id": "2e08a508",
   "metadata": {
    "heading_collapsed": true
   },
   "source": [
    "# find sum of elements in list1"
   ]
  },
  {
   "cell_type": "markdown",
   "id": "168ba873",
   "metadata": {
    "hidden": true
   },
   "source": [
    "## Example #4: Using sum() method "
   ]
  },
  {
   "cell_type": "code",
   "execution_count": 21,
   "id": "251c71b7",
   "metadata": {
    "ExecuteTime": {
     "end_time": "2021-10-10T22:40:41.162636Z",
     "start_time": "2021-10-10T22:40:41.155626Z"
    },
    "hidden": true
   },
   "outputs": [
    {
     "name": "stdout",
     "output_type": "stream",
     "text": [
      "Sum of all elements in given list:  74\n"
     ]
    }
   ],
   "source": [
    "list1 = [11, 5, 17, 18, 23]\n",
    " \n",
    "# using sum() function\n",
    "total = sum(list1)\n",
    " \n",
    "# printing total value\n",
    "print(\"Sum of all elements in given list: \", total)"
   ]
  },
  {
   "cell_type": "markdown",
   "id": "5b5d1dfd",
   "metadata": {
    "hidden": true
   },
   "source": [
    "## Example #3: Recursive way "
   ]
  },
  {
   "cell_type": "code",
   "execution_count": 23,
   "id": "fffadb99",
   "metadata": {
    "ExecuteTime": {
     "end_time": "2021-10-10T22:41:56.121578Z",
     "start_time": "2021-10-10T22:41:56.109021Z"
    },
    "hidden": true
   },
   "outputs": [
    {
     "name": "stdout",
     "output_type": "stream",
     "text": [
      "Sum of all elements in given list:  74\n"
     ]
    }
   ],
   "source": [
    "# Python program to find sum of all\n",
    "# elements in list using recursion\n",
    "\n",
    "# creating a list\n",
    "list1 = [11, 5, 17, 18, 23]\n",
    "\n",
    "# creating sum_list function\n",
    "def sumOfList(list, size):\n",
    "    if (size == 0):\n",
    "\n",
    "        return 0\n",
    "    else:\n",
    "        return list[size - 1] + sumOfList(list, size - 1)\n",
    "\n",
    "# Driver code\t\n",
    "total = sumOfList(list1, len(list1))\n",
    "\n",
    "print(\"Sum of all elements in given list: \", total)\n"
   ]
  },
  {
   "cell_type": "markdown",
   "id": "593bb76b",
   "metadata": {
    "hidden": true
   },
   "source": [
    "## Example #2 : Using while() loop "
   ]
  },
  {
   "cell_type": "code",
   "execution_count": null,
   "id": "f7367610",
   "metadata": {
    "hidden": true
   },
   "outputs": [],
   "source": []
  },
  {
   "cell_type": "code",
   "execution_count": 24,
   "id": "e32d01d9",
   "metadata": {
    "ExecuteTime": {
     "end_time": "2021-10-10T22:42:25.814282Z",
     "start_time": "2021-10-10T22:42:25.808279Z"
    },
    "hidden": true
   },
   "outputs": [
    {
     "name": "stdout",
     "output_type": "stream",
     "text": [
      "Sum of all elements in given list:  74\n"
     ]
    }
   ],
   "source": [
    "\n",
    "# Python program to find sum of elements in list\n",
    "total = 0\n",
    "ele = 0\n",
    " \n",
    "# creating a list\n",
    "list1 = [11, 5, 17, 18, 23]\n",
    " \n",
    "# Iterate each element in list\n",
    "# and add them in variable total\n",
    "while(ele < len(list1)):\n",
    "    total = total + list1[ele]\n",
    "    ele += 1\n",
    "     \n",
    "# printing total value\n",
    "print(\"Sum of all elements in given list: \", total)"
   ]
  },
  {
   "cell_type": "markdown",
   "id": "b6dd8b5d",
   "metadata": {
    "heading_collapsed": true
   },
   "source": [
    "# Multiply all numbers in the list"
   ]
  },
  {
   "cell_type": "markdown",
   "id": "cec4f3c7",
   "metadata": {
    "hidden": true
   },
   "source": [
    "## Method 1: Traversal"
   ]
  },
  {
   "cell_type": "markdown",
   "id": "fd259557",
   "metadata": {
    "hidden": true
   },
   "source": [
    "### \n",
    "Initialize the value of the product to 1(not 0 as 0 multiplied with anything returns zero). Traverse till the end of the list, multiply every number with the product. The value stored in the product at the end will give you your final"
   ]
  },
  {
   "cell_type": "code",
   "execution_count": 25,
   "id": "8696d9f5",
   "metadata": {
    "ExecuteTime": {
     "end_time": "2021-10-10T22:44:14.716585Z",
     "start_time": "2021-10-10T22:44:14.692020Z"
    },
    "hidden": true
   },
   "outputs": [
    {
     "name": "stdout",
     "output_type": "stream",
     "text": [
      "6\n",
      "24\n"
     ]
    }
   ],
   "source": [
    "def multiplyList(myList) :\n",
    "     \n",
    "    # Multiply elements one by one\n",
    "    result = 1\n",
    "    for x in myList:\n",
    "         result = result * x\n",
    "    return result\n",
    "     \n",
    "# Driver code\n",
    "list1 = [1, 2, 3]\n",
    "list2 = [3, 2, 4]\n",
    "print(multiplyList(list1))\n",
    "print(multiplyList(list2))"
   ]
  },
  {
   "cell_type": "markdown",
   "id": "8beed887",
   "metadata": {
    "hidden": true
   },
   "source": [
    "## Method 2: Using numpy.prod()"
   ]
  },
  {
   "cell_type": "markdown",
   "id": "19078686",
   "metadata": {
    "hidden": true
   },
   "source": [
    "### \n",
    "We can use numpy.prod() from import numpy to get the multiplication of all the numbers in the list. It returns an integer or a float value depending on the multiplication result."
   ]
  },
  {
   "cell_type": "code",
   "execution_count": 26,
   "id": "7226c11a",
   "metadata": {
    "ExecuteTime": {
     "end_time": "2021-10-10T22:45:09.919681Z",
     "start_time": "2021-10-10T22:45:09.897190Z"
    },
    "hidden": true
   },
   "outputs": [
    {
     "name": "stdout",
     "output_type": "stream",
     "text": [
      "6\n",
      "24\n"
     ]
    }
   ],
   "source": [
    "# Python3 program to multiply all values in the\n",
    "# list using numpy.prod()\n",
    "\n",
    "import numpy\n",
    "list1 = [1, 2, 3]\n",
    "list2 = [3, 2, 4]\n",
    "\n",
    "# using numpy.prod() to get the multiplications\n",
    "result1 = numpy.prod(list1)\n",
    "result2 = numpy.prod(list2)\n",
    "print(result1)\n",
    "print(result2)\n"
   ]
  },
  {
   "cell_type": "markdown",
   "id": "09625407",
   "metadata": {
    "hidden": true
   },
   "source": [
    "## Method 4 Using prod function of math library: Using math.prod"
   ]
  },
  {
   "cell_type": "markdown",
   "id": "5d46b343",
   "metadata": {
    "hidden": true
   },
   "source": [
    "### \n",
    "Starting Python 3.8, a prod function has been included in the math module in the standard library, thus no need to install external libraries."
   ]
  },
  {
   "cell_type": "code",
   "execution_count": 29,
   "id": "211a03ec",
   "metadata": {
    "ExecuteTime": {
     "end_time": "2021-10-10T22:47:32.464097Z",
     "start_time": "2021-10-10T22:47:32.454555Z"
    },
    "hidden": true
   },
   "outputs": [
    {
     "name": "stdout",
     "output_type": "stream",
     "text": [
      "6\n",
      "24\n"
     ]
    }
   ],
   "source": [
    "# Python3 program to multiply all values in the\n",
    "# list using math.prod\n",
    "\n",
    "import math\n",
    "list1 = [1, 2, 3]\n",
    "list2 = [3, 2, 4]\n",
    "\n",
    "\n",
    "result1 = math.prod(list1)\n",
    "result2 = math.prod(list2)\n",
    "print(result1)\n",
    "print(result2)"
   ]
  },
  {
   "cell_type": "markdown",
   "id": "256de573",
   "metadata": {
    "heading_collapsed": true
   },
   "source": [
    "# Find smallest number in a list"
   ]
  },
  {
   "cell_type": "markdown",
   "id": "3f47dabb",
   "metadata": {
    "ExecuteTime": {
     "end_time": "2021-10-10T22:48:16.434120Z",
     "start_time": "2021-10-10T22:48:16.418110Z"
    },
    "hidden": true
   },
   "source": [
    "## Method 1 : Sort the list in ascending order and print the first element in the list.  "
   ]
  },
  {
   "cell_type": "code",
   "execution_count": 47,
   "id": "d833f77d",
   "metadata": {
    "ExecuteTime": {
     "end_time": "2021-10-10T22:50:06.099692Z",
     "start_time": "2021-10-10T22:50:06.090151Z"
    },
    "hidden": true
   },
   "outputs": [
    {
     "name": "stdout",
     "output_type": "stream",
     "text": [
      "Smallest element is: 4\n"
     ]
    }
   ],
   "source": [
    "# Python program to find smallest\n",
    "# number in a list\n",
    "\n",
    "# list of numbers\n",
    "list1 = [10, 20, 4, 45, 99]\n",
    "\n",
    "# sorting the list\n",
    "list1.sort()\n",
    "\n",
    "# printing the first element\n",
    "print(\"Smallest element is:\", *list1[:1])\n"
   ]
  },
  {
   "cell_type": "markdown",
   "id": "5d2dcf20",
   "metadata": {
    "hidden": true
   },
   "source": [
    "## Method 2 : Using min() method  "
   ]
  },
  {
   "cell_type": "code",
   "execution_count": 50,
   "id": "3ec647e1",
   "metadata": {
    "ExecuteTime": {
     "end_time": "2021-10-10T22:51:22.963487Z",
     "start_time": "2021-10-10T22:51:22.957363Z"
    },
    "hidden": true
   },
   "outputs": [
    {
     "name": "stdout",
     "output_type": "stream",
     "text": [
      "Smallest element is: 1\n"
     ]
    }
   ],
   "source": [
    "# Python program to find smallest\n",
    "# number in a list\n",
    "\n",
    "# list of numbers\n",
    "list1 = [10, 20, 1, 45, 99]\n",
    "\n",
    "\n",
    "# printing the maximum element\n",
    "print(\"Smallest element is:\", min(list1))\n",
    "\n"
   ]
  },
  {
   "cell_type": "markdown",
   "id": "b195b90c",
   "metadata": {
    "heading_collapsed": true
   },
   "source": [
    "# find largest number in a list"
   ]
  },
  {
   "cell_type": "markdown",
   "id": "8d91be2d",
   "metadata": {
    "hidden": true
   },
   "source": [
    "## Method 1 : Sort the list in ascending order and print the last element in the list."
   ]
  },
  {
   "cell_type": "code",
   "execution_count": 52,
   "id": "aec6e3ff",
   "metadata": {
    "ExecuteTime": {
     "end_time": "2021-10-10T22:52:57.688545Z",
     "start_time": "2021-10-10T22:52:57.676987Z"
    },
    "hidden": true
   },
   "outputs": [
    {
     "name": "stdout",
     "output_type": "stream",
     "text": [
      "Largest element is: 99\n"
     ]
    }
   ],
   "source": [
    "# Python program to find largest\n",
    "# number in a list\n",
    "\n",
    "# list of numbers\n",
    "list1 = [10, 20, 4, 45, 99]\n",
    "\n",
    "# sorting the list\n",
    "list1.sort()\n",
    "\n",
    "# printing the last element\n",
    "print(\"Largest element is:\", list1[-1])\n"
   ]
  },
  {
   "cell_type": "markdown",
   "id": "9cc3d32a",
   "metadata": {
    "hidden": true
   },
   "source": [
    "## Method 2 : Using max() method"
   ]
  },
  {
   "cell_type": "code",
   "execution_count": 51,
   "id": "566fe530",
   "metadata": {
    "ExecuteTime": {
     "end_time": "2021-10-10T22:52:54.768558Z",
     "start_time": "2021-10-10T22:52:54.753556Z"
    },
    "hidden": true
   },
   "outputs": [
    {
     "name": "stdout",
     "output_type": "stream",
     "text": [
      "Largest element is: 99\n"
     ]
    }
   ],
   "source": [
    "# Python program to find largest\n",
    "# number in a list\n",
    "\n",
    "# list of numbers\n",
    "list1 = [10, 20, 4, 45, 99]\n",
    "\n",
    "\n",
    "# printing the maximum element\n",
    "print(\"Largest element is:\", max(list1))\n"
   ]
  },
  {
   "cell_type": "markdown",
   "id": "cd2f16f8",
   "metadata": {
    "heading_collapsed": true
   },
   "source": [
    "# find second largest number in a list"
   ]
  },
  {
   "cell_type": "code",
   "execution_count": 53,
   "id": "05f029e7",
   "metadata": {
    "ExecuteTime": {
     "end_time": "2021-10-10T22:53:50.193361Z",
     "start_time": "2021-10-10T22:53:50.182836Z"
    },
    "hidden": true
   },
   "outputs": [
    {
     "name": "stdout",
     "output_type": "stream",
     "text": [
      "Second highest number is :  45\n"
     ]
    }
   ],
   "source": [
    "# Python program to find second largest\n",
    "# number in a list\n",
    "\n",
    "# list of numbers - length of\n",
    "# list should be at least 2\n",
    "list1 = [10, 20, 4, 45, 99]\n",
    "\n",
    "mx=max(list1[0],list1[1])\n",
    "secondmax=min(list1[0],list1[1])\n",
    "n =len(list1)\n",
    "for i in range(2,n):\n",
    "        if list1[i]>mx:\n",
    "            secondmax=mx\n",
    "            mx=list1[i]\n",
    "        elif list1[i]>secondmax and \\\n",
    "            mx != list1[i]:\n",
    "            secondmax=list1[i]\n",
    "\n",
    "print(\"Second highest number is : \",\\\n",
    "\tstr(secondmax))\n"
   ]
  },
  {
   "cell_type": "markdown",
   "id": "f67d5490",
   "metadata": {
    "ExecuteTime": {
     "end_time": "2021-10-10T22:54:19.914533Z",
     "start_time": "2021-10-10T22:54:19.897523Z"
    },
    "hidden": true
   },
   "source": [
    "##  Method 2: Sort the list in ascending order and print the second last element in the list. "
   ]
  },
  {
   "cell_type": "code",
   "execution_count": null,
   "id": "c18b8fc9",
   "metadata": {
    "hidden": true
   },
   "outputs": [],
   "source": [
    "# Python program to find largest\n",
    "# number in a list\n",
    "\n",
    "# list of numbers\n",
    "list1 = [10, 20, 4, 45, 99]\n",
    "\n",
    "# sorting the list\n",
    "list1.sort()\n",
    "\n",
    "# printing the second last element\n",
    "print(\"Second largest element is:\", list1[-2])\n"
   ]
  },
  {
   "cell_type": "markdown",
   "id": "e3c1e61d",
   "metadata": {
    "heading_collapsed": true
   },
   "source": [
    "# N largest elements from a list"
   ]
  },
  {
   "cell_type": "markdown",
   "id": "fc5416cc",
   "metadata": {
    "ExecuteTime": {
     "end_time": "2021-10-10T23:00:25.805003Z",
     "start_time": "2021-10-10T23:00:25.798993Z"
    },
    "hidden": true
   },
   "source": [
    "### \n",
    "A simple solution traverse the given list N times. In every traversal, find the maximum, add it to result, and remove it from the list. Below is the implementation"
   ]
  },
  {
   "cell_type": "code",
   "execution_count": 56,
   "id": "2f81ca1a",
   "metadata": {
    "ExecuteTime": {
     "end_time": "2021-10-10T23:00:54.356148Z",
     "start_time": "2021-10-10T23:00:54.347150Z"
    },
    "hidden": true
   },
   "outputs": [
    {
     "name": "stdout",
     "output_type": "stream",
     "text": [
      "[85, 41]\n"
     ]
    }
   ],
   "source": [
    "# Python program to find N largest\n",
    "# element from given list of integers\n",
    "\n",
    "# Function returns N largest elements\n",
    "def Nmaxelements(list1, N):\n",
    "        final_list = []\n",
    "\n",
    "        for i in range(0, N):\n",
    "            max1 = 0\n",
    "\n",
    "            for j in range(len(list1)):\t\n",
    "                if list1[j] > max1:\n",
    "                    max1 = list1[j];\n",
    "\n",
    "            list1.remove(max1);\n",
    "            final_list.append(max1)\n",
    "\n",
    "        print(final_list)\n",
    "\n",
    "# Driver code\n",
    "list1 = [2, 6, 41, 85, 0, 3, 7, 6, 10]\n",
    "N = 2\n",
    "\n",
    "# Calling the function\n",
    "Nmaxelements(list1, N)\n"
   ]
  },
  {
   "cell_type": "markdown",
   "id": "f32ce3e6",
   "metadata": {
    "hidden": true
   },
   "source": [
    "## Method 2:"
   ]
  },
  {
   "cell_type": "code",
   "execution_count": 57,
   "id": "a9a6fd4d",
   "metadata": {
    "ExecuteTime": {
     "end_time": "2021-10-10T23:01:20.847288Z",
     "start_time": "2021-10-10T23:01:20.837721Z"
    },
    "hidden": true
   },
   "outputs": [
    {
     "name": "stdout",
     "output_type": "stream",
     "text": [
      "[298, 900, 1000, 3579]\n"
     ]
    }
   ],
   "source": [
    "# Python program to find N largest\n",
    "# element from given list of integers\n",
    "\n",
    "l = [1000,298,3579,100,200,-45,900]\n",
    "n = 4\n",
    "\n",
    "l.sort()\n",
    "print(l[-n:])\n"
   ]
  },
  {
   "cell_type": "markdown",
   "id": "c40c1ff5",
   "metadata": {
    "heading_collapsed": true
   },
   "source": [
    "# print even numbers in a list || print odd numbers in a List"
   ]
  },
  {
   "cell_type": "code",
   "execution_count": null,
   "id": "6e93fdcf",
   "metadata": {
    "hidden": true
   },
   "outputs": [],
   "source": [
    "# Python program to print even Numbers in a List\n",
    "\n",
    "# list of numbers\n",
    "list1 = [10, 21, 4, 45, 66, 93]\n",
    "\n",
    "# using list comprehension\n",
    "even_nos = [num for num in list1 if num % 2 == 0]\n",
    "\n",
    "print(\"Even numbers in the list: \", even_nos)\n"
   ]
  },
  {
   "cell_type": "code",
   "execution_count": 58,
   "id": "af95c5fb",
   "metadata": {
    "ExecuteTime": {
     "end_time": "2021-10-10T23:03:02.535888Z",
     "start_time": "2021-10-10T23:03:02.525887Z"
    },
    "hidden": true
   },
   "outputs": [
    {
     "name": "stdout",
     "output_type": "stream",
     "text": [
      "Even numbers in the list:  [10, 4, 66]\n"
     ]
    }
   ],
   "source": [
    "# Python program to print Even Numbers in a List\n",
    "\n",
    "# list of numbers\n",
    "list1 = [10, 21, 4, 45, 66, 93, 11]\n",
    "\n",
    "\n",
    "# we can also print even no's using lambda exp.\n",
    "even_nos = list(filter(lambda x: (x % 2 == 0), list1))\n",
    "\n",
    "print(\"Even numbers in the list: \", even_nos)\n"
   ]
  },
  {
   "cell_type": "markdown",
   "id": "c29c48b4",
   "metadata": {},
   "source": [
    "# print positive numbers in a list"
   ]
  },
  {
   "cell_type": "markdown",
   "id": "413aded5",
   "metadata": {},
   "source": [
    "## if num >= 0:"
   ]
  },
  {
   "cell_type": "markdown",
   "id": "80854866",
   "metadata": {},
   "source": [
    "## negative numbers in a list"
   ]
  },
  {
   "cell_type": "markdown",
   "id": "804a8b41",
   "metadata": {},
   "source": [
    "## if num <= 0:"
   ]
  },
  {
   "cell_type": "markdown",
   "id": "6677fa28",
   "metadata": {
    "ExecuteTime": {
     "end_time": "2021-10-10T23:12:06.121530Z",
     "start_time": "2021-10-10T23:12:06.108009Z"
    }
   },
   "source": [
    "# Remove empty List from List"
   ]
  },
  {
   "cell_type": "code",
   "execution_count": null,
   "id": "1709a359",
   "metadata": {},
   "outputs": [],
   "source": [
    "test_list = [5, 6, [], 3, [], [], 9]\n",
    "\n",
    "res = [ele for ele in test_list if ele != []]"
   ]
  },
  {
   "cell_type": "markdown",
   "id": "43ee8262",
   "metadata": {},
   "source": [
    "# Cloning or Copying a list"
   ]
  },
  {
   "cell_type": "markdown",
   "id": "801f0ef3",
   "metadata": {},
   "source": [
    "## Using slicing technique\n"
   ]
  },
  {
   "cell_type": "code",
   "execution_count": 60,
   "id": "8b41d7f0",
   "metadata": {
    "ExecuteTime": {
     "end_time": "2021-10-10T23:13:15.224215Z",
     "start_time": "2021-10-10T23:13:15.211685Z"
    }
   },
   "outputs": [
    {
     "name": "stdout",
     "output_type": "stream",
     "text": [
      "Original List: [4, 8, 2, 10, 15, 18]\n",
      "After Cloning: [4, 8, 2, 10, 15, 18]\n"
     ]
    }
   ],
   "source": [
    "# Python program to copy or clone a list\n",
    "# Using the Slice Operator\n",
    "def Cloning(li1):\n",
    "        li_copy = li1[:]\n",
    "        return li_copy\n",
    "\n",
    "# Driver Code\n",
    "li1 = [4, 8, 2, 10, 15, 18]\n",
    "li2 = Cloning(li1)\n",
    "print(\"Original List:\", li1)\n",
    "print(\"After Cloning:\", li2)\n"
   ]
  },
  {
   "cell_type": "markdown",
   "id": "7423b4fe",
   "metadata": {},
   "source": [
    "# Count occurrences of an element in a list"
   ]
  },
  {
   "cell_type": "code",
   "execution_count": 61,
   "id": "66f6a201",
   "metadata": {
    "ExecuteTime": {
     "end_time": "2021-10-10T23:14:38.380026Z",
     "start_time": "2021-10-10T23:14:38.360519Z"
    }
   },
   "outputs": [
    {
     "name": "stdout",
     "output_type": "stream",
     "text": [
      "8 has occurred 5 times\n"
     ]
    }
   ],
   "source": [
    "# Python code to count the number of occurrences\n",
    "def countX(lst, x):\n",
    "    return lst.count(x)\n",
    "\n",
    "# Driver Code\n",
    "lst = [8, 6, 8, 10, 8, 20, 10, 8, 8]\n",
    "x = 8\n",
    "print('{} has occurred {} times'.format(x, countX(lst, x)))\n"
   ]
  },
  {
   "cell_type": "markdown",
   "id": "8121eb48",
   "metadata": {},
   "source": [
    "# Program to print duplicates from a list of integers"
   ]
  },
  {
   "cell_type": "code",
   "execution_count": 62,
   "id": "fa3a596b",
   "metadata": {
    "ExecuteTime": {
     "end_time": "2021-10-10T23:16:22.960872Z",
     "start_time": "2021-10-10T23:16:22.946330Z"
    },
    "scrolled": true
   },
   "outputs": [
    {
     "name": "stdout",
     "output_type": "stream",
     "text": [
      "Counter({1: 4, 2: 3, 5: 2, 9: 2, 3: 1, 4: 1, 6: 1, 7: 1, 8: 1})\n",
      "[1, 2, 5, 9]\n"
     ]
    }
   ],
   "source": [
    "from collections import Counter\n",
    "\n",
    "l1 = [1,2,1,2,3,4,5,1,1,2,5,6,7,8,9,9]\n",
    "d = Counter(l1)\n",
    "print(d)\n",
    "\n",
    "new_list = list([item for item in d if d[item]>1])\n",
    "print(new_list)\n"
   ]
  },
  {
   "cell_type": "code",
   "execution_count": null,
   "id": "53a25ff6",
   "metadata": {},
   "outputs": [],
   "source": []
  },
  {
   "cell_type": "code",
   "execution_count": 65,
   "id": "5d936b0f",
   "metadata": {
    "ExecuteTime": {
     "end_time": "2021-10-10T23:24:26.725167Z",
     "start_time": "2021-10-10T23:24:26.703278Z"
    }
   },
   "outputs": [
    {
     "name": "stdout",
     "output_type": "stream",
     "text": [
      "ba\n"
     ]
    }
   ],
   "source": [
    "\n",
    "\n",
    "\n",
    "\n"
   ]
  },
  {
   "cell_type": "code",
   "execution_count": null,
   "id": "f82e1880",
   "metadata": {},
   "outputs": [],
   "source": []
  },
  {
   "cell_type": "code",
   "execution_count": null,
   "id": "5df372db",
   "metadata": {},
   "outputs": [],
   "source": []
  },
  {
   "cell_type": "code",
   "execution_count": null,
   "id": "91479edd",
   "metadata": {},
   "outputs": [],
   "source": []
  },
  {
   "cell_type": "code",
   "execution_count": null,
   "id": "4d947a35",
   "metadata": {},
   "outputs": [],
   "source": []
  },
  {
   "cell_type": "code",
   "execution_count": null,
   "id": "9612843d",
   "metadata": {},
   "outputs": [],
   "source": []
  },
  {
   "cell_type": "code",
   "execution_count": null,
   "id": "901e0bda",
   "metadata": {},
   "outputs": [],
   "source": []
  },
  {
   "cell_type": "code",
   "execution_count": null,
   "id": "69271192",
   "metadata": {},
   "outputs": [],
   "source": []
  },
  {
   "cell_type": "code",
   "execution_count": null,
   "id": "79ff24bc",
   "metadata": {},
   "outputs": [],
   "source": []
  },
  {
   "cell_type": "code",
   "execution_count": null,
   "id": "7f6cb3dc",
   "metadata": {},
   "outputs": [],
   "source": []
  },
  {
   "cell_type": "code",
   "execution_count": null,
   "id": "cee0e479",
   "metadata": {},
   "outputs": [],
   "source": []
  },
  {
   "cell_type": "code",
   "execution_count": null,
   "id": "87072207",
   "metadata": {},
   "outputs": [],
   "source": []
  },
  {
   "cell_type": "code",
   "execution_count": null,
   "id": "ccdd8e4f",
   "metadata": {},
   "outputs": [],
   "source": []
  },
  {
   "cell_type": "code",
   "execution_count": null,
   "id": "9fb1aa06",
   "metadata": {},
   "outputs": [],
   "source": []
  },
  {
   "cell_type": "code",
   "execution_count": null,
   "id": "00165a7b",
   "metadata": {},
   "outputs": [],
   "source": []
  },
  {
   "cell_type": "code",
   "execution_count": null,
   "id": "53395506",
   "metadata": {},
   "outputs": [],
   "source": []
  },
  {
   "cell_type": "code",
   "execution_count": null,
   "id": "c01145de",
   "metadata": {},
   "outputs": [],
   "source": []
  },
  {
   "cell_type": "code",
   "execution_count": null,
   "id": "72294438",
   "metadata": {},
   "outputs": [],
   "source": []
  },
  {
   "cell_type": "code",
   "execution_count": null,
   "id": "573d2fc6",
   "metadata": {},
   "outputs": [],
   "source": []
  },
  {
   "cell_type": "code",
   "execution_count": null,
   "id": "83287a2c",
   "metadata": {},
   "outputs": [],
   "source": []
  },
  {
   "cell_type": "code",
   "execution_count": null,
   "id": "c43328c3",
   "metadata": {},
   "outputs": [],
   "source": []
  },
  {
   "cell_type": "code",
   "execution_count": null,
   "id": "bbbdde7a",
   "metadata": {},
   "outputs": [],
   "source": []
  },
  {
   "cell_type": "code",
   "execution_count": null,
   "id": "fd7ab9c6",
   "metadata": {},
   "outputs": [],
   "source": []
  },
  {
   "cell_type": "code",
   "execution_count": null,
   "id": "5a13d494",
   "metadata": {},
   "outputs": [],
   "source": []
  },
  {
   "cell_type": "code",
   "execution_count": null,
   "id": "d56f3469",
   "metadata": {},
   "outputs": [],
   "source": []
  },
  {
   "cell_type": "code",
   "execution_count": null,
   "id": "505e523a",
   "metadata": {},
   "outputs": [],
   "source": []
  },
  {
   "cell_type": "code",
   "execution_count": null,
   "id": "44e1b3e4",
   "metadata": {},
   "outputs": [],
   "source": []
  },
  {
   "cell_type": "code",
   "execution_count": null,
   "id": "70ada9d7",
   "metadata": {},
   "outputs": [],
   "source": []
  },
  {
   "cell_type": "code",
   "execution_count": null,
   "id": "d5045a5a",
   "metadata": {},
   "outputs": [],
   "source": []
  },
  {
   "cell_type": "code",
   "execution_count": null,
   "id": "57bffe85",
   "metadata": {},
   "outputs": [],
   "source": []
  },
  {
   "cell_type": "code",
   "execution_count": null,
   "id": "5133fa3a",
   "metadata": {},
   "outputs": [],
   "source": []
  },
  {
   "cell_type": "code",
   "execution_count": null,
   "id": "68a6c7a8",
   "metadata": {},
   "outputs": [],
   "source": []
  },
  {
   "cell_type": "code",
   "execution_count": null,
   "id": "ab901d1f",
   "metadata": {},
   "outputs": [],
   "source": []
  },
  {
   "cell_type": "code",
   "execution_count": null,
   "id": "c90b83b1",
   "metadata": {},
   "outputs": [],
   "source": []
  },
  {
   "cell_type": "code",
   "execution_count": null,
   "id": "1b13a5fd",
   "metadata": {},
   "outputs": [],
   "source": []
  },
  {
   "cell_type": "code",
   "execution_count": null,
   "id": "7630e958",
   "metadata": {},
   "outputs": [],
   "source": []
  },
  {
   "cell_type": "code",
   "execution_count": null,
   "id": "de1e1987",
   "metadata": {},
   "outputs": [],
   "source": []
  },
  {
   "cell_type": "code",
   "execution_count": null,
   "id": "e83b68c8",
   "metadata": {},
   "outputs": [],
   "source": []
  },
  {
   "cell_type": "code",
   "execution_count": null,
   "id": "c5184f7d",
   "metadata": {},
   "outputs": [],
   "source": []
  },
  {
   "cell_type": "code",
   "execution_count": null,
   "id": "4c466d1f",
   "metadata": {},
   "outputs": [],
   "source": []
  },
  {
   "cell_type": "code",
   "execution_count": null,
   "id": "061bb398",
   "metadata": {},
   "outputs": [],
   "source": []
  },
  {
   "cell_type": "code",
   "execution_count": null,
   "id": "56c31f9c",
   "metadata": {},
   "outputs": [],
   "source": []
  },
  {
   "cell_type": "code",
   "execution_count": null,
   "id": "ca603665",
   "metadata": {},
   "outputs": [],
   "source": []
  },
  {
   "cell_type": "code",
   "execution_count": null,
   "id": "72edf1e2",
   "metadata": {},
   "outputs": [],
   "source": []
  },
  {
   "cell_type": "code",
   "execution_count": null,
   "id": "d397e280",
   "metadata": {},
   "outputs": [],
   "source": []
  },
  {
   "cell_type": "code",
   "execution_count": null,
   "id": "c194102c",
   "metadata": {},
   "outputs": [],
   "source": []
  },
  {
   "cell_type": "code",
   "execution_count": null,
   "id": "d6b897ec",
   "metadata": {},
   "outputs": [],
   "source": []
  },
  {
   "cell_type": "code",
   "execution_count": null,
   "id": "61893d78",
   "metadata": {},
   "outputs": [],
   "source": []
  },
  {
   "cell_type": "code",
   "execution_count": null,
   "id": "f798c4d9",
   "metadata": {},
   "outputs": [],
   "source": []
  }
 ],
 "metadata": {
  "kernelspec": {
   "display_name": "Python 3",
   "language": "python",
   "name": "python3"
  },
  "language_info": {
   "codemirror_mode": {
    "name": "ipython",
    "version": 3
   },
   "file_extension": ".py",
   "mimetype": "text/x-python",
   "name": "python",
   "nbconvert_exporter": "python",
   "pygments_lexer": "ipython3",
   "version": "3.8.8"
  },
  "toc": {
   "base_numbering": 1,
   "nav_menu": {},
   "number_sections": true,
   "sideBar": true,
   "skip_h1_title": false,
   "title_cell": "Table of Contents",
   "title_sidebar": "Contents",
   "toc_cell": false,
   "toc_position": {},
   "toc_section_display": true,
   "toc_window_display": false
  },
  "varInspector": {
   "cols": {
    "lenName": 16,
    "lenType": 16,
    "lenVar": 40
   },
   "kernels_config": {
    "python": {
     "delete_cmd_postfix": "",
     "delete_cmd_prefix": "del ",
     "library": "var_list.py",
     "varRefreshCmd": "print(var_dic_list())"
    },
    "r": {
     "delete_cmd_postfix": ") ",
     "delete_cmd_prefix": "rm(",
     "library": "var_list.r",
     "varRefreshCmd": "cat(var_dic_list()) "
    }
   },
   "types_to_exclude": [
    "module",
    "function",
    "builtin_function_or_method",
    "instance",
    "_Feature"
   ],
   "window_display": false
  }
 },
 "nbformat": 4,
 "nbformat_minor": 5
}

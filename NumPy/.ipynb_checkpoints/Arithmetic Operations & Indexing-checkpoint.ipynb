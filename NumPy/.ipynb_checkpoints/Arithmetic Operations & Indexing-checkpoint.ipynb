{
 "cells": [
  {
   "cell_type": "markdown",
   "id": "f7cb340f",
   "metadata": {},
   "source": [
    "# Array Indexing1"
   ]
  },
  {
   "cell_type": "markdown",
   "id": "01c2f335",
   "metadata": {},
   "source": [
    "## 1-D Array"
   ]
  },
  {
   "cell_type": "code",
   "execution_count": null,
   "id": "0dad0ae7",
   "metadata": {
    "ExecuteTime": {
     "end_time": "2021-07-20T07:10:04.842340Z",
     "start_time": "2021-07-20T07:10:04.830820Z"
    }
   },
   "outputs": [],
   "source": [
    "import numpy as np\n",
    "arr=np.array([1,3,4])\n",
    "print(arr[1])\n",
    "\n",
    "l# Print all number \n",
    "for i in arr:\n",
    "    print(i)"
   ]
  },
  {
   "cell_type": "markdown",
   "id": "ddd99c1e",
   "metadata": {
    "ExecuteTime": {
     "end_time": "2021-07-20T07:07:41.748106Z",
     "start_time": "2021-07-20T07:07:41.733980Z"
    }
   },
   "source": [
    "# Airthmetic operations with element in array"
   ]
  },
  {
   "cell_type": "code",
   "execution_count": null,
   "id": "fdba325b",
   "metadata": {
    "ExecuteTime": {
     "end_time": "2021-07-20T07:23:07.580415Z",
     "start_time": "2021-07-20T07:23:07.573413Z"
    },
    "scrolled": true
   },
   "outputs": [],
   "source": [
    "import numpy as np\n",
    "arr=np.array([1,3,4])\n",
    "\n",
    "# ADD\n",
    "print('Add elemetns      :',arr[1]+ arr[2])\n",
    "\n",
    "# Subtract\n",
    "print('Subtract elements :',arr[1] - arr[2])\n",
    "\n",
    "# Multiply\n",
    "print('Multiply elements :',arr[1]*arr[2])\n",
    "\n",
    "# Divide\n",
    "print('Divide elements   :',arr[1]/arr[2])\n"
   ]
  },
  {
   "cell_type": "markdown",
   "id": "d2bfc15d",
   "metadata": {},
   "source": [
    "### 2-D Array"
   ]
  },
  {
   "cell_type": "code",
   "execution_count": null,
   "id": "dcee1006",
   "metadata": {
    "ExecuteTime": {
     "end_time": "2021-07-20T07:22:33.586101Z",
     "start_time": "2021-07-20T07:22:33.579106Z"
    }
   },
   "outputs": [],
   "source": [
    "import numpy as np\n",
    "arr=np.array([[1,2,3,4],[5,6,7,8]])\n",
    "\n",
    "# Note here 1st no. represent column and 2nd element represent row.\n",
    "# in this code 1 represent column no. and 3 represent roq no.\n",
    "\n",
    "print(arr[1,3])\n",
    "\n",
    "\n",
    "# ADD\n",
    "print('Add elemetns      :',arr[1,1]+ arr[0,1])\n",
    "\n",
    "# Subtract\n",
    "print('Subtract elements :',arr[1,3] - arr[0,3])\n",
    "\n",
    "# Multiply\n",
    "print('Multiply elements :',arr[1,3]*arr[1,2])\n",
    "\n",
    "# Divide\n",
    "print('Divide elements   :',arr[0,2]/arr[1,2])\n",
    "\n"
   ]
  },
  {
   "cell_type": "markdown",
   "id": "3cbebb50",
   "metadata": {},
   "source": [
    "# Access 3-D Arrays"
   ]
  },
  {
   "cell_type": "code",
   "execution_count": null,
   "id": "915d89a7",
   "metadata": {
    "ExecuteTime": {
     "end_time": "2021-07-20T07:26:43.751642Z",
     "start_time": "2021-07-20T07:26:43.740134Z"
    },
    "scrolled": true
   },
   "outputs": [],
   "source": [
    "import numpy as np\n",
    "\n",
    "arr = np.array([[[1, 2, 3], [4, 5, 6]], [[7, 8, 9], [10, 11, 12]]])\n",
    "\n",
    "print(arr[0, 1, 2])\n",
    "\n",
    "# ADD\n",
    "print('Add elemetns      :',arr[1,1,2]+ arr[0,1,1])\n",
    "\n",
    "# Subtract\n",
    "print('Subtract elements :',arr[1,1,1] - arr[0,1,1])\n",
    "\n",
    "# Multiply\n",
    "print('Multiply elements :',arr[1,1,0]*arr[1,1,1])\n",
    "\n",
    "# Divide\n",
    "print('Divide elements   :',arr[0,1,2]/arr[1,1,1])"
   ]
  },
  {
   "cell_type": "markdown",
   "id": "412af3f7",
   "metadata": {},
   "source": [
    "# Negetive Indexing"
   ]
  },
  {
   "cell_type": "code",
   "execution_count": null,
   "id": "32dbbe14",
   "metadata": {},
   "outputs": [],
   "source": [
    "print the last element from the 2nd dim:"
   ]
  },
  {
   "cell_type": "code",
   "execution_count": null,
   "id": "4d2c4138",
   "metadata": {
    "ExecuteTime": {
     "end_time": "2021-07-20T07:29:20.129250Z",
     "start_time": "2021-07-20T07:29:20.112716Z"
    }
   },
   "outputs": [],
   "source": [
    "import numpy as np\n",
    "\n",
    "arr = np.array([[1,2,3,4,5], [6,7,8,9,10]])\n",
    "print(arr)\n",
    "\n",
    "print('Last element from 2nd dim: ', arr[1, -1])"
   ]
  },
  {
   "cell_type": "markdown",
   "id": "4ecc01ab",
   "metadata": {},
   "source": [
    "# Airthmetic operation for arrays"
   ]
  },
  {
   "cell_type": "markdown",
   "id": "38c27e86",
   "metadata": {},
   "source": [
    "#### sub"
   ]
  },
  {
   "cell_type": "code",
   "execution_count": null,
   "id": "bcca95e9",
   "metadata": {
    "ExecuteTime": {
     "end_time": "2021-08-24T20:05:25.202819Z",
     "start_time": "2021-08-24T20:05:25.187812Z"
    }
   },
   "outputs": [],
   "source": [
    "import numpy as np\n",
    "arr_1 = np.array([[1,2,3,4,5], [6,7,8,9,10]])\n",
    "arr_2 = np.array([[11,12,13,14,15], [16,17,18,19,20]])\n",
    "\n",
    "\n",
    "arr3 = np.subtract(arr_2,arr_1)\n",
    "arr4 = np.subtract(arr_1,arr_2)\n",
    "\n",
    "\n",
    "print(arr3)\n",
    "print('\\n')\n",
    "print(arr4)"
   ]
  },
  {
   "cell_type": "markdown",
   "id": "3f3f3491",
   "metadata": {},
   "source": [
    "#### Add"
   ]
  },
  {
   "cell_type": "code",
   "execution_count": null,
   "id": "d25f593d",
   "metadata": {
    "ExecuteTime": {
     "end_time": "2021-08-24T20:06:35.319155Z",
     "start_time": "2021-08-24T20:06:35.299639Z"
    },
    "scrolled": true
   },
   "outputs": [],
   "source": [
    "import numpy as np\n",
    "arr_1 = np.array([[1,2,3,4,5], [6,7,8,9,10]])\n",
    "arr_2 = np.array([[11,12,13,14,15], [16,17,18,19,20]])\n",
    "\n",
    "\n",
    "arr3 = np.add(arr_2,arr_1)\n",
    "arr4 = np.add(arr_1,arr_2)\n",
    "\n",
    "print(arr3)\n",
    "print('\\n')\n",
    "print(arr4)"
   ]
  },
  {
   "cell_type": "markdown",
   "id": "8bc376bd",
   "metadata": {},
   "source": [
    "#### divide"
   ]
  },
  {
   "cell_type": "code",
   "execution_count": null,
   "id": "02ff4ddc",
   "metadata": {
    "ExecuteTime": {
     "end_time": "2021-08-24T20:07:54.894980Z",
     "start_time": "2021-08-24T20:07:54.874467Z"
    }
   },
   "outputs": [],
   "source": [
    "import numpy as np\n",
    "arr_1 = np.array([[1,2,3,4,5], [6,7,8,9,10]])\n",
    "arr_2 = np.array([[11,12,13,14,15], [16,17,18,19,20]])\n",
    "\n",
    "\n",
    "arr3 = np.divide(arr_2,arr_1)\n",
    "arr4 = np.divide(arr_1,arr_2)\n",
    "\n",
    "print(arr3)\n",
    "print('\\n')\n",
    "print(arr4)"
   ]
  },
  {
   "cell_type": "markdown",
   "id": "140b06ae",
   "metadata": {
    "ExecuteTime": {
     "end_time": "2021-08-24T20:07:04.133479Z",
     "start_time": "2021-08-24T20:07:04.097957Z"
    }
   },
   "source": [
    "#### multiply"
   ]
  },
  {
   "cell_type": "code",
   "execution_count": null,
   "id": "1f3a3691",
   "metadata": {
    "ExecuteTime": {
     "end_time": "2021-08-24T20:07:51.773773Z",
     "start_time": "2021-08-24T20:07:51.758765Z"
    }
   },
   "outputs": [],
   "source": [
    "import numpy as np\n",
    "arr_1 = np.array([[1,2,3,4,5], [6,7,8,9,10]])\n",
    "arr_2 = np.array([[11,12,13,14,15], [16,17,18,19,20]])\n",
    "\n",
    "\n",
    "arr3 = np.multiply(arr_2,arr_1)\n",
    "arr4 = np.multiply(arr_1,arr_2)\n",
    "\n",
    "print(arr3)\n",
    "print('\\n')\n",
    "print(arr4)"
   ]
  },
  {
   "cell_type": "code",
   "execution_count": null,
   "id": "cfa7c1fc",
   "metadata": {},
   "outputs": [],
   "source": []
  },
  {
   "cell_type": "markdown",
   "id": "0f2e63ab",
   "metadata": {},
   "source": [
    "# Aggregate function\n"
   ]
  },
  {
   "cell_type": "markdown",
   "id": "e444cea0",
   "metadata": {},
   "source": [
    ">> a.sum() Array-wise sum\n",
    ">>> a.min() Array-wise minimum value \n",
    ">>> b.max(axis=0) Maximum value of an array row\n",
    ">>> b.cumsum(axis=1) Cumulative sum of the elements\n",
    ">>> a.mean() Mean\n",
    ">>> b.median() Median\n",
    ">>> a.corrcoef() Correlation coefficient\n",
    ">>> np.std(b) "
   ]
  },
  {
   "cell_type": "markdown",
   "id": "aa118298",
   "metadata": {},
   "source": [
    "sum --> sum function add all element of arrays \n",
    "min --> min function give min value of array\n",
    "max --> max function give max value of array"
   ]
  },
  {
   "cell_type": "code",
   "execution_count": 7,
   "id": "48281a51",
   "metadata": {
    "ExecuteTime": {
     "end_time": "2021-08-24T20:25:30.127901Z",
     "start_time": "2021-08-24T20:25:30.104381Z"
    }
   },
   "outputs": [
    {
     "name": "stdout",
     "output_type": "stream",
     "text": [
      "Min value of array is :  1\n",
      "Max value of array is :  20\n",
      "sum of all element of array is : 15\n",
      "Cumulative sum  of array is :  [[ 1  3  6 10 15]\n",
      " [ 6 13 21 30 40]]\n",
      "Mean of array is :  5.5\n",
      "standard deveation of 1-D array 1.4142135623730951\n",
      "standard deveation of 2-D array 2.8722813232690143\n"
     ]
    }
   ],
   "source": [
    "import numpy as np\n",
    "arr_1 = np.array([[1,2,3,4,5], [6,7,8,9,10]])\n",
    "print(\"Min value of array is : \",arr_1.min())\n",
    "\n",
    "arr_2 = np.array([[11,12,13,14,15], [16,17,18,19,20]])\n",
    "print(\"Max value of array is : \",arr_2.max())\n",
    "\n",
    "arr_3 = np.array([1,2,3,4,5])\n",
    "print(\"sum of all element of array is :\",arr_3.sum())\n",
    "\n",
    "arr_1 = np.array([[1,2,3,4,5], [6,7,8,9,10]])\n",
    "print(\"Cumulative sum  of array is : \",arr_1.cumsum(axis=1))\n",
    "\n",
    "arr_1 = np.array([[1,2,3,4,5], [6,7,8,9,10]])\n",
    "print(\"Mean of array is : \",arr_1.mean())\n",
    "\n",
    "# arr_3 = np.array([[1,2,3,4,5], [6,7,8,9,10]])\n",
    "# print(\"Median   of array is : \",arr_3.median())\n",
    "\n",
    "# arr_1 = np.array([[1,2,3,4,5], [6,7,8,9,10]])\n",
    "# print(\"corrcoef of array is : \",arr_1.corrcoef())\n",
    "\n",
    "\n",
    "# standard deviation\n",
    "\n",
    "print('standard deveation of 1-D array',np.std(arr_3))\n",
    "print('standard deveation of 2-D array',np.std(arr_1))\n",
    "\n",
    "# print(arr3)\n",
    "# print('\\n')\n",
    "# print(arr4)"
   ]
  }
 ],
 "metadata": {
  "kernelspec": {
   "display_name": "Python 3",
   "language": "python",
   "name": "python3"
  },
  "language_info": {
   "codemirror_mode": {
    "name": "ipython",
    "version": 3
   },
   "file_extension": ".py",
   "mimetype": "text/x-python",
   "name": "python",
   "nbconvert_exporter": "python",
   "pygments_lexer": "ipython3",
   "version": "3.9.5"
  }
 },
 "nbformat": 4,
 "nbformat_minor": 5
}

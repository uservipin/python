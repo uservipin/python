{
 "cells": [
  {
   "cell_type": "markdown",
   "id": "74168111",
   "metadata": {},
   "source": [
    "# Data Types in Python"
   ]
  },
  {
   "cell_type": "code",
   "execution_count": null,
   "id": "cf1fea7d",
   "metadata": {},
   "outputs": [],
   "source": [
    "strings - used to represent text data, e.g. \"ABCD\"\n",
    "integer - used to represent integer numbers. e.g. -1, -2, -3\n",
    "float   - used to represent real numbers. e.g. 1.2, 42.42\n",
    "boolean - used to represent True or False.\n",
    "complex - used to represent complex numbers. e.g. 1.0 + 2.0j, 1.5 + 2.5j"
   ]
  },
  {
   "cell_type": "code",
   "execution_count": null,
   "id": "65f17e22",
   "metadata": {},
   "outputs": [],
   "source": []
  },
  {
   "cell_type": "markdown",
   "id": "74c5e646",
   "metadata": {},
   "source": [
    "# Data Types in NumPy"
   ]
  },
  {
   "cell_type": "code",
   "execution_count": null,
   "id": "1dccb156",
   "metadata": {},
   "outputs": [],
   "source": [
    "i - integer\n",
    "b - boolean\n",
    "u - unsigned integer\n",
    "f - float\n",
    "c - complex float\n",
    "m - timedelta\n",
    "M - datetime\n",
    "O - object\n",
    "S - string\n",
    "U - unicode string\n",
    "V - fixed chunk of memory for other type ( void )"
   ]
  },
  {
   "cell_type": "code",
   "execution_count": null,
   "id": "5e49726b",
   "metadata": {},
   "outputs": [],
   "source": []
  },
  {
   "cell_type": "markdown",
   "id": "d456c463",
   "metadata": {},
   "source": [
    "# Checking the Data Type of an Array"
   ]
  },
  {
   "cell_type": "code",
   "execution_count": null,
   "id": "3a3bc43d",
   "metadata": {},
   "outputs": [],
   "source": [
    "he NumPy array object has a property called dtype that returns the data type of the array"
   ]
  },
  {
   "cell_type": "code",
   "execution_count": 4,
   "id": "cbcfc86e",
   "metadata": {
    "ExecuteTime": {
     "end_time": "2021-07-20T08:25:21.278891Z",
     "start_time": "2021-07-20T08:25:21.258637Z"
    }
   },
   "outputs": [
    {
     "name": "stdout",
     "output_type": "stream",
     "text": [
      "int32\n"
     ]
    }
   ],
   "source": [
    "import numpy as np\n",
    "arr = np.array([1,2,3,4])\n",
    "\n",
    "print(arr.dtype)"
   ]
  },
  {
   "cell_type": "code",
   "execution_count": 5,
   "id": "d5dfc91c",
   "metadata": {
    "ExecuteTime": {
     "end_time": "2021-07-20T08:25:38.475195Z",
     "start_time": "2021-07-20T08:25:38.459354Z"
    },
    "scrolled": true
   },
   "outputs": [
    {
     "name": "stdout",
     "output_type": "stream",
     "text": [
      "<U6\n"
     ]
    }
   ],
   "source": [
    "import numpy as np\n",
    "\n",
    "arr = np.array(['apple', 'banana', 'cherry'])\n",
    "\n",
    "print(arr.dtype)"
   ]
  },
  {
   "cell_type": "markdown",
   "id": "2cfafeae",
   "metadata": {},
   "source": [
    "## Creating Arrays With a Defined Data Type\n"
   ]
  },
  {
   "cell_type": "code",
   "execution_count": 11,
   "id": "ba6eb1fd",
   "metadata": {
    "ExecuteTime": {
     "end_time": "2021-07-20T08:28:46.921166Z",
     "start_time": "2021-07-20T08:28:46.901817Z"
    }
   },
   "outputs": [
    {
     "name": "stdout",
     "output_type": "stream",
     "text": [
      "[1. 3. 5. 7.]\n"
     ]
    }
   ],
   "source": [
    "# For i, u, f, S and U we can define size as well.\n",
    "import  numpy as np\n",
    "\n",
    "arr = np.array([1,3,5,7],dtype='f')\n",
    "\n",
    "print(arr)"
   ]
  },
  {
   "cell_type": "code",
   "execution_count": null,
   "id": "88b75396",
   "metadata": {},
   "outputs": [],
   "source": []
  },
  {
   "cell_type": "markdown",
   "id": "b8417e69",
   "metadata": {},
   "source": [
    "# Converting Data Type on Existing Arrays\n"
   ]
  },
  {
   "cell_type": "code",
   "execution_count": null,
   "id": "2e8a94e8",
   "metadata": {},
   "outputs": [],
   "source": [
    "The best way to change the data type of an existing array, is to make a \n",
    "copy of the array with the astype() method."
   ]
  },
  {
   "cell_type": "code",
   "execution_count": null,
   "id": "a08dcead",
   "metadata": {},
   "outputs": [],
   "source": [
    "Note: all emement in array  have same data type."
   ]
  },
  {
   "cell_type": "code",
   "execution_count": 13,
   "id": "743a466c",
   "metadata": {
    "ExecuteTime": {
     "end_time": "2021-07-20T08:32:49.619949Z",
     "start_time": "2021-07-20T08:32:49.604447Z"
    }
   },
   "outputs": [
    {
     "name": "stdout",
     "output_type": "stream",
     "text": [
      "float64\n",
      "[1 2 3]\n",
      "int32\n"
     ]
    }
   ],
   "source": [
    "import numpy as np\n",
    "\n",
    "arr = np.array([1.1, 2.1, 3.1])\n",
    "\n",
    "print(arr.dtype)\n",
    "newarr = arr.astype('i')\n",
    "\n",
    "print(newarr)\n",
    "print(newarr.dtype)\n",
    "\n"
   ]
  },
  {
   "cell_type": "code",
   "execution_count": null,
   "id": "9b8890da",
   "metadata": {},
   "outputs": [],
   "source": [
    "some conversions are follows and can be more \n",
    "\n",
    "Change data type from float to integer by using int as parameter value:\n",
    "\n",
    "Change data type from integer to boolean:\n",
    "    \n"
   ]
  }
 ],
 "metadata": {
  "kernelspec": {
   "display_name": "Python 3",
   "language": "python",
   "name": "python3"
  },
  "language_info": {
   "codemirror_mode": {
    "name": "ipython",
    "version": 3
   },
   "file_extension": ".py",
   "mimetype": "text/x-python",
   "name": "python",
   "nbconvert_exporter": "python",
   "pygments_lexer": "ipython3",
   "version": "3.8.8"
  }
 },
 "nbformat": 4,
 "nbformat_minor": 5
}

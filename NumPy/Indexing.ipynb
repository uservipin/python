{
 "cells": [
  {
   "cell_type": "markdown",
   "id": "f7cb340f",
   "metadata": {},
   "source": [
    "# Array Indexing1"
   ]
  },
  {
   "cell_type": "markdown",
   "id": "01c2f335",
   "metadata": {},
   "source": [
    "## 1-D Array"
   ]
  },
  {
   "cell_type": "code",
   "execution_count": 16,
   "id": "0dad0ae7",
   "metadata": {
    "ExecuteTime": {
     "end_time": "2021-07-20T07:10:04.842340Z",
     "start_time": "2021-07-20T07:10:04.830820Z"
    }
   },
   "outputs": [
    {
     "name": "stdout",
     "output_type": "stream",
     "text": [
      "3\n",
      "1\n",
      "3\n",
      "4\n"
     ]
    }
   ],
   "source": [
    "import numpy as np\n",
    "arr=np.array([1,3,4])\n",
    "print(arr[1])\n",
    "\n",
    "l# Print all number \n",
    "for i in arr:\n",
    "    print(i)"
   ]
  },
  {
   "cell_type": "markdown",
   "id": "ddd99c1e",
   "metadata": {
    "ExecuteTime": {
     "end_time": "2021-07-20T07:07:41.748106Z",
     "start_time": "2021-07-20T07:07:41.733980Z"
    }
   },
   "source": [
    "# Airthmetic operations with element in array"
   ]
  },
  {
   "cell_type": "code",
   "execution_count": 26,
   "id": "fdba325b",
   "metadata": {
    "ExecuteTime": {
     "end_time": "2021-07-20T07:23:07.580415Z",
     "start_time": "2021-07-20T07:23:07.573413Z"
    },
    "scrolled": true
   },
   "outputs": [
    {
     "name": "stdout",
     "output_type": "stream",
     "text": [
      "Add elemetns      : 7\n",
      "Subtract elements : -1\n",
      "Multiply elements : 12\n",
      "Divide elements   : 0.75\n"
     ]
    }
   ],
   "source": [
    "import numpy as np\n",
    "arr=np.array([1,3,4])\n",
    "\n",
    "# ADD\n",
    "print('Add elemetns      :',arr[1]+ arr[2])\n",
    "\n",
    "# Subtract\n",
    "print('Subtract elements :',arr[1] - arr[2])\n",
    "\n",
    "# Multiply\n",
    "print('Multiply elements :',arr[1]*arr[2])\n",
    "\n",
    "# Divide\n",
    "print('Divide elements   :',arr[1]/arr[2])\n"
   ]
  },
  {
   "cell_type": "markdown",
   "id": "d2bfc15d",
   "metadata": {},
   "source": [
    "### 2-D Array"
   ]
  },
  {
   "cell_type": "code",
   "execution_count": 24,
   "id": "dcee1006",
   "metadata": {
    "ExecuteTime": {
     "end_time": "2021-07-20T07:22:33.586101Z",
     "start_time": "2021-07-20T07:22:33.579106Z"
    }
   },
   "outputs": [
    {
     "name": "stdout",
     "output_type": "stream",
     "text": [
      "8\n",
      "Add elemetns      : 8\n",
      "Subtract elements : 4\n",
      "Multiply elements : 56\n",
      "Divide elements   : 0.42857142857142855\n"
     ]
    }
   ],
   "source": [
    "import numpy as np\n",
    "arr=np.array([[1,2,3,4],[5,6,7,8]])\n",
    "\n",
    "# Note here 1st no. represent column and 2nd element represent row.\n",
    "# in this code 1 represent column no. and 3 represent roq no.\n",
    "\n",
    "print(arr[1,3])\n",
    "\n",
    "\n",
    "# ADD\n",
    "print('Add elemetns      :',arr[1,1]+ arr[0,1])\n",
    "\n",
    "# Subtract\n",
    "print('Subtract elements :',arr[1,3] - arr[0,3])\n",
    "\n",
    "# Multiply\n",
    "print('Multiply elements :',arr[1,3]*arr[1,2])\n",
    "\n",
    "# Divide\n",
    "print('Divide elements   :',arr[0,2]/arr[1,2])\n",
    "\n"
   ]
  },
  {
   "cell_type": "markdown",
   "id": "3cbebb50",
   "metadata": {},
   "source": [
    "# Access 3-D Arrays"
   ]
  },
  {
   "cell_type": "code",
   "execution_count": 32,
   "id": "915d89a7",
   "metadata": {
    "ExecuteTime": {
     "end_time": "2021-07-20T07:26:43.751642Z",
     "start_time": "2021-07-20T07:26:43.740134Z"
    },
    "scrolled": true
   },
   "outputs": [
    {
     "name": "stdout",
     "output_type": "stream",
     "text": [
      "6\n",
      "Add elemetns      : 17\n",
      "Subtract elements : 6\n",
      "Multiply elements : 110\n",
      "Divide elements   : 0.5454545454545454\n"
     ]
    }
   ],
   "source": [
    "import numpy as np\n",
    "\n",
    "arr = np.array([[[1, 2, 3], [4, 5, 6]], [[7, 8, 9], [10, 11, 12]]])\n",
    "\n",
    "print(arr[0, 1, 2])\n",
    "\n",
    "# ADD\n",
    "print('Add elemetns      :',arr[1,1,2]+ arr[0,1,1])\n",
    "\n",
    "# Subtract\n",
    "print('Subtract elements :',arr[1,1,1] - arr[0,1,1])\n",
    "\n",
    "# Multiply\n",
    "print('Multiply elements :',arr[1,1,0]*arr[1,1,1])\n",
    "\n",
    "# Divide\n",
    "print('Divide elements   :',arr[0,1,2]/arr[1,1,1])"
   ]
  },
  {
   "cell_type": "markdown",
   "id": "412af3f7",
   "metadata": {},
   "source": [
    "# Negetive Indexing"
   ]
  },
  {
   "cell_type": "code",
   "execution_count": null,
   "id": "32dbbe14",
   "metadata": {},
   "outputs": [],
   "source": [
    "print the last element from the 2nd dim:"
   ]
  },
  {
   "cell_type": "code",
   "execution_count": 47,
   "id": "4d2c4138",
   "metadata": {
    "ExecuteTime": {
     "end_time": "2021-07-20T07:29:20.129250Z",
     "start_time": "2021-07-20T07:29:20.112716Z"
    }
   },
   "outputs": [
    {
     "name": "stdout",
     "output_type": "stream",
     "text": [
      "[[ 1  2  3  4  5]\n",
      " [ 6  7  8  9 10]]\n",
      "Last element from 2nd dim:  10\n"
     ]
    }
   ],
   "source": [
    "import numpy as np\n",
    "\n",
    "arr = np.array([[1,2,3,4,5], [6,7,8,9,10]])\n",
    "print(arr)\n",
    "\n",
    "print('Last element from 2nd dim: ', arr[1, -1])"
   ]
  }
 ],
 "metadata": {
  "kernelspec": {
   "display_name": "Python 3",
   "language": "python",
   "name": "python3"
  },
  "language_info": {
   "codemirror_mode": {
    "name": "ipython",
    "version": 3
   },
   "file_extension": ".py",
   "mimetype": "text/x-python",
   "name": "python",
   "nbconvert_exporter": "python",
   "pygments_lexer": "ipython3",
   "version": "3.9.5"
  }
 },
 "nbformat": 4,
 "nbformat_minor": 5
}

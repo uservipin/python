{
 "cells": [
  {
   "cell_type": "code",
   "execution_count": null,
   "id": "b3608c6c",
   "metadata": {},
   "outputs": [],
   "source": [
    "Resources from w3 School\n",
    "https://www.w3schools.com/python/numpy/default.asp\n",
    "    "
   ]
  },
  {
   "cell_type": "markdown",
   "id": "3b7ec65b",
   "metadata": {},
   "source": [
    "# Iterating loop."
   ]
  },
  {
   "cell_type": "code",
   "execution_count": null,
   "id": "30c91daa",
   "metadata": {},
   "outputs": [],
   "source": [
    "Iterating means going through elements one by one.\n",
    "\n",
    "As we deal with multi-dimensional arrays in numpy, we can do this using basic for loop of python.\n",
    "\n",
    "If we iterate on a 1-D array it will go through each element one by one."
   ]
  },
  {
   "cell_type": "markdown",
   "id": "b58008ad",
   "metadata": {},
   "source": [
    "# 1D Array"
   ]
  },
  {
   "cell_type": "code",
   "execution_count": 1,
   "id": "721a095f",
   "metadata": {
    "ExecuteTime": {
     "end_time": "2021-07-20T18:34:33.383838Z",
     "start_time": "2021-07-20T18:34:33.375858Z"
    },
    "scrolled": true
   },
   "outputs": [
    {
     "name": "stdout",
     "output_type": "stream",
     "text": [
      "1\n",
      "2\n",
      "3\n",
      "4\n",
      "5\n",
      "6\n"
     ]
    }
   ],
   "source": [
    "import numpy as np\n",
    "\n",
    "arr= np.array([1,2,3,4,5,6])\n",
    "\n",
    "for i in arr:\n",
    "    print(i)"
   ]
  },
  {
   "cell_type": "markdown",
   "id": "37394a29",
   "metadata": {},
   "source": [
    "## Getting values from 2D Array"
   ]
  },
  {
   "cell_type": "code",
   "execution_count": 26,
   "id": "8e30949b",
   "metadata": {
    "ExecuteTime": {
     "end_time": "2021-07-20T18:36:29.714572Z",
     "start_time": "2021-07-20T18:36:29.710564Z"
    },
    "scrolled": true
   },
   "outputs": [
    {
     "name": "stdout",
     "output_type": "stream",
     "text": [
      "[1 2 3 4 5 6]\n",
      "[10 11 13 14 16 17]\n"
     ]
    }
   ],
   "source": [
    "import numpy as np\n",
    "\n",
    "arr= np.array([[1,2,3,4,5,6],[10,11,13,14,16,17]])\n",
    "\n",
    "for i in arr:\n",
    "    print(i)"
   ]
  },
  {
   "cell_type": "code",
   "execution_count": 28,
   "id": "55fb4361",
   "metadata": {
    "ExecuteTime": {
     "end_time": "2021-07-20T18:37:53.378543Z",
     "start_time": "2021-07-20T18:37:53.368534Z"
    },
    "scrolled": true
   },
   "outputs": [
    {
     "name": "stdout",
     "output_type": "stream",
     "text": [
      "1\n",
      "2\n",
      "3\n",
      "4\n",
      "5\n",
      "6\n",
      "10\n",
      "11\n",
      "13\n",
      "14\n",
      "16\n",
      "17\n"
     ]
    }
   ],
   "source": [
    "# select no in this array \n",
    "\n",
    "import numpy as np\n",
    "\n",
    "arr= np.array([[1,2,3,4,5,6],[10,11,13,14,16,17]])\n",
    "\n",
    "for x in arr:\n",
    "    for y in x:\n",
    "        print(y)"
   ]
  },
  {
   "cell_type": "markdown",
   "id": "c7aaf8a9",
   "metadata": {},
   "source": [
    "## Getting values from 3D Array"
   ]
  },
  {
   "cell_type": "code",
   "execution_count": 29,
   "id": "f682d452",
   "metadata": {
    "ExecuteTime": {
     "end_time": "2021-07-20T18:39:23.727138Z",
     "start_time": "2021-07-20T18:39:23.707537Z"
    }
   },
   "outputs": [
    {
     "name": "stdout",
     "output_type": "stream",
     "text": [
      "[[1 2 3]\n",
      " [4 5 6]]\n",
      "[[ 7  8  9]\n",
      " [10 11 12]]\n"
     ]
    }
   ],
   "source": [
    "import numpy as np\n",
    "\n",
    "arr = np.array([[[1, 2, 3], [4, 5, 6]], [[7, 8, 9], [10, 11, 12]]])\n",
    "\n",
    "for x in arr:\n",
    "  print(x)"
   ]
  },
  {
   "cell_type": "code",
   "execution_count": 31,
   "id": "28bd9fc4",
   "metadata": {
    "ExecuteTime": {
     "end_time": "2021-07-20T18:40:36.400001Z",
     "start_time": "2021-07-20T18:40:36.385491Z"
    }
   },
   "outputs": [
    {
     "name": "stdout",
     "output_type": "stream",
     "text": [
      "1\n",
      "2\n",
      "3\n",
      "4\n",
      "5\n",
      "6\n",
      "7\n",
      "8\n",
      "9\n",
      "10\n",
      "11\n",
      "12\n"
     ]
    }
   ],
   "source": [
    "# select particular value from 3d array\n",
    "\n",
    "import numpy as np\n",
    "\n",
    "arr = np.array([[[1, 2, 3], [4, 5, 6]], [[7, 8, 9], [10, 11, 12]]])\n",
    "\n",
    "for x in arr:\n",
    "    for y in x:\n",
    "        for z in y:\n",
    "            print(z)"
   ]
  },
  {
   "cell_type": "markdown",
   "id": "1f513e57",
   "metadata": {},
   "source": [
    "# Iterating Arrays Using nditer()"
   ]
  },
  {
   "cell_type": "code",
   "execution_count": null,
   "id": "322bed55",
   "metadata": {},
   "outputs": [],
   "source": [
    "The function nditer() is a helping function that can be used from very basic to very advanced iterations.\n",
    "It solves some basic issues which we face in iteration, lets go through it with examples."
   ]
  },
  {
   "cell_type": "code",
   "execution_count": 41,
   "id": "4406cf0d",
   "metadata": {
    "ExecuteTime": {
     "end_time": "2021-07-20T18:48:04.487829Z",
     "start_time": "2021-07-20T18:48:04.472796Z"
    },
    "scrolled": true
   },
   "outputs": [
    {
     "name": "stdout",
     "output_type": "stream",
     "text": [
      "[array(1), array(2), array(3), array(4), array(5), array(6), array(7), array(8)]\n",
      "5\n"
     ]
    }
   ],
   "source": [
    "import numpy as np\n",
    "\n",
    "arr = np.array([[[1, 2], [3, 4]], [[5, 6], [7, 8]]])\n",
    "data_store= []\n",
    "for x in np.nditer(arr):\n",
    "    data_store.append(x)\n",
    "    \n",
    "print(data_store)\n",
    "\n",
    "print(data_store[1]+data_store[2])b"
   ]
  },
  {
   "cell_type": "markdown",
   "id": "ab6ce6b2",
   "metadata": {},
   "source": [
    "## Iterating Array With Different Data Types\n"
   ]
  },
  {
   "cell_type": "code",
   "execution_count": null,
   "id": "bd9c84ff",
   "metadata": {},
   "outputs": [],
   "source": [
    "** use op_dtypes argument and pass it the expected datatype\n",
    "\n",
    "NumPy does not change the data type of the element in-place (where the element is in array) so\n",
    "it needs some other space to perform this action, that extra space is called buffer, and in order to enable it in nditer()\n",
    "we pass flags=['buffered']"
   ]
  },
  {
   "cell_type": "code",
   "execution_count": 45,
   "id": "d235339c",
   "metadata": {
    "ExecuteTime": {
     "end_time": "2021-07-20T18:55:53.109092Z",
     "start_time": "2021-07-20T18:55:53.104098Z"
    }
   },
   "outputs": [
    {
     "name": "stdout",
     "output_type": "stream",
     "text": [
      "b'1'\n",
      "b'2'\n",
      "b'3'\n"
     ]
    }
   ],
   "source": [
    "import numpy as np\n",
    "\n",
    "arr = np.array([1, 2, 3])\n",
    "\n",
    "for x in np.nditer(arr, flags=['buffered'], op_dtypes=['S']):\n",
    "      print(x)"
   ]
  },
  {
   "cell_type": "markdown",
   "id": "d423abf7",
   "metadata": {},
   "source": [
    "# Iterating With Different Step Size\n"
   ]
  },
  {
   "cell_type": "code",
   "execution_count": 46,
   "id": "14221f25",
   "metadata": {
    "ExecuteTime": {
     "end_time": "2021-07-20T18:56:33.367610Z",
     "start_time": "2021-07-20T18:56:33.361623Z"
    }
   },
   "outputs": [
    {
     "name": "stdout",
     "output_type": "stream",
     "text": [
      "1\n",
      "3\n",
      "5\n",
      "7\n"
     ]
    }
   ],
   "source": [
    "import numpy as np\n",
    "\n",
    "arr = np.array([[1, 2, 3, 4], [5, 6, 7, 8]])\n",
    "\n",
    "for x in np.nditer(arr[:, ::2]):\n",
    "    print(x)"
   ]
  },
  {
   "cell_type": "markdown",
   "id": "fbd5379d",
   "metadata": {},
   "source": [
    "## Enumerated Iteration Using ndenumerate()\n"
   ]
  },
  {
   "cell_type": "code",
   "execution_count": null,
   "id": "27269ade",
   "metadata": {},
   "outputs": [],
   "source": [
    "Enumeration means mentioning sequence number of somethings one by one.\n",
    "\n",
    "Sometimes we require corresponding index of the element while iterating, \n",
    "the ndenumerate() method can be used for those usecases."
   ]
  },
  {
   "cell_type": "code",
   "execution_count": 48,
   "id": "c3419000",
   "metadata": {
    "ExecuteTime": {
     "end_time": "2021-07-20T18:57:44.017507Z",
     "start_time": "2021-07-20T18:57:44.011513Z"
    },
    "scrolled": true
   },
   "outputs": [
    {
     "name": "stdout",
     "output_type": "stream",
     "text": [
      "(0,) 4\n",
      "(1,) 5\n",
      "(2,) 6\n"
     ]
    }
   ],
   "source": [
    "# Enumerate on following 1D arrays elements:\n",
    "\n",
    "import numpy as np\n",
    "\n",
    "arr = np.array([4, 5, 6])\n",
    "\n",
    "for idx, x in np.ndenumerate(arr):\n",
    "      print(idx, x)"
   ]
  },
  {
   "cell_type": "code",
   "execution_count": 49,
   "id": "75e66727",
   "metadata": {
    "ExecuteTime": {
     "end_time": "2021-07-20T18:58:27.609303Z",
     "start_time": "2021-07-20T18:58:27.589823Z"
    },
    "scrolled": true
   },
   "outputs": [
    {
     "name": "stdout",
     "output_type": "stream",
     "text": [
      "(0, 0) 1\n",
      "(0, 1) 2\n",
      "(0, 2) 3\n",
      "(0, 3) 4\n",
      "(1, 0) 5\n",
      "(1, 1) 6\n",
      "(1, 2) 7\n",
      "(1, 3) 8\n"
     ]
    }
   ],
   "source": [
    "# Enumerate on following 2D array's elements:\n",
    "\n",
    "import numpy as np\n",
    "\n",
    "arr = np.array([[1, 2, 3, 4], [5, 6, 7, 8]])\n",
    "\n",
    "for idx, x in np.ndenumerate(arr):\n",
    "      print(idx, x)"
   ]
  }
 ],
 "metadata": {
  "kernelspec": {
   "display_name": "Python 3",
   "language": "python",
   "name": "python3"
  },
  "language_info": {
   "codemirror_mode": {
    "name": "ipython",
    "version": 3
   },
   "file_extension": ".py",
   "mimetype": "text/x-python",
   "name": "python",
   "nbconvert_exporter": "python",
   "pygments_lexer": "ipython3",
   "version": "3.9.5"
  }
 },
 "nbformat": 4,
 "nbformat_minor": 5
}

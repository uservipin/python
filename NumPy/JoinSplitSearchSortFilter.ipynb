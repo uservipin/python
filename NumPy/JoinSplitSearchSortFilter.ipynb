{
 "cells": [
  {
   "cell_type": "markdown",
   "id": "432d9c0d",
   "metadata": {},
   "source": [
    "# Joining NumPy Arrays\n"
   ]
  },
  {
   "cell_type": "code",
   "execution_count": null,
   "id": "23d9be7d",
   "metadata": {},
   "outputs": [],
   "source": [
    "Joining means putting contents of two or more arrays in a single array.\n",
    "\n",
    "We pass a sequence of arrays that we want to join to the concatenate() function, along with the axis.\n",
    "If axis is not explicitly passed, it is taken as 0."
   ]
  },
  {
   "cell_type": "code",
   "execution_count": 1,
   "id": "16a7e521",
   "metadata": {
    "ExecuteTime": {
     "end_time": "2021-07-20T19:44:23.092752Z",
     "start_time": "2021-07-20T19:44:22.943338Z"
    },
    "scrolled": true
   },
   "outputs": [
    {
     "name": "stdout",
     "output_type": "stream",
     "text": [
      "[1 2 3 4 5 6]\n"
     ]
    }
   ],
   "source": [
    "import numpy as np\n",
    "\n",
    "arr1 = np.array([1, 2, 3])\n",
    "\n",
    "arr2 = np.array([4, 5, 6])\n",
    "\n",
    "arr = np.concatenate((arr1, arr2))\n",
    "\n",
    "print(arr)"
   ]
  },
  {
   "cell_type": "code",
   "execution_count": 2,
   "id": "4a1d56b7",
   "metadata": {
    "ExecuteTime": {
     "end_time": "2021-07-20T19:44:49.357441Z",
     "start_time": "2021-07-20T19:44:49.339884Z"
    }
   },
   "outputs": [
    {
     "name": "stdout",
     "output_type": "stream",
     "text": [
      "[[1 2 5 6]\n",
      " [3 4 7 8]]\n"
     ]
    }
   ],
   "source": [
    "# Join two 2-D arrays along rows (axis=1):\n",
    "    \n",
    "import numpy as np\n",
    "\n",
    "arr1 = np.array([[1, 2], [3, 4]])\n",
    "\n",
    "arr2 = np.array([[5, 6], [7, 8]])\n",
    "\n",
    "arr = np.concatenate((arr1, arr2), axis=1)\n",
    "\n",
    "print(arr)"
   ]
  },
  {
   "cell_type": "code",
   "execution_count": 3,
   "id": "a56f9574",
   "metadata": {
    "ExecuteTime": {
     "end_time": "2021-07-20T19:45:11.589677Z",
     "start_time": "2021-07-20T19:45:11.576404Z"
    }
   },
   "outputs": [
    {
     "name": "stdout",
     "output_type": "stream",
     "text": [
      "[[1 2]\n",
      " [3 4]\n",
      " [5 6]\n",
      " [7 8]]\n"
     ]
    }
   ],
   "source": [
    "# Join two 2-D arrays along rows (axis=0):\n",
    "    \n",
    "import numpy as np\n",
    "\n",
    "arr1 = np.array([[1, 2], [3, 4]])\n",
    "\n",
    "arr2 = np.array([[5, 6], [7, 8]])\n",
    "\n",
    "arr = np.concatenate((arr1, arr2), axis=0)\n",
    "\n",
    "print(arr)"
   ]
  },
  {
   "cell_type": "markdown",
   "id": "6f7c8804",
   "metadata": {},
   "source": [
    "### Joining Arrays Using Stack Functions\n"
   ]
  },
  {
   "cell_type": "code",
   "execution_count": null,
   "id": "c2e6b4c9",
   "metadata": {},
   "outputs": [],
   "source": [
    "Stacking is same as concatenation, the only difference is that stacking is done along a new axis.\n",
    "\n",
    "We can concatenate two 1-D arrays along the second axis which would result in putting them one over the other, ie. stacking.\n",
    "\n",
    "We pass a sequence of arrays that we want to join to the stack() method along with the axis. If axis is not explicitly passed it is taken as 0"
   ]
  },
  {
   "cell_type": "code",
   "execution_count": 4,
   "id": "c9fdad49",
   "metadata": {
    "ExecuteTime": {
     "end_time": "2021-07-20T19:46:17.647281Z",
     "start_time": "2021-07-20T19:46:17.629761Z"
    }
   },
   "outputs": [
    {
     "name": "stdout",
     "output_type": "stream",
     "text": [
      "[[1 4]\n",
      " [2 5]\n",
      " [3 6]]\n"
     ]
    }
   ],
   "source": [
    "# axix =1\n",
    "import numpy as np\n",
    "\n",
    "arr1 = np.array([1, 2, 3])\n",
    "\n",
    "arr2 = np.array([4, 5, 6])\n",
    "\n",
    "arr = np.stack((arr1, arr2), axis=1)\n",
    "\n",
    "print(arr)"
   ]
  },
  {
   "cell_type": "code",
   "execution_count": 5,
   "id": "6b94599e",
   "metadata": {
    "ExecuteTime": {
     "end_time": "2021-07-20T19:46:45.035507Z",
     "start_time": "2021-07-20T19:46:45.016116Z"
    }
   },
   "outputs": [
    {
     "name": "stdout",
     "output_type": "stream",
     "text": [
      "[[1 2 3]\n",
      " [4 5 6]]\n"
     ]
    }
   ],
   "source": [
    "# axix =0\n",
    "import numpy as np\n",
    "\n",
    "arr1 = np.array([1, 2, 3])\n",
    "\n",
    "arr2 = np.array([4, 5, 6])\n",
    "\n",
    "arr = np.stack((arr1, arr2), axis=0)\n",
    "\n",
    "print(arr)\n"
   ]
  },
  {
   "cell_type": "markdown",
   "id": "c1f013b6",
   "metadata": {},
   "source": [
    "### Stacking Along Rows\n"
   ]
  },
  {
   "cell_type": "code",
   "execution_count": 6,
   "id": "a2cd7943",
   "metadata": {
    "ExecuteTime": {
     "end_time": "2021-07-20T19:47:46.172323Z",
     "start_time": "2021-07-20T19:47:46.164315Z"
    }
   },
   "outputs": [
    {
     "name": "stdout",
     "output_type": "stream",
     "text": [
      "[1 2 3 4 5 6]\n"
     ]
    }
   ],
   "source": [
    "# NumPy provides a helper function: hstack() to stack along rows.\n",
    "\n",
    "import numpy as np\n",
    "\n",
    "arr1 = np.array([1, 2, 3])\n",
    "\n",
    "arr2 = np.array([4, 5, 6])\n",
    "\n",
    "arr = np.hstack((arr1, arr2))\n",
    "\n",
    "print(arr)"
   ]
  },
  {
   "cell_type": "code",
   "execution_count": 7,
   "id": "ef9580f9",
   "metadata": {
    "ExecuteTime": {
     "end_time": "2021-07-20T20:16:04.475401Z",
     "start_time": "2021-07-20T20:16:04.459392Z"
    }
   },
   "outputs": [
    {
     "name": "stdout",
     "output_type": "stream",
     "text": [
      "[[1 2 3]\n",
      " [4 5 6]]\n"
     ]
    }
   ],
   "source": [
    "# NumPy provides a helper function: vstack()  to stack along columns.\n",
    "\n",
    "import numpy as np\n",
    "\n",
    "arr1 = np.array([1, 2, 3])\n",
    "\n",
    "arr2 = np.array([4, 5, 6])\n",
    "\n",
    "arr = np.vstack((arr1, arr2))\n",
    "\n",
    "print(arr)"
   ]
  },
  {
   "cell_type": "markdown",
   "id": "f6223f7a",
   "metadata": {
    "ExecuteTime": {
     "end_time": "2021-07-20T20:16:35.354975Z",
     "start_time": "2021-07-20T20:16:35.342443Z"
    }
   },
   "source": [
    "#### NumPy provides a helper function: dstack() to stack along height, which is the same as depth.\n",
    "\n",
    "import numpy as np\n",
    "\n",
    "arr1 = np.array([1, 2, 3])\n",
    "\n",
    "arr2 = np.array([4, 5, 6])\n",
    "\n",
    "arr = np.dstack((arr1, arr2))\n",
    "\n",
    "print(arr)"
   ]
  },
  {
   "cell_type": "markdown",
   "id": "6530eaf2",
   "metadata": {},
   "source": [
    "# Splitting NumPy Arrays\n"
   ]
  },
  {
   "cell_type": "code",
   "execution_count": null,
   "id": "657b89a6",
   "metadata": {},
   "outputs": [],
   "source": [
    "Splitting is reverse operation of Joining.\n",
    "\n",
    "Joining merges multiple arrays into one and Splitting breaks one array into multiple.\n",
    "\n",
    "We use array_split() for splitting arrays, we pass it the array we want to split and the number of splits."
   ]
  },
  {
   "cell_type": "code",
   "execution_count": 11,
   "id": "d7601874",
   "metadata": {
    "ExecuteTime": {
     "end_time": "2021-07-20T20:22:28.943898Z",
     "start_time": "2021-07-20T20:22:28.927355Z"
    }
   },
   "outputs": [
    {
     "name": "stdout",
     "output_type": "stream",
     "text": [
      "[array([1, 2, 3, 4]), array([5, 6, 7]), array([ 8,  9, 10])]\n",
      "[1 2 3 4]\n",
      "[5 6 7]\n",
      "[ 8  9 10]\n"
     ]
    }
   ],
   "source": [
    "import numpy as np\n",
    "\n",
    "arr = np.array([1,2,3,4,5,6,7,8,9,10])\n",
    "split_arr = np.array_split(arr,3)\n",
    "print(split_arr)\n",
    "\n",
    "# print seperate values in split values\n",
    "\n",
    "print(split_arr[0])\n",
    "print(split_arr[1])\n",
    "print(split_arr[2])"
   ]
  },
  {
   "cell_type": "code",
   "execution_count": null,
   "id": "525998de",
   "metadata": {},
   "outputs": [],
   "source": [
    "An alternate solution is using hsplit() opposite of hstack()\n",
    "Note: Similar alternates to vstack() and dstack() are available as vsplit() and dsplit()."
   ]
  },
  {
   "cell_type": "code",
   "execution_count": 12,
   "id": "ffd26aa3",
   "metadata": {
    "ExecuteTime": {
     "end_time": "2021-07-20T20:24:05.112370Z",
     "start_time": "2021-07-20T20:24:05.094832Z"
    }
   },
   "outputs": [
    {
     "name": "stdout",
     "output_type": "stream",
     "text": [
      "[array([[ 1],\n",
      "       [ 4],\n",
      "       [ 7],\n",
      "       [10],\n",
      "       [13],\n",
      "       [16]]), array([[ 2],\n",
      "       [ 5],\n",
      "       [ 8],\n",
      "       [11],\n",
      "       [14],\n",
      "       [17]]), array([[ 3],\n",
      "       [ 6],\n",
      "       [ 9],\n",
      "       [12],\n",
      "       [15],\n",
      "       [18]])]\n"
     ]
    }
   ],
   "source": [
    "\n",
    "import numpy as np\n",
    "\n",
    "arr = np.array([[1, 2, 3], [4, 5, 6], [7, 8, 9], [10, 11, 12], [13, 14, 15], [16, 17, 18]])\n",
    "\n",
    "newarr = np.hsplit(arr, 3)\n",
    "\n",
    "print(newarr)"
   ]
  },
  {
   "cell_type": "markdown",
   "id": "2ded9f3f",
   "metadata": {},
   "source": [
    "# NumPy Searching Arrays\n"
   ]
  },
  {
   "cell_type": "code",
   "execution_count": null,
   "id": "ad1fe505",
   "metadata": {},
   "outputs": [],
   "source": [
    "search an array for a certain value, and return the indexes that get a match.\n",
    "\n",
    "To search an array, use the where() method."
   ]
  },
  {
   "cell_type": "code",
   "execution_count": null,
   "id": "03448da5",
   "metadata": {},
   "outputs": [],
   "source": [
    "import numpy as np\n",
    "\n",
    "arr = np.array([1, 2, 3, 4, 5, 4, 4])\n",
    "\n",
    "x = np.where(arr == 4)\n",
    "\n",
    "# print index position of 4 in array\n",
    "print(x)\n",
    "\n",
    "# print values at even index\n",
    "y = np.where(arr%2 == 0)\n",
    "print(y)\n",
    "\n",
    "# print values at odd index \n",
    "z = np.where(arr%2 == 1)\n",
    "print(z)"
   ]
  },
  {
   "cell_type": "markdown",
   "id": "335c1805",
   "metadata": {},
   "source": [
    "## Search Sorted\n"
   ]
  },
  {
   "cell_type": "code",
   "execution_count": null,
   "id": "4820a471",
   "metadata": {},
   "outputs": [],
   "source": [
    "There is a method called searchsorted() which performs a binary search in the array, and\n",
    "returns the index where the specified value would be inserted to maintain the search order.\n",
    "\n"
   ]
  },
  {
   "cell_type": "code",
   "execution_count": 18,
   "id": "a3822dca",
   "metadata": {
    "ExecuteTime": {
     "end_time": "2021-07-20T20:30:36.415456Z",
     "start_time": "2021-07-20T20:30:36.407952Z"
    }
   },
   "outputs": [
    {
     "name": "stdout",
     "output_type": "stream",
     "text": [
      "3\n"
     ]
    }
   ],
   "source": [
    "import numpy as np\n",
    "\n",
    "arr = np.array([1, 2, 3, 4, 5, 4, 4])\n",
    "\n",
    "x = np.searchsorted(arr,4)\n",
    "\n",
    "print( x)"
   ]
  },
  {
   "cell_type": "code",
   "execution_count": 19,
   "id": "1333837e",
   "metadata": {
    "ExecuteTime": {
     "end_time": "2021-07-20T20:31:20.358033Z",
     "start_time": "2021-07-20T20:31:20.347032Z"
    }
   },
   "outputs": [
    {
     "name": "stdout",
     "output_type": "stream",
     "text": [
      "2\n"
     ]
    }
   ],
   "source": [
    "# Search From the Right Side\n",
    "import numpy as np\n",
    "\n",
    "arr = np.array([6, 7, 8, 9])\n",
    "\n",
    "x = np.searchsorted(arr, 7, side='right')\n",
    "\n",
    "print(x)"
   ]
  },
  {
   "cell_type": "code",
   "execution_count": 22,
   "id": "0cd94cbd",
   "metadata": {
    "ExecuteTime": {
     "end_time": "2021-07-20T20:34:07.599676Z",
     "start_time": "2021-07-20T20:34:07.586147Z"
    }
   },
   "outputs": [
    {
     "name": "stdout",
     "output_type": "stream",
     "text": [
      "[0 2 3]\n",
      "[7 7]\n"
     ]
    }
   ],
   "source": [
    "# Multiple Values\n",
    "\n",
    "import numpy as np \n",
    "\n",
    "arr= np.array([12,3,4,5,6,7,8])\n",
    "\n",
    "short_arr= np.searchsorted(arr,[3,4,5])\n",
    "print(short_arr)\n",
    "\n",
    "short_arr= np.searchsorted(arr,[51,22])\n",
    "print(short_arr)"
   ]
  },
  {
   "cell_type": "markdown",
   "id": "312d23d6",
   "metadata": {},
   "source": [
    "## NumPy Sorting Arrays\n"
   ]
  },
  {
   "cell_type": "code",
   "execution_count": null,
   "id": "4b1f63be",
   "metadata": {},
   "outputs": [],
   "source": [
    "Sorting means putting elements in an ordered sequence.\n",
    "\n",
    "Ordered sequence is any sequence that has an order corresponding to elements, \n",
    "like numeric or alphabetical, ascending or descending.b\n",
    "\n",
    "The NumPy ndarray object has a function called sort(), that will sort a specified array."
   ]
  },
  {
   "cell_type": "code",
   "execution_count": 24,
   "id": "2de9fdab",
   "metadata": {
    "ExecuteTime": {
     "end_time": "2021-07-20T20:38:01.713559Z",
     "start_time": "2021-07-20T20:38:01.699555Z"
    },
    "scrolled": true
   },
   "outputs": [
    {
     "name": "stdout",
     "output_type": "stream",
     "text": [
      "[0 1 2 3]\n",
      "['apple' 'banana' 'cherry']\n"
     ]
    }
   ],
   "source": [
    "import numpy as np\n",
    "\n",
    "# array of intigers\n",
    "arr = np.array([3, 2, 0, 1])\n",
    "print(np.sort(arr))\n",
    "\n",
    "# array of string \n",
    "arr_string = np.array(['banana', 'cherry', 'apple'])\n",
    "print(np.sort(arr_string))\n",
    "\n",
    "# boolean expresson\n",
    "arr = np.array([True, False, True])\n"
   ]
  },
  {
   "cell_type": "markdown",
   "id": "d4355a0c",
   "metadata": {},
   "source": [
    "## Filtering Arrays"
   ]
  },
  {
   "cell_type": "code",
   "execution_count": null,
   "id": "c5846021",
   "metadata": {},
   "outputs": [],
   "source": [
    "Getting some elements out of an existing array and creating a new array out of them is called filtering.\n",
    "\n",
    "In NumPy, you filter an array using a boolean index list."
   ]
  },
  {
   "cell_type": "code",
   "execution_count": 25,
   "id": "8745909f",
   "metadata": {
    "ExecuteTime": {
     "end_time": "2021-07-20T20:54:14.456593Z",
     "start_time": "2021-07-20T20:54:14.433401Z"
    }
   },
   "outputs": [
    {
     "name": "stdout",
     "output_type": "stream",
     "text": [
      "[41 43]\n"
     ]
    }
   ],
   "source": [
    "import numpy as np\n",
    "\n",
    "arr = np.array([41, 42, 43, 44])\n",
    "\n",
    "x = [True, False, True, False]\n",
    "\n",
    "newarr = arr[x]\n",
    "\n",
    "print(newarr)"
   ]
  },
  {
   "cell_type": "code",
   "execution_count": 26,
   "id": "cf4a2f13",
   "metadata": {
    "ExecuteTime": {
     "end_time": "2021-07-20T20:55:31.446176Z",
     "start_time": "2021-07-20T20:55:31.422797Z"
    }
   },
   "outputs": [
    {
     "name": "stdout",
     "output_type": "stream",
     "text": [
      "[False, False, True, True]\n",
      "[43 44]\n"
     ]
    }
   ],
   "source": [
    "# Create a filter array that will return only values higher than 42:\n",
    "\n",
    "\n",
    "import numpy as np\n",
    "\n",
    "arr = np.array([41, 42, 43, 44])\n",
    "\n",
    "# Create an empty list\n",
    "filter_arr = []\n",
    "\n",
    "# go through each element in arr\n",
    "for element in arr:\n",
    "  # if the element is higher than 42, set the value to True, otherwise False:\n",
    "  if element > 42:\n",
    "    filter_arr.append(True)\n",
    "    else:\n",
    "    filter_arr.append(False)\n",
    "\n",
    "newarr = arr[filter_arr]\n",
    "\n",
    "print(filter_arr)\n",
    "print(newarr)"
   ]
  },
  {
   "cell_type": "code",
   "execution_count": null,
   "id": "2ff26471",
   "metadata": {},
   "outputs": [],
   "source": []
  }
 ],
 "metadata": {
  "kernelspec": {
   "display_name": "Python 3",
   "language": "python",
   "name": "python3"
  },
  "language_info": {
   "codemirror_mode": {
    "name": "ipython",
    "version": 3
   },
   "file_extension": ".py",
   "mimetype": "text/x-python",
   "name": "python",
   "nbconvert_exporter": "python",
   "pygments_lexer": "ipython3",
   "version": "3.9.5"
  }
 },
 "nbformat": 4,
 "nbformat_minor": 5
}

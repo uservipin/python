{
 "cells": [
  {
   "cell_type": "code",
   "execution_count": 32,
   "id": "e6fa2f44",
   "metadata": {},
   "outputs": [
    {
     "data": {
      "text/plain": [
       "'Haya'"
      ]
     },
     "execution_count": 32,
     "metadata": {},
     "output_type": "execute_result"
    }
   ],
   "source": [
    "import numpy as np\n",
    "t = np.array([\"Reem\" , \"Salah\" , \"Haya\" , \"Maryam\" , \"Fatema\"])\n",
    "\n",
    "\n",
    "t[2]"
   ]
  },
  {
   "cell_type": "code",
   "execution_count": null,
   "id": "b9a43d21",
   "metadata": {},
   "outputs": [],
   "source": []
  },
  {
   "cell_type": "code",
   "execution_count": 33,
   "id": "7b1eb9d6",
   "metadata": {},
   "outputs": [
    {
     "name": "stdout",
     "output_type": "stream",
     "text": [
      "Object `code` not found.\n",
      "[1 2 3]\n"
     ]
    }
   ],
   "source": [
    "What will be output for the following code?\n",
    "\n",
    "\n",
    "\n",
    "import numpy as np\n",
    "\n",
    "\n",
    "\n",
    "a = np.array([1,2,3])\n",
    "\n",
    "\n",
    "\n",
    "print(a)\n",
    "\n"
   ]
  },
  {
   "cell_type": "code",
   "execution_count": null,
   "id": "fe1835a9",
   "metadata": {},
   "outputs": [],
   "source": []
  },
  {
   "cell_type": "code",
   "execution_count": 36,
   "id": "1d0b56c2",
   "metadata": {},
   "outputs": [
    {
     "name": "stdout",
     "output_type": "stream",
     "text": [
      "3\n"
     ]
    }
   ],
   "source": [
    "import numpy as np\n",
    "\n",
    "ary = np.array([1,2,3,5,8])\n",
    "\n",
    "ary = ary + 1\n",
    "\n",
    "print (ary[1])"
   ]
  },
  {
   "cell_type": "code",
   "execution_count": 37,
   "id": "c94dc95b",
   "metadata": {},
   "outputs": [
    {
     "name": "stdout",
     "output_type": "stream",
     "text": [
      "6\n"
     ]
    }
   ],
   "source": [
    "import numpy as np\n",
    "\n",
    "a = np.array([[1,2,3],[0,1,4]])\n",
    "\n",
    "print (a.size)"
   ]
  },
  {
   "cell_type": "code",
   "execution_count": 38,
   "id": "8bd5643a",
   "metadata": {},
   "outputs": [
    {
     "name": "stdout",
     "output_type": "stream",
     "text": [
      "5\n"
     ]
    }
   ],
   "source": [
    "import numpy as np\n",
    "\n",
    "a = np.array([[1,2,3],[0,1,4]])\n",
    "\n",
    "b = np.zeros((2,3), dtype=np.int16)\n",
    "\n",
    "c = np.ones((2,3), dtype=np.int16)\n",
    "\n",
    "d = a + b + c\n",
    "\n",
    "print (d[1,2] )"
   ]
  },
  {
   "cell_type": "code",
   "execution_count": 41,
   "id": "1e7fedb0",
   "metadata": {
    "scrolled": true
   },
   "outputs": [
    {
     "name": "stdout",
     "output_type": "stream",
     "text": [
      "[ 5 10 15 25 40]\n",
      "10\n"
     ]
    }
   ],
   "source": [
    "import numpy as np\n",
    "\n",
    "\n",
    "\n",
    "ary = np.array([1,2,3,5,8])\n",
    "\n",
    "\n",
    "\n",
    "ary = ary * 5\n",
    "\n",
    "\n",
    "print(ary)\n",
    "print (ary[1])"
   ]
  },
  {
   "cell_type": "code",
   "execution_count": 42,
   "id": "c159c69c",
   "metadata": {},
   "outputs": [
    {
     "ename": "UFuncTypeError",
     "evalue": "ufunc 'multiply' did not contain a loop with signature matching types (dtype('<U3'), dtype('<U3')) -> dtype('<U3')",
     "output_type": "error",
     "traceback": [
      "\u001b[1;31m---------------------------------------------------------------------------\u001b[0m",
      "\u001b[1;31mUFuncTypeError\u001b[0m                            Traceback (most recent call last)",
      "\u001b[1;32m<ipython-input-42-4a2ca369e7b2>\u001b[0m in \u001b[0;36m<module>\u001b[1;34m\u001b[0m\n\u001b[0;32m      3\u001b[0m \u001b[1;33m\u001b[0m\u001b[0m\n\u001b[0;32m      4\u001b[0m \u001b[1;33m\u001b[0m\u001b[0m\n\u001b[1;32m----> 5\u001b[1;33m \u001b[0mary\u001b[0m \u001b[1;33m=\u001b[0m \u001b[0mary\u001b[0m \u001b[1;33m*\u001b[0m \u001b[1;36m5\u001b[0m\u001b[1;33m\u001b[0m\u001b[1;33m\u001b[0m\u001b[0m\n\u001b[0m\u001b[0;32m      6\u001b[0m \u001b[1;33m\u001b[0m\u001b[0m\n\u001b[0;32m      7\u001b[0m \u001b[1;33m\u001b[0m\u001b[0m\n",
      "\u001b[1;31mUFuncTypeError\u001b[0m: ufunc 'multiply' did not contain a loop with signature matching types (dtype('<U3'), dtype('<U3')) -> dtype('<U3')"
     ]
    }
   ],
   "source": [
    "ary = np.array([\"a\", \"b\", \"c\", \"d\", \"e\"])\n",
    "\n",
    "\n",
    "\n",
    "ary = ary * 5\n",
    "\n",
    "\n",
    "\n",
    "print (ary[1])"
   ]
  }
 ],
 "metadata": {
  "kernelspec": {
   "display_name": "Python 3",
   "language": "python",
   "name": "python3"
  },
  "language_info": {
   "codemirror_mode": {
    "name": "ipython",
    "version": 3
   },
   "file_extension": ".py",
   "mimetype": "text/x-python",
   "name": "python",
   "nbconvert_exporter": "python",
   "pygments_lexer": "ipython3",
   "version": "3.8.8"
  }
 },
 "nbformat": 4,
 "nbformat_minor": 5
}

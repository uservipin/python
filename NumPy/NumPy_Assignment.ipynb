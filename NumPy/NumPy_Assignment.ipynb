{
 "cells": [
  {
   "cell_type": "markdown",
   "id": "c230e023",
   "metadata": {},
   "source": [
    "Use numpy to generate array of 25 random numbers sampled from a standard normal distribution\n"
   ]
  },
  {
   "cell_type": "code",
   "execution_count": 1,
   "id": "65d445f2",
   "metadata": {
    "ExecuteTime": {
     "end_time": "2021-08-29T07:55:07.080650Z",
     "start_time": "2021-08-29T07:55:06.838570Z"
    }
   },
   "outputs": [
    {
     "name": "stdout",
     "output_type": "stream",
     "text": [
      "15 random numbers from a standard normal distribution:\n",
      "[-0.80334634  0.44896614  0.16519128  0.1225998   0.74874967 -0.5401356\n",
      "  0.51505251  0.02496682 -0.50137623  0.92766706 -0.54368952  0.31721949\n",
      " -2.16632978  0.12812543 -1.26637748]\n"
     ]
    }
   ],
   "source": [
    "import numpy as np\n",
    "rand_num = np.random.normal(0,1,15)\n",
    "print(\"15 random numbers from a standard normal distribution:\")\n",
    "print(rand_num)"
   ]
  },
  {
   "cell_type": "markdown",
   "id": "b4fb0787",
   "metadata": {},
   "source": [
    "Create a random vector of size 30 and find the mean value.\n"
   ]
  },
  {
   "cell_type": "code",
   "execution_count": 4,
   "id": "68a62ad3",
   "metadata": {
    "ExecuteTime": {
     "end_time": "2021-08-29T07:57:14.149170Z",
     "start_time": "2021-08-29T07:57:14.128542Z"
    }
   },
   "outputs": [
    {
     "name": "stdout",
     "output_type": "stream",
     "text": [
      "Original array:\n",
      "[0.84136735 0.64593263 0.97403758 0.11163619 0.99894641 0.57181147\n",
      " 0.43043431 0.39711599 0.6218537  0.58003165]\n",
      "Mean is:\n",
      "0.6173167276393494\n"
     ]
    }
   ],
   "source": [
    "import numpy as np\n",
    "x = np.random.random(10)\n",
    "print(\"Original array:\")\n",
    "print(x)\n",
    "\n",
    "print(\"Mean is:\")\n",
    "print(x.mean())"
   ]
  },
  {
   "cell_type": "markdown",
   "id": "7681254b",
   "metadata": {},
   "source": [
    "Insert 1 to 100 numbers in a numpy array and reshape it to 10*10 matrix.\n"
   ]
  },
  {
   "cell_type": "code",
   "execution_count": 9,
   "id": "3ce43a2e",
   "metadata": {
    "ExecuteTime": {
     "end_time": "2021-08-29T08:01:22.261761Z",
     "start_time": "2021-08-29T08:01:22.247231Z"
    }
   },
   "outputs": [
    {
     "data": {
      "text/plain": [
       "array([[  1,   2,   3,   4,   5,   6,   7,   8,   9,  10],\n",
       "       [ 11,  12,  13,  14,  15,  16,  17,  18,  19,  20],\n",
       "       [ 21,  22,  23,  24,  25,  26,  27,  28,  29,  30],\n",
       "       [ 31,  32,  33,  34,  35,  36,  37,  38,  39,  40],\n",
       "       [ 41,  42,  43,  44,  45,  46,  47,  48,  49,  50],\n",
       "       [ 51,  52,  53,  54,  55,  56,  57,  58,  59,  60],\n",
       "       [ 61,  62,  63,  64,  65,  66,  67,  68,  69,  70],\n",
       "       [ 71,  72,  73,  74,  75,  76,  77,  78,  79,  80],\n",
       "       [ 81,  82,  83,  84,  85,  86,  87,  88,  89,  90],\n",
       "       [ 91,  92,  93,  94,  95,  96,  97,  98,  99, 100]])"
      ]
     },
     "execution_count": 9,
     "metadata": {},
     "output_type": "execute_result"
    }
   ],
   "source": [
    "import numpy as np\n",
    "\n",
    "arr= np.array([ i for i in range(1,101) ])\n",
    "\n",
    "arr.reshape(10,10)\n"
   ]
  },
  {
   "cell_type": "markdown",
   "id": "1f492c9e",
   "metadata": {},
   "source": [
    "Create a 10x10 array with random values and find the minimum and maximum values."
   ]
  },
  {
   "cell_type": "code",
   "execution_count": 21,
   "id": "82632280",
   "metadata": {
    "ExecuteTime": {
     "end_time": "2021-08-29T08:06:53.275238Z",
     "start_time": "2021-08-29T08:06:53.250122Z"
    },
    "scrolled": true
   },
   "outputs": [
    {
     "name": "stdout",
     "output_type": "stream",
     "text": [
      "[[0.28243295 0.24499445 0.18974263 0.7139072  0.39990749 0.06985147\n",
      "  0.08228287 0.75683866 0.03198469 0.21094434]\n",
      " [0.35753229 0.94254836 0.92078936 0.01712707 0.36058539 0.75432823\n",
      "  0.03968382 0.09626355 0.21380466 0.43352581]\n",
      " [0.0426934  0.36319992 0.7487559  0.40727614 0.49494867 0.13095673\n",
      "  0.39570482 0.48397173 0.67117723 0.58752531]\n",
      " [0.09755811 0.87657048 0.7845727  0.37135816 0.20007828 0.18349149\n",
      "  0.98782115 0.98632936 0.51460456 0.77672423]\n",
      " [0.99769042 0.97454042 0.03313794 0.09737428 0.46546628 0.71539591\n",
      "  0.38695454 0.19530073 0.88461608 0.14605027]\n",
      " [0.91991599 0.39933614 0.79566992 0.95860419 0.5600077  0.39819245\n",
      "  0.3704021  0.21217019 0.4439061  0.03467425]\n",
      " [0.45323519 0.97783463 0.50283797 0.74374406 0.6738309  0.5567843\n",
      "  0.43144727 0.59782922 0.01038406 0.15037946]\n",
      " [0.82042728 0.88255942 0.82387548 0.29403453 0.65753948 0.36878663\n",
      "  0.74388919 0.04516837 0.15163201 0.00404315]\n",
      " [0.21679344 0.30371123 0.6945912  0.72805971 0.69472958 0.69137257\n",
      "  0.39532666 0.78787624 0.84050467 0.25681382]\n",
      " [0.00922788 0.8094741  0.81511973 0.5675155  0.43905856 0.59073277\n",
      "  0.15238033 0.37811746 0.79547991 0.65575783]]\n",
      "Max and min values are 0.004043149616989594 0.9976904237006896\n"
     ]
    }
   ],
   "source": [
    "import numpy as np \n",
    "\n",
    "arr= np.random.random((10,10))\n",
    "\n",
    "print(arr)\n",
    "\n",
    "arr_min, arr_max = arr.min(),arr.max()\n",
    "\n",
    "print('Max and min values are',arr_min, arr_max )"
   ]
  },
  {
   "cell_type": "markdown",
   "id": "b6b59503",
   "metadata": {},
   "source": [
    "Find Dot product of two arrays\n",
    "\n",
    "Find Dot product of two arrays\n",
    "\n",
    "f = np.array([1,2])\n",
    "\n",
    "g = np.array([4,5])"
   ]
  },
  {
   "cell_type": "code",
   "execution_count": 22,
   "id": "cb4cc55c",
   "metadata": {
    "ExecuteTime": {
     "end_time": "2021-08-29T08:08:43.896046Z",
     "start_time": "2021-08-29T08:08:43.888062Z"
    }
   },
   "outputs": [
    {
     "name": "stdout",
     "output_type": "stream",
     "text": [
      "14\n"
     ]
    }
   ],
   "source": [
    "import numpy as np\n",
    "\n",
    "f = np.array([1,2])\n",
    "\n",
    "g = np.array([4,5])\n",
    "\n",
    "print(np.dot(f,g))"
   ]
  },
  {
   "cell_type": "markdown",
   "id": "df136dde",
   "metadata": {},
   "source": [
    "Concatenate following arrays along axis=0"
   ]
  },
  {
   "cell_type": "code",
   "execution_count": 24,
   "id": "beba8d53",
   "metadata": {
    "ExecuteTime": {
     "end_time": "2021-08-29T08:10:49.460956Z",
     "start_time": "2021-08-29T08:10:49.438501Z"
    },
    "scrolled": true
   },
   "outputs": [
    {
     "data": {
      "text/plain": [
       "array([[1, 2],\n",
       "       [3, 4],\n",
       "       [5, 6]])"
      ]
     },
     "execution_count": 24,
     "metadata": {},
     "output_type": "execute_result"
    }
   ],
   "source": [
    "\n",
    "import numpy as np\n",
    "\n",
    "x=np.array([[1,2],[3,4]])\n",
    "\n",
    "y=np.array([[5,6]])\n",
    "\n",
    "np.concatenate((x,y),axis=0)"
   ]
  },
  {
   "cell_type": "markdown",
   "id": "c479a725",
   "metadata": {},
   "source": [
    "How to get the common items between two python numpy arrays?\n"
   ]
  },
  {
   "cell_type": "code",
   "execution_count": 25,
   "id": "0168cb4a",
   "metadata": {
    "ExecuteTime": {
     "end_time": "2021-08-29T08:12:22.498216Z",
     "start_time": "2021-08-29T08:12:22.479604Z"
    }
   },
   "outputs": [
    {
     "data": {
      "text/plain": [
       "array([2, 4])"
      ]
     },
     "execution_count": 25,
     "metadata": {},
     "output_type": "execute_result"
    }
   ],
   "source": [
    "import numpy as np\n",
    "\n",
    "\n",
    "a = np.array([1,2,3,2,3,4,3,4,5,6])\n",
    "b = np.array([7,2,10,2,7,4,9,4,9,8])\n",
    "\n",
    "np.intersect1d(a,b)"
   ]
  },
  {
   "cell_type": "markdown",
   "id": "1ca157af",
   "metadata": {},
   "source": [
    "Sort the numpy array:\n",
    "\n",
    "arr = np.array([10,5,8,4,7,2,3,1])"
   ]
  },
  {
   "cell_type": "code",
   "execution_count": 35,
   "id": "ef4cb893",
   "metadata": {
    "ExecuteTime": {
     "end_time": "2021-08-29T08:15:06.085228Z",
     "start_time": "2021-08-29T08:15:06.071162Z"
    }
   },
   "outputs": [
    {
     "name": "stdout",
     "output_type": "stream",
     "text": [
      "[ 1  2  3  4  5  7  8 10]\n"
     ]
    }
   ],
   "source": [
    "import numpy as np\n",
    "\n",
    "arr = np.array([10,5,8,4,7,2,3,1])\n",
    "\n",
    "print(np.sort(arr))"
   ]
  },
  {
   "cell_type": "code",
   "execution_count": null,
   "id": "622c11fb",
   "metadata": {},
   "outputs": [],
   "source": []
  },
  {
   "cell_type": "code",
   "execution_count": null,
   "id": "95430178",
   "metadata": {},
   "outputs": [],
   "source": []
  },
  {
   "cell_type": "code",
   "execution_count": null,
   "id": "195cb084",
   "metadata": {},
   "outputs": [],
   "source": []
  }
 ],
 "metadata": {
  "kernelspec": {
   "display_name": "Python 3",
   "language": "python",
   "name": "python3"
  },
  "language_info": {
   "codemirror_mode": {
    "name": "ipython",
    "version": 3
   },
   "file_extension": ".py",
   "mimetype": "text/x-python",
   "name": "python",
   "nbconvert_exporter": "python",
   "pygments_lexer": "ipython3",
   "version": "3.8.8"
  }
 },
 "nbformat": 4,
 "nbformat_minor": 5
}

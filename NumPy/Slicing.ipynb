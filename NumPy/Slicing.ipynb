{
 "cells": [
  {
   "cell_type": "markdown",
   "id": "48bacafc",
   "metadata": {},
   "source": [
    "# Slicing arraays"
   ]
  },
  {
   "cell_type": "code",
   "execution_count": null,
   "id": "f7dd2204",
   "metadata": {},
   "outputs": [],
   "source": [
    "Slicing in python means taking elements from one given index to another given index.\n",
    "\n",
    "We pass slice instead of index like this: [start:end].\n",
    "\n",
    "We can also define the step, like this: [start:end:step].\n",
    "\n",
    "If we don't pass start its considered 0\n",
    "\n",
    "If we don't pass end its considered length of array in that dimension\n",
    "\n",
    "If we don't pass step its considered 1"
   ]
  },
  {
   "cell_type": "code",
   "execution_count": 2,
   "id": "d4cf7659",
   "metadata": {
    "ExecuteTime": {
     "end_time": "2021-07-20T08:01:03.056892Z",
     "start_time": "2021-07-20T08:01:03.049086Z"
    },
    "scrolled": true
   },
   "outputs": [
    {
     "name": "stdout",
     "output_type": "stream",
     "text": [
      "[2 3 4]\n",
      "[4 5 6 7 8 9]\n",
      "[0 1 2 3]\n"
     ]
    }
   ],
   "source": [
    "import numpy as np\n",
    "\n",
    "arr = np.array([0,1,2,3,4,5,6,7,8,9])\n",
    "\n",
    "\n",
    "print(arr[2:5])\n",
    "\n",
    "#Slice elements from index 4 to the end of the array:\n",
    "print(arr[4:])\n",
    "\n",
    "# Slice elements from the beginning to index 4 (not included):\n",
    "print(arr[:4])\n",
    "\n"
   ]
  },
  {
   "cell_type": "code",
   "execution_count": null,
   "id": "557915d4",
   "metadata": {},
   "outputs": [],
   "source": []
  },
  {
   "cell_type": "markdown",
   "id": "ba770de3",
   "metadata": {},
   "source": [
    "# Negative Slicing and Step"
   ]
  },
  {
   "cell_type": "code",
   "execution_count": 5,
   "id": "a17b6e85",
   "metadata": {
    "ExecuteTime": {
     "end_time": "2021-07-20T08:03:50.811886Z",
     "start_time": "2021-07-20T08:03:50.796740Z"
    }
   },
   "outputs": [
    {
     "name": "stdout",
     "output_type": "stream",
     "text": [
      "[5 6 7 8]\n",
      "[1 3]\n",
      "[0 2 4 6 8]\n"
     ]
    }
   ],
   "source": [
    "# Slice from the index 3 from the end to index 1 from the end:\n",
    "\n",
    "\n",
    "import numpy as np\n",
    "\n",
    "arr = np.array([0,1,2,3,4,5,6,7,8,9])\n",
    "\n",
    "\n",
    "print(arr[-5:-1])\n",
    "\n",
    "\n",
    "\n",
    "# Use the step value to determine the step of the slicing:\n",
    "# Return every other element from index 1 to index 5:\n",
    "print(arr[1:5:2])\n",
    "\n",
    "# Return every other element from the entire array:\n",
    "print(arr[::2])\n"
   ]
  },
  {
   "cell_type": "markdown",
   "id": "cea654c5",
   "metadata": {},
   "source": [
    "# Slicing 2-D Arrays"
   ]
  },
  {
   "cell_type": "code",
   "execution_count": 4,
   "id": "4d48e3f3",
   "metadata": {
    "ExecuteTime": {
     "end_time": "2021-08-24T19:41:52.724776Z",
     "start_time": "2021-08-24T19:41:52.612755Z"
    }
   },
   "outputs": [
    {
     "name": "stdout",
     "output_type": "stream",
     "text": [
      "[[ 1  2  3  4  5]\n",
      " [ 6  7  8  9 10]]\n",
      "\n",
      "\n",
      "[7 8 9]\n",
      "\n",
      "\n",
      "[3 8]\n",
      "\n",
      "\n",
      "[[2 3 4]\n",
      " [7 8 9]]\n"
     ]
    }
   ],
   "source": [
    "#  slice elements from index 1 to index 4 (not included):\n",
    "\n",
    "import numpy as np\n",
    "\n",
    "arr = np.array([[1, 2, 3, 4, 5], [6, 7, 8, 9, 10]])\n",
    "\n",
    "print(arr)\n",
    "print('\\n')\n",
    "\n",
    "# here this slicing insside 1st column and column raw values from  1-4.\n",
    "print(arr[1, 1:4])\n",
    "\n",
    "print('\\n')\n",
    "\n",
    "# here values from 2nd raw and colum values from 0:2\n",
    "print(arr[0:2, 2])\n",
    "\n",
    "print('\\n')\n",
    "# here filter raw values from (0:2) and column values from (1:4)\n",
    "print(arr[0:2, 1:4])"
   ]
  },
  {
   "cell_type": "code",
   "execution_count": null,
   "id": "bc9075dc",
   "metadata": {},
   "outputs": [],
   "source": []
  }
 ],
 "metadata": {
  "kernelspec": {
   "display_name": "Python 3",
   "language": "python",
   "name": "python3"
  },
  "language_info": {
   "codemirror_mode": {
    "name": "ipython",
    "version": 3
   },
   "file_extension": ".py",
   "mimetype": "text/x-python",
   "name": "python",
   "nbconvert_exporter": "python",
   "pygments_lexer": "ipython3",
   "version": "3.9.5"
  }
 },
 "nbformat": 4,
 "nbformat_minor": 5
}

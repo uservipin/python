{
 "cells": [
  {
   "cell_type": "markdown",
   "id": "bcf9c2ad",
   "metadata": {},
   "source": [
    "# The Difference Between Copy and View\n"
   ]
  },
  {
   "cell_type": "code",
   "execution_count": null,
   "id": "139bdc35",
   "metadata": {},
   "outputs": [],
   "source": [
    "The main difference between a copy and a view of an array is that the copy is a new array, and \n",
    "the view is just a view of the original array.\n",
    "\n",
    "The copy owns the data and any changes made to the copy will not affect original array, and\n",
    "any changes made to the original array will not affect the copy.\n",
    "\n",
    "The view does not own the data and any changes made to the view will affect the original array, and\n",
    "any changes made to the original array will affect the view."
   ]
  },
  {
   "cell_type": "code",
   "execution_count": 1,
   "id": "d6f0692a",
   "metadata": {
    "ExecuteTime": {
     "end_time": "2021-07-20T16:46:20.492800Z",
     "start_time": "2021-07-20T16:46:20.248771Z"
    }
   },
   "outputs": [
    {
     "name": "stdout",
     "output_type": "stream",
     "text": [
      "[42  2  3  4  5]\n",
      "[1 2 3 4 5]\n"
     ]
    }
   ],
   "source": [
    "import numpy as np\n",
    "\n",
    "arr = np.array([1, 2, 3, 4, 5])\n",
    "x = arr.copy()\n",
    "arr[0] = 42\n",
    "\n",
    "print(arr)\n",
    "print(x)"
   ]
  },
  {
   "cell_type": "code",
   "execution_count": 2,
   "id": "f26a7648",
   "metadata": {
    "ExecuteTime": {
     "end_time": "2021-07-20T16:46:52.657211Z",
     "start_time": "2021-07-20T16:46:52.635214Z"
    }
   },
   "outputs": [
    {
     "name": "stdout",
     "output_type": "stream",
     "text": [
      "[42  2  3  4  5]\n",
      "[42  2  3  4  5]\n"
     ]
    }
   ],
   "source": [
    "# The view SHOULD be affected by the changes made to the original array.\n",
    "\n",
    "import numpy as np\n",
    "\n",
    "arr = np.array([1, 2, 3, 4, 5])\n",
    "x = arr.view()\n",
    "arr[0] = 42\n",
    "\n",
    "print(arr)\n",
    "print(x)"
   ]
  },
  {
   "cell_type": "markdown",
   "id": "f1e71b09",
   "metadata": {},
   "source": [
    "# Check if Array Owns it's Data\n"
   ]
  },
  {
   "cell_type": "code",
   "execution_count": null,
   "id": "8c243cf8",
   "metadata": {},
   "outputs": [],
   "source": [
    "Every NumPy array has the attribute base that returns None if the array owns the data.\n",
    "\n",
    "Otherwise, the base  attribute refers to the original object."
   ]
  },
  {
   "cell_type": "code",
   "execution_count": 3,
   "id": "eac17d70",
   "metadata": {
    "ExecuteTime": {
     "end_time": "2021-07-20T16:48:55.283299Z",
     "start_time": "2021-07-20T16:48:55.270668Z"
    }
   },
   "outputs": [
    {
     "name": "stdout",
     "output_type": "stream",
     "text": [
      "None\n",
      "[1 2 3 4 5]\n"
     ]
    }
   ],
   "source": [
    "import numpy as np\n",
    "\n",
    "arr = np.array([1, 2, 3, 4, 5])\n",
    "\n",
    "x = arr.copy()\n",
    "y = arr.view()\n",
    "\n",
    "print(x.base)\n",
    "print(y.base)"
   ]
  },
  {
   "cell_type": "markdown",
   "id": "d196a459",
   "metadata": {},
   "source": [
    "# Get the Shape of an Array\n"
   ]
  },
  {
   "cell_type": "code",
   "execution_count": null,
   "id": "13a3006e",
   "metadata": {},
   "outputs": [],
   "source": [
    "NumPy arrays have an attribute called shape that returns a tuple with each index having the number of corresponding elements"
   ]
  },
  {
   "cell_type": "code",
   "execution_count": 7,
   "id": "a8bee48e",
   "metadata": {
    "ExecuteTime": {
     "end_time": "2021-07-20T16:57:55.270483Z",
     "start_time": "2021-07-20T16:57:55.254842Z"
    },
    "scrolled": true
   },
   "outputs": [
    {
     "name": "stdout",
     "output_type": "stream",
     "text": [
      "(2, 4)\n",
      "(4,)\n"
     ]
    }
   ],
   "source": [
    "import numpy as np\n",
    "\n",
    "arr= np.array([[1,2,3,5],[23,334,6,7]])\n",
    "arr_1= np.array([1,2,3,5])\n",
    "print(arr.shape)\n",
    "print(arr_1.shape)"
   ]
  },
  {
   "cell_type": "code",
   "execution_count": 8,
   "id": "00ff2bc3",
   "metadata": {
    "ExecuteTime": {
     "end_time": "2021-07-20T16:58:28.874467Z",
     "start_time": "2021-07-20T16:58:28.858892Z"
    }
   },
   "outputs": [
    {
     "name": "stdout",
     "output_type": "stream",
     "text": [
      "[[[[[1 2 3 4]]]]]\n",
      "shape of array : (1, 1, 1, 1, 4)\n"
     ]
    }
   ],
   "source": [
    "import numpy as np\n",
    "\n",
    "arr = np.array([1, 2, 3, 4], ndmin=5)\n",
    "\n",
    "print(arr)\n",
    "print('shape of array :', arr.shape)"
   ]
  },
  {
   "cell_type": "markdown",
   "id": "f51717d3",
   "metadata": {},
   "source": [
    "# NumPy Array Reshaping"
   ]
  },
  {
   "cell_type": "code",
   "execution_count": null,
   "id": "f079e7e6",
   "metadata": {},
   "outputs": [],
   "source": [
    "Reshaping means changing the shape of an array.\n",
    "\n",
    "The shape of an array is the number of elements in each dimension.\n",
    "\n",
    "By reshaping we can add or remove dimensions or change number of elements in each dimension."
   ]
  },
  {
   "cell_type": "markdown",
   "id": "ed82415c",
   "metadata": {},
   "source": [
    "## Reshape From 1-D to 2-D\n"
   ]
  },
  {
   "cell_type": "code",
   "execution_count": 11,
   "id": "ff85767d",
   "metadata": {
    "ExecuteTime": {
     "end_time": "2021-07-20T17:38:05.177198Z",
     "start_time": "2021-07-20T17:38:05.161803Z"
    },
    "scrolled": true
   },
   "outputs": [
    {
     "name": "stdout",
     "output_type": "stream",
     "text": [
      "[[ 1  2  3  4]\n",
      " [ 5  6  7  8]\n",
      " [ 9 10 11 12]]\n",
      "[ 1  2  3  4  5  6  7  8  9 10 11 12]\n"
     ]
    }
   ],
   "source": [
    "import numpy as np \n",
    "arr = np.array([1,2,3,4,5,6,7,8,9,10,11,12])\n",
    "\n",
    "# here 3 represent no. of rows, and 4 reprensent no. of column\n",
    "\n",
    "reshape_arr= arr.reshape(3,4)\n",
    "\n",
    "reshape_arr_base= arr.reshape(3,4).base\n",
    "print(reshape_arr)\n",
    "print(reshape_arr_base)"
   ]
  },
  {
   "cell_type": "markdown",
   "id": "516fd8f9",
   "metadata": {},
   "source": [
    "## Reshape From 1-D to 3-D\n"
   ]
  },
  {
   "cell_type": "code",
   "execution_count": 10,
   "id": "999d5305",
   "metadata": {
    "ExecuteTime": {
     "end_time": "2021-07-20T17:28:32.358833Z",
     "start_time": "2021-07-20T17:28:32.342858Z"
    },
    "scrolled": false
   },
   "outputs": [
    {
     "name": "stdout",
     "output_type": "stream",
     "text": [
      "[[[ 1  2]\n",
      "  [ 3  4]]\n",
      "\n",
      " [[ 5  6]\n",
      "  [ 7  8]]\n",
      "\n",
      " [[ 9 10]\n",
      "  [11 12]]]\n"
     ]
    }
   ],
   "source": [
    "import numpy as np \n",
    "arr = np.array([1,2,3,4,5,6,7,8,9,10,11,12])\n",
    "\n",
    "reshape_arr= arr.reshape(3,2,2)\n",
    "print(reshape_arr)"
   ]
  },
  {
   "cell_type": "code",
   "execution_count": null,
   "id": "b20d01cf",
   "metadata": {},
   "outputs": [],
   "source": []
  },
  {
   "cell_type": "code",
   "execution_count": null,
   "id": "5049bda4",
   "metadata": {},
   "outputs": [],
   "source": [
    "Try converting 1D array with 8 elements to a 2D array with 3 elements in each dimension\n",
    "(will raise an error):"
   ]
  },
  {
   "cell_type": "code",
   "execution_count": null,
   "id": "491442fb",
   "metadata": {},
   "outputs": [],
   "source": []
  },
  {
   "cell_type": "markdown",
   "id": "7f2508e0",
   "metadata": {},
   "source": [
    "# Unknown Dimension"
   ]
  },
  {
   "cell_type": "code",
   "execution_count": null,
   "id": "60effd01",
   "metadata": {},
   "outputs": [],
   "source": [
    "Meaning that you do not have to specify an exact number for one of the dimensions in the reshape method.\n",
    "\n",
    "Pass -1 as the value, and NumPy will calculate this number for you."
   ]
  },
  {
   "cell_type": "code",
   "execution_count": 13,
   "id": "fd4a0bee",
   "metadata": {
    "ExecuteTime": {
     "end_time": "2021-07-20T17:46:15.590187Z",
     "start_time": "2021-07-20T17:46:15.566263Z"
    }
   },
   "outputs": [
    {
     "name": "stdout",
     "output_type": "stream",
     "text": [
      "[[[1 2]\n",
      "  [3 4]]\n",
      "\n",
      " [[5 6]\n",
      "  [7 8]]]\n"
     ]
    }
   ],
   "source": [
    "import numpy as np \n",
    "\n",
    "arr = np.array([1,2,3,4,5,6,7,8])\n",
    "reshape_arr= arr.reshape(2,2,-1)\n",
    "\n",
    "# Convert 1D array with 8 elements to 3D array with 2x2 elements:\n",
    "\n",
    "print(reshape_arr)"
   ]
  },
  {
   "cell_type": "code",
   "execution_count": 14,
   "id": "e353b482",
   "metadata": {
    "ExecuteTime": {
     "end_time": "2021-07-20T17:47:12.590284Z",
     "start_time": "2021-07-20T17:47:12.575218Z"
    },
    "scrolled": true
   },
   "outputs": [
    {
     "name": "stdout",
     "output_type": "stream",
     "text": [
      "[1 2 3 4 5 6]\n"
     ]
    }
   ],
   "source": [
    "import numpy as np\n",
    "\n",
    "arr = np.array([[1, 2, 3], [4, 5, 6]])\n",
    "\n",
    "newarr = arr.reshape(-1)\n",
    "\n",
    "print(newarr)"
   ]
  },
  {
   "cell_type": "code",
   "execution_count": null,
   "id": "4d849079",
   "metadata": {},
   "outputs": [],
   "source": [
    "Note: There are a lot of functions for changing the shapes of arrays in numpy flatten,\n",
    "    ravel and also for rearranging the elements rot90, flip, fliplr, flipud etc. \n",
    "    These fall under Intermediate to Advanced section of numpy."
   ]
  }
 ],
 "metadata": {
  "kernelspec": {
   "display_name": "Python 3",
   "language": "python",
   "name": "python3"
  },
  "language_info": {
   "codemirror_mode": {
    "name": "ipython",
    "version": 3
   },
   "file_extension": ".py",
   "mimetype": "text/x-python",
   "name": "python",
   "nbconvert_exporter": "python",
   "pygments_lexer": "ipython3",
   "version": "3.9.5"
  }
 },
 "nbformat": 4,
 "nbformat_minor": 5
}

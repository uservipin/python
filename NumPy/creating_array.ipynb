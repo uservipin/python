{
 "cells": [
  {
   "cell_type": "markdown",
   "id": "917b4a23",
   "metadata": {},
   "source": [
    "# Creating arrays"
   ]
  },
  {
   "cell_type": "code",
   "execution_count": 10,
   "id": "6ba2ecb7",
   "metadata": {
    "ExecuteTime": {
     "end_time": "2021-08-24T18:42:36.728706Z",
     "start_time": "2021-08-24T18:42:36.710702Z"
    }
   },
   "outputs": [],
   "source": [
    "import numpy as np\n",
    "\n",
    "# dir(np)"
   ]
  },
  {
   "cell_type": "code",
   "execution_count": 7,
   "id": "d460bdc2",
   "metadata": {
    "ExecuteTime": {
     "end_time": "2021-08-24T18:41:44.596047Z",
     "start_time": "2021-08-24T18:41:44.580045Z"
    }
   },
   "outputs": [],
   "source": [
    "import numpy as np\n",
    "\n",
    "# help(np)"
   ]
  },
  {
   "cell_type": "code",
   "execution_count": 3,
   "id": "c63643c7",
   "metadata": {
    "ExecuteTime": {
     "end_time": "2021-07-20T06:34:35.241425Z",
     "start_time": "2021-07-20T06:34:35.228899Z"
    }
   },
   "outputs": [
    {
     "name": "stdout",
     "output_type": "stream",
     "text": [
      "[1 3 4]\n"
     ]
    }
   ],
   "source": [
    "import numpy as np\n",
    "\n",
    "arr=np.array([1,3,4])\n",
    "print(arr)"
   ]
  },
  {
   "cell_type": "code",
   "execution_count": null,
   "id": "7e5845c4",
   "metadata": {},
   "outputs": [],
   "source": [
    "# dimensons in array\n",
    "# Dimension in array is one level of array debth (nested arrays)\n",
    "# Nested array: are arrays that have arrays as their elements"
   ]
  },
  {
   "cell_type": "code",
   "execution_count": 4,
   "id": "3e572386",
   "metadata": {
    "ExecuteTime": {
     "end_time": "2021-07-20T06:40:14.703779Z",
     "start_time": "2021-07-20T06:40:14.690256Z"
    }
   },
   "outputs": [
    {
     "name": "stdout",
     "output_type": "stream",
     "text": [
      "33\n"
     ]
    }
   ],
   "source": [
    "# 0-D Arrays\n",
    "# 0-D arrays, or Scalers, are the elemets in an array. Each values in an array is a 0-D array\n",
    "\n",
    "import numpy as np\n",
    "\n",
    "arr = np.array(33)\n",
    "\n",
    "print(arr)"
   ]
  },
  {
   "cell_type": "code",
   "execution_count": null,
   "id": "e917e0e4",
   "metadata": {},
   "outputs": [],
   "source": [
    "1-D Arrays\n",
    "An array that has 0-D arrays as its elements is called uni-dimensional or 1-D array.\n",
    "These are the most common and basic arrays."
   ]
  },
  {
   "cell_type": "code",
   "execution_count": 9,
   "id": "de2d6438",
   "metadata": {
    "ExecuteTime": {
     "end_time": "2021-07-20T06:41:20.675894Z",
     "start_time": "2021-07-20T06:41:20.658780Z"
    }
   },
   "outputs": [
    {
     "name": "stdout",
     "output_type": "stream",
     "text": [
      "[1 2 3 4 5 6]\n"
     ]
    }
   ],
   "source": [
    "import numpy as np\n",
    "arr = np.array([1,2,3,4,5,6])\n",
    "print(arr)"
   ]
  },
  {
   "cell_type": "code",
   "execution_count": null,
   "id": "eda30d2f",
   "metadata": {},
   "outputs": [],
   "source": [
    "2-D Arrays\n",
    "An array that has 1-D arrays as its elements is called a 2-D array.\n",
    "\n",
    "These are often used to represent matrix or 2nd order tensors.\n",
    "\n",
    "NumPy has a whole sub module dedicated towards matrix operations called numpy.mat"
   ]
  },
  {
   "cell_type": "code",
   "execution_count": 10,
   "id": "f9238c0b",
   "metadata": {
    "ExecuteTime": {
     "end_time": "2021-07-20T06:58:04.848139Z",
     "start_time": "2021-07-20T06:58:04.844144Z"
    }
   },
   "outputs": [
    {
     "name": "stdout",
     "output_type": "stream",
     "text": [
      "[[1 2 3 4]\n",
      " [5 6 7 8]]\n"
     ]
    }
   ],
   "source": [
    "import numpy as np\n",
    "\n",
    "arr = np.array([[1,2,3,4],[5,6,7,8]])\n",
    "\n",
    "print(arr)"
   ]
  },
  {
   "cell_type": "code",
   "execution_count": null,
   "id": "da831b4f",
   "metadata": {},
   "outputs": [],
   "source": [
    "3-D arrays\n",
    "\n",
    "An array that has 2-D arrays (matrices) as its elements is called 3-D array.\n",
    "\n",
    "These are often used to represent a 3rd order tensor.\n"
   ]
  },
  {
   "cell_type": "code",
   "execution_count": 11,
   "id": "54df0b70",
   "metadata": {
    "ExecuteTime": {
     "end_time": "2021-07-20T07:00:25.404639Z",
     "start_time": "2021-07-20T07:00:25.391043Z"
    },
    "scrolled": true
   },
   "outputs": [
    {
     "name": "stdout",
     "output_type": "stream",
     "text": [
      "[[[ 1  2  3]\n",
      "  [ 4  5  6]\n",
      "  [ 7  8  9]]\n",
      "\n",
      " [[10 11 12]\n",
      "  [13 14 15]\n",
      "  [16 17 18]]]\n"
     ]
    }
   ],
   "source": [
    "import numpy as np\n",
    "\n",
    "arr = np.array([[[1,2,3],[4,5,6],[7,8,9]],[[10,11,12],[13,14,15],[16,17,18]]])\n",
    "\n",
    "print(arr)"
   ]
  },
  {
   "cell_type": "markdown",
   "id": "d0f1d89b",
   "metadata": {},
   "source": [
    "## Check Number of Dimensions?"
   ]
  },
  {
   "cell_type": "code",
   "execution_count": 12,
   "id": "f5c3bbbc",
   "metadata": {
    "ExecuteTime": {
     "end_time": "2021-07-20T07:02:27.534597Z",
     "start_time": "2021-07-20T07:02:27.516081Z"
    },
    "scrolled": true
   },
   "outputs": [
    {
     "name": "stdout",
     "output_type": "stream",
     "text": [
      "0\n",
      "1\n",
      "2\n",
      "3\n"
     ]
    }
   ],
   "source": [
    "# NumPy Arrays provides the ndim attribute that returns an integer that tells us how many dimensions the array have.\n",
    "\n",
    "import numpy as np\n",
    "\n",
    "a = np.array(42)\n",
    "b = np.array([1, 2, 3, 4, 5])\n",
    "c = np.array([[1, 2, 3], [4, 5, 6]])\n",
    "d = np.array([[[1, 2, 3], [4, 5, 6]], [[1, 2, 3], [4, 5, 6]]])\n",
    "\n",
    "print(a.ndim)\n",
    "print(b.ndim)\n",
    "print(c.ndim)\n",
    "print(d.ndim)\n"
   ]
  },
  {
   "cell_type": "markdown",
   "id": "dace0af5",
   "metadata": {},
   "source": [
    "# check shape of array"
   ]
  },
  {
   "cell_type": "code",
   "execution_count": 4,
   "id": "0408ef03",
   "metadata": {
    "ExecuteTime": {
     "end_time": "2021-08-24T18:38:01.551195Z",
     "start_time": "2021-08-24T18:38:01.543194Z"
    },
    "scrolled": true
   },
   "outputs": [
    {
     "name": "stdout",
     "output_type": "stream",
     "text": [
      "()\n",
      "(5,)\n",
      "(2, 3)\n",
      "(2, 2, 3)\n"
     ]
    }
   ],
   "source": [
    "import numpy as np\n",
    "\n",
    "a = np.array(42)\n",
    "b = np.array([1, 2, 3, 4, 5])\n",
    "c = np.array([[1, 2, 3], [4, 5, 6]])\n",
    "d = np.array([[[1, 2, 3], [4, 5, 6]], [[1, 2, 3], [4, 5, 6]]])\n",
    "\n",
    "print(a.shape)\n",
    "print(b.shape)\n",
    "print(c.shape)\n",
    "print(d.shape)"
   ]
  },
  {
   "cell_type": "markdown",
   "id": "c051ee29",
   "metadata": {},
   "source": [
    "### length of array"
   ]
  },
  {
   "cell_type": "code",
   "execution_count": 18,
   "id": "accf5903",
   "metadata": {
    "ExecuteTime": {
     "end_time": "2021-08-24T18:49:59.960919Z",
     "start_time": "2021-08-24T18:49:59.930918Z"
    }
   },
   "outputs": [
    {
     "name": "stdout",
     "output_type": "stream",
     "text": [
      "5\n",
      "4\n",
      "2\n",
      "[[[1 2 3]\n",
      "  [4 5 6]]\n",
      "\n",
      " [[1 2 3]\n",
      "  [4 5 6]]]\n"
     ]
    }
   ],
   "source": [
    "import numpy as np\n",
    "\n",
    "a = np.array(42)\n",
    "b = np.array([1, 2, 3, 4, 5])\n",
    "c = np.array([[1, 2, 3], [4, 5, 6],[1, 2, 3], [4, 5, 6]])\n",
    "d = np.array([[[1, 2, 3], [4, 5, 6]], [[1, 2, 3], [4, 5, 6]]])\n",
    "\n",
    "\n",
    "# print(len(a))   -- this len(a) gives an error \n",
    "print(len(b))\n",
    "print(len(c))\n",
    "print(len(d))\n",
    "print(d)"
   ]
  },
  {
   "cell_type": "markdown",
   "id": "aac93dd5",
   "metadata": {},
   "source": [
    "### Size of an array and data types"
   ]
  },
  {
   "cell_type": "code",
   "execution_count": 34,
   "id": "59b7e62d",
   "metadata": {
    "ExecuteTime": {
     "end_time": "2021-08-24T19:29:51.430747Z",
     "start_time": "2021-08-24T19:29:51.407414Z"
    }
   },
   "outputs": [
    {
     "name": "stdout",
     "output_type": "stream",
     "text": [
      "1\n",
      "5\n",
      "12\n",
      "12\n",
      "int32\n",
      "float64\n",
      "float64\n"
     ]
    }
   ],
   "source": [
    "import numpy as np\n",
    "\n",
    "a = np.array(42)\n",
    "b = np.array([1, 2, 3, 4, 5],dtype=float)\n",
    "c = np.array([[1, 2, 3], [4, 5, 6],[1, 2, 3], [4, 5, 6]])\n",
    "d = np.array([[[1, 2, 3], [4, 5, 6]], [[1, 2, 3], [4, 5, 6]]])\n",
    "\n",
    "\n",
    "print(a.size)\n",
    "print(b.size)\n",
    "print(c.size)\n",
    "print(d.size)\n",
    "\n",
    "print(a.dtype)\n",
    "print(b.dtype)\n",
    "\n",
    "print(b.dtype.name)\n",
    "\n",
    "\n",
    "\n",
    "\n"
   ]
  }
 ],
 "metadata": {
  "kernelspec": {
   "display_name": "Python 3",
   "language": "python",
   "name": "python3"
  },
  "language_info": {
   "codemirror_mode": {
    "name": "ipython",
    "version": 3
   },
   "file_extension": ".py",
   "mimetype": "text/x-python",
   "name": "python",
   "nbconvert_exporter": "python",
   "pygments_lexer": "ipython3",
   "version": "3.8.8"
  }
 },
 "nbformat": 4,
 "nbformat_minor": 5
}

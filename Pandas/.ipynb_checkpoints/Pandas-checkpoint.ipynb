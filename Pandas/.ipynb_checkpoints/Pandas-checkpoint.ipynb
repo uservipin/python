{
 "cells": [
  {
   "cell_type": "markdown",
   "id": "d49422e4",
   "metadata": {},
   "source": [
    "# Pandas"
   ]
  },
  {
   "cell_type": "markdown",
   "id": "a6c796a0",
   "metadata": {},
   "source": [
    "### Why Pandas\n",
    "\n",
    "Pandas is one of the most powerful data manipulation tools out there but when a data scientist can leverage the power of indexing to his advantage, it makes pandas the best data manipulation tool out there!\n",
    "\n",
    "### DataFrame Basics\n",
    "\n",
    "*Dataframe* is a main object in Pandas. What’s cool about Pandas is that it takes data (like a CSV or JSON file, or a SQL database) and creates a Python object with **rows** and **columns**. It is used to reprsent data with rows and columns (tabular or excel spreadsheet like data). "
   ]
  },
  {
   "cell_type": "markdown",
   "id": "79cc54f1",
   "metadata": {},
   "source": [
    "### 6 Parts of Pandas\n",
    "Importing Data and Reading Data\n",
    "Summarizing Data (Statistics)\n",
    "Manipulating Data / Cleaning Data\n",
    "Selecting Data / Subsetting Data\n",
    "Grouping and Filtering Data\n",
    "Combining Datasets"
   ]
  },
  {
   "cell_type": "code",
   "execution_count": null,
   "id": "dfde41eb",
   "metadata": {},
   "outputs": [],
   "source": []
  },
  {
   "cell_type": "markdown",
   "id": "a7821dbb",
   "metadata": {},
   "source": [
    "# Getting Started"
   ]
  },
  {
   "cell_type": "markdown",
   "id": "8faab9ed",
   "metadata": {},
   "source": [
    "## Import Libraries"
   ]
  },
  {
   "cell_type": "markdown",
   "id": "489b81f5",
   "metadata": {},
   "source": [
    "# Read and write csv file"
   ]
  },
  {
   "cell_type": "markdown",
   "id": "7449dbbc",
   "metadata": {},
   "source": [
    "Pandas: Use for data manipulation and data analysis.\n",
    "Numpy: fundamental package for scientific computing with Python.\n",
    "Matplotlib and Seaborn : For plotting and visualization.\n",
    "Scikit-learn : For the data preprocessing techniques and algorithms."
   ]
  },
  {
   "cell_type": "markdown",
   "id": "a8c599d8",
   "metadata": {},
   "source": [
    "# Pandas Data Structure<br>"
   ]
  },
  {
   "cell_type": "markdown",
   "id": "51903fc3",
   "metadata": {},
   "source": [
    "<li>Series\n",
    "<li>DataFrame"
   ]
  },
  {
   "cell_type": "code",
   "execution_count": null,
   "id": "7ef68c48",
   "metadata": {},
   "outputs": [],
   "source": []
  },
  {
   "cell_type": "markdown",
   "id": "9737a29b",
   "metadata": {},
   "source": [
    "## High Level Data Understanding`"
   ]
  },
  {
   "cell_type": "markdown",
   "id": "eee9bf30",
   "metadata": {},
   "source": [
    "## Functions\n",
    "\n",
    "***\n",
    "These functions are the most common tools used when trying to summarize your data\n",
    "\n",
    "- **df.head(n)** — Returns the first n rows of your DataFrame. Having a blank argument will display the first 5 by default\n",
    "- **df.tail(n)** — Returns the last n rows of your DataFrame. Having a blank argument will display the last 5 by default\n",
    "- **df.shape()** — Displays the number of rows and columns in your DataFrame\n",
    "- **df.describe()** — Dispalys a statistical summary for numerical columns\n",
    "- **df.describe(include=['object'])** —  Displays a statistical summary for all object (string) columns\n",
    "- **df.describe(include='all')**  —  Displays a statistical summary for all columns\n",
    "- **df.mean()** — Returns the mean of all columns\n",
    "- **df.median()** — Returns the median of all columns\n",
    "- **df.std()** — Returns the standard deviation of all columns\n",
    "- **df.max()** — Returns the highest value in each column\n",
    "- **df.min()** — Returns the lowest value in each column\n",
    "- **df.dtypes** - Returns the data types of each colulmn\n"
   ]
  },
  {
   "cell_type": "code",
   "execution_count": null,
   "id": "aa8eb3cf",
   "metadata": {},
   "outputs": [],
   "source": []
  },
  {
   "cell_type": "markdown",
   "id": "c53b0a09",
   "metadata": {},
   "source": [
    "Different types of variables are Categorical, ordinal and numerical.\n",
    "\n",
    "**Categorical features:** These features have categories (Gender, Married, Self_Employed, Credit_History, Loan_Status)\n",
    "\n",
    "**Ordinal features:** Variables in categorical features having some order involved (Dependents, Education, Property_Area)\n",
    "\n",
    "**Numerical features:** These features have numerical values (ApplicantIncome, CoapplicantIncome, LoanAmount, Loan_Amount_Term)"
   ]
  },
  {
   "cell_type": "code",
   "execution_count": null,
   "id": "80b8f3a7",
   "metadata": {},
   "outputs": [],
   "source": []
  },
  {
   "cell_type": "code",
   "execution_count": null,
   "id": "43fbef3a",
   "metadata": {
    "ExecuteTime": {
     "end_time": "2021-09-04T10:40:01.672904Z",
     "start_time": "2021-09-04T10:40:00.722027Z"
    }
   },
   "outputs": [],
   "source": [
    "import pandas as pd\n",
    "\n",
    "df= pd.read_csv('data_01.csv')\n",
    "\n",
    "# test= test.drop('Married',  axis=1,inplace=True)\n",
    "\n",
    "\n",
    "#  drop single column\n",
    "\n",
    "# df = df.drop(columns=['column_nameA', 'column_nameB'])\n",
    "\n",
    "df_1=df.drop(['Maxpulse','Calories'], axis=1)\n",
    "\n",
    "# to delete multiple column\n",
    "\n",
    "print(df)\n",
    "print(df_1)\n",
    "\n",
    "df_1.to_csv('myDataFrame.csv')\n",
    "\n",
    "print(\"this is new file \")\n",
    "df_2= pd.read_csv('myDataFrame.csv')\n",
    "\n",
    "df_2"
   ]
  },
  {
   "cell_type": "markdown",
   "id": "e24bb13f",
   "metadata": {},
   "source": [
    "# Read and write Excel File "
   ]
  },
  {
   "cell_type": "code",
   "execution_count": null,
   "id": "ca7f35c4",
   "metadata": {
    "ExecuteTime": {
     "end_time": "2021-09-01T10:24:58.563508Z",
     "start_time": "2021-09-01T10:24:56.991537Z"
    },
    "scrolled": false
   },
   "outputs": [],
   "source": [
    "import pandas as pd\n",
    "\n",
    "df= pd.read_csv('data_01.csv')\n",
    "\n",
    "\n",
    "df_1=df.drop(['Maxpulse','Calories'], axis=1)\n",
    "\n",
    "# to delete multiple column\n",
    "\n",
    "print(df)\n",
    "print(df_1)\n",
    "\n",
    "\n",
    "print(\"Excel file is generated \")\n",
    "\n",
    "df_1.to_excel('file_02.xlsx')\n",
    "\n",
    "print(\"Print Excel file\")\n",
    "\n",
    "df_03= pd.read_excel('file_02.xlsx')\n",
    "df_03\n",
    "\n"
   ]
  },
  {
   "cell_type": "markdown",
   "id": "9e8f94db",
   "metadata": {},
   "source": [
    "# Get column's Name"
   ]
  },
  {
   "cell_type": "code",
   "execution_count": null,
   "id": "a5719bc0",
   "metadata": {
    "ExecuteTime": {
     "end_time": "2021-09-04T10:40:20.919483Z",
     "start_time": "2021-09-04T10:40:20.906934Z"
    }
   },
   "outputs": [],
   "source": [
    "df.columns"
   ]
  },
  {
   "cell_type": "markdown",
   "id": "62c40d27",
   "metadata": {},
   "source": [
    "## iloc allows to access raws by intiger location"
   ]
  },
  {
   "cell_type": "code",
   "execution_count": null,
   "id": "c42dfdd5",
   "metadata": {
    "ExecuteTime": {
     "end_time": "2021-09-01T10:28:59.279022Z",
     "start_time": "2021-09-01T10:28:59.259996Z"
    },
    "scrolled": true
   },
   "outputs": [],
   "source": [
    "df.iloc[0]\n"
   ]
  },
  {
   "cell_type": "code",
   "execution_count": null,
   "id": "14417d4d",
   "metadata": {
    "run_control": {
     "marked": false
    }
   },
   "outputs": [],
   "source": [
    "pass a list of index to select multiple rows"
   ]
  },
  {
   "cell_type": "code",
   "execution_count": null,
   "id": "09894966",
   "metadata": {
    "ExecuteTime": {
     "end_time": "2021-09-01T10:35:32.443537Z",
     "start_time": "2021-09-01T10:35:32.414132Z"
    },
    "scrolled": false
   },
   "outputs": [],
   "source": [
    "df.iloc[[0,1,2,40,12]]\n",
    "# df.iloc[0:100]"
   ]
  },
  {
   "cell_type": "code",
   "execution_count": null,
   "id": "95c0f604",
   "metadata": {},
   "outputs": [],
   "source": [
    "to filter by index in pandas data frame,(iloc)\n",
    "pass list of argument as list to filter more than 1 row and to filter column pass list \n",
    "of column to filter data \n",
    "\n",
    "Eg.   pd.iloc([Row_Index_01,Row_index_02,Row_index_03],[column_index_1,column_index_2,column_Iindex_3])\n",
    "\n"
   ]
  },
  {
   "cell_type": "code",
   "execution_count": null,
   "id": "a94ae174",
   "metadata": {
    "ExecuteTime": {
     "end_time": "2021-09-01T10:42:10.561074Z",
     "start_time": "2021-09-01T10:42:10.543271Z"
    }
   },
   "outputs": [],
   "source": [
    "# df.iloc[,[1,4]]\n",
    "\n",
    "df[['Calories','Pulse']]"
   ]
  },
  {
   "cell_type": "markdown",
   "id": "aa9aad59",
   "metadata": {},
   "source": [
    "## loc allows to access data by label"
   ]
  },
  {
   "cell_type": "markdown",
   "id": "3e440594",
   "metadata": {
    "ExecuteTime": {
     "end_time": "2021-09-04T10:43:42.585876Z",
     "start_time": "2021-09-04T10:43:42.570866Z"
    }
   },
   "source": [
    "to filter by label in pandas data frame,(loc)\n",
    "pass list of argument as label to filter more than 1 row and to filter column pass list \n",
    "of column to filter data \n",
    "\n",
    "Eg.   pd.loc([Row_label_01,Row_lavel_02,Row_label_03],[column_label_1],[column_label_2],[column_label_3])\n",
    "\n"
   ]
  },
  {
   "cell_type": "code",
   "execution_count": null,
   "id": "b5201131",
   "metadata": {
    "ExecuteTime": {
     "end_time": "2021-09-04T10:44:34.972774Z",
     "start_time": "2021-09-04T10:44:34.955122Z"
    },
    "scrolled": false
   },
   "outputs": [],
   "source": [
    "df"
   ]
  },
  {
   "cell_type": "code",
   "execution_count": null,
   "id": "c9c24556",
   "metadata": {
    "ExecuteTime": {
     "end_time": "2021-08-28T18:13:57.566305Z",
     "start_time": "2021-08-28T18:13:57.548136Z"
    }
   },
   "outputs": [],
   "source": [
    "df.loc[[0,1,2],['Pulse', 'Maxpulse']]"
   ]
  },
  {
   "cell_type": "code",
   "execution_count": null,
   "id": "276db874",
   "metadata": {
    "ExecuteTime": {
     "end_time": "2021-08-28T18:40:36.460649Z",
     "start_time": "2021-08-28T18:40:36.436642Z"
    }
   },
   "outputs": [],
   "source": [
    "df['Pulse'].value_counts"
   ]
  },
  {
   "cell_type": "code",
   "execution_count": null,
   "id": "836bde32",
   "metadata": {
    "ExecuteTime": {
     "end_time": "2021-09-01T10:54:50.072513Z",
     "start_time": "2021-09-01T10:54:50.052496Z"
    },
    "scrolled": true
   },
   "outputs": [],
   "source": [
    "df.loc[1,'Pulse']"
   ]
  },
  {
   "cell_type": "code",
   "execution_count": null,
   "id": "c10e6a29",
   "metadata": {
    "ExecuteTime": {
     "end_time": "2021-08-28T18:46:06.441966Z",
     "start_time": "2021-08-28T18:46:06.414411Z"
    }
   },
   "outputs": [],
   "source": [
    "df.loc[[1,2,3],'Pulse']"
   ]
  },
  {
   "cell_type": "code",
   "execution_count": null,
   "id": "8570dc11",
   "metadata": {
    "ExecuteTime": {
     "end_time": "2021-08-28T19:15:45.875465Z",
     "start_time": "2021-08-28T19:15:45.850910Z"
    },
    "run_control": {
     "marked": false
    }
   },
   "outputs": [],
   "source": [
    "df.loc[1:3,'Duration':'Maxpulse']\n",
    "      "
   ]
  },
  {
   "cell_type": "code",
   "execution_count": null,
   "id": "2b1ed7a1",
   "metadata": {
    "ExecuteTime": {
     "end_time": "2021-08-28T19:00:02.195114Z",
     "start_time": "2021-08-28T19:00:02.170236Z"
    }
   },
   "outputs": [],
   "source": [
    "df.loc[1:3,['Pulse','Duration']]"
   ]
  },
  {
   "cell_type": "markdown",
   "id": "0754ceff",
   "metadata": {},
   "source": [
    "\n",
    "\n",
    "## to string is used to print complet data frame\n"
   ]
  },
  {
   "cell_type": "code",
   "execution_count": null,
   "id": "aee06ab4",
   "metadata": {},
   "outputs": [],
   "source": []
  },
  {
   "cell_type": "code",
   "execution_count": null,
   "id": "e81c6092",
   "metadata": {
    "ExecuteTime": {
     "end_time": "2021-09-04T10:44:50.955566Z",
     "start_time": "2021-09-04T10:44:50.921020Z"
    }
   },
   "outputs": [],
   "source": [
    "import  pandas as pd\n",
    "\n",
    "df= pd.read_csv(\"AAC.csv\")\n",
    "\n",
    "#print(df)\n",
    "# to string is used to print compplet data frame\n",
    "\n",
    "print(df.to_string())"
   ]
  },
  {
   "cell_type": "code",
   "execution_count": null,
   "id": "5fef5a57",
   "metadata": {},
   "outputs": [],
   "source": []
  },
  {
   "cell_type": "markdown",
   "id": "5b680ce3",
   "metadata": {},
   "source": [
    "## Load from jason"
   ]
  },
  {
   "cell_type": "code",
   "execution_count": null,
   "id": "8c5c0b76",
   "metadata": {},
   "outputs": [],
   "source": [
    "import  pandas as pd\n",
    "\n",
    "df = pd.read_json('data.json')\n",
    "print(df)"
   ]
  },
  {
   "cell_type": "code",
   "execution_count": null,
   "id": "8dfd84e1",
   "metadata": {},
   "outputs": [],
   "source": [
    "# show complete data\n",
    "print(df.to_string())"
   ]
  },
  {
   "cell_type": "code",
   "execution_count": null,
   "id": "be731f3f",
   "metadata": {
    "ExecuteTime": {
     "end_time": "2021-09-01T11:34:29.299810Z",
     "start_time": "2021-09-01T11:34:29.282200Z"
    }
   },
   "outputs": [],
   "source": [
    "# if the number of rows is not specified, the head() method will return the top 5 rows.\n",
    "print(df.head())\n"
   ]
  },
  {
   "cell_type": "code",
   "execution_count": null,
   "id": "904e5c34",
   "metadata": {},
   "outputs": [],
   "source": [
    "\n",
    "# Get a quick overview by printing the first 10 rows of the DataFrame:\n",
    "\n",
    "print(df.head(10))"
   ]
  },
  {
   "cell_type": "code",
   "execution_count": null,
   "id": "028dd53b",
   "metadata": {
    "run_control": {
     "marked": true
    }
   },
   "outputs": [],
   "source": [
    "# get data from end of data frame\n",
    "\n",
    "\n",
    "print(df.tail())"
   ]
  },
  {
   "cell_type": "code",
   "execution_count": null,
   "id": "ed5ce81b",
   "metadata": {},
   "outputs": [],
   "source": []
  },
  {
   "cell_type": "markdown",
   "id": "27d50d5a",
   "metadata": {},
   "source": [
    "# Replacing values"
   ]
  },
  {
   "cell_type": "code",
   "execution_count": null,
   "id": "1734d899",
   "metadata": {
    "ExecuteTime": {
     "end_time": "2021-09-01T11:05:02.181303Z",
     "start_time": "2021-09-01T11:05:02.166786Z"
    },
    "scrolled": true
   },
   "outputs": [],
   "source": [
    "import pandas as pd\n",
    "\n",
    "df = pd.read_csv('data.csv')\n",
    "df\n",
    "\n",
    "#In our example, it is most likely a typo, and the value should be\n",
    "# \"45\" instead of \"450\", and we could just insert \"45\" in row 7:\n",
    "#Set \"Duration\" = 45 in row 7:\n",
    "\n",
    "df.loc[7, 'Duration'] = 45\n",
    "\n"
   ]
  },
  {
   "cell_type": "code",
   "execution_count": null,
   "id": "48bafda3",
   "metadata": {},
   "outputs": [],
   "source": [
    "#To replace wrong data for larger data sets you can create some rules,\n",
    "# e.g. set some boundaries for legal values, and replace any values that are outside of the boundaries.\n",
    "\n",
    "# Loop through all values in the \"Duration\" column.\n",
    "# If the value is higher than 120, set it to 120:\n",
    "\n",
    "for x in df.index:\n",
    "  if df.loc[x, \"Duration\"] > 120:\n",
    "    df.loc[x, \"Duration\"] = 120"
   ]
  },
  {
   "cell_type": "code",
   "execution_count": null,
   "id": "41e07d8a",
   "metadata": {
    "ExecuteTime": {
     "end_time": "2021-09-01T11:12:09.659731Z",
     "start_time": "2021-09-01T11:12:09.647729Z"
    }
   },
   "outputs": [],
   "source": [
    "# Removing Rows\n",
    "\n",
    "# This way you do not have to find out what to replace them with, and there is a good chance you do not need them to do your analyses.\n",
    "\n",
    "# Delete rows where \"Duration\" is higher than 120:\n",
    "\n",
    "#---------------------\n",
    "\n",
    "for x in df.index:\n",
    "  if df.loc[x, \"Duration\"] > 120:\n",
    "    df.drop(x, inplace = True)\n",
    "df"
   ]
  },
  {
   "cell_type": "code",
   "execution_count": null,
   "id": "c7720774",
   "metadata": {
    "ExecuteTime": {
     "end_time": "2021-09-01T11:13:41.562300Z",
     "start_time": "2021-09-01T11:13:41.556300Z"
    },
    "scrolled": true
   },
   "outputs": [],
   "source": [
    "# Returns True for every row that is a duplicate, othwerwise False:\n",
    "\n",
    "print(df.duplicated())"
   ]
  },
  {
   "cell_type": "code",
   "execution_count": null,
   "id": "ad54246b",
   "metadata": {
    "ExecuteTime": {
     "end_time": "2021-09-01T11:10:17.546346Z",
     "start_time": "2021-09-01T11:10:17.521323Z"
    },
    "scrolled": true
   },
   "outputs": [],
   "source": [
    "# To remove duplicates, use the drop_duplicates() method\n",
    "\n",
    "# Remember: The (inplace = True) will make sure that the method does NOT return a new\n",
    "# DataFrame, but it will remove all duplicates from the original DataFrame.\n",
    "\n",
    "df.drop_duplicates(inplace = True)\n",
    "df"
   ]
  },
  {
   "cell_type": "markdown",
   "id": "e3a197ff",
   "metadata": {},
   "source": [
    "df.index\n",
    "RangeIndex(start=0, stop=800, step=1)\n",
    "\n"
   ]
  },
  {
   "cell_type": "markdown",
   "id": "ac9e1573",
   "metadata": {},
   "source": [
    "## cleaing the emplty cell"
   ]
  },
  {
   "cell_type": "code",
   "execution_count": null,
   "id": "b47508f1",
   "metadata": {
    "run_control": {
     "marked": true
    }
   },
   "outputs": [],
   "source": [
    "import  pandas as pd\n",
    "\n",
    "df= pd.read_csv(\"data.csv\")\n",
    "\n",
    "#print(df)\n",
    "#print(df.to_string()\n",
    "\n",
    "\n",
    "# Note: By default, the dropna() method returns a new DataFrame, and will not change the original.\n",
    "# Note: Now, the dropna(inplace = True) will NOT return a new DataFrame, but it will remove all rows\n",
    "# containg NULL values from the original DataFrame.\n",
    "\n",
    "new_df= df.dropna()\n",
    "# print(new_df)\n",
    "\n",
    "\n",
    "# Replace Empty Values\n",
    "\n",
    "# This way you do not have to delete entire rows just because of some empty cells.\n",
    "# The fillna() method allows us to replace empty cells with a value:\n",
    "\n",
    "fill_new_data = df.fillna(120,inplace=True)\n",
    "print(fill_new_data)\n",
    "\n",
    "\n",
    "\n",
    "# Replace Only For a Specified Columns\n",
    "#df['calories'].fillna(100, inplace=True)\n",
    "\n",
    "# Replace Using Mean, Median, or Mode\n",
    "x= df['calories'].mean()\n",
    "\n",
    "#Pandas uses the mean() median() and mode() methods to calculate the respective values for a specified column:\n",
    "\n",
    "df['calories'].fillna(x,inplace=True)"
   ]
  },
  {
   "cell_type": "code",
   "execution_count": null,
   "id": "abce3df8",
   "metadata": {},
   "outputs": [],
   "source": []
  },
  {
   "cell_type": "markdown",
   "id": "ca871282",
   "metadata": {},
   "source": [
    "# FILTER "
   ]
  },
  {
   "cell_type": "code",
   "execution_count": null,
   "id": "7847888d",
   "metadata": {},
   "outputs": [],
   "source": []
  },
  {
   "cell_type": "code",
   "execution_count": null,
   "id": "5568759a",
   "metadata": {},
   "outputs": [],
   "source": []
  },
  {
   "cell_type": "markdown",
   "id": "18bc9362",
   "metadata": {},
   "source": [
    "## create data frame "
   ]
  },
  {
   "cell_type": "code",
   "execution_count": null,
   "id": "3c09e682",
   "metadata": {
    "ExecuteTime": {
     "end_time": "2021-08-28T19:53:22.856506Z",
     "start_time": "2021-08-28T19:53:22.826066Z"
    }
   },
   "outputs": [],
   "source": [
    "import pandas as pd\n",
    "\n",
    "dataSet ={\n",
    "    'bike': ['yahama','honda','suzuki'],\n",
    "    'speed': [120,150,180]\n",
    "}\n",
    "\n",
    "bike_data= pd.DataFrame(dataSet)\n",
    "print(bike_data)\n",
    "\n",
    "# locate row  use loc.\n",
    "\n",
    "# get sinngle record\n",
    "\n",
    "print(\"\\n\")\n",
    "print(\"# get single record\")\n",
    "print(bike_data.loc[2])\n",
    "\n",
    "# get multiple record\n",
    "#note use 2 dimensional array\n",
    "\n",
    "print(\"\\n\")\n",
    "print(\"# get multiple record\")\n",
    "print(bike_data.loc[[0,1,2]])\n",
    "\n",
    "\n",
    "# indexing data frame  <Indexing to row numbers>\n",
    "dataSet_1 ={\n",
    "    'bike': ['yahama','honda','suzuki'],\n",
    "    'speed': [120,150,180]\n",
    "}\n",
    " \n",
    "bike_data_1= pd.DataFrame(dataSet_1, index=['alpha','beta','theta'])\n",
    "print(bike_data_1)\n",
    "\n",
    "print(\"\\n\")\n",
    "a = [1, 7, 2]\n",
    "myvar = pd.Series(a)\n",
    "print(myvar)"
   ]
  },
  {
   "cell_type": "code",
   "execution_count": null,
   "id": "61d129e4",
   "metadata": {},
   "outputs": [],
   "source": []
  },
  {
   "cell_type": "markdown",
   "id": "2d82e3d3",
   "metadata": {},
   "source": [
    "# create lable"
   ]
  },
  {
   "cell_type": "code",
   "execution_count": null,
   "id": "0fbfd675",
   "metadata": {
    "scrolled": true
   },
   "outputs": [],
   "source": [
    "import  pandas as pd\n",
    "\n",
    "listA = [10,30,40,49]\n",
    "\n",
    "# with the help of index, provide index for items.\n",
    "series = pd.Series(listA,index=['a','b','c','d'])\n",
    "print(series)\n",
    "\n",
    "\n",
    "# When label created you can access an item by referring to the label.\n",
    "print(series[\"a\"])"
   ]
  },
  {
   "cell_type": "markdown",
   "id": "a8bb42df",
   "metadata": {},
   "source": [
    "## Filter"
   ]
  },
  {
   "cell_type": "code",
   "execution_count": null,
   "id": "9c30a03c",
   "metadata": {
    "ExecuteTime": {
     "end_time": "2021-09-04T10:46:14.566418Z",
     "start_time": "2021-09-04T10:46:14.546612Z"
    },
    "scrolled": false
   },
   "outputs": [],
   "source": [
    "import  pandas as pd\n",
    "df= pd.read_csv(\"data.csv\")\n",
    "df"
   ]
  },
  {
   "cell_type": "markdown",
   "id": "8428f546",
   "metadata": {},
   "source": [
    "# Use ONLY BIT WISE OPERATOR to filter data in df.loc[filter]"
   ]
  },
  {
   "cell_type": "code",
   "execution_count": null,
   "id": "90656e85",
   "metadata": {
    "ExecuteTime": {
     "end_time": "2021-09-04T11:11:15.119403Z",
     "start_time": "2021-09-04T11:11:15.094301Z"
    },
    "run_control": {
     "marked": true
    },
    "scrolled": true
   },
   "outputs": [],
   "source": [
    "filt_1 =(df['Pulse']== 110 ) &  (df['Calories']==409.1) | (df['Duration']== 60)\n",
    "df.loc[filt_1]"
   ]
  },
  {
   "cell_type": "code",
   "execution_count": null,
   "id": "2dfa29bc",
   "metadata": {
    "ExecuteTime": {
     "end_time": "2021-09-04T11:04:16.590072Z",
     "start_time": "2021-09-04T11:04:16.571012Z"
    }
   },
   "outputs": [],
   "source": [
    "df['filt_1'] =(df['Pulse']==110)  &  (df['Calories']==409.1) | (df['Duration']== 60)\n"
   ]
  },
  {
   "cell_type": "code",
   "execution_count": null,
   "id": "975a392b",
   "metadata": {
    "ExecuteTime": {
     "end_time": "2021-09-04T11:04:27.020257Z",
     "start_time": "2021-09-04T11:04:27.005718Z"
    },
    "scrolled": true
   },
   "outputs": [],
   "source": [
    "df['Full_name']= df['First_name'] + ' '+ df['Last_name']"
   ]
  },
  {
   "cell_type": "code",
   "execution_count": null,
   "id": "47a97b80",
   "metadata": {
    "ExecuteTime": {
     "end_time": "2021-09-04T10:55:37.670845Z",
     "start_time": "2021-09-04T10:55:37.664837Z"
    },
    "run_control": {
     "marked": true
    },
    "scrolled": true
   },
   "outputs": [],
   "source": [
    "\n",
    "df.loc[filt_1,'Maxpulse']"
   ]
  },
  {
   "cell_type": "code",
   "execution_count": null,
   "id": "72a12876",
   "metadata": {
    "ExecuteTime": {
     "end_time": "2021-08-28T20:55:52.061465Z",
     "start_time": "2021-08-28T20:55:52.039325Z"
    },
    "scrolled": false
   },
   "outputs": [],
   "source": [
    "# apply multiple condition to filter data.\n",
    "\n",
    "filt = (df['Duration']== 60 ) & (df['Pulse'] ==110)\n",
    "\n",
    "df.loc[filt,'Calories']"
   ]
  },
  {
   "cell_type": "markdown",
   "id": "cd071acd",
   "metadata": {},
   "source": [
    "\n",
    "## Negete the filter "
   ]
  },
  {
   "cell_type": "code",
   "execution_count": null,
   "id": "cc629459",
   "metadata": {
    "ExecuteTime": {
     "end_time": "2021-08-28T20:57:57.623322Z",
     "start_time": "2021-08-28T20:57:57.607312Z"
    }
   },
   "outputs": [],
   "source": [
    "filt = (df['Duration']== 60 ) & (df['Pulse'] ==110)\n",
    "\n",
    "df.loc[-filt,'Calories'] "
   ]
  },
  {
   "cell_type": "code",
   "execution_count": null,
   "id": "150297af",
   "metadata": {},
   "outputs": [],
   "source": []
  },
  {
   "cell_type": "code",
   "execution_count": null,
   "id": "8d54682a",
   "metadata": {},
   "outputs": [],
   "source": []
  },
  {
   "cell_type": "code",
   "execution_count": null,
   "id": "87a71076",
   "metadata": {},
   "outputs": [],
   "source": []
  },
  {
   "cell_type": "markdown",
   "id": "14175112",
   "metadata": {},
   "source": [
    "## data from dict to data frame"
   ]
  },
  {
   "cell_type": "code",
   "execution_count": null,
   "id": "9dcd7b5a",
   "metadata": {
    "ExecuteTime": {
     "end_time": "2021-09-04T09:08:53.114275Z",
     "start_time": "2021-09-04T09:08:50.812611Z"
    },
    "scrolled": false
   },
   "outputs": [],
   "source": [
    "import pandas as pd\n",
    "# Create a simple Pandas Series from a dictionary:\n",
    "\n",
    "dict_series= {'Student_name':\"Stark\",\"stu_class\": 5,'stu_section': 'C'}\n",
    "\n",
    "data_ser= pd.DataFrame(dict_series)\n",
    "\n",
    "data_ser\n",
    "\n",
    "# data_ser.set_index('Student',inplace=True)"
   ]
  },
  {
   "cell_type": "markdown",
   "id": "b3129f3a",
   "metadata": {
    "ExecuteTime": {
     "end_time": "2021-08-28T20:02:05.638821Z",
     "start_time": "2021-08-28T20:02:05.618984Z"
    },
    "run_control": {
     "marked": true
    }
   },
   "source": [
    "If indexinng is done accidently, and want to reset "
   ]
  },
  {
   "cell_type": "code",
   "execution_count": null,
   "id": "3b043bc8",
   "metadata": {
    "ExecuteTime": {
     "end_time": "2021-08-28T20:02:35.295927Z",
     "start_time": "2021-08-28T20:02:35.279320Z"
    }
   },
   "outputs": [],
   "source": [
    "df.reset_index(inplace=True)"
   ]
  },
  {
   "cell_type": "code",
   "execution_count": null,
   "id": "123a20f6",
   "metadata": {},
   "outputs": [],
   "source": []
  },
  {
   "cell_type": "code",
   "execution_count": 3,
   "id": "b343b73f",
   "metadata": {
    "ExecuteTime": {
     "end_time": "2021-09-04T11:29:45.152604Z",
     "start_time": "2021-09-04T11:29:43.067414Z"
    },
    "scrolled": true
   },
   "outputs": [
    {
     "data": {
      "text/html": [
       "<div>\n",
       "<style scoped>\n",
       "    .dataframe tbody tr th:only-of-type {\n",
       "        vertical-align: middle;\n",
       "    }\n",
       "\n",
       "    .dataframe tbody tr th {\n",
       "        vertical-align: top;\n",
       "    }\n",
       "\n",
       "    .dataframe thead th {\n",
       "        text-align: right;\n",
       "    }\n",
       "</style>\n",
       "<table border=\"1\" class=\"dataframe\">\n",
       "  <thead>\n",
       "    <tr style=\"text-align: right;\">\n",
       "      <th></th>\n",
       "      <th>Respondent</th>\n",
       "      <th>MainBranch</th>\n",
       "      <th>Hobbyist</th>\n",
       "      <th>OpenSourcer</th>\n",
       "      <th>OpenSource</th>\n",
       "      <th>Employment</th>\n",
       "      <th>Country</th>\n",
       "      <th>Student</th>\n",
       "      <th>EdLevel</th>\n",
       "      <th>UndergradMajor</th>\n",
       "      <th>EduOther</th>\n",
       "      <th>OrgSize</th>\n",
       "      <th>DevType</th>\n",
       "      <th>YearsCode</th>\n",
       "      <th>Age1stCode</th>\n",
       "      <th>YearsCodePro</th>\n",
       "      <th>CareerSat</th>\n",
       "      <th>JobSat</th>\n",
       "      <th>MgrIdiot</th>\n",
       "      <th>MgrMoney</th>\n",
       "      <th>MgrWant</th>\n",
       "      <th>JobSeek</th>\n",
       "      <th>LastHireDate</th>\n",
       "      <th>LastInt</th>\n",
       "      <th>FizzBuzz</th>\n",
       "      <th>JobFactors</th>\n",
       "      <th>ResumeUpdate</th>\n",
       "      <th>CurrencySymbol</th>\n",
       "      <th>CurrencyDesc</th>\n",
       "      <th>CompTotal</th>\n",
       "      <th>CompFreq</th>\n",
       "      <th>ConvertedComp</th>\n",
       "      <th>WorkWeekHrs</th>\n",
       "      <th>WorkPlan</th>\n",
       "      <th>WorkChallenge</th>\n",
       "      <th>WorkRemote</th>\n",
       "      <th>WorkLoc</th>\n",
       "      <th>ImpSyn</th>\n",
       "      <th>CodeRev</th>\n",
       "      <th>CodeRevHrs</th>\n",
       "      <th>UnitTests</th>\n",
       "      <th>PurchaseHow</th>\n",
       "      <th>PurchaseWhat</th>\n",
       "      <th>LanguageWorkedWith</th>\n",
       "      <th>LanguageDesireNextYear</th>\n",
       "      <th>DatabaseWorkedWith</th>\n",
       "      <th>DatabaseDesireNextYear</th>\n",
       "      <th>PlatformWorkedWith</th>\n",
       "      <th>PlatformDesireNextYear</th>\n",
       "      <th>WebFrameWorkedWith</th>\n",
       "      <th>WebFrameDesireNextYear</th>\n",
       "      <th>MiscTechWorkedWith</th>\n",
       "      <th>MiscTechDesireNextYear</th>\n",
       "      <th>DevEnviron</th>\n",
       "      <th>OpSys</th>\n",
       "      <th>Containers</th>\n",
       "      <th>BlockchainOrg</th>\n",
       "      <th>BlockchainIs</th>\n",
       "      <th>BetterLife</th>\n",
       "      <th>ITperson</th>\n",
       "      <th>OffOn</th>\n",
       "      <th>SocialMedia</th>\n",
       "      <th>Extraversion</th>\n",
       "      <th>ScreenName</th>\n",
       "      <th>SOVisit1st</th>\n",
       "      <th>SOVisitFreq</th>\n",
       "      <th>SOVisitTo</th>\n",
       "      <th>SOFindAnswer</th>\n",
       "      <th>SOTimeSaved</th>\n",
       "      <th>SOHowMuchTime</th>\n",
       "      <th>SOAccount</th>\n",
       "      <th>SOPartFreq</th>\n",
       "      <th>SOJobs</th>\n",
       "      <th>EntTeams</th>\n",
       "      <th>SOComm</th>\n",
       "      <th>WelcomeChange</th>\n",
       "      <th>SONewContent</th>\n",
       "      <th>Age</th>\n",
       "      <th>Gender</th>\n",
       "      <th>Trans</th>\n",
       "      <th>Sexuality</th>\n",
       "      <th>Ethnicity</th>\n",
       "      <th>Dependents</th>\n",
       "      <th>SurveyLength</th>\n",
       "      <th>SurveyEase</th>\n",
       "    </tr>\n",
       "  </thead>\n",
       "  <tbody>\n",
       "    <tr>\n",
       "      <th>0</th>\n",
       "      <td>1</td>\n",
       "      <td>I am a student who is learning to code</td>\n",
       "      <td>Yes</td>\n",
       "      <td>Never</td>\n",
       "      <td>The quality of OSS and closed source software ...</td>\n",
       "      <td>Not employed, and not looking for work</td>\n",
       "      <td>United Kingdom</td>\n",
       "      <td>No</td>\n",
       "      <td>Primary/elementary school</td>\n",
       "      <td>NaN</td>\n",
       "      <td>Taught yourself a new language, framework, or ...</td>\n",
       "      <td>NaN</td>\n",
       "      <td>NaN</td>\n",
       "      <td>4</td>\n",
       "      <td>10</td>\n",
       "      <td>NaN</td>\n",
       "      <td>NaN</td>\n",
       "      <td>NaN</td>\n",
       "      <td>NaN</td>\n",
       "      <td>NaN</td>\n",
       "      <td>NaN</td>\n",
       "      <td>NaN</td>\n",
       "      <td>NaN</td>\n",
       "      <td>NaN</td>\n",
       "      <td>NaN</td>\n",
       "      <td>NaN</td>\n",
       "      <td>NaN</td>\n",
       "      <td>NaN</td>\n",
       "      <td>NaN</td>\n",
       "      <td>NaN</td>\n",
       "      <td>NaN</td>\n",
       "      <td>NaN</td>\n",
       "      <td>NaN</td>\n",
       "      <td>NaN</td>\n",
       "      <td>NaN</td>\n",
       "      <td>NaN</td>\n",
       "      <td>NaN</td>\n",
       "      <td>NaN</td>\n",
       "      <td>NaN</td>\n",
       "      <td>NaN</td>\n",
       "      <td>NaN</td>\n",
       "      <td>NaN</td>\n",
       "      <td>NaN</td>\n",
       "      <td>HTML/CSS;Java;JavaScript;Python</td>\n",
       "      <td>C;C++;C#;Go;HTML/CSS;Java;JavaScript;Python;SQL</td>\n",
       "      <td>SQLite</td>\n",
       "      <td>MySQL</td>\n",
       "      <td>MacOS;Windows</td>\n",
       "      <td>Android;Arduino;Windows</td>\n",
       "      <td>Django;Flask</td>\n",
       "      <td>Flask;jQuery</td>\n",
       "      <td>Node.js</td>\n",
       "      <td>Node.js</td>\n",
       "      <td>IntelliJ;Notepad++;PyCharm</td>\n",
       "      <td>Windows</td>\n",
       "      <td>I do not use containers</td>\n",
       "      <td>NaN</td>\n",
       "      <td>NaN</td>\n",
       "      <td>Yes</td>\n",
       "      <td>Fortunately, someone else has that title</td>\n",
       "      <td>Yes</td>\n",
       "      <td>Twitter</td>\n",
       "      <td>Online</td>\n",
       "      <td>Username</td>\n",
       "      <td>2017</td>\n",
       "      <td>A few times per month or weekly</td>\n",
       "      <td>Find answers to specific questions;Learn how t...</td>\n",
       "      <td>3-5 times per week</td>\n",
       "      <td>Stack Overflow was much faster</td>\n",
       "      <td>31-60 minutes</td>\n",
       "      <td>No</td>\n",
       "      <td>NaN</td>\n",
       "      <td>No, I didn't know that Stack Overflow had a jo...</td>\n",
       "      <td>No, and I don't know what those are</td>\n",
       "      <td>Neutral</td>\n",
       "      <td>Just as welcome now as I felt last year</td>\n",
       "      <td>Tech articles written by other developers;Indu...</td>\n",
       "      <td>14.0</td>\n",
       "      <td>Man</td>\n",
       "      <td>No</td>\n",
       "      <td>Straight / Heterosexual</td>\n",
       "      <td>NaN</td>\n",
       "      <td>No</td>\n",
       "      <td>Appropriate in length</td>\n",
       "      <td>Neither easy nor difficult</td>\n",
       "    </tr>\n",
       "    <tr>\n",
       "      <th>1</th>\n",
       "      <td>2</td>\n",
       "      <td>I am a student who is learning to code</td>\n",
       "      <td>No</td>\n",
       "      <td>Less than once per year</td>\n",
       "      <td>The quality of OSS and closed source software ...</td>\n",
       "      <td>Not employed, but looking for work</td>\n",
       "      <td>Bosnia and Herzegovina</td>\n",
       "      <td>Yes, full-time</td>\n",
       "      <td>Secondary school (e.g. American high school, G...</td>\n",
       "      <td>NaN</td>\n",
       "      <td>Taken an online course in programming or softw...</td>\n",
       "      <td>NaN</td>\n",
       "      <td>Developer, desktop or enterprise applications;...</td>\n",
       "      <td>NaN</td>\n",
       "      <td>17</td>\n",
       "      <td>NaN</td>\n",
       "      <td>NaN</td>\n",
       "      <td>NaN</td>\n",
       "      <td>NaN</td>\n",
       "      <td>NaN</td>\n",
       "      <td>NaN</td>\n",
       "      <td>I am actively looking for a job</td>\n",
       "      <td>I've never had a job</td>\n",
       "      <td>NaN</td>\n",
       "      <td>NaN</td>\n",
       "      <td>Financial performance or funding status of the...</td>\n",
       "      <td>Something else changed (education, award, medi...</td>\n",
       "      <td>NaN</td>\n",
       "      <td>NaN</td>\n",
       "      <td>NaN</td>\n",
       "      <td>NaN</td>\n",
       "      <td>NaN</td>\n",
       "      <td>NaN</td>\n",
       "      <td>NaN</td>\n",
       "      <td>NaN</td>\n",
       "      <td>NaN</td>\n",
       "      <td>NaN</td>\n",
       "      <td>NaN</td>\n",
       "      <td>NaN</td>\n",
       "      <td>NaN</td>\n",
       "      <td>NaN</td>\n",
       "      <td>NaN</td>\n",
       "      <td>NaN</td>\n",
       "      <td>C++;HTML/CSS;Python</td>\n",
       "      <td>C++;HTML/CSS;JavaScript;SQL</td>\n",
       "      <td>NaN</td>\n",
       "      <td>MySQL</td>\n",
       "      <td>Windows</td>\n",
       "      <td>Windows</td>\n",
       "      <td>Django</td>\n",
       "      <td>Django</td>\n",
       "      <td>NaN</td>\n",
       "      <td>NaN</td>\n",
       "      <td>Atom;PyCharm</td>\n",
       "      <td>Windows</td>\n",
       "      <td>I do not use containers</td>\n",
       "      <td>NaN</td>\n",
       "      <td>Useful across many domains and could change ma...</td>\n",
       "      <td>Yes</td>\n",
       "      <td>Yes</td>\n",
       "      <td>Yes</td>\n",
       "      <td>Instagram</td>\n",
       "      <td>Online</td>\n",
       "      <td>Username</td>\n",
       "      <td>2017</td>\n",
       "      <td>Daily or almost daily</td>\n",
       "      <td>Find answers to specific questions;Learn how t...</td>\n",
       "      <td>3-5 times per week</td>\n",
       "      <td>Stack Overflow was much faster</td>\n",
       "      <td>11-30 minutes</td>\n",
       "      <td>Yes</td>\n",
       "      <td>A few times per month or weekly</td>\n",
       "      <td>No, I knew that Stack Overflow had a job board...</td>\n",
       "      <td>No, and I don't know what those are</td>\n",
       "      <td>Yes, somewhat</td>\n",
       "      <td>Just as welcome now as I felt last year</td>\n",
       "      <td>Tech articles written by other developers;Indu...</td>\n",
       "      <td>19.0</td>\n",
       "      <td>Man</td>\n",
       "      <td>No</td>\n",
       "      <td>Straight / Heterosexual</td>\n",
       "      <td>NaN</td>\n",
       "      <td>No</td>\n",
       "      <td>Appropriate in length</td>\n",
       "      <td>Neither easy nor difficult</td>\n",
       "    </tr>\n",
       "    <tr>\n",
       "      <th>2</th>\n",
       "      <td>3</td>\n",
       "      <td>I am not primarily a developer, but I write co...</td>\n",
       "      <td>Yes</td>\n",
       "      <td>Never</td>\n",
       "      <td>The quality of OSS and closed source software ...</td>\n",
       "      <td>Employed full-time</td>\n",
       "      <td>Thailand</td>\n",
       "      <td>No</td>\n",
       "      <td>Bachelor’s degree (BA, BS, B.Eng., etc.)</td>\n",
       "      <td>Web development or web design</td>\n",
       "      <td>Taught yourself a new language, framework, or ...</td>\n",
       "      <td>100 to 499 employees</td>\n",
       "      <td>Designer;Developer, back-end;Developer, front-...</td>\n",
       "      <td>3</td>\n",
       "      <td>22</td>\n",
       "      <td>1</td>\n",
       "      <td>Slightly satisfied</td>\n",
       "      <td>Slightly satisfied</td>\n",
       "      <td>Not at all confident</td>\n",
       "      <td>Not sure</td>\n",
       "      <td>Not sure</td>\n",
       "      <td>I’m not actively looking, but I am open to new...</td>\n",
       "      <td>1-2 years ago</td>\n",
       "      <td>Interview with people in peer roles</td>\n",
       "      <td>No</td>\n",
       "      <td>Languages, frameworks, and other technologies ...</td>\n",
       "      <td>I was preparing for a job search</td>\n",
       "      <td>THB</td>\n",
       "      <td>Thai baht</td>\n",
       "      <td>23000.0</td>\n",
       "      <td>Monthly</td>\n",
       "      <td>8820.0</td>\n",
       "      <td>40.0</td>\n",
       "      <td>There's no schedule or spec; I work on what se...</td>\n",
       "      <td>Distracting work environment;Inadequate access...</td>\n",
       "      <td>Less than once per month / Never</td>\n",
       "      <td>Home</td>\n",
       "      <td>Average</td>\n",
       "      <td>No</td>\n",
       "      <td>NaN</td>\n",
       "      <td>No, but I think we should</td>\n",
       "      <td>Not sure</td>\n",
       "      <td>I have little or no influence</td>\n",
       "      <td>HTML/CSS</td>\n",
       "      <td>Elixir;HTML/CSS</td>\n",
       "      <td>PostgreSQL</td>\n",
       "      <td>PostgreSQL</td>\n",
       "      <td>NaN</td>\n",
       "      <td>NaN</td>\n",
       "      <td>NaN</td>\n",
       "      <td>Other(s):</td>\n",
       "      <td>NaN</td>\n",
       "      <td>NaN</td>\n",
       "      <td>Vim;Visual Studio Code</td>\n",
       "      <td>Linux-based</td>\n",
       "      <td>I do not use containers</td>\n",
       "      <td>NaN</td>\n",
       "      <td>NaN</td>\n",
       "      <td>Yes</td>\n",
       "      <td>Yes</td>\n",
       "      <td>Yes</td>\n",
       "      <td>Reddit</td>\n",
       "      <td>In real life (in person)</td>\n",
       "      <td>Username</td>\n",
       "      <td>2011</td>\n",
       "      <td>A few times per week</td>\n",
       "      <td>Find answers to specific questions;Learn how t...</td>\n",
       "      <td>6-10 times per week</td>\n",
       "      <td>They were about the same</td>\n",
       "      <td>NaN</td>\n",
       "      <td>Yes</td>\n",
       "      <td>Less than once per month or monthly</td>\n",
       "      <td>Yes</td>\n",
       "      <td>No, I've heard of them, but I am not part of a...</td>\n",
       "      <td>Neutral</td>\n",
       "      <td>Just as welcome now as I felt last year</td>\n",
       "      <td>Tech meetups or events in your area;Courses on...</td>\n",
       "      <td>28.0</td>\n",
       "      <td>Man</td>\n",
       "      <td>No</td>\n",
       "      <td>Straight / Heterosexual</td>\n",
       "      <td>NaN</td>\n",
       "      <td>Yes</td>\n",
       "      <td>Appropriate in length</td>\n",
       "      <td>Neither easy nor difficult</td>\n",
       "    </tr>\n",
       "    <tr>\n",
       "      <th>3</th>\n",
       "      <td>4</td>\n",
       "      <td>I am a developer by profession</td>\n",
       "      <td>No</td>\n",
       "      <td>Never</td>\n",
       "      <td>The quality of OSS and closed source software ...</td>\n",
       "      <td>Employed full-time</td>\n",
       "      <td>United States</td>\n",
       "      <td>No</td>\n",
       "      <td>Bachelor’s degree (BA, BS, B.Eng., etc.)</td>\n",
       "      <td>Computer science, computer engineering, or sof...</td>\n",
       "      <td>Taken an online course in programming or softw...</td>\n",
       "      <td>100 to 499 employees</td>\n",
       "      <td>Developer, full-stack</td>\n",
       "      <td>3</td>\n",
       "      <td>16</td>\n",
       "      <td>Less than 1 year</td>\n",
       "      <td>Very satisfied</td>\n",
       "      <td>Slightly satisfied</td>\n",
       "      <td>Very confident</td>\n",
       "      <td>No</td>\n",
       "      <td>Not sure</td>\n",
       "      <td>I am not interested in new job opportunities</td>\n",
       "      <td>Less than a year ago</td>\n",
       "      <td>Write code by hand (e.g., on a whiteboard);Int...</td>\n",
       "      <td>No</td>\n",
       "      <td>Languages, frameworks, and other technologies ...</td>\n",
       "      <td>I was preparing for a job search</td>\n",
       "      <td>USD</td>\n",
       "      <td>United States dollar</td>\n",
       "      <td>61000.0</td>\n",
       "      <td>Yearly</td>\n",
       "      <td>61000.0</td>\n",
       "      <td>80.0</td>\n",
       "      <td>There's no schedule or spec; I work on what se...</td>\n",
       "      <td>NaN</td>\n",
       "      <td>Less than once per month / Never</td>\n",
       "      <td>Home</td>\n",
       "      <td>A little below average</td>\n",
       "      <td>No</td>\n",
       "      <td>NaN</td>\n",
       "      <td>No, but I think we should</td>\n",
       "      <td>Developers typically have the most influence o...</td>\n",
       "      <td>I have little or no influence</td>\n",
       "      <td>C;C++;C#;Python;SQL</td>\n",
       "      <td>C;C#;JavaScript;SQL</td>\n",
       "      <td>MySQL;SQLite</td>\n",
       "      <td>MySQL;SQLite</td>\n",
       "      <td>Linux;Windows</td>\n",
       "      <td>Linux;Windows</td>\n",
       "      <td>NaN</td>\n",
       "      <td>NaN</td>\n",
       "      <td>.NET</td>\n",
       "      <td>.NET</td>\n",
       "      <td>Eclipse;Vim;Visual Studio;Visual Studio Code</td>\n",
       "      <td>Windows</td>\n",
       "      <td>I do not use containers</td>\n",
       "      <td>Not at all</td>\n",
       "      <td>Useful for decentralized currency (i.e., Bitcoin)</td>\n",
       "      <td>Yes</td>\n",
       "      <td>SIGH</td>\n",
       "      <td>Yes</td>\n",
       "      <td>Reddit</td>\n",
       "      <td>In real life (in person)</td>\n",
       "      <td>Username</td>\n",
       "      <td>2014</td>\n",
       "      <td>Daily or almost daily</td>\n",
       "      <td>Find answers to specific questions;Pass the ti...</td>\n",
       "      <td>1-2 times per week</td>\n",
       "      <td>Stack Overflow was much faster</td>\n",
       "      <td>31-60 minutes</td>\n",
       "      <td>Yes</td>\n",
       "      <td>Less than once per month or monthly</td>\n",
       "      <td>Yes</td>\n",
       "      <td>No, and I don't know what those are</td>\n",
       "      <td>No, not really</td>\n",
       "      <td>Just as welcome now as I felt last year</td>\n",
       "      <td>Tech articles written by other developers;Indu...</td>\n",
       "      <td>22.0</td>\n",
       "      <td>Man</td>\n",
       "      <td>No</td>\n",
       "      <td>Straight / Heterosexual</td>\n",
       "      <td>White or of European descent</td>\n",
       "      <td>No</td>\n",
       "      <td>Appropriate in length</td>\n",
       "      <td>Easy</td>\n",
       "    </tr>\n",
       "    <tr>\n",
       "      <th>4</th>\n",
       "      <td>5</td>\n",
       "      <td>I am a developer by profession</td>\n",
       "      <td>Yes</td>\n",
       "      <td>Once a month or more often</td>\n",
       "      <td>OSS is, on average, of HIGHER quality than pro...</td>\n",
       "      <td>Employed full-time</td>\n",
       "      <td>Ukraine</td>\n",
       "      <td>No</td>\n",
       "      <td>Bachelor’s degree (BA, BS, B.Eng., etc.)</td>\n",
       "      <td>Computer science, computer engineering, or sof...</td>\n",
       "      <td>Taken an online course in programming or softw...</td>\n",
       "      <td>10,000 or more employees</td>\n",
       "      <td>Academic researcher;Developer, desktop or ente...</td>\n",
       "      <td>16</td>\n",
       "      <td>14</td>\n",
       "      <td>9</td>\n",
       "      <td>Very dissatisfied</td>\n",
       "      <td>Slightly dissatisfied</td>\n",
       "      <td>Somewhat confident</td>\n",
       "      <td>Yes</td>\n",
       "      <td>No</td>\n",
       "      <td>I am not interested in new job opportunities</td>\n",
       "      <td>Less than a year ago</td>\n",
       "      <td>Write any code;Write code by hand (e.g., on a ...</td>\n",
       "      <td>No</td>\n",
       "      <td>Industry that I'd be working in;Languages, fra...</td>\n",
       "      <td>I was preparing for a job search</td>\n",
       "      <td>UAH</td>\n",
       "      <td>Ukrainian hryvnia</td>\n",
       "      <td>NaN</td>\n",
       "      <td>NaN</td>\n",
       "      <td>NaN</td>\n",
       "      <td>55.0</td>\n",
       "      <td>There is a schedule and/or spec (made by me or...</td>\n",
       "      <td>Being tasked with non-development work;Inadequ...</td>\n",
       "      <td>A few days each month</td>\n",
       "      <td>Office</td>\n",
       "      <td>A little above average</td>\n",
       "      <td>Yes, because I see value in code review</td>\n",
       "      <td>NaN</td>\n",
       "      <td>Yes, it's part of our process</td>\n",
       "      <td>Not sure</td>\n",
       "      <td>I have little or no influence</td>\n",
       "      <td>C++;HTML/CSS;Java;JavaScript;Python;SQL;VBA</td>\n",
       "      <td>HTML/CSS;Java;JavaScript;SQL;WebAssembly</td>\n",
       "      <td>Couchbase;MongoDB;MySQL;Oracle;PostgreSQL;SQLite</td>\n",
       "      <td>Couchbase;Firebase;MongoDB;MySQL;Oracle;Postgr...</td>\n",
       "      <td>Android;Linux;MacOS;Slack;Windows</td>\n",
       "      <td>Android;Docker;Kubernetes;Linux;Slack</td>\n",
       "      <td>Django;Express;Flask;jQuery;React.js;Spring</td>\n",
       "      <td>Flask;jQuery;React.js;Spring</td>\n",
       "      <td>Cordova;Node.js</td>\n",
       "      <td>Apache Spark;Hadoop;Node.js;React Native</td>\n",
       "      <td>IntelliJ;Notepad++;Vim</td>\n",
       "      <td>Linux-based</td>\n",
       "      <td>Outside of work, for personal projects</td>\n",
       "      <td>Not at all</td>\n",
       "      <td>NaN</td>\n",
       "      <td>Yes</td>\n",
       "      <td>Also Yes</td>\n",
       "      <td>Yes</td>\n",
       "      <td>Facebook</td>\n",
       "      <td>In real life (in person)</td>\n",
       "      <td>Username</td>\n",
       "      <td>I don't remember</td>\n",
       "      <td>Multiple times per day</td>\n",
       "      <td>Find answers to specific questions</td>\n",
       "      <td>More than 10 times per week</td>\n",
       "      <td>Stack Overflow was much faster</td>\n",
       "      <td>NaN</td>\n",
       "      <td>Yes</td>\n",
       "      <td>A few times per month or weekly</td>\n",
       "      <td>No, I knew that Stack Overflow had a job board...</td>\n",
       "      <td>No, I've heard of them, but I am not part of a...</td>\n",
       "      <td>Yes, definitely</td>\n",
       "      <td>Just as welcome now as I felt last year</td>\n",
       "      <td>Tech meetups or events in your area;Courses on...</td>\n",
       "      <td>30.0</td>\n",
       "      <td>Man</td>\n",
       "      <td>No</td>\n",
       "      <td>Straight / Heterosexual</td>\n",
       "      <td>White or of European descent;Multiracial</td>\n",
       "      <td>No</td>\n",
       "      <td>Appropriate in length</td>\n",
       "      <td>Easy</td>\n",
       "    </tr>\n",
       "    <tr>\n",
       "      <th>...</th>\n",
       "      <td>...</td>\n",
       "      <td>...</td>\n",
       "      <td>...</td>\n",
       "      <td>...</td>\n",
       "      <td>...</td>\n",
       "      <td>...</td>\n",
       "      <td>...</td>\n",
       "      <td>...</td>\n",
       "      <td>...</td>\n",
       "      <td>...</td>\n",
       "      <td>...</td>\n",
       "      <td>...</td>\n",
       "      <td>...</td>\n",
       "      <td>...</td>\n",
       "      <td>...</td>\n",
       "      <td>...</td>\n",
       "      <td>...</td>\n",
       "      <td>...</td>\n",
       "      <td>...</td>\n",
       "      <td>...</td>\n",
       "      <td>...</td>\n",
       "      <td>...</td>\n",
       "      <td>...</td>\n",
       "      <td>...</td>\n",
       "      <td>...</td>\n",
       "      <td>...</td>\n",
       "      <td>...</td>\n",
       "      <td>...</td>\n",
       "      <td>...</td>\n",
       "      <td>...</td>\n",
       "      <td>...</td>\n",
       "      <td>...</td>\n",
       "      <td>...</td>\n",
       "      <td>...</td>\n",
       "      <td>...</td>\n",
       "      <td>...</td>\n",
       "      <td>...</td>\n",
       "      <td>...</td>\n",
       "      <td>...</td>\n",
       "      <td>...</td>\n",
       "      <td>...</td>\n",
       "      <td>...</td>\n",
       "      <td>...</td>\n",
       "      <td>...</td>\n",
       "      <td>...</td>\n",
       "      <td>...</td>\n",
       "      <td>...</td>\n",
       "      <td>...</td>\n",
       "      <td>...</td>\n",
       "      <td>...</td>\n",
       "      <td>...</td>\n",
       "      <td>...</td>\n",
       "      <td>...</td>\n",
       "      <td>...</td>\n",
       "      <td>...</td>\n",
       "      <td>...</td>\n",
       "      <td>...</td>\n",
       "      <td>...</td>\n",
       "      <td>...</td>\n",
       "      <td>...</td>\n",
       "      <td>...</td>\n",
       "      <td>...</td>\n",
       "      <td>...</td>\n",
       "      <td>...</td>\n",
       "      <td>...</td>\n",
       "      <td>...</td>\n",
       "      <td>...</td>\n",
       "      <td>...</td>\n",
       "      <td>...</td>\n",
       "      <td>...</td>\n",
       "      <td>...</td>\n",
       "      <td>...</td>\n",
       "      <td>...</td>\n",
       "      <td>...</td>\n",
       "      <td>...</td>\n",
       "      <td>...</td>\n",
       "      <td>...</td>\n",
       "      <td>...</td>\n",
       "      <td>...</td>\n",
       "      <td>...</td>\n",
       "      <td>...</td>\n",
       "      <td>...</td>\n",
       "      <td>...</td>\n",
       "      <td>...</td>\n",
       "      <td>...</td>\n",
       "    </tr>\n",
       "    <tr>\n",
       "      <th>88878</th>\n",
       "      <td>88377</td>\n",
       "      <td>NaN</td>\n",
       "      <td>Yes</td>\n",
       "      <td>Less than once a month but more than once per ...</td>\n",
       "      <td>The quality of OSS and closed source software ...</td>\n",
       "      <td>Not employed, and not looking for work</td>\n",
       "      <td>Canada</td>\n",
       "      <td>No</td>\n",
       "      <td>Primary/elementary school</td>\n",
       "      <td>NaN</td>\n",
       "      <td>Taught yourself a new language, framework, or ...</td>\n",
       "      <td>NaN</td>\n",
       "      <td>NaN</td>\n",
       "      <td>NaN</td>\n",
       "      <td>NaN</td>\n",
       "      <td>NaN</td>\n",
       "      <td>NaN</td>\n",
       "      <td>NaN</td>\n",
       "      <td>NaN</td>\n",
       "      <td>NaN</td>\n",
       "      <td>NaN</td>\n",
       "      <td>NaN</td>\n",
       "      <td>NaN</td>\n",
       "      <td>NaN</td>\n",
       "      <td>NaN</td>\n",
       "      <td>NaN</td>\n",
       "      <td>NaN</td>\n",
       "      <td>NaN</td>\n",
       "      <td>NaN</td>\n",
       "      <td>NaN</td>\n",
       "      <td>NaN</td>\n",
       "      <td>NaN</td>\n",
       "      <td>NaN</td>\n",
       "      <td>NaN</td>\n",
       "      <td>NaN</td>\n",
       "      <td>NaN</td>\n",
       "      <td>NaN</td>\n",
       "      <td>NaN</td>\n",
       "      <td>NaN</td>\n",
       "      <td>NaN</td>\n",
       "      <td>NaN</td>\n",
       "      <td>NaN</td>\n",
       "      <td>NaN</td>\n",
       "      <td>HTML/CSS;JavaScript;Other(s):</td>\n",
       "      <td>C++;HTML/CSS;JavaScript;SQL;WebAssembly;Other(s):</td>\n",
       "      <td>Firebase;SQLite</td>\n",
       "      <td>Firebase;MySQL;SQLite</td>\n",
       "      <td>Linux</td>\n",
       "      <td>Google Cloud Platform;Linux</td>\n",
       "      <td>jQuery</td>\n",
       "      <td>jQuery;Vue.js</td>\n",
       "      <td>Node.js</td>\n",
       "      <td>React Native;Unity 3D;Unreal Engine</td>\n",
       "      <td>Atom;Visual Studio;Visual Studio Code</td>\n",
       "      <td>Windows</td>\n",
       "      <td>I do not use containers</td>\n",
       "      <td>NaN</td>\n",
       "      <td>Useful across many domains and could change ma...</td>\n",
       "      <td>Yes</td>\n",
       "      <td>Yes</td>\n",
       "      <td>What?</td>\n",
       "      <td>YouTube</td>\n",
       "      <td>NaN</td>\n",
       "      <td>Username</td>\n",
       "      <td>I don't remember</td>\n",
       "      <td>A few times per week</td>\n",
       "      <td>Find answers to specific questions;Learn how t...</td>\n",
       "      <td>3-5 times per week</td>\n",
       "      <td>Stack Overflow was slightly faster</td>\n",
       "      <td>11-30 minutes</td>\n",
       "      <td>Yes</td>\n",
       "      <td>I have never participated in Q&amp;A on Stack Over...</td>\n",
       "      <td>No, I knew that Stack Overflow had a job board...</td>\n",
       "      <td>No, I've heard of them, but I am not part of a...</td>\n",
       "      <td>No, not at all</td>\n",
       "      <td>NaN</td>\n",
       "      <td>Tech articles written by other developers;Tech...</td>\n",
       "      <td>NaN</td>\n",
       "      <td>Man</td>\n",
       "      <td>No</td>\n",
       "      <td>NaN</td>\n",
       "      <td>NaN</td>\n",
       "      <td>No</td>\n",
       "      <td>Appropriate in length</td>\n",
       "      <td>Easy</td>\n",
       "    </tr>\n",
       "    <tr>\n",
       "      <th>88879</th>\n",
       "      <td>88601</td>\n",
       "      <td>NaN</td>\n",
       "      <td>No</td>\n",
       "      <td>Never</td>\n",
       "      <td>The quality of OSS and closed source software ...</td>\n",
       "      <td>NaN</td>\n",
       "      <td>NaN</td>\n",
       "      <td>NaN</td>\n",
       "      <td>NaN</td>\n",
       "      <td>NaN</td>\n",
       "      <td>NaN</td>\n",
       "      <td>NaN</td>\n",
       "      <td>NaN</td>\n",
       "      <td>NaN</td>\n",
       "      <td>NaN</td>\n",
       "      <td>NaN</td>\n",
       "      <td>NaN</td>\n",
       "      <td>NaN</td>\n",
       "      <td>NaN</td>\n",
       "      <td>NaN</td>\n",
       "      <td>NaN</td>\n",
       "      <td>NaN</td>\n",
       "      <td>NaN</td>\n",
       "      <td>NaN</td>\n",
       "      <td>NaN</td>\n",
       "      <td>NaN</td>\n",
       "      <td>NaN</td>\n",
       "      <td>NaN</td>\n",
       "      <td>NaN</td>\n",
       "      <td>NaN</td>\n",
       "      <td>NaN</td>\n",
       "      <td>NaN</td>\n",
       "      <td>NaN</td>\n",
       "      <td>NaN</td>\n",
       "      <td>NaN</td>\n",
       "      <td>NaN</td>\n",
       "      <td>NaN</td>\n",
       "      <td>NaN</td>\n",
       "      <td>NaN</td>\n",
       "      <td>NaN</td>\n",
       "      <td>NaN</td>\n",
       "      <td>NaN</td>\n",
       "      <td>NaN</td>\n",
       "      <td>NaN</td>\n",
       "      <td>NaN</td>\n",
       "      <td>NaN</td>\n",
       "      <td>NaN</td>\n",
       "      <td>NaN</td>\n",
       "      <td>NaN</td>\n",
       "      <td>NaN</td>\n",
       "      <td>NaN</td>\n",
       "      <td>NaN</td>\n",
       "      <td>NaN</td>\n",
       "      <td>NaN</td>\n",
       "      <td>NaN</td>\n",
       "      <td>NaN</td>\n",
       "      <td>NaN</td>\n",
       "      <td>NaN</td>\n",
       "      <td>NaN</td>\n",
       "      <td>NaN</td>\n",
       "      <td>NaN</td>\n",
       "      <td>NaN</td>\n",
       "      <td>NaN</td>\n",
       "      <td>NaN</td>\n",
       "      <td>NaN</td>\n",
       "      <td>NaN</td>\n",
       "      <td>NaN</td>\n",
       "      <td>NaN</td>\n",
       "      <td>NaN</td>\n",
       "      <td>NaN</td>\n",
       "      <td>NaN</td>\n",
       "      <td>NaN</td>\n",
       "      <td>NaN</td>\n",
       "      <td>NaN</td>\n",
       "      <td>NaN</td>\n",
       "      <td>NaN</td>\n",
       "      <td>NaN</td>\n",
       "      <td>NaN</td>\n",
       "      <td>NaN</td>\n",
       "      <td>NaN</td>\n",
       "      <td>NaN</td>\n",
       "      <td>NaN</td>\n",
       "      <td>NaN</td>\n",
       "      <td>NaN</td>\n",
       "      <td>NaN</td>\n",
       "    </tr>\n",
       "    <tr>\n",
       "      <th>88880</th>\n",
       "      <td>88802</td>\n",
       "      <td>NaN</td>\n",
       "      <td>No</td>\n",
       "      <td>Never</td>\n",
       "      <td>NaN</td>\n",
       "      <td>Employed full-time</td>\n",
       "      <td>NaN</td>\n",
       "      <td>NaN</td>\n",
       "      <td>NaN</td>\n",
       "      <td>NaN</td>\n",
       "      <td>NaN</td>\n",
       "      <td>NaN</td>\n",
       "      <td>NaN</td>\n",
       "      <td>NaN</td>\n",
       "      <td>NaN</td>\n",
       "      <td>NaN</td>\n",
       "      <td>NaN</td>\n",
       "      <td>NaN</td>\n",
       "      <td>NaN</td>\n",
       "      <td>NaN</td>\n",
       "      <td>NaN</td>\n",
       "      <td>NaN</td>\n",
       "      <td>NaN</td>\n",
       "      <td>NaN</td>\n",
       "      <td>NaN</td>\n",
       "      <td>NaN</td>\n",
       "      <td>NaN</td>\n",
       "      <td>NaN</td>\n",
       "      <td>NaN</td>\n",
       "      <td>NaN</td>\n",
       "      <td>NaN</td>\n",
       "      <td>NaN</td>\n",
       "      <td>NaN</td>\n",
       "      <td>NaN</td>\n",
       "      <td>NaN</td>\n",
       "      <td>NaN</td>\n",
       "      <td>NaN</td>\n",
       "      <td>NaN</td>\n",
       "      <td>NaN</td>\n",
       "      <td>NaN</td>\n",
       "      <td>NaN</td>\n",
       "      <td>NaN</td>\n",
       "      <td>NaN</td>\n",
       "      <td>NaN</td>\n",
       "      <td>NaN</td>\n",
       "      <td>NaN</td>\n",
       "      <td>NaN</td>\n",
       "      <td>NaN</td>\n",
       "      <td>NaN</td>\n",
       "      <td>NaN</td>\n",
       "      <td>NaN</td>\n",
       "      <td>NaN</td>\n",
       "      <td>NaN</td>\n",
       "      <td>NaN</td>\n",
       "      <td>NaN</td>\n",
       "      <td>NaN</td>\n",
       "      <td>NaN</td>\n",
       "      <td>NaN</td>\n",
       "      <td>NaN</td>\n",
       "      <td>NaN</td>\n",
       "      <td>NaN</td>\n",
       "      <td>NaN</td>\n",
       "      <td>NaN</td>\n",
       "      <td>NaN</td>\n",
       "      <td>NaN</td>\n",
       "      <td>NaN</td>\n",
       "      <td>NaN</td>\n",
       "      <td>NaN</td>\n",
       "      <td>NaN</td>\n",
       "      <td>NaN</td>\n",
       "      <td>NaN</td>\n",
       "      <td>NaN</td>\n",
       "      <td>NaN</td>\n",
       "      <td>NaN</td>\n",
       "      <td>NaN</td>\n",
       "      <td>NaN</td>\n",
       "      <td>NaN</td>\n",
       "      <td>NaN</td>\n",
       "      <td>NaN</td>\n",
       "      <td>NaN</td>\n",
       "      <td>NaN</td>\n",
       "      <td>NaN</td>\n",
       "      <td>NaN</td>\n",
       "      <td>NaN</td>\n",
       "      <td>NaN</td>\n",
       "    </tr>\n",
       "    <tr>\n",
       "      <th>88881</th>\n",
       "      <td>88816</td>\n",
       "      <td>NaN</td>\n",
       "      <td>No</td>\n",
       "      <td>Never</td>\n",
       "      <td>OSS is, on average, of HIGHER quality than pro...</td>\n",
       "      <td>Independent contractor, freelancer, or self-em...</td>\n",
       "      <td>NaN</td>\n",
       "      <td>NaN</td>\n",
       "      <td>NaN</td>\n",
       "      <td>NaN</td>\n",
       "      <td>NaN</td>\n",
       "      <td>NaN</td>\n",
       "      <td>NaN</td>\n",
       "      <td>NaN</td>\n",
       "      <td>NaN</td>\n",
       "      <td>NaN</td>\n",
       "      <td>NaN</td>\n",
       "      <td>NaN</td>\n",
       "      <td>NaN</td>\n",
       "      <td>NaN</td>\n",
       "      <td>NaN</td>\n",
       "      <td>NaN</td>\n",
       "      <td>NaN</td>\n",
       "      <td>NaN</td>\n",
       "      <td>NaN</td>\n",
       "      <td>NaN</td>\n",
       "      <td>NaN</td>\n",
       "      <td>NaN</td>\n",
       "      <td>NaN</td>\n",
       "      <td>NaN</td>\n",
       "      <td>NaN</td>\n",
       "      <td>NaN</td>\n",
       "      <td>NaN</td>\n",
       "      <td>NaN</td>\n",
       "      <td>NaN</td>\n",
       "      <td>NaN</td>\n",
       "      <td>NaN</td>\n",
       "      <td>NaN</td>\n",
       "      <td>NaN</td>\n",
       "      <td>NaN</td>\n",
       "      <td>NaN</td>\n",
       "      <td>NaN</td>\n",
       "      <td>NaN</td>\n",
       "      <td>NaN</td>\n",
       "      <td>NaN</td>\n",
       "      <td>NaN</td>\n",
       "      <td>NaN</td>\n",
       "      <td>NaN</td>\n",
       "      <td>NaN</td>\n",
       "      <td>NaN</td>\n",
       "      <td>NaN</td>\n",
       "      <td>NaN</td>\n",
       "      <td>NaN</td>\n",
       "      <td>NaN</td>\n",
       "      <td>NaN</td>\n",
       "      <td>NaN</td>\n",
       "      <td>NaN</td>\n",
       "      <td>NaN</td>\n",
       "      <td>NaN</td>\n",
       "      <td>NaN</td>\n",
       "      <td>NaN</td>\n",
       "      <td>NaN</td>\n",
       "      <td>NaN</td>\n",
       "      <td>NaN</td>\n",
       "      <td>NaN</td>\n",
       "      <td>NaN</td>\n",
       "      <td>NaN</td>\n",
       "      <td>NaN</td>\n",
       "      <td>NaN</td>\n",
       "      <td>NaN</td>\n",
       "      <td>NaN</td>\n",
       "      <td>NaN</td>\n",
       "      <td>NaN</td>\n",
       "      <td>NaN</td>\n",
       "      <td>NaN</td>\n",
       "      <td>NaN</td>\n",
       "      <td>NaN</td>\n",
       "      <td>NaN</td>\n",
       "      <td>NaN</td>\n",
       "      <td>NaN</td>\n",
       "      <td>NaN</td>\n",
       "      <td>NaN</td>\n",
       "      <td>NaN</td>\n",
       "      <td>NaN</td>\n",
       "      <td>NaN</td>\n",
       "    </tr>\n",
       "    <tr>\n",
       "      <th>88882</th>\n",
       "      <td>88863</td>\n",
       "      <td>NaN</td>\n",
       "      <td>Yes</td>\n",
       "      <td>Less than once per year</td>\n",
       "      <td>OSS is, on average, of HIGHER quality than pro...</td>\n",
       "      <td>Not employed, and not looking for work</td>\n",
       "      <td>Spain</td>\n",
       "      <td>Yes, full-time</td>\n",
       "      <td>Professional degree (JD, MD, etc.)</td>\n",
       "      <td>Computer science, computer engineering, or sof...</td>\n",
       "      <td>Taken an online course in programming or softw...</td>\n",
       "      <td>NaN</td>\n",
       "      <td>NaN</td>\n",
       "      <td>8</td>\n",
       "      <td>11</td>\n",
       "      <td>3</td>\n",
       "      <td>NaN</td>\n",
       "      <td>NaN</td>\n",
       "      <td>NaN</td>\n",
       "      <td>NaN</td>\n",
       "      <td>NaN</td>\n",
       "      <td>NaN</td>\n",
       "      <td>NaN</td>\n",
       "      <td>NaN</td>\n",
       "      <td>NaN</td>\n",
       "      <td>NaN</td>\n",
       "      <td>NaN</td>\n",
       "      <td>NaN</td>\n",
       "      <td>NaN</td>\n",
       "      <td>NaN</td>\n",
       "      <td>NaN</td>\n",
       "      <td>NaN</td>\n",
       "      <td>NaN</td>\n",
       "      <td>NaN</td>\n",
       "      <td>NaN</td>\n",
       "      <td>NaN</td>\n",
       "      <td>NaN</td>\n",
       "      <td>NaN</td>\n",
       "      <td>NaN</td>\n",
       "      <td>NaN</td>\n",
       "      <td>NaN</td>\n",
       "      <td>NaN</td>\n",
       "      <td>NaN</td>\n",
       "      <td>Bash/Shell/PowerShell;HTML/CSS;Java;JavaScript...</td>\n",
       "      <td>C;C++;C#;HTML/CSS;Java;Objective-C;SQL;Swift</td>\n",
       "      <td>DynamoDB;MariaDB;Microsoft SQL Server;MySQL</td>\n",
       "      <td>MariaDB;MySQL;Oracle;SQLite</td>\n",
       "      <td>iOS;Linux;MacOS;WordPress</td>\n",
       "      <td>Android;AWS;Google Cloud Platform;IBM Cloud or...</td>\n",
       "      <td>Django;jQuery;React.js</td>\n",
       "      <td>Django</td>\n",
       "      <td>Unity 3D;Unreal Engine</td>\n",
       "      <td>NaN</td>\n",
       "      <td>Android Studio;Atom;Eclipse;NetBeans;Notepad++...</td>\n",
       "      <td>Linux-based</td>\n",
       "      <td>Production</td>\n",
       "      <td>NaN</td>\n",
       "      <td>Useful for decentralized currency (i.e., Bitcoin)</td>\n",
       "      <td>Yes</td>\n",
       "      <td>Also Yes</td>\n",
       "      <td>Yes</td>\n",
       "      <td>WhatsApp</td>\n",
       "      <td>In real life (in person)</td>\n",
       "      <td>NaN</td>\n",
       "      <td>2012</td>\n",
       "      <td>Daily or almost daily</td>\n",
       "      <td>Find answers to specific questions;Learn how t...</td>\n",
       "      <td>6-10 times per week</td>\n",
       "      <td>Stack Overflow was much faster</td>\n",
       "      <td>11-30 minutes</td>\n",
       "      <td>Yes</td>\n",
       "      <td>A few times per month or weekly</td>\n",
       "      <td>Yes</td>\n",
       "      <td>No, I've heard of them, but I am not part of a...</td>\n",
       "      <td>Yes, somewhat</td>\n",
       "      <td>Somewhat less welcome now than last year</td>\n",
       "      <td>Tech articles written by other developers;Indu...</td>\n",
       "      <td>18.0</td>\n",
       "      <td>Man</td>\n",
       "      <td>No</td>\n",
       "      <td>Straight / Heterosexual</td>\n",
       "      <td>Hispanic or Latino/Latina;White or of European...</td>\n",
       "      <td>No</td>\n",
       "      <td>Appropriate in length</td>\n",
       "      <td>Easy</td>\n",
       "    </tr>\n",
       "  </tbody>\n",
       "</table>\n",
       "<p>88883 rows × 85 columns</p>\n",
       "</div>"
      ],
      "text/plain": [
       "       Respondent                                         MainBranch Hobbyist  \\\n",
       "0               1             I am a student who is learning to code      Yes   \n",
       "1               2             I am a student who is learning to code       No   \n",
       "2               3  I am not primarily a developer, but I write co...      Yes   \n",
       "3               4                     I am a developer by profession       No   \n",
       "4               5                     I am a developer by profession      Yes   \n",
       "...           ...                                                ...      ...   \n",
       "88878       88377                                                NaN      Yes   \n",
       "88879       88601                                                NaN       No   \n",
       "88880       88802                                                NaN       No   \n",
       "88881       88816                                                NaN       No   \n",
       "88882       88863                                                NaN      Yes   \n",
       "\n",
       "                                             OpenSourcer  \\\n",
       "0                                                  Never   \n",
       "1                                Less than once per year   \n",
       "2                                                  Never   \n",
       "3                                                  Never   \n",
       "4                             Once a month or more often   \n",
       "...                                                  ...   \n",
       "88878  Less than once a month but more than once per ...   \n",
       "88879                                              Never   \n",
       "88880                                              Never   \n",
       "88881                                              Never   \n",
       "88882                            Less than once per year   \n",
       "\n",
       "                                              OpenSource  \\\n",
       "0      The quality of OSS and closed source software ...   \n",
       "1      The quality of OSS and closed source software ...   \n",
       "2      The quality of OSS and closed source software ...   \n",
       "3      The quality of OSS and closed source software ...   \n",
       "4      OSS is, on average, of HIGHER quality than pro...   \n",
       "...                                                  ...   \n",
       "88878  The quality of OSS and closed source software ...   \n",
       "88879  The quality of OSS and closed source software ...   \n",
       "88880                                                NaN   \n",
       "88881  OSS is, on average, of HIGHER quality than pro...   \n",
       "88882  OSS is, on average, of HIGHER quality than pro...   \n",
       "\n",
       "                                              Employment  \\\n",
       "0                 Not employed, and not looking for work   \n",
       "1                     Not employed, but looking for work   \n",
       "2                                     Employed full-time   \n",
       "3                                     Employed full-time   \n",
       "4                                     Employed full-time   \n",
       "...                                                  ...   \n",
       "88878             Not employed, and not looking for work   \n",
       "88879                                                NaN   \n",
       "88880                                 Employed full-time   \n",
       "88881  Independent contractor, freelancer, or self-em...   \n",
       "88882             Not employed, and not looking for work   \n",
       "\n",
       "                      Country         Student  \\\n",
       "0              United Kingdom              No   \n",
       "1      Bosnia and Herzegovina  Yes, full-time   \n",
       "2                    Thailand              No   \n",
       "3               United States              No   \n",
       "4                     Ukraine              No   \n",
       "...                       ...             ...   \n",
       "88878                  Canada              No   \n",
       "88879                     NaN             NaN   \n",
       "88880                     NaN             NaN   \n",
       "88881                     NaN             NaN   \n",
       "88882                   Spain  Yes, full-time   \n",
       "\n",
       "                                                 EdLevel  \\\n",
       "0                              Primary/elementary school   \n",
       "1      Secondary school (e.g. American high school, G...   \n",
       "2               Bachelor’s degree (BA, BS, B.Eng., etc.)   \n",
       "3               Bachelor’s degree (BA, BS, B.Eng., etc.)   \n",
       "4               Bachelor’s degree (BA, BS, B.Eng., etc.)   \n",
       "...                                                  ...   \n",
       "88878                          Primary/elementary school   \n",
       "88879                                                NaN   \n",
       "88880                                                NaN   \n",
       "88881                                                NaN   \n",
       "88882                 Professional degree (JD, MD, etc.)   \n",
       "\n",
       "                                          UndergradMajor  \\\n",
       "0                                                    NaN   \n",
       "1                                                    NaN   \n",
       "2                          Web development or web design   \n",
       "3      Computer science, computer engineering, or sof...   \n",
       "4      Computer science, computer engineering, or sof...   \n",
       "...                                                  ...   \n",
       "88878                                                NaN   \n",
       "88879                                                NaN   \n",
       "88880                                                NaN   \n",
       "88881                                                NaN   \n",
       "88882  Computer science, computer engineering, or sof...   \n",
       "\n",
       "                                                EduOther  \\\n",
       "0      Taught yourself a new language, framework, or ...   \n",
       "1      Taken an online course in programming or softw...   \n",
       "2      Taught yourself a new language, framework, or ...   \n",
       "3      Taken an online course in programming or softw...   \n",
       "4      Taken an online course in programming or softw...   \n",
       "...                                                  ...   \n",
       "88878  Taught yourself a new language, framework, or ...   \n",
       "88879                                                NaN   \n",
       "88880                                                NaN   \n",
       "88881                                                NaN   \n",
       "88882  Taken an online course in programming or softw...   \n",
       "\n",
       "                        OrgSize  \\\n",
       "0                           NaN   \n",
       "1                           NaN   \n",
       "2          100 to 499 employees   \n",
       "3          100 to 499 employees   \n",
       "4      10,000 or more employees   \n",
       "...                         ...   \n",
       "88878                       NaN   \n",
       "88879                       NaN   \n",
       "88880                       NaN   \n",
       "88881                       NaN   \n",
       "88882                       NaN   \n",
       "\n",
       "                                                 DevType YearsCode Age1stCode  \\\n",
       "0                                                    NaN         4         10   \n",
       "1      Developer, desktop or enterprise applications;...       NaN         17   \n",
       "2      Designer;Developer, back-end;Developer, front-...         3         22   \n",
       "3                                  Developer, full-stack         3         16   \n",
       "4      Academic researcher;Developer, desktop or ente...        16         14   \n",
       "...                                                  ...       ...        ...   \n",
       "88878                                                NaN       NaN        NaN   \n",
       "88879                                                NaN       NaN        NaN   \n",
       "88880                                                NaN       NaN        NaN   \n",
       "88881                                                NaN       NaN        NaN   \n",
       "88882                                                NaN         8         11   \n",
       "\n",
       "           YearsCodePro           CareerSat                 JobSat  \\\n",
       "0                   NaN                 NaN                    NaN   \n",
       "1                   NaN                 NaN                    NaN   \n",
       "2                     1  Slightly satisfied     Slightly satisfied   \n",
       "3      Less than 1 year      Very satisfied     Slightly satisfied   \n",
       "4                     9   Very dissatisfied  Slightly dissatisfied   \n",
       "...                 ...                 ...                    ...   \n",
       "88878               NaN                 NaN                    NaN   \n",
       "88879               NaN                 NaN                    NaN   \n",
       "88880               NaN                 NaN                    NaN   \n",
       "88881               NaN                 NaN                    NaN   \n",
       "88882                 3                 NaN                    NaN   \n",
       "\n",
       "                   MgrIdiot  MgrMoney   MgrWant  \\\n",
       "0                       NaN       NaN       NaN   \n",
       "1                       NaN       NaN       NaN   \n",
       "2      Not at all confident  Not sure  Not sure   \n",
       "3            Very confident        No  Not sure   \n",
       "4        Somewhat confident       Yes        No   \n",
       "...                     ...       ...       ...   \n",
       "88878                   NaN       NaN       NaN   \n",
       "88879                   NaN       NaN       NaN   \n",
       "88880                   NaN       NaN       NaN   \n",
       "88881                   NaN       NaN       NaN   \n",
       "88882                   NaN       NaN       NaN   \n",
       "\n",
       "                                                 JobSeek  \\\n",
       "0                                                    NaN   \n",
       "1                        I am actively looking for a job   \n",
       "2      I’m not actively looking, but I am open to new...   \n",
       "3           I am not interested in new job opportunities   \n",
       "4           I am not interested in new job opportunities   \n",
       "...                                                  ...   \n",
       "88878                                                NaN   \n",
       "88879                                                NaN   \n",
       "88880                                                NaN   \n",
       "88881                                                NaN   \n",
       "88882                                                NaN   \n",
       "\n",
       "               LastHireDate  \\\n",
       "0                       NaN   \n",
       "1      I've never had a job   \n",
       "2             1-2 years ago   \n",
       "3      Less than a year ago   \n",
       "4      Less than a year ago   \n",
       "...                     ...   \n",
       "88878                   NaN   \n",
       "88879                   NaN   \n",
       "88880                   NaN   \n",
       "88881                   NaN   \n",
       "88882                   NaN   \n",
       "\n",
       "                                                 LastInt FizzBuzz  \\\n",
       "0                                                    NaN      NaN   \n",
       "1                                                    NaN      NaN   \n",
       "2                    Interview with people in peer roles       No   \n",
       "3      Write code by hand (e.g., on a whiteboard);Int...       No   \n",
       "4      Write any code;Write code by hand (e.g., on a ...       No   \n",
       "...                                                  ...      ...   \n",
       "88878                                                NaN      NaN   \n",
       "88879                                                NaN      NaN   \n",
       "88880                                                NaN      NaN   \n",
       "88881                                                NaN      NaN   \n",
       "88882                                                NaN      NaN   \n",
       "\n",
       "                                              JobFactors  \\\n",
       "0                                                    NaN   \n",
       "1      Financial performance or funding status of the...   \n",
       "2      Languages, frameworks, and other technologies ...   \n",
       "3      Languages, frameworks, and other technologies ...   \n",
       "4      Industry that I'd be working in;Languages, fra...   \n",
       "...                                                  ...   \n",
       "88878                                                NaN   \n",
       "88879                                                NaN   \n",
       "88880                                                NaN   \n",
       "88881                                                NaN   \n",
       "88882                                                NaN   \n",
       "\n",
       "                                            ResumeUpdate CurrencySymbol  \\\n",
       "0                                                    NaN            NaN   \n",
       "1      Something else changed (education, award, medi...            NaN   \n",
       "2                       I was preparing for a job search            THB   \n",
       "3                       I was preparing for a job search            USD   \n",
       "4                       I was preparing for a job search            UAH   \n",
       "...                                                  ...            ...   \n",
       "88878                                                NaN            NaN   \n",
       "88879                                                NaN            NaN   \n",
       "88880                                                NaN            NaN   \n",
       "88881                                                NaN            NaN   \n",
       "88882                                                NaN            NaN   \n",
       "\n",
       "               CurrencyDesc  CompTotal CompFreq  ConvertedComp  WorkWeekHrs  \\\n",
       "0                       NaN        NaN      NaN            NaN          NaN   \n",
       "1                       NaN        NaN      NaN            NaN          NaN   \n",
       "2                 Thai baht    23000.0  Monthly         8820.0         40.0   \n",
       "3      United States dollar    61000.0   Yearly        61000.0         80.0   \n",
       "4         Ukrainian hryvnia        NaN      NaN            NaN         55.0   \n",
       "...                     ...        ...      ...            ...          ...   \n",
       "88878                   NaN        NaN      NaN            NaN          NaN   \n",
       "88879                   NaN        NaN      NaN            NaN          NaN   \n",
       "88880                   NaN        NaN      NaN            NaN          NaN   \n",
       "88881                   NaN        NaN      NaN            NaN          NaN   \n",
       "88882                   NaN        NaN      NaN            NaN          NaN   \n",
       "\n",
       "                                                WorkPlan  \\\n",
       "0                                                    NaN   \n",
       "1                                                    NaN   \n",
       "2      There's no schedule or spec; I work on what se...   \n",
       "3      There's no schedule or spec; I work on what se...   \n",
       "4      There is a schedule and/or spec (made by me or...   \n",
       "...                                                  ...   \n",
       "88878                                                NaN   \n",
       "88879                                                NaN   \n",
       "88880                                                NaN   \n",
       "88881                                                NaN   \n",
       "88882                                                NaN   \n",
       "\n",
       "                                           WorkChallenge  \\\n",
       "0                                                    NaN   \n",
       "1                                                    NaN   \n",
       "2      Distracting work environment;Inadequate access...   \n",
       "3                                                    NaN   \n",
       "4      Being tasked with non-development work;Inadequ...   \n",
       "...                                                  ...   \n",
       "88878                                                NaN   \n",
       "88879                                                NaN   \n",
       "88880                                                NaN   \n",
       "88881                                                NaN   \n",
       "88882                                                NaN   \n",
       "\n",
       "                             WorkRemote WorkLoc                  ImpSyn  \\\n",
       "0                                   NaN     NaN                     NaN   \n",
       "1                                   NaN     NaN                     NaN   \n",
       "2      Less than once per month / Never    Home                 Average   \n",
       "3      Less than once per month / Never    Home  A little below average   \n",
       "4                 A few days each month  Office  A little above average   \n",
       "...                                 ...     ...                     ...   \n",
       "88878                               NaN     NaN                     NaN   \n",
       "88879                               NaN     NaN                     NaN   \n",
       "88880                               NaN     NaN                     NaN   \n",
       "88881                               NaN     NaN                     NaN   \n",
       "88882                               NaN     NaN                     NaN   \n",
       "\n",
       "                                       CodeRev  CodeRevHrs  \\\n",
       "0                                          NaN         NaN   \n",
       "1                                          NaN         NaN   \n",
       "2                                           No         NaN   \n",
       "3                                           No         NaN   \n",
       "4      Yes, because I see value in code review         NaN   \n",
       "...                                        ...         ...   \n",
       "88878                                      NaN         NaN   \n",
       "88879                                      NaN         NaN   \n",
       "88880                                      NaN         NaN   \n",
       "88881                                      NaN         NaN   \n",
       "88882                                      NaN         NaN   \n",
       "\n",
       "                           UnitTests  \\\n",
       "0                                NaN   \n",
       "1                                NaN   \n",
       "2          No, but I think we should   \n",
       "3          No, but I think we should   \n",
       "4      Yes, it's part of our process   \n",
       "...                              ...   \n",
       "88878                            NaN   \n",
       "88879                            NaN   \n",
       "88880                            NaN   \n",
       "88881                            NaN   \n",
       "88882                            NaN   \n",
       "\n",
       "                                             PurchaseHow  \\\n",
       "0                                                    NaN   \n",
       "1                                                    NaN   \n",
       "2                                               Not sure   \n",
       "3      Developers typically have the most influence o...   \n",
       "4                                               Not sure   \n",
       "...                                                  ...   \n",
       "88878                                                NaN   \n",
       "88879                                                NaN   \n",
       "88880                                                NaN   \n",
       "88881                                                NaN   \n",
       "88882                                                NaN   \n",
       "\n",
       "                        PurchaseWhat  \\\n",
       "0                                NaN   \n",
       "1                                NaN   \n",
       "2      I have little or no influence   \n",
       "3      I have little or no influence   \n",
       "4      I have little or no influence   \n",
       "...                              ...   \n",
       "88878                            NaN   \n",
       "88879                            NaN   \n",
       "88880                            NaN   \n",
       "88881                            NaN   \n",
       "88882                            NaN   \n",
       "\n",
       "                                      LanguageWorkedWith  \\\n",
       "0                        HTML/CSS;Java;JavaScript;Python   \n",
       "1                                    C++;HTML/CSS;Python   \n",
       "2                                               HTML/CSS   \n",
       "3                                    C;C++;C#;Python;SQL   \n",
       "4            C++;HTML/CSS;Java;JavaScript;Python;SQL;VBA   \n",
       "...                                                  ...   \n",
       "88878                      HTML/CSS;JavaScript;Other(s):   \n",
       "88879                                                NaN   \n",
       "88880                                                NaN   \n",
       "88881                                                NaN   \n",
       "88882  Bash/Shell/PowerShell;HTML/CSS;Java;JavaScript...   \n",
       "\n",
       "                                  LanguageDesireNextYear  \\\n",
       "0        C;C++;C#;Go;HTML/CSS;Java;JavaScript;Python;SQL   \n",
       "1                            C++;HTML/CSS;JavaScript;SQL   \n",
       "2                                        Elixir;HTML/CSS   \n",
       "3                                    C;C#;JavaScript;SQL   \n",
       "4               HTML/CSS;Java;JavaScript;SQL;WebAssembly   \n",
       "...                                                  ...   \n",
       "88878  C++;HTML/CSS;JavaScript;SQL;WebAssembly;Other(s):   \n",
       "88879                                                NaN   \n",
       "88880                                                NaN   \n",
       "88881                                                NaN   \n",
       "88882       C;C++;C#;HTML/CSS;Java;Objective-C;SQL;Swift   \n",
       "\n",
       "                                     DatabaseWorkedWith  \\\n",
       "0                                                SQLite   \n",
       "1                                                   NaN   \n",
       "2                                            PostgreSQL   \n",
       "3                                          MySQL;SQLite   \n",
       "4      Couchbase;MongoDB;MySQL;Oracle;PostgreSQL;SQLite   \n",
       "...                                                 ...   \n",
       "88878                                   Firebase;SQLite   \n",
       "88879                                               NaN   \n",
       "88880                                               NaN   \n",
       "88881                                               NaN   \n",
       "88882       DynamoDB;MariaDB;Microsoft SQL Server;MySQL   \n",
       "\n",
       "                                  DatabaseDesireNextYear  \\\n",
       "0                                                  MySQL   \n",
       "1                                                  MySQL   \n",
       "2                                             PostgreSQL   \n",
       "3                                           MySQL;SQLite   \n",
       "4      Couchbase;Firebase;MongoDB;MySQL;Oracle;Postgr...   \n",
       "...                                                  ...   \n",
       "88878                              Firebase;MySQL;SQLite   \n",
       "88879                                                NaN   \n",
       "88880                                                NaN   \n",
       "88881                                                NaN   \n",
       "88882                        MariaDB;MySQL;Oracle;SQLite   \n",
       "\n",
       "                      PlatformWorkedWith  \\\n",
       "0                          MacOS;Windows   \n",
       "1                                Windows   \n",
       "2                                    NaN   \n",
       "3                          Linux;Windows   \n",
       "4      Android;Linux;MacOS;Slack;Windows   \n",
       "...                                  ...   \n",
       "88878                              Linux   \n",
       "88879                                NaN   \n",
       "88880                                NaN   \n",
       "88881                                NaN   \n",
       "88882          iOS;Linux;MacOS;WordPress   \n",
       "\n",
       "                                  PlatformDesireNextYear  \\\n",
       "0                                Android;Arduino;Windows   \n",
       "1                                                Windows   \n",
       "2                                                    NaN   \n",
       "3                                          Linux;Windows   \n",
       "4                  Android;Docker;Kubernetes;Linux;Slack   \n",
       "...                                                  ...   \n",
       "88878                        Google Cloud Platform;Linux   \n",
       "88879                                                NaN   \n",
       "88880                                                NaN   \n",
       "88881                                                NaN   \n",
       "88882  Android;AWS;Google Cloud Platform;IBM Cloud or...   \n",
       "\n",
       "                                WebFrameWorkedWith  \\\n",
       "0                                     Django;Flask   \n",
       "1                                           Django   \n",
       "2                                              NaN   \n",
       "3                                              NaN   \n",
       "4      Django;Express;Flask;jQuery;React.js;Spring   \n",
       "...                                            ...   \n",
       "88878                                       jQuery   \n",
       "88879                                          NaN   \n",
       "88880                                          NaN   \n",
       "88881                                          NaN   \n",
       "88882                       Django;jQuery;React.js   \n",
       "\n",
       "             WebFrameDesireNextYear      MiscTechWorkedWith  \\\n",
       "0                      Flask;jQuery                 Node.js   \n",
       "1                            Django                     NaN   \n",
       "2                         Other(s):                     NaN   \n",
       "3                               NaN                    .NET   \n",
       "4      Flask;jQuery;React.js;Spring         Cordova;Node.js   \n",
       "...                             ...                     ...   \n",
       "88878                 jQuery;Vue.js                 Node.js   \n",
       "88879                           NaN                     NaN   \n",
       "88880                           NaN                     NaN   \n",
       "88881                           NaN                     NaN   \n",
       "88882                        Django  Unity 3D;Unreal Engine   \n",
       "\n",
       "                         MiscTechDesireNextYear  \\\n",
       "0                                       Node.js   \n",
       "1                                           NaN   \n",
       "2                                           NaN   \n",
       "3                                          .NET   \n",
       "4      Apache Spark;Hadoop;Node.js;React Native   \n",
       "...                                         ...   \n",
       "88878       React Native;Unity 3D;Unreal Engine   \n",
       "88879                                       NaN   \n",
       "88880                                       NaN   \n",
       "88881                                       NaN   \n",
       "88882                                       NaN   \n",
       "\n",
       "                                              DevEnviron        OpSys  \\\n",
       "0                             IntelliJ;Notepad++;PyCharm      Windows   \n",
       "1                                           Atom;PyCharm      Windows   \n",
       "2                                 Vim;Visual Studio Code  Linux-based   \n",
       "3           Eclipse;Vim;Visual Studio;Visual Studio Code      Windows   \n",
       "4                                 IntelliJ;Notepad++;Vim  Linux-based   \n",
       "...                                                  ...          ...   \n",
       "88878              Atom;Visual Studio;Visual Studio Code      Windows   \n",
       "88879                                                NaN          NaN   \n",
       "88880                                                NaN          NaN   \n",
       "88881                                                NaN          NaN   \n",
       "88882  Android Studio;Atom;Eclipse;NetBeans;Notepad++...  Linux-based   \n",
       "\n",
       "                                   Containers BlockchainOrg  \\\n",
       "0                     I do not use containers           NaN   \n",
       "1                     I do not use containers           NaN   \n",
       "2                     I do not use containers           NaN   \n",
       "3                     I do not use containers    Not at all   \n",
       "4      Outside of work, for personal projects    Not at all   \n",
       "...                                       ...           ...   \n",
       "88878                 I do not use containers           NaN   \n",
       "88879                                     NaN           NaN   \n",
       "88880                                     NaN           NaN   \n",
       "88881                                     NaN           NaN   \n",
       "88882                              Production           NaN   \n",
       "\n",
       "                                            BlockchainIs BetterLife  \\\n",
       "0                                                    NaN        Yes   \n",
       "1      Useful across many domains and could change ma...        Yes   \n",
       "2                                                    NaN        Yes   \n",
       "3      Useful for decentralized currency (i.e., Bitcoin)        Yes   \n",
       "4                                                    NaN        Yes   \n",
       "...                                                  ...        ...   \n",
       "88878  Useful across many domains and could change ma...        Yes   \n",
       "88879                                                NaN        NaN   \n",
       "88880                                                NaN        NaN   \n",
       "88881                                                NaN        NaN   \n",
       "88882  Useful for decentralized currency (i.e., Bitcoin)        Yes   \n",
       "\n",
       "                                       ITperson  OffOn SocialMedia  \\\n",
       "0      Fortunately, someone else has that title    Yes     Twitter   \n",
       "1                                           Yes    Yes   Instagram   \n",
       "2                                           Yes    Yes      Reddit   \n",
       "3                                          SIGH    Yes      Reddit   \n",
       "4                                      Also Yes    Yes    Facebook   \n",
       "...                                         ...    ...         ...   \n",
       "88878                                       Yes  What?     YouTube   \n",
       "88879                                       NaN    NaN         NaN   \n",
       "88880                                       NaN    NaN         NaN   \n",
       "88881                                       NaN    NaN         NaN   \n",
       "88882                                  Also Yes    Yes    WhatsApp   \n",
       "\n",
       "                   Extraversion ScreenName        SOVisit1st  \\\n",
       "0                        Online   Username              2017   \n",
       "1                        Online   Username              2017   \n",
       "2      In real life (in person)   Username              2011   \n",
       "3      In real life (in person)   Username              2014   \n",
       "4      In real life (in person)   Username  I don't remember   \n",
       "...                         ...        ...               ...   \n",
       "88878                       NaN   Username  I don't remember   \n",
       "88879                       NaN        NaN               NaN   \n",
       "88880                       NaN        NaN               NaN   \n",
       "88881                       NaN        NaN               NaN   \n",
       "88882  In real life (in person)        NaN              2012   \n",
       "\n",
       "                           SOVisitFreq  \\\n",
       "0      A few times per month or weekly   \n",
       "1                Daily or almost daily   \n",
       "2                 A few times per week   \n",
       "3                Daily or almost daily   \n",
       "4               Multiple times per day   \n",
       "...                                ...   \n",
       "88878             A few times per week   \n",
       "88879                              NaN   \n",
       "88880                              NaN   \n",
       "88881                              NaN   \n",
       "88882            Daily or almost daily   \n",
       "\n",
       "                                               SOVisitTo  \\\n",
       "0      Find answers to specific questions;Learn how t...   \n",
       "1      Find answers to specific questions;Learn how t...   \n",
       "2      Find answers to specific questions;Learn how t...   \n",
       "3      Find answers to specific questions;Pass the ti...   \n",
       "4                     Find answers to specific questions   \n",
       "...                                                  ...   \n",
       "88878  Find answers to specific questions;Learn how t...   \n",
       "88879                                                NaN   \n",
       "88880                                                NaN   \n",
       "88881                                                NaN   \n",
       "88882  Find answers to specific questions;Learn how t...   \n",
       "\n",
       "                      SOFindAnswer                         SOTimeSaved  \\\n",
       "0               3-5 times per week      Stack Overflow was much faster   \n",
       "1               3-5 times per week      Stack Overflow was much faster   \n",
       "2              6-10 times per week            They were about the same   \n",
       "3               1-2 times per week      Stack Overflow was much faster   \n",
       "4      More than 10 times per week      Stack Overflow was much faster   \n",
       "...                            ...                                 ...   \n",
       "88878           3-5 times per week  Stack Overflow was slightly faster   \n",
       "88879                          NaN                                 NaN   \n",
       "88880                          NaN                                 NaN   \n",
       "88881                          NaN                                 NaN   \n",
       "88882          6-10 times per week      Stack Overflow was much faster   \n",
       "\n",
       "       SOHowMuchTime SOAccount  \\\n",
       "0      31-60 minutes        No   \n",
       "1      11-30 minutes       Yes   \n",
       "2                NaN       Yes   \n",
       "3      31-60 minutes       Yes   \n",
       "4                NaN       Yes   \n",
       "...              ...       ...   \n",
       "88878  11-30 minutes       Yes   \n",
       "88879            NaN       NaN   \n",
       "88880            NaN       NaN   \n",
       "88881            NaN       NaN   \n",
       "88882  11-30 minutes       Yes   \n",
       "\n",
       "                                              SOPartFreq  \\\n",
       "0                                                    NaN   \n",
       "1                        A few times per month or weekly   \n",
       "2                    Less than once per month or monthly   \n",
       "3                    Less than once per month or monthly   \n",
       "4                        A few times per month or weekly   \n",
       "...                                                  ...   \n",
       "88878  I have never participated in Q&A on Stack Over...   \n",
       "88879                                                NaN   \n",
       "88880                                                NaN   \n",
       "88881                                                NaN   \n",
       "88882                    A few times per month or weekly   \n",
       "\n",
       "                                                  SOJobs  \\\n",
       "0      No, I didn't know that Stack Overflow had a jo...   \n",
       "1      No, I knew that Stack Overflow had a job board...   \n",
       "2                                                    Yes   \n",
       "3                                                    Yes   \n",
       "4      No, I knew that Stack Overflow had a job board...   \n",
       "...                                                  ...   \n",
       "88878  No, I knew that Stack Overflow had a job board...   \n",
       "88879                                                NaN   \n",
       "88880                                                NaN   \n",
       "88881                                                NaN   \n",
       "88882                                                Yes   \n",
       "\n",
       "                                                EntTeams           SOComm  \\\n",
       "0                    No, and I don't know what those are          Neutral   \n",
       "1                    No, and I don't know what those are    Yes, somewhat   \n",
       "2      No, I've heard of them, but I am not part of a...          Neutral   \n",
       "3                    No, and I don't know what those are   No, not really   \n",
       "4      No, I've heard of them, but I am not part of a...  Yes, definitely   \n",
       "...                                                  ...              ...   \n",
       "88878  No, I've heard of them, but I am not part of a...   No, not at all   \n",
       "88879                                                NaN              NaN   \n",
       "88880                                                NaN              NaN   \n",
       "88881                                                NaN              NaN   \n",
       "88882  No, I've heard of them, but I am not part of a...    Yes, somewhat   \n",
       "\n",
       "                                  WelcomeChange  \\\n",
       "0       Just as welcome now as I felt last year   \n",
       "1       Just as welcome now as I felt last year   \n",
       "2       Just as welcome now as I felt last year   \n",
       "3       Just as welcome now as I felt last year   \n",
       "4       Just as welcome now as I felt last year   \n",
       "...                                         ...   \n",
       "88878                                       NaN   \n",
       "88879                                       NaN   \n",
       "88880                                       NaN   \n",
       "88881                                       NaN   \n",
       "88882  Somewhat less welcome now than last year   \n",
       "\n",
       "                                            SONewContent   Age Gender Trans  \\\n",
       "0      Tech articles written by other developers;Indu...  14.0    Man    No   \n",
       "1      Tech articles written by other developers;Indu...  19.0    Man    No   \n",
       "2      Tech meetups or events in your area;Courses on...  28.0    Man    No   \n",
       "3      Tech articles written by other developers;Indu...  22.0    Man    No   \n",
       "4      Tech meetups or events in your area;Courses on...  30.0    Man    No   \n",
       "...                                                  ...   ...    ...   ...   \n",
       "88878  Tech articles written by other developers;Tech...   NaN    Man    No   \n",
       "88879                                                NaN   NaN    NaN   NaN   \n",
       "88880                                                NaN   NaN    NaN   NaN   \n",
       "88881                                                NaN   NaN    NaN   NaN   \n",
       "88882  Tech articles written by other developers;Indu...  18.0    Man    No   \n",
       "\n",
       "                     Sexuality  \\\n",
       "0      Straight / Heterosexual   \n",
       "1      Straight / Heterosexual   \n",
       "2      Straight / Heterosexual   \n",
       "3      Straight / Heterosexual   \n",
       "4      Straight / Heterosexual   \n",
       "...                        ...   \n",
       "88878                      NaN   \n",
       "88879                      NaN   \n",
       "88880                      NaN   \n",
       "88881                      NaN   \n",
       "88882  Straight / Heterosexual   \n",
       "\n",
       "                                               Ethnicity Dependents  \\\n",
       "0                                                    NaN         No   \n",
       "1                                                    NaN         No   \n",
       "2                                                    NaN        Yes   \n",
       "3                           White or of European descent         No   \n",
       "4               White or of European descent;Multiracial         No   \n",
       "...                                                  ...        ...   \n",
       "88878                                                NaN         No   \n",
       "88879                                                NaN        NaN   \n",
       "88880                                                NaN        NaN   \n",
       "88881                                                NaN        NaN   \n",
       "88882  Hispanic or Latino/Latina;White or of European...         No   \n",
       "\n",
       "                SurveyLength                  SurveyEase  \n",
       "0      Appropriate in length  Neither easy nor difficult  \n",
       "1      Appropriate in length  Neither easy nor difficult  \n",
       "2      Appropriate in length  Neither easy nor difficult  \n",
       "3      Appropriate in length                        Easy  \n",
       "4      Appropriate in length                        Easy  \n",
       "...                      ...                         ...  \n",
       "88878  Appropriate in length                        Easy  \n",
       "88879                    NaN                         NaN  \n",
       "88880                    NaN                         NaN  \n",
       "88881                    NaN                         NaN  \n",
       "88882  Appropriate in length                        Easy  \n",
       "\n",
       "[88883 rows x 85 columns]"
      ]
     },
     "execution_count": 3,
     "metadata": {},
     "output_type": "execute_result"
    }
   ],
   "source": [
    "import pandas as pd\n",
    "df= pd.read_csv('C:/Users/kumar/OneDrive/Programm/Data_analyst/pyt/Resources/developer_survey_2019/survey_results_public.csv')\n",
    "\n",
    "\n",
    "df.shape\n",
    "# df.head()\n",
    "pd.set_option('display.max_columns', 85)\n",
    "# pd.set_option('display.max_rows', 85)\n",
    "df"
   ]
  },
  {
   "cell_type": "code",
   "execution_count": 4,
   "id": "70b0c1ec",
   "metadata": {
    "ExecuteTime": {
     "end_time": "2021-09-04T11:31:22.690424Z",
     "start_time": "2021-09-04T11:30:31.464628Z"
    }
   },
   "outputs": [
    {
     "name": "stderr",
     "output_type": "stream",
     "text": [
      "IOPub data rate exceeded.\n",
      "The notebook server will temporarily stop sending output\n",
      "to the client in order to avoid crashing it.\n",
      "To change this limit, set the config variable\n",
      "`--NotebookApp.iopub_data_rate_limit`.\n",
      "\n",
      "Current values:\n",
      "NotebookApp.iopub_data_rate_limit=1000000.0 (bytes/sec)\n",
      "NotebookApp.rate_limit_window=3.0 (secs)\n",
      "\n"
     ]
    }
   ],
   "source": [
    "# print(df.to_string()"
   ]
  },
  {
   "cell_type": "code",
   "execution_count": null,
   "id": "4193c076",
   "metadata": {
    "ExecuteTime": {
     "end_time": "2021-09-04T11:22:54.092397Z",
     "start_time": "2021-09-04T11:22:53.962361Z"
    }
   },
   "outputs": [],
   "source": [
    "schema_df = pd.read_csv('C:/Users/kumar/OneDrive/Programm/Data_analyst/pyt/Resources/developer_survey_2019/survey_results_schema.csv')\n",
    "schema_df"
   ]
  },
  {
   "cell_type": "markdown",
   "id": "5f9599da",
   "metadata": {},
   "source": [
    "# Filter "
   ]
  },
  {
   "cell_type": "code",
   "execution_count": null,
   "id": "ebdcbfb4",
   "metadata": {},
   "outputs": [],
   "source": [
    "for setting the the values in table use loc method"
   ]
  },
  {
   "cell_type": "code",
   "execution_count": 6,
   "id": "5554ae88",
   "metadata": {
    "ExecuteTime": {
     "end_time": "2021-09-04T11:37:48.221645Z",
     "start_time": "2021-09-04T11:37:48.124622Z"
    },
    "scrolled": true
   },
   "outputs": [
    {
     "data": {
      "text/html": [
       "<div>\n",
       "<style scoped>\n",
       "    .dataframe tbody tr th:only-of-type {\n",
       "        vertical-align: middle;\n",
       "    }\n",
       "\n",
       "    .dataframe tbody tr th {\n",
       "        vertical-align: top;\n",
       "    }\n",
       "\n",
       "    .dataframe thead th {\n",
       "        text-align: right;\n",
       "    }\n",
       "</style>\n",
       "<table border=\"1\" class=\"dataframe\">\n",
       "  <thead>\n",
       "    <tr style=\"text-align: right;\">\n",
       "      <th></th>\n",
       "      <th>Respondent</th>\n",
       "      <th>MainBranch</th>\n",
       "      <th>Hobbyist</th>\n",
       "      <th>OpenSourcer</th>\n",
       "      <th>OpenSource</th>\n",
       "      <th>Employment</th>\n",
       "      <th>Country</th>\n",
       "      <th>Student</th>\n",
       "      <th>EdLevel</th>\n",
       "      <th>UndergradMajor</th>\n",
       "      <th>EduOther</th>\n",
       "      <th>OrgSize</th>\n",
       "      <th>DevType</th>\n",
       "      <th>YearsCode</th>\n",
       "      <th>Age1stCode</th>\n",
       "      <th>YearsCodePro</th>\n",
       "      <th>CareerSat</th>\n",
       "      <th>JobSat</th>\n",
       "      <th>MgrIdiot</th>\n",
       "      <th>MgrMoney</th>\n",
       "      <th>MgrWant</th>\n",
       "      <th>JobSeek</th>\n",
       "      <th>LastHireDate</th>\n",
       "      <th>LastInt</th>\n",
       "      <th>FizzBuzz</th>\n",
       "      <th>JobFactors</th>\n",
       "      <th>ResumeUpdate</th>\n",
       "      <th>CurrencySymbol</th>\n",
       "      <th>CurrencyDesc</th>\n",
       "      <th>CompTotal</th>\n",
       "      <th>CompFreq</th>\n",
       "      <th>ConvertedComp</th>\n",
       "      <th>WorkWeekHrs</th>\n",
       "      <th>WorkPlan</th>\n",
       "      <th>WorkChallenge</th>\n",
       "      <th>WorkRemote</th>\n",
       "      <th>WorkLoc</th>\n",
       "      <th>ImpSyn</th>\n",
       "      <th>CodeRev</th>\n",
       "      <th>CodeRevHrs</th>\n",
       "      <th>UnitTests</th>\n",
       "      <th>PurchaseHow</th>\n",
       "      <th>PurchaseWhat</th>\n",
       "      <th>LanguageWorkedWith</th>\n",
       "      <th>LanguageDesireNextYear</th>\n",
       "      <th>DatabaseWorkedWith</th>\n",
       "      <th>DatabaseDesireNextYear</th>\n",
       "      <th>PlatformWorkedWith</th>\n",
       "      <th>PlatformDesireNextYear</th>\n",
       "      <th>WebFrameWorkedWith</th>\n",
       "      <th>WebFrameDesireNextYear</th>\n",
       "      <th>MiscTechWorkedWith</th>\n",
       "      <th>MiscTechDesireNextYear</th>\n",
       "      <th>DevEnviron</th>\n",
       "      <th>OpSys</th>\n",
       "      <th>Containers</th>\n",
       "      <th>BlockchainOrg</th>\n",
       "      <th>BlockchainIs</th>\n",
       "      <th>BetterLife</th>\n",
       "      <th>ITperson</th>\n",
       "      <th>OffOn</th>\n",
       "      <th>SocialMedia</th>\n",
       "      <th>Extraversion</th>\n",
       "      <th>ScreenName</th>\n",
       "      <th>SOVisit1st</th>\n",
       "      <th>SOVisitFreq</th>\n",
       "      <th>SOVisitTo</th>\n",
       "      <th>SOFindAnswer</th>\n",
       "      <th>SOTimeSaved</th>\n",
       "      <th>SOHowMuchTime</th>\n",
       "      <th>SOAccount</th>\n",
       "      <th>SOPartFreq</th>\n",
       "      <th>SOJobs</th>\n",
       "      <th>EntTeams</th>\n",
       "      <th>SOComm</th>\n",
       "      <th>WelcomeChange</th>\n",
       "      <th>SONewContent</th>\n",
       "      <th>Age</th>\n",
       "      <th>Gender</th>\n",
       "      <th>Trans</th>\n",
       "      <th>Sexuality</th>\n",
       "      <th>Ethnicity</th>\n",
       "      <th>Dependents</th>\n",
       "      <th>SurveyLength</th>\n",
       "      <th>SurveyEase</th>\n",
       "    </tr>\n",
       "  </thead>\n",
       "  <tbody>\n",
       "    <tr>\n",
       "      <th>2</th>\n",
       "      <td>3</td>\n",
       "      <td>I am not primarily a developer, but I write co...</td>\n",
       "      <td>Yes</td>\n",
       "      <td>Never</td>\n",
       "      <td>The quality of OSS and closed source software ...</td>\n",
       "      <td>Employed full-time</td>\n",
       "      <td>Thailand</td>\n",
       "      <td>No</td>\n",
       "      <td>Bachelor’s degree (BA, BS, B.Eng., etc.)</td>\n",
       "      <td>Web development or web design</td>\n",
       "      <td>Taught yourself a new language, framework, or ...</td>\n",
       "      <td>100 to 499 employees</td>\n",
       "      <td>Designer;Developer, back-end;Developer, front-...</td>\n",
       "      <td>3</td>\n",
       "      <td>22</td>\n",
       "      <td>1</td>\n",
       "      <td>Slightly satisfied</td>\n",
       "      <td>Slightly satisfied</td>\n",
       "      <td>Not at all confident</td>\n",
       "      <td>Not sure</td>\n",
       "      <td>Not sure</td>\n",
       "      <td>I’m not actively looking, but I am open to new...</td>\n",
       "      <td>1-2 years ago</td>\n",
       "      <td>Interview with people in peer roles</td>\n",
       "      <td>No</td>\n",
       "      <td>Languages, frameworks, and other technologies ...</td>\n",
       "      <td>I was preparing for a job search</td>\n",
       "      <td>THB</td>\n",
       "      <td>Thai baht</td>\n",
       "      <td>23000.0</td>\n",
       "      <td>Monthly</td>\n",
       "      <td>8820.0</td>\n",
       "      <td>40.00</td>\n",
       "      <td>There's no schedule or spec; I work on what se...</td>\n",
       "      <td>Distracting work environment;Inadequate access...</td>\n",
       "      <td>Less than once per month / Never</td>\n",
       "      <td>Home</td>\n",
       "      <td>Average</td>\n",
       "      <td>No</td>\n",
       "      <td>NaN</td>\n",
       "      <td>No, but I think we should</td>\n",
       "      <td>Not sure</td>\n",
       "      <td>I have little or no influence</td>\n",
       "      <td>HTML/CSS</td>\n",
       "      <td>Elixir;HTML/CSS</td>\n",
       "      <td>PostgreSQL</td>\n",
       "      <td>PostgreSQL</td>\n",
       "      <td>NaN</td>\n",
       "      <td>NaN</td>\n",
       "      <td>NaN</td>\n",
       "      <td>Other(s):</td>\n",
       "      <td>NaN</td>\n",
       "      <td>NaN</td>\n",
       "      <td>Vim;Visual Studio Code</td>\n",
       "      <td>Linux-based</td>\n",
       "      <td>I do not use containers</td>\n",
       "      <td>NaN</td>\n",
       "      <td>NaN</td>\n",
       "      <td>Yes</td>\n",
       "      <td>Yes</td>\n",
       "      <td>Yes</td>\n",
       "      <td>Reddit</td>\n",
       "      <td>In real life (in person)</td>\n",
       "      <td>Username</td>\n",
       "      <td>2011</td>\n",
       "      <td>A few times per week</td>\n",
       "      <td>Find answers to specific questions;Learn how t...</td>\n",
       "      <td>6-10 times per week</td>\n",
       "      <td>They were about the same</td>\n",
       "      <td>NaN</td>\n",
       "      <td>Yes</td>\n",
       "      <td>Less than once per month or monthly</td>\n",
       "      <td>Yes</td>\n",
       "      <td>No, I've heard of them, but I am not part of a...</td>\n",
       "      <td>Neutral</td>\n",
       "      <td>Just as welcome now as I felt last year</td>\n",
       "      <td>Tech meetups or events in your area;Courses on...</td>\n",
       "      <td>28.0</td>\n",
       "      <td>Man</td>\n",
       "      <td>No</td>\n",
       "      <td>Straight / Heterosexual</td>\n",
       "      <td>NaN</td>\n",
       "      <td>Yes</td>\n",
       "      <td>Appropriate in length</td>\n",
       "      <td>Neither easy nor difficult</td>\n",
       "    </tr>\n",
       "    <tr>\n",
       "      <th>3</th>\n",
       "      <td>4</td>\n",
       "      <td>I am a developer by profession</td>\n",
       "      <td>No</td>\n",
       "      <td>Never</td>\n",
       "      <td>The quality of OSS and closed source software ...</td>\n",
       "      <td>Employed full-time</td>\n",
       "      <td>United States</td>\n",
       "      <td>No</td>\n",
       "      <td>Bachelor’s degree (BA, BS, B.Eng., etc.)</td>\n",
       "      <td>Computer science, computer engineering, or sof...</td>\n",
       "      <td>Taken an online course in programming or softw...</td>\n",
       "      <td>100 to 499 employees</td>\n",
       "      <td>Developer, full-stack</td>\n",
       "      <td>3</td>\n",
       "      <td>16</td>\n",
       "      <td>Less than 1 year</td>\n",
       "      <td>Very satisfied</td>\n",
       "      <td>Slightly satisfied</td>\n",
       "      <td>Very confident</td>\n",
       "      <td>No</td>\n",
       "      <td>Not sure</td>\n",
       "      <td>I am not interested in new job opportunities</td>\n",
       "      <td>Less than a year ago</td>\n",
       "      <td>Write code by hand (e.g., on a whiteboard);Int...</td>\n",
       "      <td>No</td>\n",
       "      <td>Languages, frameworks, and other technologies ...</td>\n",
       "      <td>I was preparing for a job search</td>\n",
       "      <td>USD</td>\n",
       "      <td>United States dollar</td>\n",
       "      <td>61000.0</td>\n",
       "      <td>Yearly</td>\n",
       "      <td>61000.0</td>\n",
       "      <td>80.00</td>\n",
       "      <td>There's no schedule or spec; I work on what se...</td>\n",
       "      <td>NaN</td>\n",
       "      <td>Less than once per month / Never</td>\n",
       "      <td>Home</td>\n",
       "      <td>A little below average</td>\n",
       "      <td>No</td>\n",
       "      <td>NaN</td>\n",
       "      <td>No, but I think we should</td>\n",
       "      <td>Developers typically have the most influence o...</td>\n",
       "      <td>I have little or no influence</td>\n",
       "      <td>C;C++;C#;Python;SQL</td>\n",
       "      <td>C;C#;JavaScript;SQL</td>\n",
       "      <td>MySQL;SQLite</td>\n",
       "      <td>MySQL;SQLite</td>\n",
       "      <td>Linux;Windows</td>\n",
       "      <td>Linux;Windows</td>\n",
       "      <td>NaN</td>\n",
       "      <td>NaN</td>\n",
       "      <td>.NET</td>\n",
       "      <td>.NET</td>\n",
       "      <td>Eclipse;Vim;Visual Studio;Visual Studio Code</td>\n",
       "      <td>Windows</td>\n",
       "      <td>I do not use containers</td>\n",
       "      <td>Not at all</td>\n",
       "      <td>Useful for decentralized currency (i.e., Bitcoin)</td>\n",
       "      <td>Yes</td>\n",
       "      <td>SIGH</td>\n",
       "      <td>Yes</td>\n",
       "      <td>Reddit</td>\n",
       "      <td>In real life (in person)</td>\n",
       "      <td>Username</td>\n",
       "      <td>2014</td>\n",
       "      <td>Daily or almost daily</td>\n",
       "      <td>Find answers to specific questions;Pass the ti...</td>\n",
       "      <td>1-2 times per week</td>\n",
       "      <td>Stack Overflow was much faster</td>\n",
       "      <td>31-60 minutes</td>\n",
       "      <td>Yes</td>\n",
       "      <td>Less than once per month or monthly</td>\n",
       "      <td>Yes</td>\n",
       "      <td>No, and I don't know what those are</td>\n",
       "      <td>No, not really</td>\n",
       "      <td>Just as welcome now as I felt last year</td>\n",
       "      <td>Tech articles written by other developers;Indu...</td>\n",
       "      <td>22.0</td>\n",
       "      <td>Man</td>\n",
       "      <td>No</td>\n",
       "      <td>Straight / Heterosexual</td>\n",
       "      <td>White or of European descent</td>\n",
       "      <td>No</td>\n",
       "      <td>Appropriate in length</td>\n",
       "      <td>Easy</td>\n",
       "    </tr>\n",
       "    <tr>\n",
       "      <th>5</th>\n",
       "      <td>6</td>\n",
       "      <td>I am not primarily a developer, but I write co...</td>\n",
       "      <td>Yes</td>\n",
       "      <td>Never</td>\n",
       "      <td>The quality of OSS and closed source software ...</td>\n",
       "      <td>Employed full-time</td>\n",
       "      <td>Canada</td>\n",
       "      <td>No</td>\n",
       "      <td>Bachelor’s degree (BA, BS, B.Eng., etc.)</td>\n",
       "      <td>Mathematics or statistics</td>\n",
       "      <td>Taken an online course in programming or softw...</td>\n",
       "      <td>NaN</td>\n",
       "      <td>Data or business analyst;Data scientist or mac...</td>\n",
       "      <td>13</td>\n",
       "      <td>15</td>\n",
       "      <td>3</td>\n",
       "      <td>Very satisfied</td>\n",
       "      <td>Slightly satisfied</td>\n",
       "      <td>Very confident</td>\n",
       "      <td>No</td>\n",
       "      <td>Yes</td>\n",
       "      <td>I am not interested in new job opportunities</td>\n",
       "      <td>1-2 years ago</td>\n",
       "      <td>Write any code;Complete a take-home project;In...</td>\n",
       "      <td>No</td>\n",
       "      <td>Financial performance or funding status of the...</td>\n",
       "      <td>I heard about a job opportunity (from a recrui...</td>\n",
       "      <td>CAD</td>\n",
       "      <td>Canadian dollar</td>\n",
       "      <td>40000.0</td>\n",
       "      <td>Monthly</td>\n",
       "      <td>366420.0</td>\n",
       "      <td>15.00</td>\n",
       "      <td>There's no schedule or spec; I work on what se...</td>\n",
       "      <td>NaN</td>\n",
       "      <td>A few days each month</td>\n",
       "      <td>Home</td>\n",
       "      <td>A little above average</td>\n",
       "      <td>No</td>\n",
       "      <td>NaN</td>\n",
       "      <td>Yes, it's not part of our process but the deve...</td>\n",
       "      <td>Not sure</td>\n",
       "      <td>I have little or no influence</td>\n",
       "      <td>Java;R;SQL</td>\n",
       "      <td>Python;Scala;SQL</td>\n",
       "      <td>MongoDB;PostgreSQL</td>\n",
       "      <td>PostgreSQL</td>\n",
       "      <td>Android;Google Cloud Platform;Linux;Windows</td>\n",
       "      <td>Android;Google Cloud Platform;Linux;Windows</td>\n",
       "      <td>NaN</td>\n",
       "      <td>NaN</td>\n",
       "      <td>Hadoop</td>\n",
       "      <td>Hadoop;Pandas;TensorFlow;Unity 3D</td>\n",
       "      <td>Android Studio;Eclipse;PyCharm;RStudio;Visual ...</td>\n",
       "      <td>Windows</td>\n",
       "      <td>I do not use containers</td>\n",
       "      <td>Not at all</td>\n",
       "      <td>NaN</td>\n",
       "      <td>No</td>\n",
       "      <td>Yes</td>\n",
       "      <td>No</td>\n",
       "      <td>YouTube</td>\n",
       "      <td>In real life (in person)</td>\n",
       "      <td>Login</td>\n",
       "      <td>2011</td>\n",
       "      <td>A few times per month or weekly</td>\n",
       "      <td>Find answers to specific questions</td>\n",
       "      <td>Less than once per week</td>\n",
       "      <td>Stack Overflow was slightly faster</td>\n",
       "      <td>60+ minutes</td>\n",
       "      <td>Yes</td>\n",
       "      <td>I have never participated in Q&amp;A on Stack Over...</td>\n",
       "      <td>No, I knew that Stack Overflow had a job board...</td>\n",
       "      <td>No, and I don't know what those are</td>\n",
       "      <td>No, not really</td>\n",
       "      <td>Just as welcome now as I felt last year</td>\n",
       "      <td>Tech articles written by other developers;Indu...</td>\n",
       "      <td>28.0</td>\n",
       "      <td>Man</td>\n",
       "      <td>No</td>\n",
       "      <td>Straight / Heterosexual</td>\n",
       "      <td>East Asian</td>\n",
       "      <td>No</td>\n",
       "      <td>Too long</td>\n",
       "      <td>Neither easy nor difficult</td>\n",
       "    </tr>\n",
       "    <tr>\n",
       "      <th>8</th>\n",
       "      <td>9</td>\n",
       "      <td>I am a developer by profession</td>\n",
       "      <td>Yes</td>\n",
       "      <td>Once a month or more often</td>\n",
       "      <td>The quality of OSS and closed source software ...</td>\n",
       "      <td>Employed full-time</td>\n",
       "      <td>New Zealand</td>\n",
       "      <td>No</td>\n",
       "      <td>Some college/university study without earning ...</td>\n",
       "      <td>Computer science, computer engineering, or sof...</td>\n",
       "      <td>Taken an online course in programming or softw...</td>\n",
       "      <td>10 to 19 employees</td>\n",
       "      <td>Database administrator;Developer, back-end;Dev...</td>\n",
       "      <td>12</td>\n",
       "      <td>11</td>\n",
       "      <td>4</td>\n",
       "      <td>Slightly satisfied</td>\n",
       "      <td>Slightly satisfied</td>\n",
       "      <td>Somewhat confident</td>\n",
       "      <td>No</td>\n",
       "      <td>Not sure</td>\n",
       "      <td>I’m not actively looking, but I am open to new...</td>\n",
       "      <td>Less than a year ago</td>\n",
       "      <td>Write any code;Interview with people in peer r...</td>\n",
       "      <td>Yes</td>\n",
       "      <td>Financial performance or funding status of the...</td>\n",
       "      <td>I was preparing for a job search</td>\n",
       "      <td>NZD</td>\n",
       "      <td>New Zealand dollar</td>\n",
       "      <td>138000.0</td>\n",
       "      <td>Yearly</td>\n",
       "      <td>95179.0</td>\n",
       "      <td>32.00</td>\n",
       "      <td>There is a schedule and/or spec (made by me or...</td>\n",
       "      <td>Being tasked with non-development work;Inadequ...</td>\n",
       "      <td>Less than once per month / Never</td>\n",
       "      <td>Office</td>\n",
       "      <td>A little above average</td>\n",
       "      <td>Yes, because I see value in code review</td>\n",
       "      <td>12.0</td>\n",
       "      <td>Yes, it's not part of our process but the deve...</td>\n",
       "      <td>Not sure</td>\n",
       "      <td>I have some influence</td>\n",
       "      <td>Bash/Shell/PowerShell;C#;HTML/CSS;JavaScript;P...</td>\n",
       "      <td>Bash/Shell/PowerShell;C;HTML/CSS;JavaScript;Ru...</td>\n",
       "      <td>DynamoDB;PostgreSQL;SQLite</td>\n",
       "      <td>PostgreSQL;Redis;SQLite</td>\n",
       "      <td>AWS;Docker;Heroku;Linux;MacOS;Slack</td>\n",
       "      <td>AWS;Docker;Heroku;Linux;MacOS;Slack;Other(s):</td>\n",
       "      <td>Express;Ruby on Rails;Other(s):</td>\n",
       "      <td>Express;Ruby on Rails;Other(s):</td>\n",
       "      <td>Node.js;Unity 3D</td>\n",
       "      <td>Node.js</td>\n",
       "      <td>Vim</td>\n",
       "      <td>MacOS</td>\n",
       "      <td>Development;Testing;Production</td>\n",
       "      <td>Not at all</td>\n",
       "      <td>An irresponsible use of resources</td>\n",
       "      <td>No</td>\n",
       "      <td>SIGH</td>\n",
       "      <td>Yes</td>\n",
       "      <td>Twitter</td>\n",
       "      <td>In real life (in person)</td>\n",
       "      <td>Username</td>\n",
       "      <td>2013</td>\n",
       "      <td>Daily or almost daily</td>\n",
       "      <td>Find answers to specific questions;Contribute ...</td>\n",
       "      <td>3-5 times per week</td>\n",
       "      <td>They were about the same</td>\n",
       "      <td>NaN</td>\n",
       "      <td>Yes</td>\n",
       "      <td>Less than once per month or monthly</td>\n",
       "      <td>No, I knew that Stack Overflow had a job board...</td>\n",
       "      <td>No, and I don't know what those are</td>\n",
       "      <td>Yes, somewhat</td>\n",
       "      <td>Just as welcome now as I felt last year</td>\n",
       "      <td>NaN</td>\n",
       "      <td>23.0</td>\n",
       "      <td>Man</td>\n",
       "      <td>No</td>\n",
       "      <td>Bisexual</td>\n",
       "      <td>White or of European descent</td>\n",
       "      <td>No</td>\n",
       "      <td>Appropriate in length</td>\n",
       "      <td>Neither easy nor difficult</td>\n",
       "    </tr>\n",
       "    <tr>\n",
       "      <th>9</th>\n",
       "      <td>10</td>\n",
       "      <td>I am a developer by profession</td>\n",
       "      <td>Yes</td>\n",
       "      <td>Once a month or more often</td>\n",
       "      <td>OSS is, on average, of HIGHER quality than pro...</td>\n",
       "      <td>Employed full-time</td>\n",
       "      <td>India</td>\n",
       "      <td>No</td>\n",
       "      <td>Master’s degree (MA, MS, M.Eng., MBA, etc.)</td>\n",
       "      <td>NaN</td>\n",
       "      <td>NaN</td>\n",
       "      <td>10,000 or more employees</td>\n",
       "      <td>Data or business analyst;Data scientist or mac...</td>\n",
       "      <td>12</td>\n",
       "      <td>20</td>\n",
       "      <td>10</td>\n",
       "      <td>Slightly dissatisfied</td>\n",
       "      <td>Slightly dissatisfied</td>\n",
       "      <td>Somewhat confident</td>\n",
       "      <td>Yes</td>\n",
       "      <td>Yes</td>\n",
       "      <td>I’m not actively looking, but I am open to new...</td>\n",
       "      <td>3-4 years ago</td>\n",
       "      <td>NaN</td>\n",
       "      <td>No</td>\n",
       "      <td>Languages, frameworks, and other technologies ...</td>\n",
       "      <td>NaN</td>\n",
       "      <td>INR</td>\n",
       "      <td>Indian rupee</td>\n",
       "      <td>950000.0</td>\n",
       "      <td>Yearly</td>\n",
       "      <td>13293.0</td>\n",
       "      <td>70.00</td>\n",
       "      <td>There's no schedule or spec; I work on what se...</td>\n",
       "      <td>NaN</td>\n",
       "      <td>A few days each month</td>\n",
       "      <td>Home</td>\n",
       "      <td>Far above average</td>\n",
       "      <td>Yes, because I see value in code review</td>\n",
       "      <td>4.0</td>\n",
       "      <td>Yes, it's part of our process</td>\n",
       "      <td>NaN</td>\n",
       "      <td>NaN</td>\n",
       "      <td>C#;Go;JavaScript;Python;R;SQL</td>\n",
       "      <td>C#;Go;JavaScript;Kotlin;Python;R;SQL</td>\n",
       "      <td>Elasticsearch;MongoDB;Microsoft SQL Server;MyS...</td>\n",
       "      <td>Elasticsearch;MongoDB;Microsoft SQL Server</td>\n",
       "      <td>Linux;Windows</td>\n",
       "      <td>Android;Linux;Raspberry Pi;Windows</td>\n",
       "      <td>Angular/Angular.js;ASP.NET;Django;Express;Flas...</td>\n",
       "      <td>Angular/Angular.js;ASP.NET;Django;Express;Flas...</td>\n",
       "      <td>.NET;Node.js;Pandas;Torch/PyTorch</td>\n",
       "      <td>.NET;Node.js;TensorFlow;Torch/PyTorch</td>\n",
       "      <td>Android Studio;Eclipse;IPython / Jupyter;Notep...</td>\n",
       "      <td>Windows</td>\n",
       "      <td>NaN</td>\n",
       "      <td>Not at all</td>\n",
       "      <td>Useful for immutable record keeping outside of...</td>\n",
       "      <td>No</td>\n",
       "      <td>Yes</td>\n",
       "      <td>Yes</td>\n",
       "      <td>YouTube</td>\n",
       "      <td>Neither</td>\n",
       "      <td>Screen Name</td>\n",
       "      <td>NaN</td>\n",
       "      <td>Multiple times per day</td>\n",
       "      <td>Find answers to specific questions;Get a sense...</td>\n",
       "      <td>3-5 times per week</td>\n",
       "      <td>They were about the same</td>\n",
       "      <td>NaN</td>\n",
       "      <td>Yes</td>\n",
       "      <td>A few times per month or weekly</td>\n",
       "      <td>Yes</td>\n",
       "      <td>No, and I don't know what those are</td>\n",
       "      <td>Yes, somewhat</td>\n",
       "      <td>Somewhat less welcome now than last year</td>\n",
       "      <td>Tech articles written by other developers;Tech...</td>\n",
       "      <td>NaN</td>\n",
       "      <td>NaN</td>\n",
       "      <td>NaN</td>\n",
       "      <td>NaN</td>\n",
       "      <td>NaN</td>\n",
       "      <td>Yes</td>\n",
       "      <td>Too long</td>\n",
       "      <td>Difficult</td>\n",
       "    </tr>\n",
       "    <tr>\n",
       "      <th>...</th>\n",
       "      <td>...</td>\n",
       "      <td>...</td>\n",
       "      <td>...</td>\n",
       "      <td>...</td>\n",
       "      <td>...</td>\n",
       "      <td>...</td>\n",
       "      <td>...</td>\n",
       "      <td>...</td>\n",
       "      <td>...</td>\n",
       "      <td>...</td>\n",
       "      <td>...</td>\n",
       "      <td>...</td>\n",
       "      <td>...</td>\n",
       "      <td>...</td>\n",
       "      <td>...</td>\n",
       "      <td>...</td>\n",
       "      <td>...</td>\n",
       "      <td>...</td>\n",
       "      <td>...</td>\n",
       "      <td>...</td>\n",
       "      <td>...</td>\n",
       "      <td>...</td>\n",
       "      <td>...</td>\n",
       "      <td>...</td>\n",
       "      <td>...</td>\n",
       "      <td>...</td>\n",
       "      <td>...</td>\n",
       "      <td>...</td>\n",
       "      <td>...</td>\n",
       "      <td>...</td>\n",
       "      <td>...</td>\n",
       "      <td>...</td>\n",
       "      <td>...</td>\n",
       "      <td>...</td>\n",
       "      <td>...</td>\n",
       "      <td>...</td>\n",
       "      <td>...</td>\n",
       "      <td>...</td>\n",
       "      <td>...</td>\n",
       "      <td>...</td>\n",
       "      <td>...</td>\n",
       "      <td>...</td>\n",
       "      <td>...</td>\n",
       "      <td>...</td>\n",
       "      <td>...</td>\n",
       "      <td>...</td>\n",
       "      <td>...</td>\n",
       "      <td>...</td>\n",
       "      <td>...</td>\n",
       "      <td>...</td>\n",
       "      <td>...</td>\n",
       "      <td>...</td>\n",
       "      <td>...</td>\n",
       "      <td>...</td>\n",
       "      <td>...</td>\n",
       "      <td>...</td>\n",
       "      <td>...</td>\n",
       "      <td>...</td>\n",
       "      <td>...</td>\n",
       "      <td>...</td>\n",
       "      <td>...</td>\n",
       "      <td>...</td>\n",
       "      <td>...</td>\n",
       "      <td>...</td>\n",
       "      <td>...</td>\n",
       "      <td>...</td>\n",
       "      <td>...</td>\n",
       "      <td>...</td>\n",
       "      <td>...</td>\n",
       "      <td>...</td>\n",
       "      <td>...</td>\n",
       "      <td>...</td>\n",
       "      <td>...</td>\n",
       "      <td>...</td>\n",
       "      <td>...</td>\n",
       "      <td>...</td>\n",
       "      <td>...</td>\n",
       "      <td>...</td>\n",
       "      <td>...</td>\n",
       "      <td>...</td>\n",
       "      <td>...</td>\n",
       "      <td>...</td>\n",
       "      <td>...</td>\n",
       "      <td>...</td>\n",
       "      <td>...</td>\n",
       "    </tr>\n",
       "    <tr>\n",
       "      <th>88324</th>\n",
       "      <td>88877</td>\n",
       "      <td>I am a developer by profession</td>\n",
       "      <td>Yes</td>\n",
       "      <td>Less than once per year</td>\n",
       "      <td>OSS is, on average, of HIGHER quality than pro...</td>\n",
       "      <td>Employed full-time</td>\n",
       "      <td>United States</td>\n",
       "      <td>No</td>\n",
       "      <td>Bachelor’s degree (BA, BS, B.Eng., etc.)</td>\n",
       "      <td>Computer science, computer engineering, or sof...</td>\n",
       "      <td>Taken an online course in programming or softw...</td>\n",
       "      <td>500 to 999 employees</td>\n",
       "      <td>Data scientist or machine learning specialist;...</td>\n",
       "      <td>31</td>\n",
       "      <td>18</td>\n",
       "      <td>28</td>\n",
       "      <td>Very satisfied</td>\n",
       "      <td>Very satisfied</td>\n",
       "      <td>Very confident</td>\n",
       "      <td>Yes</td>\n",
       "      <td>Yes</td>\n",
       "      <td>I’m not actively looking, but I am open to new...</td>\n",
       "      <td>More than 4 years ago</td>\n",
       "      <td>Interview with people in senior / management r...</td>\n",
       "      <td>Yes</td>\n",
       "      <td>Industry that I'd be working in;Languages, fra...</td>\n",
       "      <td>I heard about a job opportunity (from a recrui...</td>\n",
       "      <td>USD</td>\n",
       "      <td>United States dollar</td>\n",
       "      <td>239000.0</td>\n",
       "      <td>Weekly</td>\n",
       "      <td>2000000.0</td>\n",
       "      <td>45.00</td>\n",
       "      <td>There is a schedule and/or spec (made by me or...</td>\n",
       "      <td>Meetings;Not enough people for the workload</td>\n",
       "      <td>Less than once per month / Never</td>\n",
       "      <td>Office</td>\n",
       "      <td>Far above average</td>\n",
       "      <td>Yes, because I see value in code review</td>\n",
       "      <td>5.0</td>\n",
       "      <td>No, but I think we should</td>\n",
       "      <td>Developers and management have nearly equal in...</td>\n",
       "      <td>I have some influence</td>\n",
       "      <td>Bash/Shell/PowerShell;C;Clojure;HTML/CSS;Java;...</td>\n",
       "      <td>Bash/Shell/PowerShell;Clojure;HTML/CSS;Java;Ja...</td>\n",
       "      <td>Oracle</td>\n",
       "      <td>Oracle</td>\n",
       "      <td>Docker;iOS;Kubernetes;Linux;Slack;Windows;Othe...</td>\n",
       "      <td>Other(s):</td>\n",
       "      <td>Other(s):</td>\n",
       "      <td>Other(s):</td>\n",
       "      <td>Apache Spark</td>\n",
       "      <td>Apache Spark</td>\n",
       "      <td>Atom;Emacs;IntelliJ;IPython / Jupyter;PyCharm;...</td>\n",
       "      <td>Windows</td>\n",
       "      <td>Development;Testing;Production</td>\n",
       "      <td>Implementing cryptocurrency-based products</td>\n",
       "      <td>An irresponsible use of resources</td>\n",
       "      <td>Yes</td>\n",
       "      <td>Yes</td>\n",
       "      <td>No</td>\n",
       "      <td>Facebook</td>\n",
       "      <td>Online</td>\n",
       "      <td>Screen Name</td>\n",
       "      <td>NaN</td>\n",
       "      <td>A few times per month or weekly</td>\n",
       "      <td>Find answers to specific questions</td>\n",
       "      <td>Less than once per week</td>\n",
       "      <td>Stack Overflow was much faster</td>\n",
       "      <td>11-30 minutes</td>\n",
       "      <td>Yes</td>\n",
       "      <td>I have never participated in Q&amp;A on Stack Over...</td>\n",
       "      <td>No, I knew that Stack Overflow had a job board...</td>\n",
       "      <td>No, and I don't know what those are</td>\n",
       "      <td>Yes, somewhat</td>\n",
       "      <td>Somewhat more welcome now than last year</td>\n",
       "      <td>Tech articles written by other developers;Cour...</td>\n",
       "      <td>48.0</td>\n",
       "      <td>Man</td>\n",
       "      <td>No</td>\n",
       "      <td>Straight / Heterosexual</td>\n",
       "      <td>South Asian</td>\n",
       "      <td>Yes</td>\n",
       "      <td>Too long</td>\n",
       "      <td>Neither easy nor difficult</td>\n",
       "    </tr>\n",
       "    <tr>\n",
       "      <th>88325</th>\n",
       "      <td>88878</td>\n",
       "      <td>I am a developer by profession</td>\n",
       "      <td>Yes</td>\n",
       "      <td>Less than once per year</td>\n",
       "      <td>The quality of OSS and closed source software ...</td>\n",
       "      <td>Employed full-time</td>\n",
       "      <td>United States</td>\n",
       "      <td>No</td>\n",
       "      <td>Bachelor’s degree (BA, BS, B.Eng., etc.)</td>\n",
       "      <td>Computer science, computer engineering, or sof...</td>\n",
       "      <td>Taken an online course in programming or softw...</td>\n",
       "      <td>20 to 99 employees</td>\n",
       "      <td>Developer, back-end;Developer, front-end;Devel...</td>\n",
       "      <td>12</td>\n",
       "      <td>14</td>\n",
       "      <td>3</td>\n",
       "      <td>Very satisfied</td>\n",
       "      <td>Very satisfied</td>\n",
       "      <td>Very confident</td>\n",
       "      <td>Yes</td>\n",
       "      <td>Yes</td>\n",
       "      <td>I am not interested in new job opportunities</td>\n",
       "      <td>Less than a year ago</td>\n",
       "      <td>Write any code;Write code by hand (e.g., on a ...</td>\n",
       "      <td>No</td>\n",
       "      <td>Languages, frameworks, and other technologies ...</td>\n",
       "      <td>I was preparing for a job search</td>\n",
       "      <td>USD</td>\n",
       "      <td>United States dollar</td>\n",
       "      <td>130000.0</td>\n",
       "      <td>Yearly</td>\n",
       "      <td>130000.0</td>\n",
       "      <td>40.00</td>\n",
       "      <td>There is a schedule and/or spec (made by me or...</td>\n",
       "      <td>Non-work commitments (parenting, school work, ...</td>\n",
       "      <td>A few days each month</td>\n",
       "      <td>Office</td>\n",
       "      <td>Far above average</td>\n",
       "      <td>Yes, because I see value in code review</td>\n",
       "      <td>3.0</td>\n",
       "      <td>No, and I'm glad we don't</td>\n",
       "      <td>Developers and management have nearly equal in...</td>\n",
       "      <td>I have some influence</td>\n",
       "      <td>HTML/CSS;JavaScript;Scala;TypeScript</td>\n",
       "      <td>JavaScript;Rust;Scala;TypeScript</td>\n",
       "      <td>PostgreSQL</td>\n",
       "      <td>PostgreSQL</td>\n",
       "      <td>Slack</td>\n",
       "      <td>Slack</td>\n",
       "      <td>React.js;Other(s):</td>\n",
       "      <td>React.js;Other(s):</td>\n",
       "      <td>Node.js</td>\n",
       "      <td>Node.js</td>\n",
       "      <td>IntelliJ;Sublime Text;Visual Studio Code</td>\n",
       "      <td>MacOS</td>\n",
       "      <td>Production</td>\n",
       "      <td>Not at all</td>\n",
       "      <td>Useful for decentralized currency (i.e., Bitcoin)</td>\n",
       "      <td>Yes</td>\n",
       "      <td>Yes</td>\n",
       "      <td>Yes</td>\n",
       "      <td>Twitter</td>\n",
       "      <td>Online</td>\n",
       "      <td>Username</td>\n",
       "      <td>2010</td>\n",
       "      <td>Multiple times per day</td>\n",
       "      <td>Find answers to specific questions;Learn how t...</td>\n",
       "      <td>3-5 times per week</td>\n",
       "      <td>Stack Overflow was much faster</td>\n",
       "      <td>0-10 minutes</td>\n",
       "      <td>Yes</td>\n",
       "      <td>A few times per week</td>\n",
       "      <td>Yes</td>\n",
       "      <td>No, I've heard of them, but I am not part of a...</td>\n",
       "      <td>Yes, somewhat</td>\n",
       "      <td>Just as welcome now as I felt last year</td>\n",
       "      <td>Tech articles written by other developers;Indu...</td>\n",
       "      <td>26.0</td>\n",
       "      <td>Man</td>\n",
       "      <td>No</td>\n",
       "      <td>Straight / Heterosexual</td>\n",
       "      <td>South Asian</td>\n",
       "      <td>No</td>\n",
       "      <td>Appropriate in length</td>\n",
       "      <td>Easy</td>\n",
       "    </tr>\n",
       "    <tr>\n",
       "      <th>88326</th>\n",
       "      <td>88879</td>\n",
       "      <td>I am a developer by profession</td>\n",
       "      <td>Yes</td>\n",
       "      <td>Never</td>\n",
       "      <td>The quality of OSS and closed source software ...</td>\n",
       "      <td>Employed full-time</td>\n",
       "      <td>Finland</td>\n",
       "      <td>No</td>\n",
       "      <td>Master’s degree (MA, MS, M.Eng., MBA, etc.)</td>\n",
       "      <td>Computer science, computer engineering, or sof...</td>\n",
       "      <td>Taught yourself a new language, framework, or ...</td>\n",
       "      <td>20 to 99 employees</td>\n",
       "      <td>Developer, desktop or enterprise applications;...</td>\n",
       "      <td>17</td>\n",
       "      <td>16</td>\n",
       "      <td>7</td>\n",
       "      <td>Slightly satisfied</td>\n",
       "      <td>Neither satisfied nor dissatisfied</td>\n",
       "      <td>Not at all confident</td>\n",
       "      <td>Not sure</td>\n",
       "      <td>I am already a manager</td>\n",
       "      <td>I’m not actively looking, but I am open to new...</td>\n",
       "      <td>More than 4 years ago</td>\n",
       "      <td>Complete a take-home project;Interview with pe...</td>\n",
       "      <td>No</td>\n",
       "      <td>Languages, frameworks, and other technologies ...</td>\n",
       "      <td>I had a negative experience or interaction at ...</td>\n",
       "      <td>EUR</td>\n",
       "      <td>European Euro</td>\n",
       "      <td>6000.0</td>\n",
       "      <td>Monthly</td>\n",
       "      <td>82488.0</td>\n",
       "      <td>37.75</td>\n",
       "      <td>There is a schedule and/or spec (made by me or...</td>\n",
       "      <td>Being tasked with non-development work;Distrac...</td>\n",
       "      <td>Less than once per month / Never</td>\n",
       "      <td>Home</td>\n",
       "      <td>Far above average</td>\n",
       "      <td>Yes, because I see value in code review</td>\n",
       "      <td>10.0</td>\n",
       "      <td>Yes, it's part of our process</td>\n",
       "      <td>Developers and management have nearly equal in...</td>\n",
       "      <td>I have little or no influence</td>\n",
       "      <td>Bash/Shell/PowerShell;C++;Python</td>\n",
       "      <td>C++</td>\n",
       "      <td>NaN</td>\n",
       "      <td>NaN</td>\n",
       "      <td>Android;Linux;Windows</td>\n",
       "      <td>Linux;Windows</td>\n",
       "      <td>NaN</td>\n",
       "      <td>NaN</td>\n",
       "      <td>NaN</td>\n",
       "      <td>TensorFlow;Unity 3D;Unreal Engine</td>\n",
       "      <td>Android Studio;Notepad++;Vim;Visual Studio</td>\n",
       "      <td>Windows</td>\n",
       "      <td>I do not use containers</td>\n",
       "      <td>Not at all</td>\n",
       "      <td>A passing fad</td>\n",
       "      <td>Yes</td>\n",
       "      <td>NaN</td>\n",
       "      <td>NaN</td>\n",
       "      <td>YouTube</td>\n",
       "      <td>Neither</td>\n",
       "      <td>Username</td>\n",
       "      <td>I don't remember</td>\n",
       "      <td>A few times per month or weekly</td>\n",
       "      <td>Find answers to specific questions</td>\n",
       "      <td>Less than once per week</td>\n",
       "      <td>Stack Overflow was slightly faster</td>\n",
       "      <td>60+ minutes</td>\n",
       "      <td>No</td>\n",
       "      <td>NaN</td>\n",
       "      <td>No, I didn't know that Stack Overflow had a jo...</td>\n",
       "      <td>No, and I don't know what those are</td>\n",
       "      <td>No, not at all</td>\n",
       "      <td>Not applicable - I did not use Stack Overflow ...</td>\n",
       "      <td>NaN</td>\n",
       "      <td>34.0</td>\n",
       "      <td>Man</td>\n",
       "      <td>No</td>\n",
       "      <td>Straight / Heterosexual</td>\n",
       "      <td>White or of European descent</td>\n",
       "      <td>No</td>\n",
       "      <td>Appropriate in length</td>\n",
       "      <td>Easy</td>\n",
       "    </tr>\n",
       "    <tr>\n",
       "      <th>88328</th>\n",
       "      <td>88881</td>\n",
       "      <td>I am a developer by profession</td>\n",
       "      <td>Yes</td>\n",
       "      <td>Once a month or more often</td>\n",
       "      <td>OSS is, on average, of HIGHER quality than pro...</td>\n",
       "      <td>Employed full-time</td>\n",
       "      <td>Austria</td>\n",
       "      <td>No</td>\n",
       "      <td>Master’s degree (MA, MS, M.Eng., MBA, etc.)</td>\n",
       "      <td>Computer science, computer engineering, or sof...</td>\n",
       "      <td>Taken an online course in programming or softw...</td>\n",
       "      <td>100 to 499 employees</td>\n",
       "      <td>Developer, full-stack;Engineer, site reliability</td>\n",
       "      <td>18</td>\n",
       "      <td>17</td>\n",
       "      <td>9</td>\n",
       "      <td>Neither satisfied nor dissatisfied</td>\n",
       "      <td>Neither satisfied nor dissatisfied</td>\n",
       "      <td>Very confident</td>\n",
       "      <td>No</td>\n",
       "      <td>No</td>\n",
       "      <td>I am not interested in new job opportunities</td>\n",
       "      <td>More than 4 years ago</td>\n",
       "      <td>Write any code;Complete a take-home project;In...</td>\n",
       "      <td>No</td>\n",
       "      <td>Office environment or company culture;Diversit...</td>\n",
       "      <td>Something else changed (education, award, medi...</td>\n",
       "      <td>EUR</td>\n",
       "      <td>European Euro</td>\n",
       "      <td>60000.0</td>\n",
       "      <td>Yearly</td>\n",
       "      <td>68745.0</td>\n",
       "      <td>39.00</td>\n",
       "      <td>There is a schedule and/or spec (made by me or...</td>\n",
       "      <td>Distracting work environment;Not enough people...</td>\n",
       "      <td>A few days each month</td>\n",
       "      <td>Office</td>\n",
       "      <td>A little below average</td>\n",
       "      <td>Yes, because I see value in code review</td>\n",
       "      <td>10.0</td>\n",
       "      <td>Yes, it's part of our process</td>\n",
       "      <td>The CTO, CIO, or other management purchase new...</td>\n",
       "      <td>I have little or no influence</td>\n",
       "      <td>Bash/Shell/PowerShell;Go;HTML/CSS;Java;JavaScr...</td>\n",
       "      <td>Bash/Shell/PowerShell;Go;HTML/CSS;JavaScript;P...</td>\n",
       "      <td>PostgreSQL;Redis</td>\n",
       "      <td>Elasticsearch;PostgreSQL;Redis</td>\n",
       "      <td>Docker;Kubernetes;Linux;MacOS;Microsoft Azure;...</td>\n",
       "      <td>Docker;Google Cloud Platform;iOS;Kubernetes;Li...</td>\n",
       "      <td>Django;React.js</td>\n",
       "      <td>Angular/Angular.js;Django;React.js</td>\n",
       "      <td>Ansible</td>\n",
       "      <td>Ansible;Node.js</td>\n",
       "      <td>Emacs;Vim;Visual Studio Code</td>\n",
       "      <td>MacOS</td>\n",
       "      <td>Development;Testing;Production;Outside of work...</td>\n",
       "      <td>Non-currency applications of blockchain</td>\n",
       "      <td>Useful for immutable record keeping outside of...</td>\n",
       "      <td>No</td>\n",
       "      <td>Yes</td>\n",
       "      <td>Yes</td>\n",
       "      <td>NaN</td>\n",
       "      <td>Online</td>\n",
       "      <td>Login</td>\n",
       "      <td>2008</td>\n",
       "      <td>A few times per month or weekly</td>\n",
       "      <td>Find answers to specific questions</td>\n",
       "      <td>More than 10 times per week</td>\n",
       "      <td>Stack Overflow was slightly faster</td>\n",
       "      <td>11-30 minutes</td>\n",
       "      <td>Yes</td>\n",
       "      <td>Less than once per month or monthly</td>\n",
       "      <td>Yes</td>\n",
       "      <td>No, I've heard of them, but I am not part of a...</td>\n",
       "      <td>Neutral</td>\n",
       "      <td>NaN</td>\n",
       "      <td>NaN</td>\n",
       "      <td>37.0</td>\n",
       "      <td>Man</td>\n",
       "      <td>No</td>\n",
       "      <td>Straight / Heterosexual</td>\n",
       "      <td>White or of European descent</td>\n",
       "      <td>No</td>\n",
       "      <td>Appropriate in length</td>\n",
       "      <td>Easy</td>\n",
       "    </tr>\n",
       "    <tr>\n",
       "      <th>88330</th>\n",
       "      <td>88883</td>\n",
       "      <td>I am a developer by profession</td>\n",
       "      <td>Yes</td>\n",
       "      <td>Once a month or more often</td>\n",
       "      <td>OSS is, on average, of HIGHER quality than pro...</td>\n",
       "      <td>Employed full-time</td>\n",
       "      <td>Greece</td>\n",
       "      <td>No</td>\n",
       "      <td>Bachelor’s degree (BA, BS, B.Eng., etc.)</td>\n",
       "      <td>Computer science, computer engineering, or sof...</td>\n",
       "      <td>Taught yourself a new language, framework, or ...</td>\n",
       "      <td>20 to 99 employees</td>\n",
       "      <td>Developer, back-end;Developer, desktop or ente...</td>\n",
       "      <td>9</td>\n",
       "      <td>15</td>\n",
       "      <td>5</td>\n",
       "      <td>Slightly dissatisfied</td>\n",
       "      <td>Slightly dissatisfied</td>\n",
       "      <td>Not at all confident</td>\n",
       "      <td>No</td>\n",
       "      <td>No</td>\n",
       "      <td>I’m not actively looking, but I am open to new...</td>\n",
       "      <td>More than 4 years ago</td>\n",
       "      <td>Interview with people in senior / management r...</td>\n",
       "      <td>No</td>\n",
       "      <td>Financial performance or funding status of the...</td>\n",
       "      <td>My job status changed (promotion, new job, etc.)</td>\n",
       "      <td>EUR</td>\n",
       "      <td>European Euro</td>\n",
       "      <td>20000.0</td>\n",
       "      <td>Yearly</td>\n",
       "      <td>22915.0</td>\n",
       "      <td>48.00</td>\n",
       "      <td>There's no schedule or spec; I work on what se...</td>\n",
       "      <td>Inadequate access to necessary tools;Not enoug...</td>\n",
       "      <td>Less than half the time, but at least one day ...</td>\n",
       "      <td>Home</td>\n",
       "      <td>Far above average</td>\n",
       "      <td>No</td>\n",
       "      <td>NaN</td>\n",
       "      <td>Yes, it's part of our process</td>\n",
       "      <td>Not sure</td>\n",
       "      <td>I have little or no influence</td>\n",
       "      <td>Go;HTML/CSS;Java;JavaScript;Other(s):</td>\n",
       "      <td>C++;Go;Java;Rust</td>\n",
       "      <td>Cassandra;MariaDB;PostgreSQL;SQLite</td>\n",
       "      <td>PostgreSQL</td>\n",
       "      <td>Docker;Linux</td>\n",
       "      <td>Docker;Linux</td>\n",
       "      <td>Spring;Vue.js</td>\n",
       "      <td>Spring;Vue.js</td>\n",
       "      <td>NaN</td>\n",
       "      <td>NaN</td>\n",
       "      <td>IntelliJ;Sublime Text</td>\n",
       "      <td>Linux-based</td>\n",
       "      <td>Testing;Production;Outside of work, for person...</td>\n",
       "      <td>Implementing cryptocurrency-based products</td>\n",
       "      <td>A passing fad</td>\n",
       "      <td>Yes</td>\n",
       "      <td>SIGH</td>\n",
       "      <td>Yes</td>\n",
       "      <td>Reddit</td>\n",
       "      <td>In real life (in person)</td>\n",
       "      <td>Username</td>\n",
       "      <td>2008</td>\n",
       "      <td>A few times per week</td>\n",
       "      <td>Find answers to specific questions;Learn how t...</td>\n",
       "      <td>1-2 times per week</td>\n",
       "      <td>They were about the same</td>\n",
       "      <td>NaN</td>\n",
       "      <td>Yes</td>\n",
       "      <td>A few times per month or weekly</td>\n",
       "      <td>No, I knew that Stack Overflow had a job board...</td>\n",
       "      <td>No, I've heard of them, but I am not part of a...</td>\n",
       "      <td>No, not really</td>\n",
       "      <td>Just as welcome now as I felt last year</td>\n",
       "      <td>Tech articles written by other developers</td>\n",
       "      <td>33.0</td>\n",
       "      <td>Man</td>\n",
       "      <td>No</td>\n",
       "      <td>Straight / Heterosexual</td>\n",
       "      <td>White or of European descent</td>\n",
       "      <td>No</td>\n",
       "      <td>Too short</td>\n",
       "      <td>Easy</td>\n",
       "    </tr>\n",
       "  </tbody>\n",
       "</table>\n",
       "<p>45609 rows × 85 columns</p>\n",
       "</div>"
      ],
      "text/plain": [
       "       Respondent                                         MainBranch Hobbyist  \\\n",
       "2               3  I am not primarily a developer, but I write co...      Yes   \n",
       "3               4                     I am a developer by profession       No   \n",
       "5               6  I am not primarily a developer, but I write co...      Yes   \n",
       "8               9                     I am a developer by profession      Yes   \n",
       "9              10                     I am a developer by profession      Yes   \n",
       "...           ...                                                ...      ...   \n",
       "88324       88877                     I am a developer by profession      Yes   \n",
       "88325       88878                     I am a developer by profession      Yes   \n",
       "88326       88879                     I am a developer by profession      Yes   \n",
       "88328       88881                     I am a developer by profession      Yes   \n",
       "88330       88883                     I am a developer by profession      Yes   \n",
       "\n",
       "                      OpenSourcer  \\\n",
       "2                           Never   \n",
       "3                           Never   \n",
       "5                           Never   \n",
       "8      Once a month or more often   \n",
       "9      Once a month or more often   \n",
       "...                           ...   \n",
       "88324     Less than once per year   \n",
       "88325     Less than once per year   \n",
       "88326                       Never   \n",
       "88328  Once a month or more often   \n",
       "88330  Once a month or more often   \n",
       "\n",
       "                                              OpenSource          Employment  \\\n",
       "2      The quality of OSS and closed source software ...  Employed full-time   \n",
       "3      The quality of OSS and closed source software ...  Employed full-time   \n",
       "5      The quality of OSS and closed source software ...  Employed full-time   \n",
       "8      The quality of OSS and closed source software ...  Employed full-time   \n",
       "9      OSS is, on average, of HIGHER quality than pro...  Employed full-time   \n",
       "...                                                  ...                 ...   \n",
       "88324  OSS is, on average, of HIGHER quality than pro...  Employed full-time   \n",
       "88325  The quality of OSS and closed source software ...  Employed full-time   \n",
       "88326  The quality of OSS and closed source software ...  Employed full-time   \n",
       "88328  OSS is, on average, of HIGHER quality than pro...  Employed full-time   \n",
       "88330  OSS is, on average, of HIGHER quality than pro...  Employed full-time   \n",
       "\n",
       "             Country Student  \\\n",
       "2           Thailand      No   \n",
       "3      United States      No   \n",
       "5             Canada      No   \n",
       "8        New Zealand      No   \n",
       "9              India      No   \n",
       "...              ...     ...   \n",
       "88324  United States      No   \n",
       "88325  United States      No   \n",
       "88326        Finland      No   \n",
       "88328        Austria      No   \n",
       "88330         Greece      No   \n",
       "\n",
       "                                                 EdLevel  \\\n",
       "2               Bachelor’s degree (BA, BS, B.Eng., etc.)   \n",
       "3               Bachelor’s degree (BA, BS, B.Eng., etc.)   \n",
       "5               Bachelor’s degree (BA, BS, B.Eng., etc.)   \n",
       "8      Some college/university study without earning ...   \n",
       "9            Master’s degree (MA, MS, M.Eng., MBA, etc.)   \n",
       "...                                                  ...   \n",
       "88324           Bachelor’s degree (BA, BS, B.Eng., etc.)   \n",
       "88325           Bachelor’s degree (BA, BS, B.Eng., etc.)   \n",
       "88326        Master’s degree (MA, MS, M.Eng., MBA, etc.)   \n",
       "88328        Master’s degree (MA, MS, M.Eng., MBA, etc.)   \n",
       "88330           Bachelor’s degree (BA, BS, B.Eng., etc.)   \n",
       "\n",
       "                                          UndergradMajor  \\\n",
       "2                          Web development or web design   \n",
       "3      Computer science, computer engineering, or sof...   \n",
       "5                              Mathematics or statistics   \n",
       "8      Computer science, computer engineering, or sof...   \n",
       "9                                                    NaN   \n",
       "...                                                  ...   \n",
       "88324  Computer science, computer engineering, or sof...   \n",
       "88325  Computer science, computer engineering, or sof...   \n",
       "88326  Computer science, computer engineering, or sof...   \n",
       "88328  Computer science, computer engineering, or sof...   \n",
       "88330  Computer science, computer engineering, or sof...   \n",
       "\n",
       "                                                EduOther  \\\n",
       "2      Taught yourself a new language, framework, or ...   \n",
       "3      Taken an online course in programming or softw...   \n",
       "5      Taken an online course in programming or softw...   \n",
       "8      Taken an online course in programming or softw...   \n",
       "9                                                    NaN   \n",
       "...                                                  ...   \n",
       "88324  Taken an online course in programming or softw...   \n",
       "88325  Taken an online course in programming or softw...   \n",
       "88326  Taught yourself a new language, framework, or ...   \n",
       "88328  Taken an online course in programming or softw...   \n",
       "88330  Taught yourself a new language, framework, or ...   \n",
       "\n",
       "                        OrgSize  \\\n",
       "2          100 to 499 employees   \n",
       "3          100 to 499 employees   \n",
       "5                           NaN   \n",
       "8            10 to 19 employees   \n",
       "9      10,000 or more employees   \n",
       "...                         ...   \n",
       "88324      500 to 999 employees   \n",
       "88325        20 to 99 employees   \n",
       "88326        20 to 99 employees   \n",
       "88328      100 to 499 employees   \n",
       "88330        20 to 99 employees   \n",
       "\n",
       "                                                 DevType YearsCode Age1stCode  \\\n",
       "2      Designer;Developer, back-end;Developer, front-...         3         22   \n",
       "3                                  Developer, full-stack         3         16   \n",
       "5      Data or business analyst;Data scientist or mac...        13         15   \n",
       "8      Database administrator;Developer, back-end;Dev...        12         11   \n",
       "9      Data or business analyst;Data scientist or mac...        12         20   \n",
       "...                                                  ...       ...        ...   \n",
       "88324  Data scientist or machine learning specialist;...        31         18   \n",
       "88325  Developer, back-end;Developer, front-end;Devel...        12         14   \n",
       "88326  Developer, desktop or enterprise applications;...        17         16   \n",
       "88328   Developer, full-stack;Engineer, site reliability        18         17   \n",
       "88330  Developer, back-end;Developer, desktop or ente...         9         15   \n",
       "\n",
       "           YearsCodePro                           CareerSat  \\\n",
       "2                     1                  Slightly satisfied   \n",
       "3      Less than 1 year                      Very satisfied   \n",
       "5                     3                      Very satisfied   \n",
       "8                     4                  Slightly satisfied   \n",
       "9                    10               Slightly dissatisfied   \n",
       "...                 ...                                 ...   \n",
       "88324                28                      Very satisfied   \n",
       "88325                 3                      Very satisfied   \n",
       "88326                 7                  Slightly satisfied   \n",
       "88328                 9  Neither satisfied nor dissatisfied   \n",
       "88330                 5               Slightly dissatisfied   \n",
       "\n",
       "                                   JobSat              MgrIdiot  MgrMoney  \\\n",
       "2                      Slightly satisfied  Not at all confident  Not sure   \n",
       "3                      Slightly satisfied        Very confident        No   \n",
       "5                      Slightly satisfied        Very confident        No   \n",
       "8                      Slightly satisfied    Somewhat confident        No   \n",
       "9                   Slightly dissatisfied    Somewhat confident       Yes   \n",
       "...                                   ...                   ...       ...   \n",
       "88324                      Very satisfied        Very confident       Yes   \n",
       "88325                      Very satisfied        Very confident       Yes   \n",
       "88326  Neither satisfied nor dissatisfied  Not at all confident  Not sure   \n",
       "88328  Neither satisfied nor dissatisfied        Very confident        No   \n",
       "88330               Slightly dissatisfied  Not at all confident        No   \n",
       "\n",
       "                      MgrWant  \\\n",
       "2                    Not sure   \n",
       "3                    Not sure   \n",
       "5                         Yes   \n",
       "8                    Not sure   \n",
       "9                         Yes   \n",
       "...                       ...   \n",
       "88324                     Yes   \n",
       "88325                     Yes   \n",
       "88326  I am already a manager   \n",
       "88328                      No   \n",
       "88330                      No   \n",
       "\n",
       "                                                 JobSeek  \\\n",
       "2      I’m not actively looking, but I am open to new...   \n",
       "3           I am not interested in new job opportunities   \n",
       "5           I am not interested in new job opportunities   \n",
       "8      I’m not actively looking, but I am open to new...   \n",
       "9      I’m not actively looking, but I am open to new...   \n",
       "...                                                  ...   \n",
       "88324  I’m not actively looking, but I am open to new...   \n",
       "88325       I am not interested in new job opportunities   \n",
       "88326  I’m not actively looking, but I am open to new...   \n",
       "88328       I am not interested in new job opportunities   \n",
       "88330  I’m not actively looking, but I am open to new...   \n",
       "\n",
       "                LastHireDate  \\\n",
       "2              1-2 years ago   \n",
       "3       Less than a year ago   \n",
       "5              1-2 years ago   \n",
       "8       Less than a year ago   \n",
       "9              3-4 years ago   \n",
       "...                      ...   \n",
       "88324  More than 4 years ago   \n",
       "88325   Less than a year ago   \n",
       "88326  More than 4 years ago   \n",
       "88328  More than 4 years ago   \n",
       "88330  More than 4 years ago   \n",
       "\n",
       "                                                 LastInt FizzBuzz  \\\n",
       "2                    Interview with people in peer roles       No   \n",
       "3      Write code by hand (e.g., on a whiteboard);Int...       No   \n",
       "5      Write any code;Complete a take-home project;In...       No   \n",
       "8      Write any code;Interview with people in peer r...      Yes   \n",
       "9                                                    NaN       No   \n",
       "...                                                  ...      ...   \n",
       "88324  Interview with people in senior / management r...      Yes   \n",
       "88325  Write any code;Write code by hand (e.g., on a ...       No   \n",
       "88326  Complete a take-home project;Interview with pe...       No   \n",
       "88328  Write any code;Complete a take-home project;In...       No   \n",
       "88330  Interview with people in senior / management r...       No   \n",
       "\n",
       "                                              JobFactors  \\\n",
       "2      Languages, frameworks, and other technologies ...   \n",
       "3      Languages, frameworks, and other technologies ...   \n",
       "5      Financial performance or funding status of the...   \n",
       "8      Financial performance or funding status of the...   \n",
       "9      Languages, frameworks, and other technologies ...   \n",
       "...                                                  ...   \n",
       "88324  Industry that I'd be working in;Languages, fra...   \n",
       "88325  Languages, frameworks, and other technologies ...   \n",
       "88326  Languages, frameworks, and other technologies ...   \n",
       "88328  Office environment or company culture;Diversit...   \n",
       "88330  Financial performance or funding status of the...   \n",
       "\n",
       "                                            ResumeUpdate CurrencySymbol  \\\n",
       "2                       I was preparing for a job search            THB   \n",
       "3                       I was preparing for a job search            USD   \n",
       "5      I heard about a job opportunity (from a recrui...            CAD   \n",
       "8                       I was preparing for a job search            NZD   \n",
       "9                                                    NaN            INR   \n",
       "...                                                  ...            ...   \n",
       "88324  I heard about a job opportunity (from a recrui...            USD   \n",
       "88325                   I was preparing for a job search            USD   \n",
       "88326  I had a negative experience or interaction at ...            EUR   \n",
       "88328  Something else changed (education, award, medi...            EUR   \n",
       "88330   My job status changed (promotion, new job, etc.)            EUR   \n",
       "\n",
       "               CurrencyDesc  CompTotal CompFreq  ConvertedComp  WorkWeekHrs  \\\n",
       "2                 Thai baht    23000.0  Monthly         8820.0        40.00   \n",
       "3      United States dollar    61000.0   Yearly        61000.0        80.00   \n",
       "5           Canadian dollar    40000.0  Monthly       366420.0        15.00   \n",
       "8        New Zealand dollar   138000.0   Yearly        95179.0        32.00   \n",
       "9              Indian rupee   950000.0   Yearly        13293.0        70.00   \n",
       "...                     ...        ...      ...            ...          ...   \n",
       "88324  United States dollar   239000.0   Weekly      2000000.0        45.00   \n",
       "88325  United States dollar   130000.0   Yearly       130000.0        40.00   \n",
       "88326         European Euro     6000.0  Monthly        82488.0        37.75   \n",
       "88328         European Euro    60000.0   Yearly        68745.0        39.00   \n",
       "88330         European Euro    20000.0   Yearly        22915.0        48.00   \n",
       "\n",
       "                                                WorkPlan  \\\n",
       "2      There's no schedule or spec; I work on what se...   \n",
       "3      There's no schedule or spec; I work on what se...   \n",
       "5      There's no schedule or spec; I work on what se...   \n",
       "8      There is a schedule and/or spec (made by me or...   \n",
       "9      There's no schedule or spec; I work on what se...   \n",
       "...                                                  ...   \n",
       "88324  There is a schedule and/or spec (made by me or...   \n",
       "88325  There is a schedule and/or spec (made by me or...   \n",
       "88326  There is a schedule and/or spec (made by me or...   \n",
       "88328  There is a schedule and/or spec (made by me or...   \n",
       "88330  There's no schedule or spec; I work on what se...   \n",
       "\n",
       "                                           WorkChallenge  \\\n",
       "2      Distracting work environment;Inadequate access...   \n",
       "3                                                    NaN   \n",
       "5                                                    NaN   \n",
       "8      Being tasked with non-development work;Inadequ...   \n",
       "9                                                    NaN   \n",
       "...                                                  ...   \n",
       "88324        Meetings;Not enough people for the workload   \n",
       "88325  Non-work commitments (parenting, school work, ...   \n",
       "88326  Being tasked with non-development work;Distrac...   \n",
       "88328  Distracting work environment;Not enough people...   \n",
       "88330  Inadequate access to necessary tools;Not enoug...   \n",
       "\n",
       "                                              WorkRemote WorkLoc  \\\n",
       "2                       Less than once per month / Never    Home   \n",
       "3                       Less than once per month / Never    Home   \n",
       "5                                  A few days each month    Home   \n",
       "8                       Less than once per month / Never  Office   \n",
       "9                                  A few days each month    Home   \n",
       "...                                                  ...     ...   \n",
       "88324                   Less than once per month / Never  Office   \n",
       "88325                              A few days each month  Office   \n",
       "88326                   Less than once per month / Never    Home   \n",
       "88328                              A few days each month  Office   \n",
       "88330  Less than half the time, but at least one day ...    Home   \n",
       "\n",
       "                       ImpSyn                                  CodeRev  \\\n",
       "2                     Average                                       No   \n",
       "3      A little below average                                       No   \n",
       "5      A little above average                                       No   \n",
       "8      A little above average  Yes, because I see value in code review   \n",
       "9           Far above average  Yes, because I see value in code review   \n",
       "...                       ...                                      ...   \n",
       "88324       Far above average  Yes, because I see value in code review   \n",
       "88325       Far above average  Yes, because I see value in code review   \n",
       "88326       Far above average  Yes, because I see value in code review   \n",
       "88328  A little below average  Yes, because I see value in code review   \n",
       "88330       Far above average                                       No   \n",
       "\n",
       "       CodeRevHrs                                          UnitTests  \\\n",
       "2             NaN                          No, but I think we should   \n",
       "3             NaN                          No, but I think we should   \n",
       "5             NaN  Yes, it's not part of our process but the deve...   \n",
       "8            12.0  Yes, it's not part of our process but the deve...   \n",
       "9             4.0                      Yes, it's part of our process   \n",
       "...           ...                                                ...   \n",
       "88324         5.0                          No, but I think we should   \n",
       "88325         3.0                          No, and I'm glad we don't   \n",
       "88326        10.0                      Yes, it's part of our process   \n",
       "88328        10.0                      Yes, it's part of our process   \n",
       "88330         NaN                      Yes, it's part of our process   \n",
       "\n",
       "                                             PurchaseHow  \\\n",
       "2                                               Not sure   \n",
       "3      Developers typically have the most influence o...   \n",
       "5                                               Not sure   \n",
       "8                                               Not sure   \n",
       "9                                                    NaN   \n",
       "...                                                  ...   \n",
       "88324  Developers and management have nearly equal in...   \n",
       "88325  Developers and management have nearly equal in...   \n",
       "88326  Developers and management have nearly equal in...   \n",
       "88328  The CTO, CIO, or other management purchase new...   \n",
       "88330                                           Not sure   \n",
       "\n",
       "                        PurchaseWhat  \\\n",
       "2      I have little or no influence   \n",
       "3      I have little or no influence   \n",
       "5      I have little or no influence   \n",
       "8              I have some influence   \n",
       "9                                NaN   \n",
       "...                              ...   \n",
       "88324          I have some influence   \n",
       "88325          I have some influence   \n",
       "88326  I have little or no influence   \n",
       "88328  I have little or no influence   \n",
       "88330  I have little or no influence   \n",
       "\n",
       "                                      LanguageWorkedWith  \\\n",
       "2                                               HTML/CSS   \n",
       "3                                    C;C++;C#;Python;SQL   \n",
       "5                                             Java;R;SQL   \n",
       "8      Bash/Shell/PowerShell;C#;HTML/CSS;JavaScript;P...   \n",
       "9                          C#;Go;JavaScript;Python;R;SQL   \n",
       "...                                                  ...   \n",
       "88324  Bash/Shell/PowerShell;C;Clojure;HTML/CSS;Java;...   \n",
       "88325               HTML/CSS;JavaScript;Scala;TypeScript   \n",
       "88326                   Bash/Shell/PowerShell;C++;Python   \n",
       "88328  Bash/Shell/PowerShell;Go;HTML/CSS;Java;JavaScr...   \n",
       "88330              Go;HTML/CSS;Java;JavaScript;Other(s):   \n",
       "\n",
       "                                  LanguageDesireNextYear  \\\n",
       "2                                        Elixir;HTML/CSS   \n",
       "3                                    C;C#;JavaScript;SQL   \n",
       "5                                       Python;Scala;SQL   \n",
       "8      Bash/Shell/PowerShell;C;HTML/CSS;JavaScript;Ru...   \n",
       "9                   C#;Go;JavaScript;Kotlin;Python;R;SQL   \n",
       "...                                                  ...   \n",
       "88324  Bash/Shell/PowerShell;Clojure;HTML/CSS;Java;Ja...   \n",
       "88325                   JavaScript;Rust;Scala;TypeScript   \n",
       "88326                                                C++   \n",
       "88328  Bash/Shell/PowerShell;Go;HTML/CSS;JavaScript;P...   \n",
       "88330                                   C++;Go;Java;Rust   \n",
       "\n",
       "                                      DatabaseWorkedWith  \\\n",
       "2                                             PostgreSQL   \n",
       "3                                           MySQL;SQLite   \n",
       "5                                     MongoDB;PostgreSQL   \n",
       "8                             DynamoDB;PostgreSQL;SQLite   \n",
       "9      Elasticsearch;MongoDB;Microsoft SQL Server;MyS...   \n",
       "...                                                  ...   \n",
       "88324                                             Oracle   \n",
       "88325                                         PostgreSQL   \n",
       "88326                                                NaN   \n",
       "88328                                   PostgreSQL;Redis   \n",
       "88330                Cassandra;MariaDB;PostgreSQL;SQLite   \n",
       "\n",
       "                           DatabaseDesireNextYear  \\\n",
       "2                                      PostgreSQL   \n",
       "3                                    MySQL;SQLite   \n",
       "5                                      PostgreSQL   \n",
       "8                         PostgreSQL;Redis;SQLite   \n",
       "9      Elasticsearch;MongoDB;Microsoft SQL Server   \n",
       "...                                           ...   \n",
       "88324                                      Oracle   \n",
       "88325                                  PostgreSQL   \n",
       "88326                                         NaN   \n",
       "88328              Elasticsearch;PostgreSQL;Redis   \n",
       "88330                                  PostgreSQL   \n",
       "\n",
       "                                      PlatformWorkedWith  \\\n",
       "2                                                    NaN   \n",
       "3                                          Linux;Windows   \n",
       "5            Android;Google Cloud Platform;Linux;Windows   \n",
       "8                    AWS;Docker;Heroku;Linux;MacOS;Slack   \n",
       "9                                          Linux;Windows   \n",
       "...                                                  ...   \n",
       "88324  Docker;iOS;Kubernetes;Linux;Slack;Windows;Othe...   \n",
       "88325                                              Slack   \n",
       "88326                              Android;Linux;Windows   \n",
       "88328  Docker;Kubernetes;Linux;MacOS;Microsoft Azure;...   \n",
       "88330                                       Docker;Linux   \n",
       "\n",
       "                                  PlatformDesireNextYear  \\\n",
       "2                                                    NaN   \n",
       "3                                          Linux;Windows   \n",
       "5            Android;Google Cloud Platform;Linux;Windows   \n",
       "8          AWS;Docker;Heroku;Linux;MacOS;Slack;Other(s):   \n",
       "9                     Android;Linux;Raspberry Pi;Windows   \n",
       "...                                                  ...   \n",
       "88324                                          Other(s):   \n",
       "88325                                              Slack   \n",
       "88326                                      Linux;Windows   \n",
       "88328  Docker;Google Cloud Platform;iOS;Kubernetes;Li...   \n",
       "88330                                       Docker;Linux   \n",
       "\n",
       "                                      WebFrameWorkedWith  \\\n",
       "2                                                    NaN   \n",
       "3                                                    NaN   \n",
       "5                                                    NaN   \n",
       "8                        Express;Ruby on Rails;Other(s):   \n",
       "9      Angular/Angular.js;ASP.NET;Django;Express;Flas...   \n",
       "...                                                  ...   \n",
       "88324                                          Other(s):   \n",
       "88325                                 React.js;Other(s):   \n",
       "88326                                                NaN   \n",
       "88328                                    Django;React.js   \n",
       "88330                                      Spring;Vue.js   \n",
       "\n",
       "                                  WebFrameDesireNextYear  \\\n",
       "2                                              Other(s):   \n",
       "3                                                    NaN   \n",
       "5                                                    NaN   \n",
       "8                        Express;Ruby on Rails;Other(s):   \n",
       "9      Angular/Angular.js;ASP.NET;Django;Express;Flas...   \n",
       "...                                                  ...   \n",
       "88324                                          Other(s):   \n",
       "88325                                 React.js;Other(s):   \n",
       "88326                                                NaN   \n",
       "88328                 Angular/Angular.js;Django;React.js   \n",
       "88330                                      Spring;Vue.js   \n",
       "\n",
       "                      MiscTechWorkedWith  \\\n",
       "2                                    NaN   \n",
       "3                                   .NET   \n",
       "5                                 Hadoop   \n",
       "8                       Node.js;Unity 3D   \n",
       "9      .NET;Node.js;Pandas;Torch/PyTorch   \n",
       "...                                  ...   \n",
       "88324                       Apache Spark   \n",
       "88325                            Node.js   \n",
       "88326                                NaN   \n",
       "88328                            Ansible   \n",
       "88330                                NaN   \n",
       "\n",
       "                      MiscTechDesireNextYear  \\\n",
       "2                                        NaN   \n",
       "3                                       .NET   \n",
       "5          Hadoop;Pandas;TensorFlow;Unity 3D   \n",
       "8                                    Node.js   \n",
       "9      .NET;Node.js;TensorFlow;Torch/PyTorch   \n",
       "...                                      ...   \n",
       "88324                           Apache Spark   \n",
       "88325                                Node.js   \n",
       "88326      TensorFlow;Unity 3D;Unreal Engine   \n",
       "88328                        Ansible;Node.js   \n",
       "88330                                    NaN   \n",
       "\n",
       "                                              DevEnviron        OpSys  \\\n",
       "2                                 Vim;Visual Studio Code  Linux-based   \n",
       "3           Eclipse;Vim;Visual Studio;Visual Studio Code      Windows   \n",
       "5      Android Studio;Eclipse;PyCharm;RStudio;Visual ...      Windows   \n",
       "8                                                    Vim        MacOS   \n",
       "9      Android Studio;Eclipse;IPython / Jupyter;Notep...      Windows   \n",
       "...                                                  ...          ...   \n",
       "88324  Atom;Emacs;IntelliJ;IPython / Jupyter;PyCharm;...      Windows   \n",
       "88325           IntelliJ;Sublime Text;Visual Studio Code        MacOS   \n",
       "88326         Android Studio;Notepad++;Vim;Visual Studio      Windows   \n",
       "88328                       Emacs;Vim;Visual Studio Code        MacOS   \n",
       "88330                              IntelliJ;Sublime Text  Linux-based   \n",
       "\n",
       "                                              Containers  \\\n",
       "2                                I do not use containers   \n",
       "3                                I do not use containers   \n",
       "5                                I do not use containers   \n",
       "8                         Development;Testing;Production   \n",
       "9                                                    NaN   \n",
       "...                                                  ...   \n",
       "88324                     Development;Testing;Production   \n",
       "88325                                         Production   \n",
       "88326                            I do not use containers   \n",
       "88328  Development;Testing;Production;Outside of work...   \n",
       "88330  Testing;Production;Outside of work, for person...   \n",
       "\n",
       "                                    BlockchainOrg  \\\n",
       "2                                             NaN   \n",
       "3                                      Not at all   \n",
       "5                                      Not at all   \n",
       "8                                      Not at all   \n",
       "9                                      Not at all   \n",
       "...                                           ...   \n",
       "88324  Implementing cryptocurrency-based products   \n",
       "88325                                  Not at all   \n",
       "88326                                  Not at all   \n",
       "88328     Non-currency applications of blockchain   \n",
       "88330  Implementing cryptocurrency-based products   \n",
       "\n",
       "                                            BlockchainIs BetterLife ITperson  \\\n",
       "2                                                    NaN        Yes      Yes   \n",
       "3      Useful for decentralized currency (i.e., Bitcoin)        Yes     SIGH   \n",
       "5                                                    NaN         No      Yes   \n",
       "8                      An irresponsible use of resources         No     SIGH   \n",
       "9      Useful for immutable record keeping outside of...         No      Yes   \n",
       "...                                                  ...        ...      ...   \n",
       "88324                  An irresponsible use of resources        Yes      Yes   \n",
       "88325  Useful for decentralized currency (i.e., Bitcoin)        Yes      Yes   \n",
       "88326                                      A passing fad        Yes      NaN   \n",
       "88328  Useful for immutable record keeping outside of...         No      Yes   \n",
       "88330                                      A passing fad        Yes     SIGH   \n",
       "\n",
       "      OffOn SocialMedia              Extraversion   ScreenName  \\\n",
       "2       Yes      Reddit  In real life (in person)     Username   \n",
       "3       Yes      Reddit  In real life (in person)     Username   \n",
       "5        No     YouTube  In real life (in person)        Login   \n",
       "8       Yes     Twitter  In real life (in person)     Username   \n",
       "9       Yes     YouTube                   Neither  Screen Name   \n",
       "...     ...         ...                       ...          ...   \n",
       "88324    No    Facebook                    Online  Screen Name   \n",
       "88325   Yes     Twitter                    Online     Username   \n",
       "88326   NaN     YouTube                   Neither     Username   \n",
       "88328   Yes         NaN                    Online        Login   \n",
       "88330   Yes      Reddit  In real life (in person)     Username   \n",
       "\n",
       "             SOVisit1st                      SOVisitFreq  \\\n",
       "2                  2011             A few times per week   \n",
       "3                  2014            Daily or almost daily   \n",
       "5                  2011  A few times per month or weekly   \n",
       "8                  2013            Daily or almost daily   \n",
       "9                   NaN           Multiple times per day   \n",
       "...                 ...                              ...   \n",
       "88324               NaN  A few times per month or weekly   \n",
       "88325              2010           Multiple times per day   \n",
       "88326  I don't remember  A few times per month or weekly   \n",
       "88328              2008  A few times per month or weekly   \n",
       "88330              2008             A few times per week   \n",
       "\n",
       "                                               SOVisitTo  \\\n",
       "2      Find answers to specific questions;Learn how t...   \n",
       "3      Find answers to specific questions;Pass the ti...   \n",
       "5                     Find answers to specific questions   \n",
       "8      Find answers to specific questions;Contribute ...   \n",
       "9      Find answers to specific questions;Get a sense...   \n",
       "...                                                  ...   \n",
       "88324                 Find answers to specific questions   \n",
       "88325  Find answers to specific questions;Learn how t...   \n",
       "88326                 Find answers to specific questions   \n",
       "88328                 Find answers to specific questions   \n",
       "88330  Find answers to specific questions;Learn how t...   \n",
       "\n",
       "                      SOFindAnswer                         SOTimeSaved  \\\n",
       "2              6-10 times per week            They were about the same   \n",
       "3               1-2 times per week      Stack Overflow was much faster   \n",
       "5          Less than once per week  Stack Overflow was slightly faster   \n",
       "8               3-5 times per week            They were about the same   \n",
       "9               3-5 times per week            They were about the same   \n",
       "...                            ...                                 ...   \n",
       "88324      Less than once per week      Stack Overflow was much faster   \n",
       "88325           3-5 times per week      Stack Overflow was much faster   \n",
       "88326      Less than once per week  Stack Overflow was slightly faster   \n",
       "88328  More than 10 times per week  Stack Overflow was slightly faster   \n",
       "88330           1-2 times per week            They were about the same   \n",
       "\n",
       "       SOHowMuchTime SOAccount  \\\n",
       "2                NaN       Yes   \n",
       "3      31-60 minutes       Yes   \n",
       "5        60+ minutes       Yes   \n",
       "8                NaN       Yes   \n",
       "9                NaN       Yes   \n",
       "...              ...       ...   \n",
       "88324  11-30 minutes       Yes   \n",
       "88325   0-10 minutes       Yes   \n",
       "88326    60+ minutes        No   \n",
       "88328  11-30 minutes       Yes   \n",
       "88330            NaN       Yes   \n",
       "\n",
       "                                              SOPartFreq  \\\n",
       "2                    Less than once per month or monthly   \n",
       "3                    Less than once per month or monthly   \n",
       "5      I have never participated in Q&A on Stack Over...   \n",
       "8                    Less than once per month or monthly   \n",
       "9                        A few times per month or weekly   \n",
       "...                                                  ...   \n",
       "88324  I have never participated in Q&A on Stack Over...   \n",
       "88325                               A few times per week   \n",
       "88326                                                NaN   \n",
       "88328                Less than once per month or monthly   \n",
       "88330                    A few times per month or weekly   \n",
       "\n",
       "                                                  SOJobs  \\\n",
       "2                                                    Yes   \n",
       "3                                                    Yes   \n",
       "5      No, I knew that Stack Overflow had a job board...   \n",
       "8      No, I knew that Stack Overflow had a job board...   \n",
       "9                                                    Yes   \n",
       "...                                                  ...   \n",
       "88324  No, I knew that Stack Overflow had a job board...   \n",
       "88325                                                Yes   \n",
       "88326  No, I didn't know that Stack Overflow had a jo...   \n",
       "88328                                                Yes   \n",
       "88330  No, I knew that Stack Overflow had a job board...   \n",
       "\n",
       "                                                EntTeams          SOComm  \\\n",
       "2      No, I've heard of them, but I am not part of a...         Neutral   \n",
       "3                    No, and I don't know what those are  No, not really   \n",
       "5                    No, and I don't know what those are  No, not really   \n",
       "8                    No, and I don't know what those are   Yes, somewhat   \n",
       "9                    No, and I don't know what those are   Yes, somewhat   \n",
       "...                                                  ...             ...   \n",
       "88324                No, and I don't know what those are   Yes, somewhat   \n",
       "88325  No, I've heard of them, but I am not part of a...   Yes, somewhat   \n",
       "88326                No, and I don't know what those are  No, not at all   \n",
       "88328  No, I've heard of them, but I am not part of a...         Neutral   \n",
       "88330  No, I've heard of them, but I am not part of a...  No, not really   \n",
       "\n",
       "                                           WelcomeChange  \\\n",
       "2                Just as welcome now as I felt last year   \n",
       "3                Just as welcome now as I felt last year   \n",
       "5                Just as welcome now as I felt last year   \n",
       "8                Just as welcome now as I felt last year   \n",
       "9               Somewhat less welcome now than last year   \n",
       "...                                                  ...   \n",
       "88324           Somewhat more welcome now than last year   \n",
       "88325            Just as welcome now as I felt last year   \n",
       "88326  Not applicable - I did not use Stack Overflow ...   \n",
       "88328                                                NaN   \n",
       "88330            Just as welcome now as I felt last year   \n",
       "\n",
       "                                            SONewContent   Age Gender Trans  \\\n",
       "2      Tech meetups or events in your area;Courses on...  28.0    Man    No   \n",
       "3      Tech articles written by other developers;Indu...  22.0    Man    No   \n",
       "5      Tech articles written by other developers;Indu...  28.0    Man    No   \n",
       "8                                                    NaN  23.0    Man    No   \n",
       "9      Tech articles written by other developers;Tech...   NaN    NaN   NaN   \n",
       "...                                                  ...   ...    ...   ...   \n",
       "88324  Tech articles written by other developers;Cour...  48.0    Man    No   \n",
       "88325  Tech articles written by other developers;Indu...  26.0    Man    No   \n",
       "88326                                                NaN  34.0    Man    No   \n",
       "88328                                                NaN  37.0    Man    No   \n",
       "88330          Tech articles written by other developers  33.0    Man    No   \n",
       "\n",
       "                     Sexuality                     Ethnicity Dependents  \\\n",
       "2      Straight / Heterosexual                           NaN        Yes   \n",
       "3      Straight / Heterosexual  White or of European descent         No   \n",
       "5      Straight / Heterosexual                    East Asian         No   \n",
       "8                     Bisexual  White or of European descent         No   \n",
       "9                          NaN                           NaN        Yes   \n",
       "...                        ...                           ...        ...   \n",
       "88324  Straight / Heterosexual                   South Asian        Yes   \n",
       "88325  Straight / Heterosexual                   South Asian         No   \n",
       "88326  Straight / Heterosexual  White or of European descent         No   \n",
       "88328  Straight / Heterosexual  White or of European descent         No   \n",
       "88330  Straight / Heterosexual  White or of European descent         No   \n",
       "\n",
       "                SurveyLength                  SurveyEase  \n",
       "2      Appropriate in length  Neither easy nor difficult  \n",
       "3      Appropriate in length                        Easy  \n",
       "5                   Too long  Neither easy nor difficult  \n",
       "8      Appropriate in length  Neither easy nor difficult  \n",
       "9                   Too long                   Difficult  \n",
       "...                      ...                         ...  \n",
       "88324               Too long  Neither easy nor difficult  \n",
       "88325  Appropriate in length                        Easy  \n",
       "88326  Appropriate in length                        Easy  \n",
       "88328  Appropriate in length                        Easy  \n",
       "88330              Too short                        Easy  \n",
       "\n",
       "[45609 rows x 85 columns]"
      ]
     },
     "execution_count": 6,
     "metadata": {},
     "output_type": "execute_result"
    }
   ],
   "source": [
    "#Note : Use mathmetical operation in gilter tab\n",
    "high_salary=  (df['ConvertedComp']> 5000) & (df['Student']== 'No')\n",
    "df[high_salary]"
   ]
  },
  {
   "cell_type": "code",
   "execution_count": 26,
   "id": "90ebd41b",
   "metadata": {
    "ExecuteTime": {
     "end_time": "2021-09-04T11:47:06.424312Z",
     "start_time": "2021-09-04T11:47:06.348291Z"
    },
    "scrolled": true
   },
   "outputs": [
    {
     "data": {
      "text/html": [
       "<div>\n",
       "<style scoped>\n",
       "    .dataframe tbody tr th:only-of-type {\n",
       "        vertical-align: middle;\n",
       "    }\n",
       "\n",
       "    .dataframe tbody tr th {\n",
       "        vertical-align: top;\n",
       "    }\n",
       "\n",
       "    .dataframe thead th {\n",
       "        text-align: right;\n",
       "    }\n",
       "</style>\n",
       "<table border=\"1\" class=\"dataframe\">\n",
       "  <thead>\n",
       "    <tr style=\"text-align: right;\">\n",
       "      <th></th>\n",
       "      <th>Respondent</th>\n",
       "      <th>MainBranch</th>\n",
       "      <th>Hobbyist</th>\n",
       "      <th>OpenSourcer</th>\n",
       "      <th>OpenSource</th>\n",
       "      <th>Employment</th>\n",
       "      <th>Country</th>\n",
       "      <th>Student</th>\n",
       "      <th>EdLevel</th>\n",
       "      <th>UndergradMajor</th>\n",
       "      <th>EduOther</th>\n",
       "      <th>OrgSize</th>\n",
       "      <th>DevType</th>\n",
       "      <th>YearsCode</th>\n",
       "      <th>Age1stCode</th>\n",
       "      <th>YearsCodePro</th>\n",
       "      <th>CareerSat</th>\n",
       "      <th>JobSat</th>\n",
       "      <th>MgrIdiot</th>\n",
       "      <th>MgrMoney</th>\n",
       "      <th>MgrWant</th>\n",
       "      <th>JobSeek</th>\n",
       "      <th>LastHireDate</th>\n",
       "      <th>LastInt</th>\n",
       "      <th>FizzBuzz</th>\n",
       "      <th>JobFactors</th>\n",
       "      <th>ResumeUpdate</th>\n",
       "      <th>CurrencySymbol</th>\n",
       "      <th>CurrencyDesc</th>\n",
       "      <th>CompTotal</th>\n",
       "      <th>CompFreq</th>\n",
       "      <th>ConvertedComp</th>\n",
       "      <th>WorkWeekHrs</th>\n",
       "      <th>WorkPlan</th>\n",
       "      <th>WorkChallenge</th>\n",
       "      <th>WorkRemote</th>\n",
       "      <th>WorkLoc</th>\n",
       "      <th>ImpSyn</th>\n",
       "      <th>CodeRev</th>\n",
       "      <th>CodeRevHrs</th>\n",
       "      <th>UnitTests</th>\n",
       "      <th>PurchaseHow</th>\n",
       "      <th>PurchaseWhat</th>\n",
       "      <th>LanguageWorkedWith</th>\n",
       "      <th>LanguageDesireNextYear</th>\n",
       "      <th>DatabaseWorkedWith</th>\n",
       "      <th>DatabaseDesireNextYear</th>\n",
       "      <th>PlatformWorkedWith</th>\n",
       "      <th>PlatformDesireNextYear</th>\n",
       "      <th>WebFrameWorkedWith</th>\n",
       "      <th>WebFrameDesireNextYear</th>\n",
       "      <th>MiscTechWorkedWith</th>\n",
       "      <th>MiscTechDesireNextYear</th>\n",
       "      <th>DevEnviron</th>\n",
       "      <th>OpSys</th>\n",
       "      <th>Containers</th>\n",
       "      <th>BlockchainOrg</th>\n",
       "      <th>BlockchainIs</th>\n",
       "      <th>BetterLife</th>\n",
       "      <th>ITperson</th>\n",
       "      <th>OffOn</th>\n",
       "      <th>SocialMedia</th>\n",
       "      <th>Extraversion</th>\n",
       "      <th>ScreenName</th>\n",
       "      <th>SOVisit1st</th>\n",
       "      <th>SOVisitFreq</th>\n",
       "      <th>SOVisitTo</th>\n",
       "      <th>SOFindAnswer</th>\n",
       "      <th>SOTimeSaved</th>\n",
       "      <th>SOHowMuchTime</th>\n",
       "      <th>SOAccount</th>\n",
       "      <th>SOPartFreq</th>\n",
       "      <th>SOJobs</th>\n",
       "      <th>EntTeams</th>\n",
       "      <th>SOComm</th>\n",
       "      <th>WelcomeChange</th>\n",
       "      <th>SONewContent</th>\n",
       "      <th>Age</th>\n",
       "      <th>Gender</th>\n",
       "      <th>Trans</th>\n",
       "      <th>Sexuality</th>\n",
       "      <th>Ethnicity</th>\n",
       "      <th>Dependents</th>\n",
       "      <th>SurveyLength</th>\n",
       "      <th>SurveyEase</th>\n",
       "    </tr>\n",
       "  </thead>\n",
       "  <tbody>\n",
       "    <tr>\n",
       "      <th>2</th>\n",
       "      <td>3</td>\n",
       "      <td>I am not primarily a developer, but I write co...</td>\n",
       "      <td>Yes</td>\n",
       "      <td>Never</td>\n",
       "      <td>The quality of OSS and closed source software ...</td>\n",
       "      <td>Employed full-time</td>\n",
       "      <td>Thailand</td>\n",
       "      <td>No</td>\n",
       "      <td>Bachelor’s degree (BA, BS, B.Eng., etc.)</td>\n",
       "      <td>Web development or web design</td>\n",
       "      <td>Taught yourself a new language, framework, or ...</td>\n",
       "      <td>100 to 499 employees</td>\n",
       "      <td>Designer;Developer, back-end;Developer, front-...</td>\n",
       "      <td>3</td>\n",
       "      <td>22</td>\n",
       "      <td>1</td>\n",
       "      <td>Slightly satisfied</td>\n",
       "      <td>Slightly satisfied</td>\n",
       "      <td>Not at all confident</td>\n",
       "      <td>Not sure</td>\n",
       "      <td>Not sure</td>\n",
       "      <td>I’m not actively looking, but I am open to new...</td>\n",
       "      <td>1-2 years ago</td>\n",
       "      <td>Interview with people in peer roles</td>\n",
       "      <td>No</td>\n",
       "      <td>Languages, frameworks, and other technologies ...</td>\n",
       "      <td>I was preparing for a job search</td>\n",
       "      <td>THB</td>\n",
       "      <td>Thai baht</td>\n",
       "      <td>23000.0</td>\n",
       "      <td>Monthly</td>\n",
       "      <td>8820.0</td>\n",
       "      <td>40.0</td>\n",
       "      <td>There's no schedule or spec; I work on what se...</td>\n",
       "      <td>Distracting work environment;Inadequate access...</td>\n",
       "      <td>Less than once per month / Never</td>\n",
       "      <td>Home</td>\n",
       "      <td>Average</td>\n",
       "      <td>No</td>\n",
       "      <td>NaN</td>\n",
       "      <td>No, but I think we should</td>\n",
       "      <td>Not sure</td>\n",
       "      <td>I have little or no influence</td>\n",
       "      <td>HTML/CSS</td>\n",
       "      <td>Elixir;HTML/CSS</td>\n",
       "      <td>PostgreSQL</td>\n",
       "      <td>PostgreSQL</td>\n",
       "      <td>NaN</td>\n",
       "      <td>NaN</td>\n",
       "      <td>NaN</td>\n",
       "      <td>Other(s):</td>\n",
       "      <td>NaN</td>\n",
       "      <td>NaN</td>\n",
       "      <td>Vim;Visual Studio Code</td>\n",
       "      <td>Linux-based</td>\n",
       "      <td>I do not use containers</td>\n",
       "      <td>NaN</td>\n",
       "      <td>NaN</td>\n",
       "      <td>Yes</td>\n",
       "      <td>Yes</td>\n",
       "      <td>Yes</td>\n",
       "      <td>Reddit</td>\n",
       "      <td>In real life (in person)</td>\n",
       "      <td>Username</td>\n",
       "      <td>2011</td>\n",
       "      <td>A few times per week</td>\n",
       "      <td>Find answers to specific questions;Learn how t...</td>\n",
       "      <td>6-10 times per week</td>\n",
       "      <td>They were about the same</td>\n",
       "      <td>NaN</td>\n",
       "      <td>Yes</td>\n",
       "      <td>Less than once per month or monthly</td>\n",
       "      <td>Yes</td>\n",
       "      <td>No, I've heard of them, but I am not part of a...</td>\n",
       "      <td>Neutral</td>\n",
       "      <td>Just as welcome now as I felt last year</td>\n",
       "      <td>Tech meetups or events in your area;Courses on...</td>\n",
       "      <td>28.0</td>\n",
       "      <td>Man</td>\n",
       "      <td>No</td>\n",
       "      <td>Straight / Heterosexual</td>\n",
       "      <td>NaN</td>\n",
       "      <td>Yes</td>\n",
       "      <td>Appropriate in length</td>\n",
       "      <td>Neither easy nor difficult</td>\n",
       "    </tr>\n",
       "    <tr>\n",
       "      <th>3</th>\n",
       "      <td>4</td>\n",
       "      <td>I am a developer by profession</td>\n",
       "      <td>No</td>\n",
       "      <td>Never</td>\n",
       "      <td>The quality of OSS and closed source software ...</td>\n",
       "      <td>Employed full-time</td>\n",
       "      <td>United States</td>\n",
       "      <td>No</td>\n",
       "      <td>Bachelor’s degree (BA, BS, B.Eng., etc.)</td>\n",
       "      <td>Computer science, computer engineering, or sof...</td>\n",
       "      <td>Taken an online course in programming or softw...</td>\n",
       "      <td>100 to 499 employees</td>\n",
       "      <td>Developer, full-stack</td>\n",
       "      <td>3</td>\n",
       "      <td>16</td>\n",
       "      <td>Less than 1 year</td>\n",
       "      <td>Very satisfied</td>\n",
       "      <td>Slightly satisfied</td>\n",
       "      <td>Very confident</td>\n",
       "      <td>No</td>\n",
       "      <td>Not sure</td>\n",
       "      <td>I am not interested in new job opportunities</td>\n",
       "      <td>Less than a year ago</td>\n",
       "      <td>Write code by hand (e.g., on a whiteboard);Int...</td>\n",
       "      <td>No</td>\n",
       "      <td>Languages, frameworks, and other technologies ...</td>\n",
       "      <td>I was preparing for a job search</td>\n",
       "      <td>USD</td>\n",
       "      <td>United States dollar</td>\n",
       "      <td>61000.0</td>\n",
       "      <td>Yearly</td>\n",
       "      <td>61000.0</td>\n",
       "      <td>80.0</td>\n",
       "      <td>There's no schedule or spec; I work on what se...</td>\n",
       "      <td>NaN</td>\n",
       "      <td>Less than once per month / Never</td>\n",
       "      <td>Home</td>\n",
       "      <td>A little below average</td>\n",
       "      <td>No</td>\n",
       "      <td>NaN</td>\n",
       "      <td>No, but I think we should</td>\n",
       "      <td>Developers typically have the most influence o...</td>\n",
       "      <td>I have little or no influence</td>\n",
       "      <td>C;C++;C#;Python;SQL</td>\n",
       "      <td>C;C#;JavaScript;SQL</td>\n",
       "      <td>MySQL;SQLite</td>\n",
       "      <td>MySQL;SQLite</td>\n",
       "      <td>Linux;Windows</td>\n",
       "      <td>Linux;Windows</td>\n",
       "      <td>NaN</td>\n",
       "      <td>NaN</td>\n",
       "      <td>.NET</td>\n",
       "      <td>.NET</td>\n",
       "      <td>Eclipse;Vim;Visual Studio;Visual Studio Code</td>\n",
       "      <td>Windows</td>\n",
       "      <td>I do not use containers</td>\n",
       "      <td>Not at all</td>\n",
       "      <td>Useful for decentralized currency (i.e., Bitcoin)</td>\n",
       "      <td>Yes</td>\n",
       "      <td>SIGH</td>\n",
       "      <td>Yes</td>\n",
       "      <td>Reddit</td>\n",
       "      <td>In real life (in person)</td>\n",
       "      <td>Username</td>\n",
       "      <td>2014</td>\n",
       "      <td>Daily or almost daily</td>\n",
       "      <td>Find answers to specific questions;Pass the ti...</td>\n",
       "      <td>1-2 times per week</td>\n",
       "      <td>Stack Overflow was much faster</td>\n",
       "      <td>31-60 minutes</td>\n",
       "      <td>Yes</td>\n",
       "      <td>Less than once per month or monthly</td>\n",
       "      <td>Yes</td>\n",
       "      <td>No, and I don't know what those are</td>\n",
       "      <td>No, not really</td>\n",
       "      <td>Just as welcome now as I felt last year</td>\n",
       "      <td>Tech articles written by other developers;Indu...</td>\n",
       "      <td>22.0</td>\n",
       "      <td>Man</td>\n",
       "      <td>No</td>\n",
       "      <td>Straight / Heterosexual</td>\n",
       "      <td>White or of European descent</td>\n",
       "      <td>No</td>\n",
       "      <td>Appropriate in length</td>\n",
       "      <td>Easy</td>\n",
       "    </tr>\n",
       "    <tr>\n",
       "      <th>5</th>\n",
       "      <td>6</td>\n",
       "      <td>I am not primarily a developer, but I write co...</td>\n",
       "      <td>Yes</td>\n",
       "      <td>Never</td>\n",
       "      <td>The quality of OSS and closed source software ...</td>\n",
       "      <td>Employed full-time</td>\n",
       "      <td>Canada</td>\n",
       "      <td>No</td>\n",
       "      <td>Bachelor’s degree (BA, BS, B.Eng., etc.)</td>\n",
       "      <td>Mathematics or statistics</td>\n",
       "      <td>Taken an online course in programming or softw...</td>\n",
       "      <td>NaN</td>\n",
       "      <td>Data or business analyst;Data scientist or mac...</td>\n",
       "      <td>13</td>\n",
       "      <td>15</td>\n",
       "      <td>3</td>\n",
       "      <td>Very satisfied</td>\n",
       "      <td>Slightly satisfied</td>\n",
       "      <td>Very confident</td>\n",
       "      <td>No</td>\n",
       "      <td>Yes</td>\n",
       "      <td>I am not interested in new job opportunities</td>\n",
       "      <td>1-2 years ago</td>\n",
       "      <td>Write any code;Complete a take-home project;In...</td>\n",
       "      <td>No</td>\n",
       "      <td>Financial performance or funding status of the...</td>\n",
       "      <td>I heard about a job opportunity (from a recrui...</td>\n",
       "      <td>CAD</td>\n",
       "      <td>Canadian dollar</td>\n",
       "      <td>40000.0</td>\n",
       "      <td>Monthly</td>\n",
       "      <td>366420.0</td>\n",
       "      <td>15.0</td>\n",
       "      <td>There's no schedule or spec; I work on what se...</td>\n",
       "      <td>NaN</td>\n",
       "      <td>A few days each month</td>\n",
       "      <td>Home</td>\n",
       "      <td>A little above average</td>\n",
       "      <td>No</td>\n",
       "      <td>NaN</td>\n",
       "      <td>Yes, it's not part of our process but the deve...</td>\n",
       "      <td>Not sure</td>\n",
       "      <td>I have little or no influence</td>\n",
       "      <td>Java;R;SQL</td>\n",
       "      <td>Python;Scala;SQL</td>\n",
       "      <td>MongoDB;PostgreSQL</td>\n",
       "      <td>PostgreSQL</td>\n",
       "      <td>Android;Google Cloud Platform;Linux;Windows</td>\n",
       "      <td>Android;Google Cloud Platform;Linux;Windows</td>\n",
       "      <td>NaN</td>\n",
       "      <td>NaN</td>\n",
       "      <td>Hadoop</td>\n",
       "      <td>Hadoop;Pandas;TensorFlow;Unity 3D</td>\n",
       "      <td>Android Studio;Eclipse;PyCharm;RStudio;Visual ...</td>\n",
       "      <td>Windows</td>\n",
       "      <td>I do not use containers</td>\n",
       "      <td>Not at all</td>\n",
       "      <td>NaN</td>\n",
       "      <td>No</td>\n",
       "      <td>Yes</td>\n",
       "      <td>No</td>\n",
       "      <td>YouTube</td>\n",
       "      <td>In real life (in person)</td>\n",
       "      <td>Login</td>\n",
       "      <td>2011</td>\n",
       "      <td>A few times per month or weekly</td>\n",
       "      <td>Find answers to specific questions</td>\n",
       "      <td>Less than once per week</td>\n",
       "      <td>Stack Overflow was slightly faster</td>\n",
       "      <td>60+ minutes</td>\n",
       "      <td>Yes</td>\n",
       "      <td>I have never participated in Q&amp;A on Stack Over...</td>\n",
       "      <td>No, I knew that Stack Overflow had a job board...</td>\n",
       "      <td>No, and I don't know what those are</td>\n",
       "      <td>No, not really</td>\n",
       "      <td>Just as welcome now as I felt last year</td>\n",
       "      <td>Tech articles written by other developers;Indu...</td>\n",
       "      <td>28.0</td>\n",
       "      <td>Man</td>\n",
       "      <td>No</td>\n",
       "      <td>Straight / Heterosexual</td>\n",
       "      <td>East Asian</td>\n",
       "      <td>No</td>\n",
       "      <td>Too long</td>\n",
       "      <td>Neither easy nor difficult</td>\n",
       "    </tr>\n",
       "    <tr>\n",
       "      <th>8</th>\n",
       "      <td>9</td>\n",
       "      <td>I am a developer by profession</td>\n",
       "      <td>Yes</td>\n",
       "      <td>Once a month or more often</td>\n",
       "      <td>The quality of OSS and closed source software ...</td>\n",
       "      <td>Employed full-time</td>\n",
       "      <td>New Zealand</td>\n",
       "      <td>No</td>\n",
       "      <td>Some college/university study without earning ...</td>\n",
       "      <td>Computer science, computer engineering, or sof...</td>\n",
       "      <td>Taken an online course in programming or softw...</td>\n",
       "      <td>10 to 19 employees</td>\n",
       "      <td>Database administrator;Developer, back-end;Dev...</td>\n",
       "      <td>12</td>\n",
       "      <td>11</td>\n",
       "      <td>4</td>\n",
       "      <td>Slightly satisfied</td>\n",
       "      <td>Slightly satisfied</td>\n",
       "      <td>Somewhat confident</td>\n",
       "      <td>No</td>\n",
       "      <td>Not sure</td>\n",
       "      <td>I’m not actively looking, but I am open to new...</td>\n",
       "      <td>Less than a year ago</td>\n",
       "      <td>Write any code;Interview with people in peer r...</td>\n",
       "      <td>Yes</td>\n",
       "      <td>Financial performance or funding status of the...</td>\n",
       "      <td>I was preparing for a job search</td>\n",
       "      <td>NZD</td>\n",
       "      <td>New Zealand dollar</td>\n",
       "      <td>138000.0</td>\n",
       "      <td>Yearly</td>\n",
       "      <td>95179.0</td>\n",
       "      <td>32.0</td>\n",
       "      <td>There is a schedule and/or spec (made by me or...</td>\n",
       "      <td>Being tasked with non-development work;Inadequ...</td>\n",
       "      <td>Less than once per month / Never</td>\n",
       "      <td>Office</td>\n",
       "      <td>A little above average</td>\n",
       "      <td>Yes, because I see value in code review</td>\n",
       "      <td>12.0</td>\n",
       "      <td>Yes, it's not part of our process but the deve...</td>\n",
       "      <td>Not sure</td>\n",
       "      <td>I have some influence</td>\n",
       "      <td>Bash/Shell/PowerShell;C#;HTML/CSS;JavaScript;P...</td>\n",
       "      <td>Bash/Shell/PowerShell;C;HTML/CSS;JavaScript;Ru...</td>\n",
       "      <td>DynamoDB;PostgreSQL;SQLite</td>\n",
       "      <td>PostgreSQL;Redis;SQLite</td>\n",
       "      <td>AWS;Docker;Heroku;Linux;MacOS;Slack</td>\n",
       "      <td>AWS;Docker;Heroku;Linux;MacOS;Slack;Other(s):</td>\n",
       "      <td>Express;Ruby on Rails;Other(s):</td>\n",
       "      <td>Express;Ruby on Rails;Other(s):</td>\n",
       "      <td>Node.js;Unity 3D</td>\n",
       "      <td>Node.js</td>\n",
       "      <td>Vim</td>\n",
       "      <td>MacOS</td>\n",
       "      <td>Development;Testing;Production</td>\n",
       "      <td>Not at all</td>\n",
       "      <td>An irresponsible use of resources</td>\n",
       "      <td>No</td>\n",
       "      <td>SIGH</td>\n",
       "      <td>Yes</td>\n",
       "      <td>Twitter</td>\n",
       "      <td>In real life (in person)</td>\n",
       "      <td>Username</td>\n",
       "      <td>2013</td>\n",
       "      <td>Daily or almost daily</td>\n",
       "      <td>Find answers to specific questions;Contribute ...</td>\n",
       "      <td>3-5 times per week</td>\n",
       "      <td>They were about the same</td>\n",
       "      <td>NaN</td>\n",
       "      <td>Yes</td>\n",
       "      <td>Less than once per month or monthly</td>\n",
       "      <td>No, I knew that Stack Overflow had a job board...</td>\n",
       "      <td>No, and I don't know what those are</td>\n",
       "      <td>Yes, somewhat</td>\n",
       "      <td>Just as welcome now as I felt last year</td>\n",
       "      <td>NaN</td>\n",
       "      <td>23.0</td>\n",
       "      <td>Man</td>\n",
       "      <td>No</td>\n",
       "      <td>Bisexual</td>\n",
       "      <td>White or of European descent</td>\n",
       "      <td>No</td>\n",
       "      <td>Appropriate in length</td>\n",
       "      <td>Neither easy nor difficult</td>\n",
       "    </tr>\n",
       "    <tr>\n",
       "      <th>9</th>\n",
       "      <td>10</td>\n",
       "      <td>I am a developer by profession</td>\n",
       "      <td>Yes</td>\n",
       "      <td>Once a month or more often</td>\n",
       "      <td>OSS is, on average, of HIGHER quality than pro...</td>\n",
       "      <td>Employed full-time</td>\n",
       "      <td>India</td>\n",
       "      <td>No</td>\n",
       "      <td>Master’s degree (MA, MS, M.Eng., MBA, etc.)</td>\n",
       "      <td>NaN</td>\n",
       "      <td>NaN</td>\n",
       "      <td>10,000 or more employees</td>\n",
       "      <td>Data or business analyst;Data scientist or mac...</td>\n",
       "      <td>12</td>\n",
       "      <td>20</td>\n",
       "      <td>10</td>\n",
       "      <td>Slightly dissatisfied</td>\n",
       "      <td>Slightly dissatisfied</td>\n",
       "      <td>Somewhat confident</td>\n",
       "      <td>Yes</td>\n",
       "      <td>Yes</td>\n",
       "      <td>I’m not actively looking, but I am open to new...</td>\n",
       "      <td>3-4 years ago</td>\n",
       "      <td>NaN</td>\n",
       "      <td>No</td>\n",
       "      <td>Languages, frameworks, and other technologies ...</td>\n",
       "      <td>NaN</td>\n",
       "      <td>INR</td>\n",
       "      <td>Indian rupee</td>\n",
       "      <td>950000.0</td>\n",
       "      <td>Yearly</td>\n",
       "      <td>13293.0</td>\n",
       "      <td>70.0</td>\n",
       "      <td>There's no schedule or spec; I work on what se...</td>\n",
       "      <td>NaN</td>\n",
       "      <td>A few days each month</td>\n",
       "      <td>Home</td>\n",
       "      <td>Far above average</td>\n",
       "      <td>Yes, because I see value in code review</td>\n",
       "      <td>4.0</td>\n",
       "      <td>Yes, it's part of our process</td>\n",
       "      <td>NaN</td>\n",
       "      <td>NaN</td>\n",
       "      <td>C#;Go;JavaScript;Python;R;SQL</td>\n",
       "      <td>C#;Go;JavaScript;Kotlin;Python;R;SQL</td>\n",
       "      <td>Elasticsearch;MongoDB;Microsoft SQL Server;MyS...</td>\n",
       "      <td>Elasticsearch;MongoDB;Microsoft SQL Server</td>\n",
       "      <td>Linux;Windows</td>\n",
       "      <td>Android;Linux;Raspberry Pi;Windows</td>\n",
       "      <td>Angular/Angular.js;ASP.NET;Django;Express;Flas...</td>\n",
       "      <td>Angular/Angular.js;ASP.NET;Django;Express;Flas...</td>\n",
       "      <td>.NET;Node.js;Pandas;Torch/PyTorch</td>\n",
       "      <td>.NET;Node.js;TensorFlow;Torch/PyTorch</td>\n",
       "      <td>Android Studio;Eclipse;IPython / Jupyter;Notep...</td>\n",
       "      <td>Windows</td>\n",
       "      <td>NaN</td>\n",
       "      <td>Not at all</td>\n",
       "      <td>Useful for immutable record keeping outside of...</td>\n",
       "      <td>No</td>\n",
       "      <td>Yes</td>\n",
       "      <td>Yes</td>\n",
       "      <td>YouTube</td>\n",
       "      <td>Neither</td>\n",
       "      <td>Screen Name</td>\n",
       "      <td>NaN</td>\n",
       "      <td>Multiple times per day</td>\n",
       "      <td>Find answers to specific questions;Get a sense...</td>\n",
       "      <td>3-5 times per week</td>\n",
       "      <td>They were about the same</td>\n",
       "      <td>NaN</td>\n",
       "      <td>Yes</td>\n",
       "      <td>A few times per month or weekly</td>\n",
       "      <td>Yes</td>\n",
       "      <td>No, and I don't know what those are</td>\n",
       "      <td>Yes, somewhat</td>\n",
       "      <td>Somewhat less welcome now than last year</td>\n",
       "      <td>Tech articles written by other developers;Tech...</td>\n",
       "      <td>NaN</td>\n",
       "      <td>NaN</td>\n",
       "      <td>NaN</td>\n",
       "      <td>NaN</td>\n",
       "      <td>NaN</td>\n",
       "      <td>Yes</td>\n",
       "      <td>Too long</td>\n",
       "      <td>Difficult</td>\n",
       "    </tr>\n",
       "  </tbody>\n",
       "</table>\n",
       "</div>"
      ],
      "text/plain": [
       "   Respondent                                         MainBranch Hobbyist  \\\n",
       "2           3  I am not primarily a developer, but I write co...      Yes   \n",
       "3           4                     I am a developer by profession       No   \n",
       "5           6  I am not primarily a developer, but I write co...      Yes   \n",
       "8           9                     I am a developer by profession      Yes   \n",
       "9          10                     I am a developer by profession      Yes   \n",
       "\n",
       "                  OpenSourcer  \\\n",
       "2                       Never   \n",
       "3                       Never   \n",
       "5                       Never   \n",
       "8  Once a month or more often   \n",
       "9  Once a month or more often   \n",
       "\n",
       "                                          OpenSource          Employment  \\\n",
       "2  The quality of OSS and closed source software ...  Employed full-time   \n",
       "3  The quality of OSS and closed source software ...  Employed full-time   \n",
       "5  The quality of OSS and closed source software ...  Employed full-time   \n",
       "8  The quality of OSS and closed source software ...  Employed full-time   \n",
       "9  OSS is, on average, of HIGHER quality than pro...  Employed full-time   \n",
       "\n",
       "         Country Student                                            EdLevel  \\\n",
       "2       Thailand      No           Bachelor’s degree (BA, BS, B.Eng., etc.)   \n",
       "3  United States      No           Bachelor’s degree (BA, BS, B.Eng., etc.)   \n",
       "5         Canada      No           Bachelor’s degree (BA, BS, B.Eng., etc.)   \n",
       "8    New Zealand      No  Some college/university study without earning ...   \n",
       "9          India      No        Master’s degree (MA, MS, M.Eng., MBA, etc.)   \n",
       "\n",
       "                                      UndergradMajor  \\\n",
       "2                      Web development or web design   \n",
       "3  Computer science, computer engineering, or sof...   \n",
       "5                          Mathematics or statistics   \n",
       "8  Computer science, computer engineering, or sof...   \n",
       "9                                                NaN   \n",
       "\n",
       "                                            EduOther  \\\n",
       "2  Taught yourself a new language, framework, or ...   \n",
       "3  Taken an online course in programming or softw...   \n",
       "5  Taken an online course in programming or softw...   \n",
       "8  Taken an online course in programming or softw...   \n",
       "9                                                NaN   \n",
       "\n",
       "                    OrgSize  \\\n",
       "2      100 to 499 employees   \n",
       "3      100 to 499 employees   \n",
       "5                       NaN   \n",
       "8        10 to 19 employees   \n",
       "9  10,000 or more employees   \n",
       "\n",
       "                                             DevType YearsCode Age1stCode  \\\n",
       "2  Designer;Developer, back-end;Developer, front-...         3         22   \n",
       "3                              Developer, full-stack         3         16   \n",
       "5  Data or business analyst;Data scientist or mac...        13         15   \n",
       "8  Database administrator;Developer, back-end;Dev...        12         11   \n",
       "9  Data or business analyst;Data scientist or mac...        12         20   \n",
       "\n",
       "       YearsCodePro              CareerSat                 JobSat  \\\n",
       "2                 1     Slightly satisfied     Slightly satisfied   \n",
       "3  Less than 1 year         Very satisfied     Slightly satisfied   \n",
       "5                 3         Very satisfied     Slightly satisfied   \n",
       "8                 4     Slightly satisfied     Slightly satisfied   \n",
       "9                10  Slightly dissatisfied  Slightly dissatisfied   \n",
       "\n",
       "               MgrIdiot  MgrMoney   MgrWant  \\\n",
       "2  Not at all confident  Not sure  Not sure   \n",
       "3        Very confident        No  Not sure   \n",
       "5        Very confident        No       Yes   \n",
       "8    Somewhat confident        No  Not sure   \n",
       "9    Somewhat confident       Yes       Yes   \n",
       "\n",
       "                                             JobSeek          LastHireDate  \\\n",
       "2  I’m not actively looking, but I am open to new...         1-2 years ago   \n",
       "3       I am not interested in new job opportunities  Less than a year ago   \n",
       "5       I am not interested in new job opportunities         1-2 years ago   \n",
       "8  I’m not actively looking, but I am open to new...  Less than a year ago   \n",
       "9  I’m not actively looking, but I am open to new...         3-4 years ago   \n",
       "\n",
       "                                             LastInt FizzBuzz  \\\n",
       "2                Interview with people in peer roles       No   \n",
       "3  Write code by hand (e.g., on a whiteboard);Int...       No   \n",
       "5  Write any code;Complete a take-home project;In...       No   \n",
       "8  Write any code;Interview with people in peer r...      Yes   \n",
       "9                                                NaN       No   \n",
       "\n",
       "                                          JobFactors  \\\n",
       "2  Languages, frameworks, and other technologies ...   \n",
       "3  Languages, frameworks, and other technologies ...   \n",
       "5  Financial performance or funding status of the...   \n",
       "8  Financial performance or funding status of the...   \n",
       "9  Languages, frameworks, and other technologies ...   \n",
       "\n",
       "                                        ResumeUpdate CurrencySymbol  \\\n",
       "2                   I was preparing for a job search            THB   \n",
       "3                   I was preparing for a job search            USD   \n",
       "5  I heard about a job opportunity (from a recrui...            CAD   \n",
       "8                   I was preparing for a job search            NZD   \n",
       "9                                                NaN            INR   \n",
       "\n",
       "           CurrencyDesc  CompTotal CompFreq  ConvertedComp  WorkWeekHrs  \\\n",
       "2             Thai baht    23000.0  Monthly         8820.0         40.0   \n",
       "3  United States dollar    61000.0   Yearly        61000.0         80.0   \n",
       "5       Canadian dollar    40000.0  Monthly       366420.0         15.0   \n",
       "8    New Zealand dollar   138000.0   Yearly        95179.0         32.0   \n",
       "9          Indian rupee   950000.0   Yearly        13293.0         70.0   \n",
       "\n",
       "                                            WorkPlan  \\\n",
       "2  There's no schedule or spec; I work on what se...   \n",
       "3  There's no schedule or spec; I work on what se...   \n",
       "5  There's no schedule or spec; I work on what se...   \n",
       "8  There is a schedule and/or spec (made by me or...   \n",
       "9  There's no schedule or spec; I work on what se...   \n",
       "\n",
       "                                       WorkChallenge  \\\n",
       "2  Distracting work environment;Inadequate access...   \n",
       "3                                                NaN   \n",
       "5                                                NaN   \n",
       "8  Being tasked with non-development work;Inadequ...   \n",
       "9                                                NaN   \n",
       "\n",
       "                         WorkRemote WorkLoc                  ImpSyn  \\\n",
       "2  Less than once per month / Never    Home                 Average   \n",
       "3  Less than once per month / Never    Home  A little below average   \n",
       "5             A few days each month    Home  A little above average   \n",
       "8  Less than once per month / Never  Office  A little above average   \n",
       "9             A few days each month    Home       Far above average   \n",
       "\n",
       "                                   CodeRev  CodeRevHrs  \\\n",
       "2                                       No         NaN   \n",
       "3                                       No         NaN   \n",
       "5                                       No         NaN   \n",
       "8  Yes, because I see value in code review        12.0   \n",
       "9  Yes, because I see value in code review         4.0   \n",
       "\n",
       "                                           UnitTests  \\\n",
       "2                          No, but I think we should   \n",
       "3                          No, but I think we should   \n",
       "5  Yes, it's not part of our process but the deve...   \n",
       "8  Yes, it's not part of our process but the deve...   \n",
       "9                      Yes, it's part of our process   \n",
       "\n",
       "                                         PurchaseHow  \\\n",
       "2                                           Not sure   \n",
       "3  Developers typically have the most influence o...   \n",
       "5                                           Not sure   \n",
       "8                                           Not sure   \n",
       "9                                                NaN   \n",
       "\n",
       "                    PurchaseWhat  \\\n",
       "2  I have little or no influence   \n",
       "3  I have little or no influence   \n",
       "5  I have little or no influence   \n",
       "8          I have some influence   \n",
       "9                            NaN   \n",
       "\n",
       "                                  LanguageWorkedWith  \\\n",
       "2                                           HTML/CSS   \n",
       "3                                C;C++;C#;Python;SQL   \n",
       "5                                         Java;R;SQL   \n",
       "8  Bash/Shell/PowerShell;C#;HTML/CSS;JavaScript;P...   \n",
       "9                      C#;Go;JavaScript;Python;R;SQL   \n",
       "\n",
       "                              LanguageDesireNextYear  \\\n",
       "2                                    Elixir;HTML/CSS   \n",
       "3                                C;C#;JavaScript;SQL   \n",
       "5                                   Python;Scala;SQL   \n",
       "8  Bash/Shell/PowerShell;C;HTML/CSS;JavaScript;Ru...   \n",
       "9               C#;Go;JavaScript;Kotlin;Python;R;SQL   \n",
       "\n",
       "                                  DatabaseWorkedWith  \\\n",
       "2                                         PostgreSQL   \n",
       "3                                       MySQL;SQLite   \n",
       "5                                 MongoDB;PostgreSQL   \n",
       "8                         DynamoDB;PostgreSQL;SQLite   \n",
       "9  Elasticsearch;MongoDB;Microsoft SQL Server;MyS...   \n",
       "\n",
       "                       DatabaseDesireNextYear  \\\n",
       "2                                  PostgreSQL   \n",
       "3                                MySQL;SQLite   \n",
       "5                                  PostgreSQL   \n",
       "8                     PostgreSQL;Redis;SQLite   \n",
       "9  Elasticsearch;MongoDB;Microsoft SQL Server   \n",
       "\n",
       "                            PlatformWorkedWith  \\\n",
       "2                                          NaN   \n",
       "3                                Linux;Windows   \n",
       "5  Android;Google Cloud Platform;Linux;Windows   \n",
       "8          AWS;Docker;Heroku;Linux;MacOS;Slack   \n",
       "9                                Linux;Windows   \n",
       "\n",
       "                          PlatformDesireNextYear  \\\n",
       "2                                            NaN   \n",
       "3                                  Linux;Windows   \n",
       "5    Android;Google Cloud Platform;Linux;Windows   \n",
       "8  AWS;Docker;Heroku;Linux;MacOS;Slack;Other(s):   \n",
       "9             Android;Linux;Raspberry Pi;Windows   \n",
       "\n",
       "                                  WebFrameWorkedWith  \\\n",
       "2                                                NaN   \n",
       "3                                                NaN   \n",
       "5                                                NaN   \n",
       "8                    Express;Ruby on Rails;Other(s):   \n",
       "9  Angular/Angular.js;ASP.NET;Django;Express;Flas...   \n",
       "\n",
       "                              WebFrameDesireNextYear  \\\n",
       "2                                          Other(s):   \n",
       "3                                                NaN   \n",
       "5                                                NaN   \n",
       "8                    Express;Ruby on Rails;Other(s):   \n",
       "9  Angular/Angular.js;ASP.NET;Django;Express;Flas...   \n",
       "\n",
       "                  MiscTechWorkedWith                 MiscTechDesireNextYear  \\\n",
       "2                                NaN                                    NaN   \n",
       "3                               .NET                                   .NET   \n",
       "5                             Hadoop      Hadoop;Pandas;TensorFlow;Unity 3D   \n",
       "8                   Node.js;Unity 3D                                Node.js   \n",
       "9  .NET;Node.js;Pandas;Torch/PyTorch  .NET;Node.js;TensorFlow;Torch/PyTorch   \n",
       "\n",
       "                                          DevEnviron        OpSys  \\\n",
       "2                             Vim;Visual Studio Code  Linux-based   \n",
       "3       Eclipse;Vim;Visual Studio;Visual Studio Code      Windows   \n",
       "5  Android Studio;Eclipse;PyCharm;RStudio;Visual ...      Windows   \n",
       "8                                                Vim        MacOS   \n",
       "9  Android Studio;Eclipse;IPython / Jupyter;Notep...      Windows   \n",
       "\n",
       "                       Containers BlockchainOrg  \\\n",
       "2         I do not use containers           NaN   \n",
       "3         I do not use containers    Not at all   \n",
       "5         I do not use containers    Not at all   \n",
       "8  Development;Testing;Production    Not at all   \n",
       "9                             NaN    Not at all   \n",
       "\n",
       "                                        BlockchainIs BetterLife ITperson  \\\n",
       "2                                                NaN        Yes      Yes   \n",
       "3  Useful for decentralized currency (i.e., Bitcoin)        Yes     SIGH   \n",
       "5                                                NaN         No      Yes   \n",
       "8                  An irresponsible use of resources         No     SIGH   \n",
       "9  Useful for immutable record keeping outside of...         No      Yes   \n",
       "\n",
       "  OffOn SocialMedia              Extraversion   ScreenName SOVisit1st  \\\n",
       "2   Yes      Reddit  In real life (in person)     Username       2011   \n",
       "3   Yes      Reddit  In real life (in person)     Username       2014   \n",
       "5    No     YouTube  In real life (in person)        Login       2011   \n",
       "8   Yes     Twitter  In real life (in person)     Username       2013   \n",
       "9   Yes     YouTube                   Neither  Screen Name        NaN   \n",
       "\n",
       "                       SOVisitFreq  \\\n",
       "2             A few times per week   \n",
       "3            Daily or almost daily   \n",
       "5  A few times per month or weekly   \n",
       "8            Daily or almost daily   \n",
       "9           Multiple times per day   \n",
       "\n",
       "                                           SOVisitTo             SOFindAnswer  \\\n",
       "2  Find answers to specific questions;Learn how t...      6-10 times per week   \n",
       "3  Find answers to specific questions;Pass the ti...       1-2 times per week   \n",
       "5                 Find answers to specific questions  Less than once per week   \n",
       "8  Find answers to specific questions;Contribute ...       3-5 times per week   \n",
       "9  Find answers to specific questions;Get a sense...       3-5 times per week   \n",
       "\n",
       "                          SOTimeSaved  SOHowMuchTime SOAccount  \\\n",
       "2            They were about the same            NaN       Yes   \n",
       "3      Stack Overflow was much faster  31-60 minutes       Yes   \n",
       "5  Stack Overflow was slightly faster    60+ minutes       Yes   \n",
       "8            They were about the same            NaN       Yes   \n",
       "9            They were about the same            NaN       Yes   \n",
       "\n",
       "                                          SOPartFreq  \\\n",
       "2                Less than once per month or monthly   \n",
       "3                Less than once per month or monthly   \n",
       "5  I have never participated in Q&A on Stack Over...   \n",
       "8                Less than once per month or monthly   \n",
       "9                    A few times per month or weekly   \n",
       "\n",
       "                                              SOJobs  \\\n",
       "2                                                Yes   \n",
       "3                                                Yes   \n",
       "5  No, I knew that Stack Overflow had a job board...   \n",
       "8  No, I knew that Stack Overflow had a job board...   \n",
       "9                                                Yes   \n",
       "\n",
       "                                            EntTeams          SOComm  \\\n",
       "2  No, I've heard of them, but I am not part of a...         Neutral   \n",
       "3                No, and I don't know what those are  No, not really   \n",
       "5                No, and I don't know what those are  No, not really   \n",
       "8                No, and I don't know what those are   Yes, somewhat   \n",
       "9                No, and I don't know what those are   Yes, somewhat   \n",
       "\n",
       "                              WelcomeChange  \\\n",
       "2   Just as welcome now as I felt last year   \n",
       "3   Just as welcome now as I felt last year   \n",
       "5   Just as welcome now as I felt last year   \n",
       "8   Just as welcome now as I felt last year   \n",
       "9  Somewhat less welcome now than last year   \n",
       "\n",
       "                                        SONewContent   Age Gender Trans  \\\n",
       "2  Tech meetups or events in your area;Courses on...  28.0    Man    No   \n",
       "3  Tech articles written by other developers;Indu...  22.0    Man    No   \n",
       "5  Tech articles written by other developers;Indu...  28.0    Man    No   \n",
       "8                                                NaN  23.0    Man    No   \n",
       "9  Tech articles written by other developers;Tech...   NaN    NaN   NaN   \n",
       "\n",
       "                 Sexuality                     Ethnicity Dependents  \\\n",
       "2  Straight / Heterosexual                           NaN        Yes   \n",
       "3  Straight / Heterosexual  White or of European descent         No   \n",
       "5  Straight / Heterosexual                    East Asian         No   \n",
       "8                 Bisexual  White or of European descent         No   \n",
       "9                      NaN                           NaN        Yes   \n",
       "\n",
       "            SurveyLength                  SurveyEase  \n",
       "2  Appropriate in length  Neither easy nor difficult  \n",
       "3  Appropriate in length                        Easy  \n",
       "5               Too long  Neither easy nor difficult  \n",
       "8  Appropriate in length  Neither easy nor difficult  \n",
       "9               Too long                   Difficult  "
      ]
     },
     "execution_count": 26,
     "metadata": {},
     "output_type": "execute_result"
    }
   ],
   "source": [
    "high_salary=  (df['ConvertedComp']> 5000) & (df['Student']== 'No')\n",
    "\n",
    "\n",
    "df[high_salary].head()\n"
   ]
  },
  {
   "cell_type": "code",
   "execution_count": 29,
   "id": "14d1a6ff",
   "metadata": {
    "ExecuteTime": {
     "end_time": "2021-09-04T11:47:12.827982Z",
     "start_time": "2021-09-04T11:47:12.742969Z"
    },
    "scrolled": true
   },
   "outputs": [
    {
     "data": {
      "text/html": [
       "<div>\n",
       "<style scoped>\n",
       "    .dataframe tbody tr th:only-of-type {\n",
       "        vertical-align: middle;\n",
       "    }\n",
       "\n",
       "    .dataframe tbody tr th {\n",
       "        vertical-align: top;\n",
       "    }\n",
       "\n",
       "    .dataframe thead th {\n",
       "        text-align: right;\n",
       "    }\n",
       "</style>\n",
       "<table border=\"1\" class=\"dataframe\">\n",
       "  <thead>\n",
       "    <tr style=\"text-align: right;\">\n",
       "      <th></th>\n",
       "      <th>Respondent</th>\n",
       "      <th>MainBranch</th>\n",
       "      <th>Hobbyist</th>\n",
       "      <th>OpenSourcer</th>\n",
       "      <th>OpenSource</th>\n",
       "      <th>Employment</th>\n",
       "      <th>Country</th>\n",
       "      <th>Student</th>\n",
       "      <th>EdLevel</th>\n",
       "      <th>UndergradMajor</th>\n",
       "      <th>EduOther</th>\n",
       "      <th>OrgSize</th>\n",
       "      <th>DevType</th>\n",
       "      <th>YearsCode</th>\n",
       "      <th>Age1stCode</th>\n",
       "      <th>YearsCodePro</th>\n",
       "      <th>CareerSat</th>\n",
       "      <th>JobSat</th>\n",
       "      <th>MgrIdiot</th>\n",
       "      <th>MgrMoney</th>\n",
       "      <th>MgrWant</th>\n",
       "      <th>JobSeek</th>\n",
       "      <th>LastHireDate</th>\n",
       "      <th>LastInt</th>\n",
       "      <th>FizzBuzz</th>\n",
       "      <th>JobFactors</th>\n",
       "      <th>ResumeUpdate</th>\n",
       "      <th>CurrencySymbol</th>\n",
       "      <th>CurrencyDesc</th>\n",
       "      <th>CompTotal</th>\n",
       "      <th>CompFreq</th>\n",
       "      <th>ConvertedComp</th>\n",
       "      <th>WorkWeekHrs</th>\n",
       "      <th>WorkPlan</th>\n",
       "      <th>WorkChallenge</th>\n",
       "      <th>WorkRemote</th>\n",
       "      <th>WorkLoc</th>\n",
       "      <th>ImpSyn</th>\n",
       "      <th>CodeRev</th>\n",
       "      <th>CodeRevHrs</th>\n",
       "      <th>UnitTests</th>\n",
       "      <th>PurchaseHow</th>\n",
       "      <th>PurchaseWhat</th>\n",
       "      <th>LanguageWorkedWith</th>\n",
       "      <th>LanguageDesireNextYear</th>\n",
       "      <th>DatabaseWorkedWith</th>\n",
       "      <th>DatabaseDesireNextYear</th>\n",
       "      <th>PlatformWorkedWith</th>\n",
       "      <th>PlatformDesireNextYear</th>\n",
       "      <th>WebFrameWorkedWith</th>\n",
       "      <th>WebFrameDesireNextYear</th>\n",
       "      <th>MiscTechWorkedWith</th>\n",
       "      <th>MiscTechDesireNextYear</th>\n",
       "      <th>DevEnviron</th>\n",
       "      <th>OpSys</th>\n",
       "      <th>Containers</th>\n",
       "      <th>BlockchainOrg</th>\n",
       "      <th>BlockchainIs</th>\n",
       "      <th>BetterLife</th>\n",
       "      <th>ITperson</th>\n",
       "      <th>OffOn</th>\n",
       "      <th>SocialMedia</th>\n",
       "      <th>Extraversion</th>\n",
       "      <th>ScreenName</th>\n",
       "      <th>SOVisit1st</th>\n",
       "      <th>SOVisitFreq</th>\n",
       "      <th>SOVisitTo</th>\n",
       "      <th>SOFindAnswer</th>\n",
       "      <th>SOTimeSaved</th>\n",
       "      <th>SOHowMuchTime</th>\n",
       "      <th>SOAccount</th>\n",
       "      <th>SOPartFreq</th>\n",
       "      <th>SOJobs</th>\n",
       "      <th>EntTeams</th>\n",
       "      <th>SOComm</th>\n",
       "      <th>WelcomeChange</th>\n",
       "      <th>SONewContent</th>\n",
       "      <th>Age</th>\n",
       "      <th>Gender</th>\n",
       "      <th>Trans</th>\n",
       "      <th>Sexuality</th>\n",
       "      <th>Ethnicity</th>\n",
       "      <th>Dependents</th>\n",
       "      <th>SurveyLength</th>\n",
       "      <th>SurveyEase</th>\n",
       "    </tr>\n",
       "  </thead>\n",
       "  <tbody>\n",
       "    <tr>\n",
       "      <th>2</th>\n",
       "      <td>3</td>\n",
       "      <td>I am not primarily a developer, but I write co...</td>\n",
       "      <td>Yes</td>\n",
       "      <td>Never</td>\n",
       "      <td>The quality of OSS and closed source software ...</td>\n",
       "      <td>Employed full-time</td>\n",
       "      <td>Thailand</td>\n",
       "      <td>No</td>\n",
       "      <td>Bachelor’s degree (BA, BS, B.Eng., etc.)</td>\n",
       "      <td>Web development or web design</td>\n",
       "      <td>Taught yourself a new language, framework, or ...</td>\n",
       "      <td>100 to 499 employees</td>\n",
       "      <td>Designer;Developer, back-end;Developer, front-...</td>\n",
       "      <td>3</td>\n",
       "      <td>22</td>\n",
       "      <td>1</td>\n",
       "      <td>Slightly satisfied</td>\n",
       "      <td>Slightly satisfied</td>\n",
       "      <td>Not at all confident</td>\n",
       "      <td>Not sure</td>\n",
       "      <td>Not sure</td>\n",
       "      <td>I’m not actively looking, but I am open to new...</td>\n",
       "      <td>1-2 years ago</td>\n",
       "      <td>Interview with people in peer roles</td>\n",
       "      <td>No</td>\n",
       "      <td>Languages, frameworks, and other technologies ...</td>\n",
       "      <td>I was preparing for a job search</td>\n",
       "      <td>THB</td>\n",
       "      <td>Thai baht</td>\n",
       "      <td>23000.0</td>\n",
       "      <td>Monthly</td>\n",
       "      <td>8820.0</td>\n",
       "      <td>40.0</td>\n",
       "      <td>There's no schedule or spec; I work on what se...</td>\n",
       "      <td>Distracting work environment;Inadequate access...</td>\n",
       "      <td>Less than once per month / Never</td>\n",
       "      <td>Home</td>\n",
       "      <td>Average</td>\n",
       "      <td>No</td>\n",
       "      <td>NaN</td>\n",
       "      <td>No, but I think we should</td>\n",
       "      <td>Not sure</td>\n",
       "      <td>I have little or no influence</td>\n",
       "      <td>HTML/CSS</td>\n",
       "      <td>Elixir;HTML/CSS</td>\n",
       "      <td>PostgreSQL</td>\n",
       "      <td>PostgreSQL</td>\n",
       "      <td>NaN</td>\n",
       "      <td>NaN</td>\n",
       "      <td>NaN</td>\n",
       "      <td>Other(s):</td>\n",
       "      <td>NaN</td>\n",
       "      <td>NaN</td>\n",
       "      <td>Vim;Visual Studio Code</td>\n",
       "      <td>Linux-based</td>\n",
       "      <td>I do not use containers</td>\n",
       "      <td>NaN</td>\n",
       "      <td>NaN</td>\n",
       "      <td>Yes</td>\n",
       "      <td>Yes</td>\n",
       "      <td>Yes</td>\n",
       "      <td>Reddit</td>\n",
       "      <td>In real life (in person)</td>\n",
       "      <td>Username</td>\n",
       "      <td>2011</td>\n",
       "      <td>A few times per week</td>\n",
       "      <td>Find answers to specific questions;Learn how t...</td>\n",
       "      <td>6-10 times per week</td>\n",
       "      <td>They were about the same</td>\n",
       "      <td>NaN</td>\n",
       "      <td>Yes</td>\n",
       "      <td>Less than once per month or monthly</td>\n",
       "      <td>Yes</td>\n",
       "      <td>No, I've heard of them, but I am not part of a...</td>\n",
       "      <td>Neutral</td>\n",
       "      <td>Just as welcome now as I felt last year</td>\n",
       "      <td>Tech meetups or events in your area;Courses on...</td>\n",
       "      <td>28.0</td>\n",
       "      <td>Man</td>\n",
       "      <td>No</td>\n",
       "      <td>Straight / Heterosexual</td>\n",
       "      <td>NaN</td>\n",
       "      <td>Yes</td>\n",
       "      <td>Appropriate in length</td>\n",
       "      <td>Neither easy nor difficult</td>\n",
       "    </tr>\n",
       "    <tr>\n",
       "      <th>3</th>\n",
       "      <td>4</td>\n",
       "      <td>I am a developer by profession</td>\n",
       "      <td>No</td>\n",
       "      <td>Never</td>\n",
       "      <td>The quality of OSS and closed source software ...</td>\n",
       "      <td>Employed full-time</td>\n",
       "      <td>United States</td>\n",
       "      <td>No</td>\n",
       "      <td>Bachelor’s degree (BA, BS, B.Eng., etc.)</td>\n",
       "      <td>Computer science, computer engineering, or sof...</td>\n",
       "      <td>Taken an online course in programming or softw...</td>\n",
       "      <td>100 to 499 employees</td>\n",
       "      <td>Developer, full-stack</td>\n",
       "      <td>3</td>\n",
       "      <td>16</td>\n",
       "      <td>Less than 1 year</td>\n",
       "      <td>Very satisfied</td>\n",
       "      <td>Slightly satisfied</td>\n",
       "      <td>Very confident</td>\n",
       "      <td>No</td>\n",
       "      <td>Not sure</td>\n",
       "      <td>I am not interested in new job opportunities</td>\n",
       "      <td>Less than a year ago</td>\n",
       "      <td>Write code by hand (e.g., on a whiteboard);Int...</td>\n",
       "      <td>No</td>\n",
       "      <td>Languages, frameworks, and other technologies ...</td>\n",
       "      <td>I was preparing for a job search</td>\n",
       "      <td>USD</td>\n",
       "      <td>United States dollar</td>\n",
       "      <td>61000.0</td>\n",
       "      <td>Yearly</td>\n",
       "      <td>61000.0</td>\n",
       "      <td>80.0</td>\n",
       "      <td>There's no schedule or spec; I work on what se...</td>\n",
       "      <td>NaN</td>\n",
       "      <td>Less than once per month / Never</td>\n",
       "      <td>Home</td>\n",
       "      <td>A little below average</td>\n",
       "      <td>No</td>\n",
       "      <td>NaN</td>\n",
       "      <td>No, but I think we should</td>\n",
       "      <td>Developers typically have the most influence o...</td>\n",
       "      <td>I have little or no influence</td>\n",
       "      <td>C;C++;C#;Python;SQL</td>\n",
       "      <td>C;C#;JavaScript;SQL</td>\n",
       "      <td>MySQL;SQLite</td>\n",
       "      <td>MySQL;SQLite</td>\n",
       "      <td>Linux;Windows</td>\n",
       "      <td>Linux;Windows</td>\n",
       "      <td>NaN</td>\n",
       "      <td>NaN</td>\n",
       "      <td>.NET</td>\n",
       "      <td>.NET</td>\n",
       "      <td>Eclipse;Vim;Visual Studio;Visual Studio Code</td>\n",
       "      <td>Windows</td>\n",
       "      <td>I do not use containers</td>\n",
       "      <td>Not at all</td>\n",
       "      <td>Useful for decentralized currency (i.e., Bitcoin)</td>\n",
       "      <td>Yes</td>\n",
       "      <td>SIGH</td>\n",
       "      <td>Yes</td>\n",
       "      <td>Reddit</td>\n",
       "      <td>In real life (in person)</td>\n",
       "      <td>Username</td>\n",
       "      <td>2014</td>\n",
       "      <td>Daily or almost daily</td>\n",
       "      <td>Find answers to specific questions;Pass the ti...</td>\n",
       "      <td>1-2 times per week</td>\n",
       "      <td>Stack Overflow was much faster</td>\n",
       "      <td>31-60 minutes</td>\n",
       "      <td>Yes</td>\n",
       "      <td>Less than once per month or monthly</td>\n",
       "      <td>Yes</td>\n",
       "      <td>No, and I don't know what those are</td>\n",
       "      <td>No, not really</td>\n",
       "      <td>Just as welcome now as I felt last year</td>\n",
       "      <td>Tech articles written by other developers;Indu...</td>\n",
       "      <td>22.0</td>\n",
       "      <td>Man</td>\n",
       "      <td>No</td>\n",
       "      <td>Straight / Heterosexual</td>\n",
       "      <td>White or of European descent</td>\n",
       "      <td>No</td>\n",
       "      <td>Appropriate in length</td>\n",
       "      <td>Easy</td>\n",
       "    </tr>\n",
       "    <tr>\n",
       "      <th>5</th>\n",
       "      <td>6</td>\n",
       "      <td>I am not primarily a developer, but I write co...</td>\n",
       "      <td>Yes</td>\n",
       "      <td>Never</td>\n",
       "      <td>The quality of OSS and closed source software ...</td>\n",
       "      <td>Employed full-time</td>\n",
       "      <td>Canada</td>\n",
       "      <td>No</td>\n",
       "      <td>Bachelor’s degree (BA, BS, B.Eng., etc.)</td>\n",
       "      <td>Mathematics or statistics</td>\n",
       "      <td>Taken an online course in programming or softw...</td>\n",
       "      <td>NaN</td>\n",
       "      <td>Data or business analyst;Data scientist or mac...</td>\n",
       "      <td>13</td>\n",
       "      <td>15</td>\n",
       "      <td>3</td>\n",
       "      <td>Very satisfied</td>\n",
       "      <td>Slightly satisfied</td>\n",
       "      <td>Very confident</td>\n",
       "      <td>No</td>\n",
       "      <td>Yes</td>\n",
       "      <td>I am not interested in new job opportunities</td>\n",
       "      <td>1-2 years ago</td>\n",
       "      <td>Write any code;Complete a take-home project;In...</td>\n",
       "      <td>No</td>\n",
       "      <td>Financial performance or funding status of the...</td>\n",
       "      <td>I heard about a job opportunity (from a recrui...</td>\n",
       "      <td>CAD</td>\n",
       "      <td>Canadian dollar</td>\n",
       "      <td>40000.0</td>\n",
       "      <td>Monthly</td>\n",
       "      <td>366420.0</td>\n",
       "      <td>15.0</td>\n",
       "      <td>There's no schedule or spec; I work on what se...</td>\n",
       "      <td>NaN</td>\n",
       "      <td>A few days each month</td>\n",
       "      <td>Home</td>\n",
       "      <td>A little above average</td>\n",
       "      <td>No</td>\n",
       "      <td>NaN</td>\n",
       "      <td>Yes, it's not part of our process but the deve...</td>\n",
       "      <td>Not sure</td>\n",
       "      <td>I have little or no influence</td>\n",
       "      <td>Java;R;SQL</td>\n",
       "      <td>Python;Scala;SQL</td>\n",
       "      <td>MongoDB;PostgreSQL</td>\n",
       "      <td>PostgreSQL</td>\n",
       "      <td>Android;Google Cloud Platform;Linux;Windows</td>\n",
       "      <td>Android;Google Cloud Platform;Linux;Windows</td>\n",
       "      <td>NaN</td>\n",
       "      <td>NaN</td>\n",
       "      <td>Hadoop</td>\n",
       "      <td>Hadoop;Pandas;TensorFlow;Unity 3D</td>\n",
       "      <td>Android Studio;Eclipse;PyCharm;RStudio;Visual ...</td>\n",
       "      <td>Windows</td>\n",
       "      <td>I do not use containers</td>\n",
       "      <td>Not at all</td>\n",
       "      <td>NaN</td>\n",
       "      <td>No</td>\n",
       "      <td>Yes</td>\n",
       "      <td>No</td>\n",
       "      <td>YouTube</td>\n",
       "      <td>In real life (in person)</td>\n",
       "      <td>Login</td>\n",
       "      <td>2011</td>\n",
       "      <td>A few times per month or weekly</td>\n",
       "      <td>Find answers to specific questions</td>\n",
       "      <td>Less than once per week</td>\n",
       "      <td>Stack Overflow was slightly faster</td>\n",
       "      <td>60+ minutes</td>\n",
       "      <td>Yes</td>\n",
       "      <td>I have never participated in Q&amp;A on Stack Over...</td>\n",
       "      <td>No, I knew that Stack Overflow had a job board...</td>\n",
       "      <td>No, and I don't know what those are</td>\n",
       "      <td>No, not really</td>\n",
       "      <td>Just as welcome now as I felt last year</td>\n",
       "      <td>Tech articles written by other developers;Indu...</td>\n",
       "      <td>28.0</td>\n",
       "      <td>Man</td>\n",
       "      <td>No</td>\n",
       "      <td>Straight / Heterosexual</td>\n",
       "      <td>East Asian</td>\n",
       "      <td>No</td>\n",
       "      <td>Too long</td>\n",
       "      <td>Neither easy nor difficult</td>\n",
       "    </tr>\n",
       "    <tr>\n",
       "      <th>8</th>\n",
       "      <td>9</td>\n",
       "      <td>I am a developer by profession</td>\n",
       "      <td>Yes</td>\n",
       "      <td>Once a month or more often</td>\n",
       "      <td>The quality of OSS and closed source software ...</td>\n",
       "      <td>Employed full-time</td>\n",
       "      <td>New Zealand</td>\n",
       "      <td>No</td>\n",
       "      <td>Some college/university study without earning ...</td>\n",
       "      <td>Computer science, computer engineering, or sof...</td>\n",
       "      <td>Taken an online course in programming or softw...</td>\n",
       "      <td>10 to 19 employees</td>\n",
       "      <td>Database administrator;Developer, back-end;Dev...</td>\n",
       "      <td>12</td>\n",
       "      <td>11</td>\n",
       "      <td>4</td>\n",
       "      <td>Slightly satisfied</td>\n",
       "      <td>Slightly satisfied</td>\n",
       "      <td>Somewhat confident</td>\n",
       "      <td>No</td>\n",
       "      <td>Not sure</td>\n",
       "      <td>I’m not actively looking, but I am open to new...</td>\n",
       "      <td>Less than a year ago</td>\n",
       "      <td>Write any code;Interview with people in peer r...</td>\n",
       "      <td>Yes</td>\n",
       "      <td>Financial performance or funding status of the...</td>\n",
       "      <td>I was preparing for a job search</td>\n",
       "      <td>NZD</td>\n",
       "      <td>New Zealand dollar</td>\n",
       "      <td>138000.0</td>\n",
       "      <td>Yearly</td>\n",
       "      <td>95179.0</td>\n",
       "      <td>32.0</td>\n",
       "      <td>There is a schedule and/or spec (made by me or...</td>\n",
       "      <td>Being tasked with non-development work;Inadequ...</td>\n",
       "      <td>Less than once per month / Never</td>\n",
       "      <td>Office</td>\n",
       "      <td>A little above average</td>\n",
       "      <td>Yes, because I see value in code review</td>\n",
       "      <td>12.0</td>\n",
       "      <td>Yes, it's not part of our process but the deve...</td>\n",
       "      <td>Not sure</td>\n",
       "      <td>I have some influence</td>\n",
       "      <td>Bash/Shell/PowerShell;C#;HTML/CSS;JavaScript;P...</td>\n",
       "      <td>Bash/Shell/PowerShell;C;HTML/CSS;JavaScript;Ru...</td>\n",
       "      <td>DynamoDB;PostgreSQL;SQLite</td>\n",
       "      <td>PostgreSQL;Redis;SQLite</td>\n",
       "      <td>AWS;Docker;Heroku;Linux;MacOS;Slack</td>\n",
       "      <td>AWS;Docker;Heroku;Linux;MacOS;Slack;Other(s):</td>\n",
       "      <td>Express;Ruby on Rails;Other(s):</td>\n",
       "      <td>Express;Ruby on Rails;Other(s):</td>\n",
       "      <td>Node.js;Unity 3D</td>\n",
       "      <td>Node.js</td>\n",
       "      <td>Vim</td>\n",
       "      <td>MacOS</td>\n",
       "      <td>Development;Testing;Production</td>\n",
       "      <td>Not at all</td>\n",
       "      <td>An irresponsible use of resources</td>\n",
       "      <td>No</td>\n",
       "      <td>SIGH</td>\n",
       "      <td>Yes</td>\n",
       "      <td>Twitter</td>\n",
       "      <td>In real life (in person)</td>\n",
       "      <td>Username</td>\n",
       "      <td>2013</td>\n",
       "      <td>Daily or almost daily</td>\n",
       "      <td>Find answers to specific questions;Contribute ...</td>\n",
       "      <td>3-5 times per week</td>\n",
       "      <td>They were about the same</td>\n",
       "      <td>NaN</td>\n",
       "      <td>Yes</td>\n",
       "      <td>Less than once per month or monthly</td>\n",
       "      <td>No, I knew that Stack Overflow had a job board...</td>\n",
       "      <td>No, and I don't know what those are</td>\n",
       "      <td>Yes, somewhat</td>\n",
       "      <td>Just as welcome now as I felt last year</td>\n",
       "      <td>NaN</td>\n",
       "      <td>23.0</td>\n",
       "      <td>Man</td>\n",
       "      <td>No</td>\n",
       "      <td>Bisexual</td>\n",
       "      <td>White or of European descent</td>\n",
       "      <td>No</td>\n",
       "      <td>Appropriate in length</td>\n",
       "      <td>Neither easy nor difficult</td>\n",
       "    </tr>\n",
       "    <tr>\n",
       "      <th>9</th>\n",
       "      <td>10</td>\n",
       "      <td>I am a developer by profession</td>\n",
       "      <td>Yes</td>\n",
       "      <td>Once a month or more often</td>\n",
       "      <td>OSS is, on average, of HIGHER quality than pro...</td>\n",
       "      <td>Employed full-time</td>\n",
       "      <td>India</td>\n",
       "      <td>No</td>\n",
       "      <td>Master’s degree (MA, MS, M.Eng., MBA, etc.)</td>\n",
       "      <td>NaN</td>\n",
       "      <td>NaN</td>\n",
       "      <td>10,000 or more employees</td>\n",
       "      <td>Data or business analyst;Data scientist or mac...</td>\n",
       "      <td>12</td>\n",
       "      <td>20</td>\n",
       "      <td>10</td>\n",
       "      <td>Slightly dissatisfied</td>\n",
       "      <td>Slightly dissatisfied</td>\n",
       "      <td>Somewhat confident</td>\n",
       "      <td>Yes</td>\n",
       "      <td>Yes</td>\n",
       "      <td>I’m not actively looking, but I am open to new...</td>\n",
       "      <td>3-4 years ago</td>\n",
       "      <td>NaN</td>\n",
       "      <td>No</td>\n",
       "      <td>Languages, frameworks, and other technologies ...</td>\n",
       "      <td>NaN</td>\n",
       "      <td>INR</td>\n",
       "      <td>Indian rupee</td>\n",
       "      <td>950000.0</td>\n",
       "      <td>Yearly</td>\n",
       "      <td>13293.0</td>\n",
       "      <td>70.0</td>\n",
       "      <td>There's no schedule or spec; I work on what se...</td>\n",
       "      <td>NaN</td>\n",
       "      <td>A few days each month</td>\n",
       "      <td>Home</td>\n",
       "      <td>Far above average</td>\n",
       "      <td>Yes, because I see value in code review</td>\n",
       "      <td>4.0</td>\n",
       "      <td>Yes, it's part of our process</td>\n",
       "      <td>NaN</td>\n",
       "      <td>NaN</td>\n",
       "      <td>C#;Go;JavaScript;Python;R;SQL</td>\n",
       "      <td>C#;Go;JavaScript;Kotlin;Python;R;SQL</td>\n",
       "      <td>Elasticsearch;MongoDB;Microsoft SQL Server;MyS...</td>\n",
       "      <td>Elasticsearch;MongoDB;Microsoft SQL Server</td>\n",
       "      <td>Linux;Windows</td>\n",
       "      <td>Android;Linux;Raspberry Pi;Windows</td>\n",
       "      <td>Angular/Angular.js;ASP.NET;Django;Express;Flas...</td>\n",
       "      <td>Angular/Angular.js;ASP.NET;Django;Express;Flas...</td>\n",
       "      <td>.NET;Node.js;Pandas;Torch/PyTorch</td>\n",
       "      <td>.NET;Node.js;TensorFlow;Torch/PyTorch</td>\n",
       "      <td>Android Studio;Eclipse;IPython / Jupyter;Notep...</td>\n",
       "      <td>Windows</td>\n",
       "      <td>NaN</td>\n",
       "      <td>Not at all</td>\n",
       "      <td>Useful for immutable record keeping outside of...</td>\n",
       "      <td>No</td>\n",
       "      <td>Yes</td>\n",
       "      <td>Yes</td>\n",
       "      <td>YouTube</td>\n",
       "      <td>Neither</td>\n",
       "      <td>Screen Name</td>\n",
       "      <td>NaN</td>\n",
       "      <td>Multiple times per day</td>\n",
       "      <td>Find answers to specific questions;Get a sense...</td>\n",
       "      <td>3-5 times per week</td>\n",
       "      <td>They were about the same</td>\n",
       "      <td>NaN</td>\n",
       "      <td>Yes</td>\n",
       "      <td>A few times per month or weekly</td>\n",
       "      <td>Yes</td>\n",
       "      <td>No, and I don't know what those are</td>\n",
       "      <td>Yes, somewhat</td>\n",
       "      <td>Somewhat less welcome now than last year</td>\n",
       "      <td>Tech articles written by other developers;Tech...</td>\n",
       "      <td>NaN</td>\n",
       "      <td>NaN</td>\n",
       "      <td>NaN</td>\n",
       "      <td>NaN</td>\n",
       "      <td>NaN</td>\n",
       "      <td>Yes</td>\n",
       "      <td>Too long</td>\n",
       "      <td>Difficult</td>\n",
       "    </tr>\n",
       "  </tbody>\n",
       "</table>\n",
       "</div>"
      ],
      "text/plain": [
       "   Respondent                                         MainBranch Hobbyist  \\\n",
       "2           3  I am not primarily a developer, but I write co...      Yes   \n",
       "3           4                     I am a developer by profession       No   \n",
       "5           6  I am not primarily a developer, but I write co...      Yes   \n",
       "8           9                     I am a developer by profession      Yes   \n",
       "9          10                     I am a developer by profession      Yes   \n",
       "\n",
       "                  OpenSourcer  \\\n",
       "2                       Never   \n",
       "3                       Never   \n",
       "5                       Never   \n",
       "8  Once a month or more often   \n",
       "9  Once a month or more often   \n",
       "\n",
       "                                          OpenSource          Employment  \\\n",
       "2  The quality of OSS and closed source software ...  Employed full-time   \n",
       "3  The quality of OSS and closed source software ...  Employed full-time   \n",
       "5  The quality of OSS and closed source software ...  Employed full-time   \n",
       "8  The quality of OSS and closed source software ...  Employed full-time   \n",
       "9  OSS is, on average, of HIGHER quality than pro...  Employed full-time   \n",
       "\n",
       "         Country Student                                            EdLevel  \\\n",
       "2       Thailand      No           Bachelor’s degree (BA, BS, B.Eng., etc.)   \n",
       "3  United States      No           Bachelor’s degree (BA, BS, B.Eng., etc.)   \n",
       "5         Canada      No           Bachelor’s degree (BA, BS, B.Eng., etc.)   \n",
       "8    New Zealand      No  Some college/university study without earning ...   \n",
       "9          India      No        Master’s degree (MA, MS, M.Eng., MBA, etc.)   \n",
       "\n",
       "                                      UndergradMajor  \\\n",
       "2                      Web development or web design   \n",
       "3  Computer science, computer engineering, or sof...   \n",
       "5                          Mathematics or statistics   \n",
       "8  Computer science, computer engineering, or sof...   \n",
       "9                                                NaN   \n",
       "\n",
       "                                            EduOther  \\\n",
       "2  Taught yourself a new language, framework, or ...   \n",
       "3  Taken an online course in programming or softw...   \n",
       "5  Taken an online course in programming or softw...   \n",
       "8  Taken an online course in programming or softw...   \n",
       "9                                                NaN   \n",
       "\n",
       "                    OrgSize  \\\n",
       "2      100 to 499 employees   \n",
       "3      100 to 499 employees   \n",
       "5                       NaN   \n",
       "8        10 to 19 employees   \n",
       "9  10,000 or more employees   \n",
       "\n",
       "                                             DevType YearsCode Age1stCode  \\\n",
       "2  Designer;Developer, back-end;Developer, front-...         3         22   \n",
       "3                              Developer, full-stack         3         16   \n",
       "5  Data or business analyst;Data scientist or mac...        13         15   \n",
       "8  Database administrator;Developer, back-end;Dev...        12         11   \n",
       "9  Data or business analyst;Data scientist or mac...        12         20   \n",
       "\n",
       "       YearsCodePro              CareerSat                 JobSat  \\\n",
       "2                 1     Slightly satisfied     Slightly satisfied   \n",
       "3  Less than 1 year         Very satisfied     Slightly satisfied   \n",
       "5                 3         Very satisfied     Slightly satisfied   \n",
       "8                 4     Slightly satisfied     Slightly satisfied   \n",
       "9                10  Slightly dissatisfied  Slightly dissatisfied   \n",
       "\n",
       "               MgrIdiot  MgrMoney   MgrWant  \\\n",
       "2  Not at all confident  Not sure  Not sure   \n",
       "3        Very confident        No  Not sure   \n",
       "5        Very confident        No       Yes   \n",
       "8    Somewhat confident        No  Not sure   \n",
       "9    Somewhat confident       Yes       Yes   \n",
       "\n",
       "                                             JobSeek          LastHireDate  \\\n",
       "2  I’m not actively looking, but I am open to new...         1-2 years ago   \n",
       "3       I am not interested in new job opportunities  Less than a year ago   \n",
       "5       I am not interested in new job opportunities         1-2 years ago   \n",
       "8  I’m not actively looking, but I am open to new...  Less than a year ago   \n",
       "9  I’m not actively looking, but I am open to new...         3-4 years ago   \n",
       "\n",
       "                                             LastInt FizzBuzz  \\\n",
       "2                Interview with people in peer roles       No   \n",
       "3  Write code by hand (e.g., on a whiteboard);Int...       No   \n",
       "5  Write any code;Complete a take-home project;In...       No   \n",
       "8  Write any code;Interview with people in peer r...      Yes   \n",
       "9                                                NaN       No   \n",
       "\n",
       "                                          JobFactors  \\\n",
       "2  Languages, frameworks, and other technologies ...   \n",
       "3  Languages, frameworks, and other technologies ...   \n",
       "5  Financial performance or funding status of the...   \n",
       "8  Financial performance or funding status of the...   \n",
       "9  Languages, frameworks, and other technologies ...   \n",
       "\n",
       "                                        ResumeUpdate CurrencySymbol  \\\n",
       "2                   I was preparing for a job search            THB   \n",
       "3                   I was preparing for a job search            USD   \n",
       "5  I heard about a job opportunity (from a recrui...            CAD   \n",
       "8                   I was preparing for a job search            NZD   \n",
       "9                                                NaN            INR   \n",
       "\n",
       "           CurrencyDesc  CompTotal CompFreq  ConvertedComp  WorkWeekHrs  \\\n",
       "2             Thai baht    23000.0  Monthly         8820.0         40.0   \n",
       "3  United States dollar    61000.0   Yearly        61000.0         80.0   \n",
       "5       Canadian dollar    40000.0  Monthly       366420.0         15.0   \n",
       "8    New Zealand dollar   138000.0   Yearly        95179.0         32.0   \n",
       "9          Indian rupee   950000.0   Yearly        13293.0         70.0   \n",
       "\n",
       "                                            WorkPlan  \\\n",
       "2  There's no schedule or spec; I work on what se...   \n",
       "3  There's no schedule or spec; I work on what se...   \n",
       "5  There's no schedule or spec; I work on what se...   \n",
       "8  There is a schedule and/or spec (made by me or...   \n",
       "9  There's no schedule or spec; I work on what se...   \n",
       "\n",
       "                                       WorkChallenge  \\\n",
       "2  Distracting work environment;Inadequate access...   \n",
       "3                                                NaN   \n",
       "5                                                NaN   \n",
       "8  Being tasked with non-development work;Inadequ...   \n",
       "9                                                NaN   \n",
       "\n",
       "                         WorkRemote WorkLoc                  ImpSyn  \\\n",
       "2  Less than once per month / Never    Home                 Average   \n",
       "3  Less than once per month / Never    Home  A little below average   \n",
       "5             A few days each month    Home  A little above average   \n",
       "8  Less than once per month / Never  Office  A little above average   \n",
       "9             A few days each month    Home       Far above average   \n",
       "\n",
       "                                   CodeRev  CodeRevHrs  \\\n",
       "2                                       No         NaN   \n",
       "3                                       No         NaN   \n",
       "5                                       No         NaN   \n",
       "8  Yes, because I see value in code review        12.0   \n",
       "9  Yes, because I see value in code review         4.0   \n",
       "\n",
       "                                           UnitTests  \\\n",
       "2                          No, but I think we should   \n",
       "3                          No, but I think we should   \n",
       "5  Yes, it's not part of our process but the deve...   \n",
       "8  Yes, it's not part of our process but the deve...   \n",
       "9                      Yes, it's part of our process   \n",
       "\n",
       "                                         PurchaseHow  \\\n",
       "2                                           Not sure   \n",
       "3  Developers typically have the most influence o...   \n",
       "5                                           Not sure   \n",
       "8                                           Not sure   \n",
       "9                                                NaN   \n",
       "\n",
       "                    PurchaseWhat  \\\n",
       "2  I have little or no influence   \n",
       "3  I have little or no influence   \n",
       "5  I have little or no influence   \n",
       "8          I have some influence   \n",
       "9                            NaN   \n",
       "\n",
       "                                  LanguageWorkedWith  \\\n",
       "2                                           HTML/CSS   \n",
       "3                                C;C++;C#;Python;SQL   \n",
       "5                                         Java;R;SQL   \n",
       "8  Bash/Shell/PowerShell;C#;HTML/CSS;JavaScript;P...   \n",
       "9                      C#;Go;JavaScript;Python;R;SQL   \n",
       "\n",
       "                              LanguageDesireNextYear  \\\n",
       "2                                    Elixir;HTML/CSS   \n",
       "3                                C;C#;JavaScript;SQL   \n",
       "5                                   Python;Scala;SQL   \n",
       "8  Bash/Shell/PowerShell;C;HTML/CSS;JavaScript;Ru...   \n",
       "9               C#;Go;JavaScript;Kotlin;Python;R;SQL   \n",
       "\n",
       "                                  DatabaseWorkedWith  \\\n",
       "2                                         PostgreSQL   \n",
       "3                                       MySQL;SQLite   \n",
       "5                                 MongoDB;PostgreSQL   \n",
       "8                         DynamoDB;PostgreSQL;SQLite   \n",
       "9  Elasticsearch;MongoDB;Microsoft SQL Server;MyS...   \n",
       "\n",
       "                       DatabaseDesireNextYear  \\\n",
       "2                                  PostgreSQL   \n",
       "3                                MySQL;SQLite   \n",
       "5                                  PostgreSQL   \n",
       "8                     PostgreSQL;Redis;SQLite   \n",
       "9  Elasticsearch;MongoDB;Microsoft SQL Server   \n",
       "\n",
       "                            PlatformWorkedWith  \\\n",
       "2                                          NaN   \n",
       "3                                Linux;Windows   \n",
       "5  Android;Google Cloud Platform;Linux;Windows   \n",
       "8          AWS;Docker;Heroku;Linux;MacOS;Slack   \n",
       "9                                Linux;Windows   \n",
       "\n",
       "                          PlatformDesireNextYear  \\\n",
       "2                                            NaN   \n",
       "3                                  Linux;Windows   \n",
       "5    Android;Google Cloud Platform;Linux;Windows   \n",
       "8  AWS;Docker;Heroku;Linux;MacOS;Slack;Other(s):   \n",
       "9             Android;Linux;Raspberry Pi;Windows   \n",
       "\n",
       "                                  WebFrameWorkedWith  \\\n",
       "2                                                NaN   \n",
       "3                                                NaN   \n",
       "5                                                NaN   \n",
       "8                    Express;Ruby on Rails;Other(s):   \n",
       "9  Angular/Angular.js;ASP.NET;Django;Express;Flas...   \n",
       "\n",
       "                              WebFrameDesireNextYear  \\\n",
       "2                                          Other(s):   \n",
       "3                                                NaN   \n",
       "5                                                NaN   \n",
       "8                    Express;Ruby on Rails;Other(s):   \n",
       "9  Angular/Angular.js;ASP.NET;Django;Express;Flas...   \n",
       "\n",
       "                  MiscTechWorkedWith                 MiscTechDesireNextYear  \\\n",
       "2                                NaN                                    NaN   \n",
       "3                               .NET                                   .NET   \n",
       "5                             Hadoop      Hadoop;Pandas;TensorFlow;Unity 3D   \n",
       "8                   Node.js;Unity 3D                                Node.js   \n",
       "9  .NET;Node.js;Pandas;Torch/PyTorch  .NET;Node.js;TensorFlow;Torch/PyTorch   \n",
       "\n",
       "                                          DevEnviron        OpSys  \\\n",
       "2                             Vim;Visual Studio Code  Linux-based   \n",
       "3       Eclipse;Vim;Visual Studio;Visual Studio Code      Windows   \n",
       "5  Android Studio;Eclipse;PyCharm;RStudio;Visual ...      Windows   \n",
       "8                                                Vim        MacOS   \n",
       "9  Android Studio;Eclipse;IPython / Jupyter;Notep...      Windows   \n",
       "\n",
       "                       Containers BlockchainOrg  \\\n",
       "2         I do not use containers           NaN   \n",
       "3         I do not use containers    Not at all   \n",
       "5         I do not use containers    Not at all   \n",
       "8  Development;Testing;Production    Not at all   \n",
       "9                             NaN    Not at all   \n",
       "\n",
       "                                        BlockchainIs BetterLife ITperson  \\\n",
       "2                                                NaN        Yes      Yes   \n",
       "3  Useful for decentralized currency (i.e., Bitcoin)        Yes     SIGH   \n",
       "5                                                NaN         No      Yes   \n",
       "8                  An irresponsible use of resources         No     SIGH   \n",
       "9  Useful for immutable record keeping outside of...         No      Yes   \n",
       "\n",
       "  OffOn SocialMedia              Extraversion   ScreenName SOVisit1st  \\\n",
       "2   Yes      Reddit  In real life (in person)     Username       2011   \n",
       "3   Yes      Reddit  In real life (in person)     Username       2014   \n",
       "5    No     YouTube  In real life (in person)        Login       2011   \n",
       "8   Yes     Twitter  In real life (in person)     Username       2013   \n",
       "9   Yes     YouTube                   Neither  Screen Name        NaN   \n",
       "\n",
       "                       SOVisitFreq  \\\n",
       "2             A few times per week   \n",
       "3            Daily or almost daily   \n",
       "5  A few times per month or weekly   \n",
       "8            Daily or almost daily   \n",
       "9           Multiple times per day   \n",
       "\n",
       "                                           SOVisitTo             SOFindAnswer  \\\n",
       "2  Find answers to specific questions;Learn how t...      6-10 times per week   \n",
       "3  Find answers to specific questions;Pass the ti...       1-2 times per week   \n",
       "5                 Find answers to specific questions  Less than once per week   \n",
       "8  Find answers to specific questions;Contribute ...       3-5 times per week   \n",
       "9  Find answers to specific questions;Get a sense...       3-5 times per week   \n",
       "\n",
       "                          SOTimeSaved  SOHowMuchTime SOAccount  \\\n",
       "2            They were about the same            NaN       Yes   \n",
       "3      Stack Overflow was much faster  31-60 minutes       Yes   \n",
       "5  Stack Overflow was slightly faster    60+ minutes       Yes   \n",
       "8            They were about the same            NaN       Yes   \n",
       "9            They were about the same            NaN       Yes   \n",
       "\n",
       "                                          SOPartFreq  \\\n",
       "2                Less than once per month or monthly   \n",
       "3                Less than once per month or monthly   \n",
       "5  I have never participated in Q&A on Stack Over...   \n",
       "8                Less than once per month or monthly   \n",
       "9                    A few times per month or weekly   \n",
       "\n",
       "                                              SOJobs  \\\n",
       "2                                                Yes   \n",
       "3                                                Yes   \n",
       "5  No, I knew that Stack Overflow had a job board...   \n",
       "8  No, I knew that Stack Overflow had a job board...   \n",
       "9                                                Yes   \n",
       "\n",
       "                                            EntTeams          SOComm  \\\n",
       "2  No, I've heard of them, but I am not part of a...         Neutral   \n",
       "3                No, and I don't know what those are  No, not really   \n",
       "5                No, and I don't know what those are  No, not really   \n",
       "8                No, and I don't know what those are   Yes, somewhat   \n",
       "9                No, and I don't know what those are   Yes, somewhat   \n",
       "\n",
       "                              WelcomeChange  \\\n",
       "2   Just as welcome now as I felt last year   \n",
       "3   Just as welcome now as I felt last year   \n",
       "5   Just as welcome now as I felt last year   \n",
       "8   Just as welcome now as I felt last year   \n",
       "9  Somewhat less welcome now than last year   \n",
       "\n",
       "                                        SONewContent   Age Gender Trans  \\\n",
       "2  Tech meetups or events in your area;Courses on...  28.0    Man    No   \n",
       "3  Tech articles written by other developers;Indu...  22.0    Man    No   \n",
       "5  Tech articles written by other developers;Indu...  28.0    Man    No   \n",
       "8                                                NaN  23.0    Man    No   \n",
       "9  Tech articles written by other developers;Tech...   NaN    NaN   NaN   \n",
       "\n",
       "                 Sexuality                     Ethnicity Dependents  \\\n",
       "2  Straight / Heterosexual                           NaN        Yes   \n",
       "3  Straight / Heterosexual  White or of European descent         No   \n",
       "5  Straight / Heterosexual                    East Asian         No   \n",
       "8                 Bisexual  White or of European descent         No   \n",
       "9                      NaN                           NaN        Yes   \n",
       "\n",
       "            SurveyLength                  SurveyEase  \n",
       "2  Appropriate in length  Neither easy nor difficult  \n",
       "3  Appropriate in length                        Easy  \n",
       "5               Too long  Neither easy nor difficult  \n",
       "8  Appropriate in length  Neither easy nor difficult  \n",
       "9               Too long                   Difficult  "
      ]
     },
     "execution_count": 29,
     "metadata": {},
     "output_type": "execute_result"
    }
   ],
   "source": [
    "df.loc[high_salary].head()"
   ]
  },
  {
   "cell_type": "code",
   "execution_count": 31,
   "id": "211a32ed",
   "metadata": {
    "ExecuteTime": {
     "end_time": "2021-09-04T11:47:56.902948Z",
     "start_time": "2021-09-04T11:47:56.897948Z"
    }
   },
   "outputs": [],
   "source": [
    "countries = ['United States','India','United Kingdom','Germany','Canada']"
   ]
  },
  {
   "cell_type": "code",
   "execution_count": 32,
   "id": "8e64ab8c",
   "metadata": {
    "ExecuteTime": {
     "end_time": "2021-09-04T11:47:59.711025Z",
     "start_time": "2021-09-04T11:47:59.688014Z"
    }
   },
   "outputs": [],
   "source": [
    "filt= df['Country'].isin(countries)\n"
   ]
  },
  {
   "cell_type": "code",
   "execution_count": 33,
   "id": "70804df7",
   "metadata": {
    "ExecuteTime": {
     "end_time": "2021-09-04T11:48:13.080559Z",
     "start_time": "2021-09-04T11:48:13.061018Z"
    }
   },
   "outputs": [
    {
     "data": {
      "text/plain": [
       "0        United Kingdom\n",
       "3         United States\n",
       "5                Canada\n",
       "7                 India\n",
       "9                 India\n",
       "              ...      \n",
       "88859     United States\n",
       "88863    United Kingdom\n",
       "88864             India\n",
       "88877     United States\n",
       "88878            Canada\n",
       "Name: Country, Length: 45008, dtype: object"
      ]
     },
     "execution_count": 33,
     "metadata": {},
     "output_type": "execute_result"
    }
   ],
   "source": [
    "df.loc[filt,'Country']"
   ]
  },
  {
   "cell_type": "code",
   "execution_count": null,
   "id": "a01465d4",
   "metadata": {},
   "outputs": [],
   "source": []
  },
  {
   "cell_type": "markdown",
   "id": "226c747a",
   "metadata": {},
   "source": [
    "# update data "
   ]
  },
  {
   "cell_type": "code",
   "execution_count": 73,
   "id": "ec8904d3",
   "metadata": {
    "ExecuteTime": {
     "end_time": "2021-09-04T12:00:10.561252Z",
     "start_time": "2021-09-04T12:00:10.550268Z"
    }
   },
   "outputs": [
    {
     "name": "stdout",
     "output_type": "stream",
     "text": [
      "     bike  speed\n",
      "0  yahama    120\n",
      "1   honda    150\n",
      "2  suzuki    180\n"
     ]
    }
   ],
   "source": [
    "import pandas as pd\n",
    "\n",
    "dataSet ={\n",
    "    'bike': ['yahama','honda','suzuki'],\n",
    "    'speed': [120,150,180]\n",
    "}\n",
    "\n",
    "bike_data= pd.DataFrame(dataSet)\n",
    "print(bike_data)"
   ]
  },
  {
   "cell_type": "code",
   "execution_count": 74,
   "id": "427b8d8c",
   "metadata": {
    "ExecuteTime": {
     "end_time": "2021-09-04T12:00:13.201203Z",
     "start_time": "2021-09-04T12:00:13.192187Z"
    }
   },
   "outputs": [
    {
     "data": {
      "text/plain": [
       "Index(['bike', 'speed'], dtype='object')"
      ]
     },
     "execution_count": 74,
     "metadata": {},
     "output_type": "execute_result"
    }
   ],
   "source": [
    "bike_data.columns"
   ]
  },
  {
   "cell_type": "code",
   "execution_count": 71,
   "id": "44f1d2ff",
   "metadata": {
    "ExecuteTime": {
     "end_time": "2021-09-04T11:58:02.945703Z",
     "start_time": "2021-09-04T11:58:02.933645Z"
    }
   },
   "outputs": [],
   "source": [
    "bike_data['speed']='max_speed'"
   ]
  },
  {
   "cell_type": "code",
   "execution_count": 72,
   "id": "067fb6e8",
   "metadata": {
    "ExecuteTime": {
     "end_time": "2021-09-04T11:58:10.281942Z",
     "start_time": "2021-09-04T11:58:10.267411Z"
    }
   },
   "outputs": [
    {
     "data": {
      "text/html": [
       "<div>\n",
       "<style scoped>\n",
       "    .dataframe tbody tr th:only-of-type {\n",
       "        vertical-align: middle;\n",
       "    }\n",
       "\n",
       "    .dataframe tbody tr th {\n",
       "        vertical-align: top;\n",
       "    }\n",
       "\n",
       "    .dataframe thead th {\n",
       "        text-align: right;\n",
       "    }\n",
       "</style>\n",
       "<table border=\"1\" class=\"dataframe\">\n",
       "  <thead>\n",
       "    <tr style=\"text-align: right;\">\n",
       "      <th></th>\n",
       "      <th>bike</th>\n",
       "      <th>speed</th>\n",
       "    </tr>\n",
       "  </thead>\n",
       "  <tbody>\n",
       "    <tr>\n",
       "      <th>0</th>\n",
       "      <td>yahama</td>\n",
       "      <td>max_speed</td>\n",
       "    </tr>\n",
       "    <tr>\n",
       "      <th>1</th>\n",
       "      <td>honda</td>\n",
       "      <td>max_speed</td>\n",
       "    </tr>\n",
       "    <tr>\n",
       "      <th>2</th>\n",
       "      <td>suzuki</td>\n",
       "      <td>max_speed</td>\n",
       "    </tr>\n",
       "  </tbody>\n",
       "</table>\n",
       "</div>"
      ],
      "text/plain": [
       "     bike      speed\n",
       "0  yahama  max_speed\n",
       "1   honda  max_speed\n",
       "2  suzuki  max_speed"
      ]
     },
     "execution_count": 72,
     "metadata": {},
     "output_type": "execute_result"
    }
   ],
   "source": [
    "bike_data"
   ]
  },
  {
   "cell_type": "code",
   "execution_count": 75,
   "id": "91f7e2ef",
   "metadata": {
    "ExecuteTime": {
     "end_time": "2021-09-04T12:00:18.117356Z",
     "start_time": "2021-09-04T12:00:18.111337Z"
    }
   },
   "outputs": [],
   "source": [
    "bike_data.columns=['bike','max_speed']"
   ]
  },
  {
   "cell_type": "code",
   "execution_count": 76,
   "id": "f64a14b4",
   "metadata": {
    "ExecuteTime": {
     "end_time": "2021-09-04T12:00:24.845767Z",
     "start_time": "2021-09-04T12:00:24.837889Z"
    }
   },
   "outputs": [
    {
     "data": {
      "text/plain": [
       "Index(['bike', 'max_speed'], dtype='object')"
      ]
     },
     "execution_count": 76,
     "metadata": {},
     "output_type": "execute_result"
    }
   ],
   "source": [
    "bike_data.columns"
   ]
  },
  {
   "cell_type": "markdown",
   "id": "8937f7b5",
   "metadata": {
    "ExecuteTime": {
     "end_time": "2021-09-04T09:18:38.811407Z",
     "start_time": "2021-09-04T09:18:38.791898Z"
    }
   },
   "source": [
    "update columns in upper case"
   ]
  },
  {
   "cell_type": "code",
   "execution_count": 77,
   "id": "eec68a26",
   "metadata": {
    "ExecuteTime": {
     "end_time": "2021-09-04T12:01:54.504943Z",
     "start_time": "2021-09-04T12:01:54.496940Z"
    },
    "scrolled": true
   },
   "outputs": [
    {
     "data": {
      "text/html": [
       "<div>\n",
       "<style scoped>\n",
       "    .dataframe tbody tr th:only-of-type {\n",
       "        vertical-align: middle;\n",
       "    }\n",
       "\n",
       "    .dataframe tbody tr th {\n",
       "        vertical-align: top;\n",
       "    }\n",
       "\n",
       "    .dataframe thead th {\n",
       "        text-align: right;\n",
       "    }\n",
       "</style>\n",
       "<table border=\"1\" class=\"dataframe\">\n",
       "  <thead>\n",
       "    <tr style=\"text-align: right;\">\n",
       "      <th></th>\n",
       "      <th>BIKE</th>\n",
       "      <th>MAX_SPEED</th>\n",
       "    </tr>\n",
       "  </thead>\n",
       "  <tbody>\n",
       "    <tr>\n",
       "      <th>0</th>\n",
       "      <td>yahama</td>\n",
       "      <td>120</td>\n",
       "    </tr>\n",
       "    <tr>\n",
       "      <th>1</th>\n",
       "      <td>honda</td>\n",
       "      <td>150</td>\n",
       "    </tr>\n",
       "    <tr>\n",
       "      <th>2</th>\n",
       "      <td>suzuki</td>\n",
       "      <td>180</td>\n",
       "    </tr>\n",
       "  </tbody>\n",
       "</table>\n",
       "</div>"
      ],
      "text/plain": [
       "     BIKE  MAX_SPEED\n",
       "0  yahama        120\n",
       "1   honda        150\n",
       "2  suzuki        180"
      ]
     },
     "execution_count": 77,
     "metadata": {},
     "output_type": "execute_result"
    }
   ],
   "source": [
    "bike_data.columns=[x.upper() for x in bike_data.columns]\n",
    "bike_data\n"
   ]
  },
  {
   "cell_type": "code",
   "execution_count": null,
   "id": "71f96f89",
   "metadata": {},
   "outputs": [],
   "source": [
    "change all _ to spaces"
   ]
  },
  {
   "cell_type": "code",
   "execution_count": 87,
   "id": "0dcf8e87",
   "metadata": {
    "ExecuteTime": {
     "end_time": "2021-09-04T12:11:22.016117Z",
     "start_time": "2021-09-04T12:11:21.996109Z"
    }
   },
   "outputs": [
    {
     "data": {
      "text/plain": [
       "Index(['bike', 'max_speed'], dtype='object')"
      ]
     },
     "execution_count": 87,
     "metadata": {},
     "output_type": "execute_result"
    }
   ],
   "source": [
    "bike_data.columns =bike_data.columns.str.lower()\n",
    "bike_data.columns"
   ]
  },
  {
   "cell_type": "code",
   "execution_count": 92,
   "id": "25150c03",
   "metadata": {
    "ExecuteTime": {
     "end_time": "2021-09-04T12:13:09.905647Z",
     "start_time": "2021-09-04T12:13:09.896145Z"
    }
   },
   "outputs": [],
   "source": [
    "bike_data['bike']=bike_data['bike'].str.upper()"
   ]
  },
  {
   "cell_type": "code",
   "execution_count": 93,
   "id": "4e93fd8b",
   "metadata": {
    "ExecuteTime": {
     "end_time": "2021-09-04T12:13:13.312765Z",
     "start_time": "2021-09-04T12:13:13.298824Z"
    },
    "scrolled": true
   },
   "outputs": [
    {
     "data": {
      "text/html": [
       "<div>\n",
       "<style scoped>\n",
       "    .dataframe tbody tr th:only-of-type {\n",
       "        vertical-align: middle;\n",
       "    }\n",
       "\n",
       "    .dataframe tbody tr th {\n",
       "        vertical-align: top;\n",
       "    }\n",
       "\n",
       "    .dataframe thead th {\n",
       "        text-align: right;\n",
       "    }\n",
       "</style>\n",
       "<table border=\"1\" class=\"dataframe\">\n",
       "  <thead>\n",
       "    <tr style=\"text-align: right;\">\n",
       "      <th></th>\n",
       "      <th>bike</th>\n",
       "      <th>max_speed</th>\n",
       "    </tr>\n",
       "  </thead>\n",
       "  <tbody>\n",
       "    <tr>\n",
       "      <th>0</th>\n",
       "      <td>YAHAMA</td>\n",
       "      <td>120</td>\n",
       "    </tr>\n",
       "    <tr>\n",
       "      <th>1</th>\n",
       "      <td>HONDA</td>\n",
       "      <td>150</td>\n",
       "    </tr>\n",
       "    <tr>\n",
       "      <th>2</th>\n",
       "      <td>SUZUKI</td>\n",
       "      <td>180</td>\n",
       "    </tr>\n",
       "  </tbody>\n",
       "</table>\n",
       "</div>"
      ],
      "text/plain": [
       "     bike  max_speed\n",
       "0  YAHAMA        120\n",
       "1   HONDA        150\n",
       "2  SUZUKI        180"
      ]
     },
     "execution_count": 93,
     "metadata": {},
     "output_type": "execute_result"
    }
   ],
   "source": [
    "bike_data"
   ]
  },
  {
   "cell_type": "code",
   "execution_count": 95,
   "id": "84ecd362",
   "metadata": {
    "ExecuteTime": {
     "end_time": "2021-09-04T12:27:15.131539Z",
     "start_time": "2021-09-04T12:27:15.123501Z"
    }
   },
   "outputs": [
    {
     "data": {
      "text/plain": [
       "120"
      ]
     },
     "execution_count": 95,
     "metadata": {},
     "output_type": "execute_result"
    }
   ],
   "source": [
    "bike_data['max_speed'].min()"
   ]
  },
  {
   "cell_type": "code",
   "execution_count": null,
   "id": "d3fea833",
   "metadata": {},
   "outputs": [],
   "source": []
  },
  {
   "cell_type": "code",
   "execution_count": null,
   "id": "64296efa",
   "metadata": {},
   "outputs": [],
   "source": []
  },
  {
   "cell_type": "code",
   "execution_count": null,
   "id": "6946aac1",
   "metadata": {
    "ExecuteTime": {
     "end_time": "2021-09-04T09:26:25.129175Z",
     "start_time": "2021-09-04T09:26:25.123174Z"
    }
   },
   "outputs": [],
   "source": [
    "bike_data.columns"
   ]
  },
  {
   "cell_type": "code",
   "execution_count": 96,
   "id": "a6bf2bd4",
   "metadata": {
    "ExecuteTime": {
     "end_time": "2021-09-04T12:36:08.026025Z",
     "start_time": "2021-09-04T12:36:08.006252Z"
    }
   },
   "outputs": [],
   "source": [
    "bike_data.columns = bike_data.columns.str.replace('_', ' ')"
   ]
  },
  {
   "cell_type": "code",
   "execution_count": 97,
   "id": "edceeeda",
   "metadata": {
    "ExecuteTime": {
     "end_time": "2021-09-04T12:36:09.686592Z",
     "start_time": "2021-09-04T12:36:09.676773Z"
    }
   },
   "outputs": [
    {
     "data": {
      "text/html": [
       "<div>\n",
       "<style scoped>\n",
       "    .dataframe tbody tr th:only-of-type {\n",
       "        vertical-align: middle;\n",
       "    }\n",
       "\n",
       "    .dataframe tbody tr th {\n",
       "        vertical-align: top;\n",
       "    }\n",
       "\n",
       "    .dataframe thead th {\n",
       "        text-align: right;\n",
       "    }\n",
       "</style>\n",
       "<table border=\"1\" class=\"dataframe\">\n",
       "  <thead>\n",
       "    <tr style=\"text-align: right;\">\n",
       "      <th></th>\n",
       "      <th>bike</th>\n",
       "      <th>max speed</th>\n",
       "    </tr>\n",
       "  </thead>\n",
       "  <tbody>\n",
       "    <tr>\n",
       "      <th>0</th>\n",
       "      <td>YAHAMA</td>\n",
       "      <td>120</td>\n",
       "    </tr>\n",
       "    <tr>\n",
       "      <th>1</th>\n",
       "      <td>HONDA</td>\n",
       "      <td>150</td>\n",
       "    </tr>\n",
       "    <tr>\n",
       "      <th>2</th>\n",
       "      <td>SUZUKI</td>\n",
       "      <td>180</td>\n",
       "    </tr>\n",
       "  </tbody>\n",
       "</table>\n",
       "</div>"
      ],
      "text/plain": [
       "     bike  max speed\n",
       "0  YAHAMA        120\n",
       "1   HONDA        150\n",
       "2  SUZUKI        180"
      ]
     },
     "execution_count": 97,
     "metadata": {},
     "output_type": "execute_result"
    }
   ],
   "source": [
    "bike_data"
   ]
  },
  {
   "cell_type": "code",
   "execution_count": 98,
   "id": "4f312cae",
   "metadata": {
    "ExecuteTime": {
     "end_time": "2021-09-04T12:37:19.176729Z",
     "start_time": "2021-09-04T12:37:19.156614Z"
    }
   },
   "outputs": [
    {
     "data": {
      "text/html": [
       "<div>\n",
       "<style scoped>\n",
       "    .dataframe tbody tr th:only-of-type {\n",
       "        vertical-align: middle;\n",
       "    }\n",
       "\n",
       "    .dataframe tbody tr th {\n",
       "        vertical-align: top;\n",
       "    }\n",
       "\n",
       "    .dataframe thead th {\n",
       "        text-align: right;\n",
       "    }\n",
       "</style>\n",
       "<table border=\"1\" class=\"dataframe\">\n",
       "  <thead>\n",
       "    <tr style=\"text-align: right;\">\n",
       "      <th></th>\n",
       "      <th>bike</th>\n",
       "      <th>max_speed</th>\n",
       "    </tr>\n",
       "  </thead>\n",
       "  <tbody>\n",
       "    <tr>\n",
       "      <th>0</th>\n",
       "      <td>YAHAMA</td>\n",
       "      <td>120</td>\n",
       "    </tr>\n",
       "    <tr>\n",
       "      <th>1</th>\n",
       "      <td>HONDA</td>\n",
       "      <td>150</td>\n",
       "    </tr>\n",
       "    <tr>\n",
       "      <th>2</th>\n",
       "      <td>SUZUKI</td>\n",
       "      <td>180</td>\n",
       "    </tr>\n",
       "  </tbody>\n",
       "</table>\n",
       "</div>"
      ],
      "text/plain": [
       "     bike  max_speed\n",
       "0  YAHAMA        120\n",
       "1   HONDA        150\n",
       "2  SUZUKI        180"
      ]
     },
     "execution_count": 98,
     "metadata": {},
     "output_type": "execute_result"
    }
   ],
   "source": [
    "bike_data.columns = bike_data.columns.str.replace( ' ','_')\n",
    "bike_data"
   ]
  },
  {
   "cell_type": "markdown",
   "id": "d133f042",
   "metadata": {},
   "source": [
    "# Re_name column name, We can change name of single column or more then single column"
   ]
  },
  {
   "cell_type": "markdown",
   "id": "a9335d98",
   "metadata": {},
   "source": [
    "# NOTE : Input will be in DICT form"
   ]
  },
  {
   "cell_type": "code",
   "execution_count": 110,
   "id": "fef84234",
   "metadata": {
    "ExecuteTime": {
     "end_time": "2021-09-04T12:44:49.877070Z",
     "start_time": "2021-09-04T12:44:49.852028Z"
    }
   },
   "outputs": [],
   "source": [
    "bike_data.rename(columns={'BIKE_FOR_TRAVELL': 'bike'}, inplace=True)"
   ]
  },
  {
   "cell_type": "code",
   "execution_count": null,
   "id": "d90e9b8f",
   "metadata": {},
   "outputs": [],
   "source": []
  },
  {
   "cell_type": "code",
   "execution_count": 111,
   "id": "a3a4f220",
   "metadata": {
    "ExecuteTime": {
     "end_time": "2021-09-04T12:44:52.186397Z",
     "start_time": "2021-09-04T12:44:52.157364Z"
    },
    "run_control": {
     "marked": true
    },
    "scrolled": true
   },
   "outputs": [
    {
     "ename": "ValueError",
     "evalue": "Length mismatch: Expected axis has 2 elements, new values have 3 elements",
     "output_type": "error",
     "traceback": [
      "\u001b[1;31m---------------------------------------------------------------------------\u001b[0m",
      "\u001b[1;31mValueError\u001b[0m                                Traceback (most recent call last)",
      "\u001b[1;32m<ipython-input-111-5121b9170a82>\u001b[0m in \u001b[0;36m<module>\u001b[1;34m\u001b[0m\n\u001b[1;32m----> 1\u001b[1;33m \u001b[0mbike_data\u001b[0m\u001b[1;33m.\u001b[0m\u001b[0mcolumns\u001b[0m\u001b[1;33m=\u001b[0m \u001b[0mbike_data\u001b[0m\u001b[1;33m.\u001b[0m\u001b[0mrename\u001b[0m\u001b[1;33m(\u001b[0m\u001b[0mcolumns\u001b[0m\u001b[1;33m=\u001b[0m\u001b[1;33m{\u001b[0m\u001b[1;34m'bike'\u001b[0m\u001b[1;33m:\u001b[0m \u001b[1;34m'BIKE_FOR_TRAVELL'\u001b[0m\u001b[1;33m}\u001b[0m\u001b[1;33m)\u001b[0m\u001b[1;33m\u001b[0m\u001b[1;33m\u001b[0m\u001b[0m\n\u001b[0m",
      "\u001b[1;32m~\\Anaconda3\\lib\\site-packages\\pandas\\core\\generic.py\u001b[0m in \u001b[0;36m__setattr__\u001b[1;34m(self, name, value)\u001b[0m\n\u001b[0;32m   5476\u001b[0m         \u001b[1;32mtry\u001b[0m\u001b[1;33m:\u001b[0m\u001b[1;33m\u001b[0m\u001b[1;33m\u001b[0m\u001b[0m\n\u001b[0;32m   5477\u001b[0m             \u001b[0mobject\u001b[0m\u001b[1;33m.\u001b[0m\u001b[0m__getattribute__\u001b[0m\u001b[1;33m(\u001b[0m\u001b[0mself\u001b[0m\u001b[1;33m,\u001b[0m \u001b[0mname\u001b[0m\u001b[1;33m)\u001b[0m\u001b[1;33m\u001b[0m\u001b[1;33m\u001b[0m\u001b[0m\n\u001b[1;32m-> 5478\u001b[1;33m             \u001b[1;32mreturn\u001b[0m \u001b[0mobject\u001b[0m\u001b[1;33m.\u001b[0m\u001b[0m__setattr__\u001b[0m\u001b[1;33m(\u001b[0m\u001b[0mself\u001b[0m\u001b[1;33m,\u001b[0m \u001b[0mname\u001b[0m\u001b[1;33m,\u001b[0m \u001b[0mvalue\u001b[0m\u001b[1;33m)\u001b[0m\u001b[1;33m\u001b[0m\u001b[1;33m\u001b[0m\u001b[0m\n\u001b[0m\u001b[0;32m   5479\u001b[0m         \u001b[1;32mexcept\u001b[0m \u001b[0mAttributeError\u001b[0m\u001b[1;33m:\u001b[0m\u001b[1;33m\u001b[0m\u001b[1;33m\u001b[0m\u001b[0m\n\u001b[0;32m   5480\u001b[0m             \u001b[1;32mpass\u001b[0m\u001b[1;33m\u001b[0m\u001b[1;33m\u001b[0m\u001b[0m\n",
      "\u001b[1;32mpandas\\_libs\\properties.pyx\u001b[0m in \u001b[0;36mpandas._libs.properties.AxisProperty.__set__\u001b[1;34m()\u001b[0m\n",
      "\u001b[1;32m~\\Anaconda3\\lib\\site-packages\\pandas\\core\\generic.py\u001b[0m in \u001b[0;36m_set_axis\u001b[1;34m(self, axis, labels)\u001b[0m\n\u001b[0;32m    668\u001b[0m     \u001b[1;32mdef\u001b[0m \u001b[0m_set_axis\u001b[0m\u001b[1;33m(\u001b[0m\u001b[0mself\u001b[0m\u001b[1;33m,\u001b[0m \u001b[0maxis\u001b[0m\u001b[1;33m:\u001b[0m \u001b[0mint\u001b[0m\u001b[1;33m,\u001b[0m \u001b[0mlabels\u001b[0m\u001b[1;33m:\u001b[0m \u001b[0mIndex\u001b[0m\u001b[1;33m)\u001b[0m \u001b[1;33m->\u001b[0m \u001b[1;32mNone\u001b[0m\u001b[1;33m:\u001b[0m\u001b[1;33m\u001b[0m\u001b[1;33m\u001b[0m\u001b[0m\n\u001b[0;32m    669\u001b[0m         \u001b[0mlabels\u001b[0m \u001b[1;33m=\u001b[0m \u001b[0mensure_index\u001b[0m\u001b[1;33m(\u001b[0m\u001b[0mlabels\u001b[0m\u001b[1;33m)\u001b[0m\u001b[1;33m\u001b[0m\u001b[1;33m\u001b[0m\u001b[0m\n\u001b[1;32m--> 670\u001b[1;33m         \u001b[0mself\u001b[0m\u001b[1;33m.\u001b[0m\u001b[0m_mgr\u001b[0m\u001b[1;33m.\u001b[0m\u001b[0mset_axis\u001b[0m\u001b[1;33m(\u001b[0m\u001b[0maxis\u001b[0m\u001b[1;33m,\u001b[0m \u001b[0mlabels\u001b[0m\u001b[1;33m)\u001b[0m\u001b[1;33m\u001b[0m\u001b[1;33m\u001b[0m\u001b[0m\n\u001b[0m\u001b[0;32m    671\u001b[0m         \u001b[0mself\u001b[0m\u001b[1;33m.\u001b[0m\u001b[0m_clear_item_cache\u001b[0m\u001b[1;33m(\u001b[0m\u001b[1;33m)\u001b[0m\u001b[1;33m\u001b[0m\u001b[1;33m\u001b[0m\u001b[0m\n\u001b[0;32m    672\u001b[0m \u001b[1;33m\u001b[0m\u001b[0m\n",
      "\u001b[1;32m~\\Anaconda3\\lib\\site-packages\\pandas\\core\\internals\\managers.py\u001b[0m in \u001b[0;36mset_axis\u001b[1;34m(self, axis, new_labels)\u001b[0m\n\u001b[0;32m    218\u001b[0m \u001b[1;33m\u001b[0m\u001b[0m\n\u001b[0;32m    219\u001b[0m         \u001b[1;32mif\u001b[0m \u001b[0mnew_len\u001b[0m \u001b[1;33m!=\u001b[0m \u001b[0mold_len\u001b[0m\u001b[1;33m:\u001b[0m\u001b[1;33m\u001b[0m\u001b[1;33m\u001b[0m\u001b[0m\n\u001b[1;32m--> 220\u001b[1;33m             raise ValueError(\n\u001b[0m\u001b[0;32m    221\u001b[0m                 \u001b[1;34mf\"Length mismatch: Expected axis has {old_len} elements, new \"\u001b[0m\u001b[1;33m\u001b[0m\u001b[1;33m\u001b[0m\u001b[0m\n\u001b[0;32m    222\u001b[0m                 \u001b[1;34mf\"values have {new_len} elements\"\u001b[0m\u001b[1;33m\u001b[0m\u001b[1;33m\u001b[0m\u001b[0m\n",
      "\u001b[1;31mValueError\u001b[0m: Length mismatch: Expected axis has 2 elements, new values have 3 elements"
     ]
    }
   ],
   "source": [
    "bike_data.columns= bike_data.rename(columns={'bike': 'BIKE_FOR_TRAVELL'})"
   ]
  },
  {
   "cell_type": "code",
   "execution_count": 112,
   "id": "d3c7cae7",
   "metadata": {
    "ExecuteTime": {
     "end_time": "2021-09-04T12:44:59.596883Z",
     "start_time": "2021-09-04T12:44:59.572533Z"
    },
    "scrolled": false
   },
   "outputs": [
    {
     "data": {
      "text/html": [
       "<div>\n",
       "<style scoped>\n",
       "    .dataframe tbody tr th:only-of-type {\n",
       "        vertical-align: middle;\n",
       "    }\n",
       "\n",
       "    .dataframe tbody tr th {\n",
       "        vertical-align: top;\n",
       "    }\n",
       "\n",
       "    .dataframe thead th {\n",
       "        text-align: right;\n",
       "    }\n",
       "</style>\n",
       "<table border=\"1\" class=\"dataframe\">\n",
       "  <thead>\n",
       "    <tr style=\"text-align: right;\">\n",
       "      <th></th>\n",
       "      <th>bike</th>\n",
       "      <th>Speed</th>\n",
       "    </tr>\n",
       "  </thead>\n",
       "  <tbody>\n",
       "    <tr>\n",
       "      <th>0</th>\n",
       "      <td>YAHAMA</td>\n",
       "      <td>120</td>\n",
       "    </tr>\n",
       "    <tr>\n",
       "      <th>1</th>\n",
       "      <td>HONDA</td>\n",
       "      <td>150</td>\n",
       "    </tr>\n",
       "    <tr>\n",
       "      <th>2</th>\n",
       "      <td>SUZUKI</td>\n",
       "      <td>180</td>\n",
       "    </tr>\n",
       "  </tbody>\n",
       "</table>\n",
       "</div>"
      ],
      "text/plain": [
       "     bike  Speed\n",
       "0  YAHAMA    120\n",
       "1   HONDA    150\n",
       "2  SUZUKI    180"
      ]
     },
     "execution_count": 112,
     "metadata": {},
     "output_type": "execute_result"
    }
   ],
   "source": [
    "bike_data"
   ]
  },
  {
   "cell_type": "code",
   "execution_count": 113,
   "id": "b93cefa8",
   "metadata": {
    "ExecuteTime": {
     "end_time": "2021-09-04T12:45:02.363913Z",
     "start_time": "2021-09-04T12:45:02.356992Z"
    }
   },
   "outputs": [],
   "source": [
    "bike_data.loc[2] =['Bajaj',200]"
   ]
  },
  {
   "cell_type": "code",
   "execution_count": 114,
   "id": "e97446df",
   "metadata": {
    "ExecuteTime": {
     "end_time": "2021-09-04T12:45:03.685530Z",
     "start_time": "2021-09-04T12:45:03.664607Z"
    },
    "scrolled": true
   },
   "outputs": [
    {
     "data": {
      "text/html": [
       "<div>\n",
       "<style scoped>\n",
       "    .dataframe tbody tr th:only-of-type {\n",
       "        vertical-align: middle;\n",
       "    }\n",
       "\n",
       "    .dataframe tbody tr th {\n",
       "        vertical-align: top;\n",
       "    }\n",
       "\n",
       "    .dataframe thead th {\n",
       "        text-align: right;\n",
       "    }\n",
       "</style>\n",
       "<table border=\"1\" class=\"dataframe\">\n",
       "  <thead>\n",
       "    <tr style=\"text-align: right;\">\n",
       "      <th></th>\n",
       "      <th>bike</th>\n",
       "      <th>Speed</th>\n",
       "    </tr>\n",
       "  </thead>\n",
       "  <tbody>\n",
       "    <tr>\n",
       "      <th>0</th>\n",
       "      <td>YAHAMA</td>\n",
       "      <td>120</td>\n",
       "    </tr>\n",
       "    <tr>\n",
       "      <th>1</th>\n",
       "      <td>HONDA</td>\n",
       "      <td>150</td>\n",
       "    </tr>\n",
       "    <tr>\n",
       "      <th>2</th>\n",
       "      <td>Bajaj</td>\n",
       "      <td>200</td>\n",
       "    </tr>\n",
       "  </tbody>\n",
       "</table>\n",
       "</div>"
      ],
      "text/plain": [
       "     bike  Speed\n",
       "0  YAHAMA    120\n",
       "1   HONDA    150\n",
       "2   Bajaj    200"
      ]
     },
     "execution_count": 114,
     "metadata": {},
     "output_type": "execute_result"
    }
   ],
   "source": [
    "bike_data"
   ]
  },
  {
   "cell_type": "code",
   "execution_count": 115,
   "id": "9a2ca976",
   "metadata": {
    "ExecuteTime": {
     "end_time": "2021-09-04T12:45:06.696626Z",
     "start_time": "2021-09-04T12:45:06.661697Z"
    }
   },
   "outputs": [
    {
     "ename": "KeyError",
     "evalue": "\"None of [Index(['max_speed'], dtype='object')] are in the [index]\"",
     "output_type": "error",
     "traceback": [
      "\u001b[1;31m---------------------------------------------------------------------------\u001b[0m",
      "\u001b[1;31mKeyError\u001b[0m                                  Traceback (most recent call last)",
      "\u001b[1;32m<ipython-input-115-0ea86f52b765>\u001b[0m in \u001b[0;36m<module>\u001b[1;34m\u001b[0m\n\u001b[1;32m----> 1\u001b[1;33m \u001b[0mbike_data\u001b[0m\u001b[1;33m.\u001b[0m\u001b[0mloc\u001b[0m\u001b[1;33m[\u001b[0m\u001b[1;36m2\u001b[0m\u001b[1;33m,\u001b[0m\u001b[1;33m[\u001b[0m\u001b[1;34m'max_speed'\u001b[0m\u001b[1;33m]\u001b[0m\u001b[1;33m]\u001b[0m\u001b[1;33m\u001b[0m\u001b[1;33m\u001b[0m\u001b[0m\n\u001b[0m",
      "\u001b[1;32m~\\Anaconda3\\lib\\site-packages\\pandas\\core\\indexing.py\u001b[0m in \u001b[0;36m__getitem__\u001b[1;34m(self, key)\u001b[0m\n\u001b[0;32m    887\u001b[0m                     \u001b[1;31m# AttributeError for IntervalTree get_value\u001b[0m\u001b[1;33m\u001b[0m\u001b[1;33m\u001b[0m\u001b[1;33m\u001b[0m\u001b[0m\n\u001b[0;32m    888\u001b[0m                     \u001b[1;32mreturn\u001b[0m \u001b[0mself\u001b[0m\u001b[1;33m.\u001b[0m\u001b[0mobj\u001b[0m\u001b[1;33m.\u001b[0m\u001b[0m_get_value\u001b[0m\u001b[1;33m(\u001b[0m\u001b[1;33m*\u001b[0m\u001b[0mkey\u001b[0m\u001b[1;33m,\u001b[0m \u001b[0mtakeable\u001b[0m\u001b[1;33m=\u001b[0m\u001b[0mself\u001b[0m\u001b[1;33m.\u001b[0m\u001b[0m_takeable\u001b[0m\u001b[1;33m)\u001b[0m\u001b[1;33m\u001b[0m\u001b[1;33m\u001b[0m\u001b[0m\n\u001b[1;32m--> 889\u001b[1;33m             \u001b[1;32mreturn\u001b[0m \u001b[0mself\u001b[0m\u001b[1;33m.\u001b[0m\u001b[0m_getitem_tuple\u001b[0m\u001b[1;33m(\u001b[0m\u001b[0mkey\u001b[0m\u001b[1;33m)\u001b[0m\u001b[1;33m\u001b[0m\u001b[1;33m\u001b[0m\u001b[0m\n\u001b[0m\u001b[0;32m    890\u001b[0m         \u001b[1;32melse\u001b[0m\u001b[1;33m:\u001b[0m\u001b[1;33m\u001b[0m\u001b[1;33m\u001b[0m\u001b[0m\n\u001b[0;32m    891\u001b[0m             \u001b[1;31m# we by definition only have the 0th axis\u001b[0m\u001b[1;33m\u001b[0m\u001b[1;33m\u001b[0m\u001b[1;33m\u001b[0m\u001b[0m\n",
      "\u001b[1;32m~\\Anaconda3\\lib\\site-packages\\pandas\\core\\indexing.py\u001b[0m in \u001b[0;36m_getitem_tuple\u001b[1;34m(self, tup)\u001b[0m\n\u001b[0;32m   1058\u001b[0m     \u001b[1;32mdef\u001b[0m \u001b[0m_getitem_tuple\u001b[0m\u001b[1;33m(\u001b[0m\u001b[0mself\u001b[0m\u001b[1;33m,\u001b[0m \u001b[0mtup\u001b[0m\u001b[1;33m:\u001b[0m \u001b[0mTuple\u001b[0m\u001b[1;33m)\u001b[0m\u001b[1;33m:\u001b[0m\u001b[1;33m\u001b[0m\u001b[1;33m\u001b[0m\u001b[0m\n\u001b[0;32m   1059\u001b[0m         \u001b[1;32mwith\u001b[0m \u001b[0msuppress\u001b[0m\u001b[1;33m(\u001b[0m\u001b[0mIndexingError\u001b[0m\u001b[1;33m)\u001b[0m\u001b[1;33m:\u001b[0m\u001b[1;33m\u001b[0m\u001b[1;33m\u001b[0m\u001b[0m\n\u001b[1;32m-> 1060\u001b[1;33m             \u001b[1;32mreturn\u001b[0m \u001b[0mself\u001b[0m\u001b[1;33m.\u001b[0m\u001b[0m_getitem_lowerdim\u001b[0m\u001b[1;33m(\u001b[0m\u001b[0mtup\u001b[0m\u001b[1;33m)\u001b[0m\u001b[1;33m\u001b[0m\u001b[1;33m\u001b[0m\u001b[0m\n\u001b[0m\u001b[0;32m   1061\u001b[0m \u001b[1;33m\u001b[0m\u001b[0m\n\u001b[0;32m   1062\u001b[0m         \u001b[1;31m# no multi-index, so validate all of the indexers\u001b[0m\u001b[1;33m\u001b[0m\u001b[1;33m\u001b[0m\u001b[1;33m\u001b[0m\u001b[0m\n",
      "\u001b[1;32m~\\Anaconda3\\lib\\site-packages\\pandas\\core\\indexing.py\u001b[0m in \u001b[0;36m_getitem_lowerdim\u001b[1;34m(self, tup)\u001b[0m\n\u001b[0;32m    829\u001b[0m                     \u001b[1;32mreturn\u001b[0m \u001b[0msection\u001b[0m\u001b[1;33m\u001b[0m\u001b[1;33m\u001b[0m\u001b[0m\n\u001b[0;32m    830\u001b[0m                 \u001b[1;31m# This is an elided recursive call to iloc/loc\u001b[0m\u001b[1;33m\u001b[0m\u001b[1;33m\u001b[0m\u001b[1;33m\u001b[0m\u001b[0m\n\u001b[1;32m--> 831\u001b[1;33m                 \u001b[1;32mreturn\u001b[0m \u001b[0mgetattr\u001b[0m\u001b[1;33m(\u001b[0m\u001b[0msection\u001b[0m\u001b[1;33m,\u001b[0m \u001b[0mself\u001b[0m\u001b[1;33m.\u001b[0m\u001b[0mname\u001b[0m\u001b[1;33m)\u001b[0m\u001b[1;33m[\u001b[0m\u001b[0mnew_key\u001b[0m\u001b[1;33m]\u001b[0m\u001b[1;33m\u001b[0m\u001b[1;33m\u001b[0m\u001b[0m\n\u001b[0m\u001b[0;32m    832\u001b[0m \u001b[1;33m\u001b[0m\u001b[0m\n\u001b[0;32m    833\u001b[0m         \u001b[1;32mraise\u001b[0m \u001b[0mIndexingError\u001b[0m\u001b[1;33m(\u001b[0m\u001b[1;34m\"not applicable\"\u001b[0m\u001b[1;33m)\u001b[0m\u001b[1;33m\u001b[0m\u001b[1;33m\u001b[0m\u001b[0m\n",
      "\u001b[1;32m~\\Anaconda3\\lib\\site-packages\\pandas\\core\\indexing.py\u001b[0m in \u001b[0;36m__getitem__\u001b[1;34m(self, key)\u001b[0m\n\u001b[0;32m    893\u001b[0m \u001b[1;33m\u001b[0m\u001b[0m\n\u001b[0;32m    894\u001b[0m             \u001b[0mmaybe_callable\u001b[0m \u001b[1;33m=\u001b[0m \u001b[0mcom\u001b[0m\u001b[1;33m.\u001b[0m\u001b[0mapply_if_callable\u001b[0m\u001b[1;33m(\u001b[0m\u001b[0mkey\u001b[0m\u001b[1;33m,\u001b[0m \u001b[0mself\u001b[0m\u001b[1;33m.\u001b[0m\u001b[0mobj\u001b[0m\u001b[1;33m)\u001b[0m\u001b[1;33m\u001b[0m\u001b[1;33m\u001b[0m\u001b[0m\n\u001b[1;32m--> 895\u001b[1;33m             \u001b[1;32mreturn\u001b[0m \u001b[0mself\u001b[0m\u001b[1;33m.\u001b[0m\u001b[0m_getitem_axis\u001b[0m\u001b[1;33m(\u001b[0m\u001b[0mmaybe_callable\u001b[0m\u001b[1;33m,\u001b[0m \u001b[0maxis\u001b[0m\u001b[1;33m=\u001b[0m\u001b[0maxis\u001b[0m\u001b[1;33m)\u001b[0m\u001b[1;33m\u001b[0m\u001b[1;33m\u001b[0m\u001b[0m\n\u001b[0m\u001b[0;32m    896\u001b[0m \u001b[1;33m\u001b[0m\u001b[0m\n\u001b[0;32m    897\u001b[0m     \u001b[1;32mdef\u001b[0m \u001b[0m_is_scalar_access\u001b[0m\u001b[1;33m(\u001b[0m\u001b[0mself\u001b[0m\u001b[1;33m,\u001b[0m \u001b[0mkey\u001b[0m\u001b[1;33m:\u001b[0m \u001b[0mTuple\u001b[0m\u001b[1;33m)\u001b[0m\u001b[1;33m:\u001b[0m\u001b[1;33m\u001b[0m\u001b[1;33m\u001b[0m\u001b[0m\n",
      "\u001b[1;32m~\\Anaconda3\\lib\\site-packages\\pandas\\core\\indexing.py\u001b[0m in \u001b[0;36m_getitem_axis\u001b[1;34m(self, key, axis)\u001b[0m\n\u001b[0;32m   1111\u001b[0m                     \u001b[1;32mraise\u001b[0m \u001b[0mValueError\u001b[0m\u001b[1;33m(\u001b[0m\u001b[1;34m\"Cannot index with multidimensional key\"\u001b[0m\u001b[1;33m)\u001b[0m\u001b[1;33m\u001b[0m\u001b[1;33m\u001b[0m\u001b[0m\n\u001b[0;32m   1112\u001b[0m \u001b[1;33m\u001b[0m\u001b[0m\n\u001b[1;32m-> 1113\u001b[1;33m                 \u001b[1;32mreturn\u001b[0m \u001b[0mself\u001b[0m\u001b[1;33m.\u001b[0m\u001b[0m_getitem_iterable\u001b[0m\u001b[1;33m(\u001b[0m\u001b[0mkey\u001b[0m\u001b[1;33m,\u001b[0m \u001b[0maxis\u001b[0m\u001b[1;33m=\u001b[0m\u001b[0maxis\u001b[0m\u001b[1;33m)\u001b[0m\u001b[1;33m\u001b[0m\u001b[1;33m\u001b[0m\u001b[0m\n\u001b[0m\u001b[0;32m   1114\u001b[0m \u001b[1;33m\u001b[0m\u001b[0m\n\u001b[0;32m   1115\u001b[0m             \u001b[1;31m# nested tuple slicing\u001b[0m\u001b[1;33m\u001b[0m\u001b[1;33m\u001b[0m\u001b[1;33m\u001b[0m\u001b[0m\n",
      "\u001b[1;32m~\\Anaconda3\\lib\\site-packages\\pandas\\core\\indexing.py\u001b[0m in \u001b[0;36m_getitem_iterable\u001b[1;34m(self, key, axis)\u001b[0m\n\u001b[0;32m   1051\u001b[0m \u001b[1;33m\u001b[0m\u001b[0m\n\u001b[0;32m   1052\u001b[0m         \u001b[1;31m# A collection of keys\u001b[0m\u001b[1;33m\u001b[0m\u001b[1;33m\u001b[0m\u001b[1;33m\u001b[0m\u001b[0m\n\u001b[1;32m-> 1053\u001b[1;33m         \u001b[0mkeyarr\u001b[0m\u001b[1;33m,\u001b[0m \u001b[0mindexer\u001b[0m \u001b[1;33m=\u001b[0m \u001b[0mself\u001b[0m\u001b[1;33m.\u001b[0m\u001b[0m_get_listlike_indexer\u001b[0m\u001b[1;33m(\u001b[0m\u001b[0mkey\u001b[0m\u001b[1;33m,\u001b[0m \u001b[0maxis\u001b[0m\u001b[1;33m,\u001b[0m \u001b[0mraise_missing\u001b[0m\u001b[1;33m=\u001b[0m\u001b[1;32mFalse\u001b[0m\u001b[1;33m)\u001b[0m\u001b[1;33m\u001b[0m\u001b[1;33m\u001b[0m\u001b[0m\n\u001b[0m\u001b[0;32m   1054\u001b[0m         return self.obj._reindex_with_indexers(\n\u001b[0;32m   1055\u001b[0m             \u001b[1;33m{\u001b[0m\u001b[0maxis\u001b[0m\u001b[1;33m:\u001b[0m \u001b[1;33m[\u001b[0m\u001b[0mkeyarr\u001b[0m\u001b[1;33m,\u001b[0m \u001b[0mindexer\u001b[0m\u001b[1;33m]\u001b[0m\u001b[1;33m}\u001b[0m\u001b[1;33m,\u001b[0m \u001b[0mcopy\u001b[0m\u001b[1;33m=\u001b[0m\u001b[1;32mTrue\u001b[0m\u001b[1;33m,\u001b[0m \u001b[0mallow_dups\u001b[0m\u001b[1;33m=\u001b[0m\u001b[1;32mTrue\u001b[0m\u001b[1;33m\u001b[0m\u001b[1;33m\u001b[0m\u001b[0m\n",
      "\u001b[1;32m~\\Anaconda3\\lib\\site-packages\\pandas\\core\\indexing.py\u001b[0m in \u001b[0;36m_get_listlike_indexer\u001b[1;34m(self, key, axis, raise_missing)\u001b[0m\n\u001b[0;32m   1264\u001b[0m             \u001b[0mkeyarr\u001b[0m\u001b[1;33m,\u001b[0m \u001b[0mindexer\u001b[0m\u001b[1;33m,\u001b[0m \u001b[0mnew_indexer\u001b[0m \u001b[1;33m=\u001b[0m \u001b[0max\u001b[0m\u001b[1;33m.\u001b[0m\u001b[0m_reindex_non_unique\u001b[0m\u001b[1;33m(\u001b[0m\u001b[0mkeyarr\u001b[0m\u001b[1;33m)\u001b[0m\u001b[1;33m\u001b[0m\u001b[1;33m\u001b[0m\u001b[0m\n\u001b[0;32m   1265\u001b[0m \u001b[1;33m\u001b[0m\u001b[0m\n\u001b[1;32m-> 1266\u001b[1;33m         \u001b[0mself\u001b[0m\u001b[1;33m.\u001b[0m\u001b[0m_validate_read_indexer\u001b[0m\u001b[1;33m(\u001b[0m\u001b[0mkeyarr\u001b[0m\u001b[1;33m,\u001b[0m \u001b[0mindexer\u001b[0m\u001b[1;33m,\u001b[0m \u001b[0maxis\u001b[0m\u001b[1;33m,\u001b[0m \u001b[0mraise_missing\u001b[0m\u001b[1;33m=\u001b[0m\u001b[0mraise_missing\u001b[0m\u001b[1;33m)\u001b[0m\u001b[1;33m\u001b[0m\u001b[1;33m\u001b[0m\u001b[0m\n\u001b[0m\u001b[0;32m   1267\u001b[0m         \u001b[1;32mreturn\u001b[0m \u001b[0mkeyarr\u001b[0m\u001b[1;33m,\u001b[0m \u001b[0mindexer\u001b[0m\u001b[1;33m\u001b[0m\u001b[1;33m\u001b[0m\u001b[0m\n\u001b[0;32m   1268\u001b[0m \u001b[1;33m\u001b[0m\u001b[0m\n",
      "\u001b[1;32m~\\Anaconda3\\lib\\site-packages\\pandas\\core\\indexing.py\u001b[0m in \u001b[0;36m_validate_read_indexer\u001b[1;34m(self, key, indexer, axis, raise_missing)\u001b[0m\n\u001b[0;32m   1306\u001b[0m             \u001b[1;32mif\u001b[0m \u001b[0mmissing\u001b[0m \u001b[1;33m==\u001b[0m \u001b[0mlen\u001b[0m\u001b[1;33m(\u001b[0m\u001b[0mindexer\u001b[0m\u001b[1;33m)\u001b[0m\u001b[1;33m:\u001b[0m\u001b[1;33m\u001b[0m\u001b[1;33m\u001b[0m\u001b[0m\n\u001b[0;32m   1307\u001b[0m                 \u001b[0maxis_name\u001b[0m \u001b[1;33m=\u001b[0m \u001b[0mself\u001b[0m\u001b[1;33m.\u001b[0m\u001b[0mobj\u001b[0m\u001b[1;33m.\u001b[0m\u001b[0m_get_axis_name\u001b[0m\u001b[1;33m(\u001b[0m\u001b[0maxis\u001b[0m\u001b[1;33m)\u001b[0m\u001b[1;33m\u001b[0m\u001b[1;33m\u001b[0m\u001b[0m\n\u001b[1;32m-> 1308\u001b[1;33m                 \u001b[1;32mraise\u001b[0m \u001b[0mKeyError\u001b[0m\u001b[1;33m(\u001b[0m\u001b[1;34mf\"None of [{key}] are in the [{axis_name}]\"\u001b[0m\u001b[1;33m)\u001b[0m\u001b[1;33m\u001b[0m\u001b[1;33m\u001b[0m\u001b[0m\n\u001b[0m\u001b[0;32m   1309\u001b[0m \u001b[1;33m\u001b[0m\u001b[0m\n\u001b[0;32m   1310\u001b[0m             \u001b[0max\u001b[0m \u001b[1;33m=\u001b[0m \u001b[0mself\u001b[0m\u001b[1;33m.\u001b[0m\u001b[0mobj\u001b[0m\u001b[1;33m.\u001b[0m\u001b[0m_get_axis\u001b[0m\u001b[1;33m(\u001b[0m\u001b[0maxis\u001b[0m\u001b[1;33m)\u001b[0m\u001b[1;33m\u001b[0m\u001b[1;33m\u001b[0m\u001b[0m\n",
      "\u001b[1;31mKeyError\u001b[0m: \"None of [Index(['max_speed'], dtype='object')] are in the [index]\""
     ]
    }
   ],
   "source": [
    "bike_data.loc[2,['max_speed']]"
   ]
  },
  {
   "cell_type": "code",
   "execution_count": 116,
   "id": "03927503",
   "metadata": {
    "ExecuteTime": {
     "end_time": "2021-09-04T12:45:10.626907Z",
     "start_time": "2021-09-04T12:45:10.616574Z"
    }
   },
   "outputs": [],
   "source": [
    "bike_data.loc[2,['max_speed']] =250"
   ]
  },
  {
   "cell_type": "code",
   "execution_count": 117,
   "id": "75ff5613",
   "metadata": {
    "ExecuteTime": {
     "end_time": "2021-09-04T12:45:12.596754Z",
     "start_time": "2021-09-04T12:45:12.572579Z"
    }
   },
   "outputs": [
    {
     "ename": "SyntaxError",
     "evalue": "invalid syntax (<ipython-input-117-4509915f33ed>, line 1)",
     "output_type": "error",
     "traceback": [
      "\u001b[1;36m  File \u001b[1;32m\"<ipython-input-117-4509915f33ed>\"\u001b[1;36m, line \u001b[1;32m1\u001b[0m\n\u001b[1;33m    we can use \" at \" in place of loc\u001b[0m\n\u001b[1;37m       ^\u001b[0m\n\u001b[1;31mSyntaxError\u001b[0m\u001b[1;31m:\u001b[0m invalid syntax\n"
     ]
    }
   ],
   "source": [
    "we can use \" at \" in place of loc "
   ]
  },
  {
   "cell_type": "code",
   "execution_count": 118,
   "id": "b18dd284",
   "metadata": {
    "ExecuteTime": {
     "end_time": "2021-09-04T12:45:36.756873Z",
     "start_time": "2021-09-04T12:45:36.730828Z"
    }
   },
   "outputs": [
    {
     "data": {
      "text/html": [
       "<div>\n",
       "<style scoped>\n",
       "    .dataframe tbody tr th:only-of-type {\n",
       "        vertical-align: middle;\n",
       "    }\n",
       "\n",
       "    .dataframe tbody tr th {\n",
       "        vertical-align: top;\n",
       "    }\n",
       "\n",
       "    .dataframe thead th {\n",
       "        text-align: right;\n",
       "    }\n",
       "</style>\n",
       "<table border=\"1\" class=\"dataframe\">\n",
       "  <thead>\n",
       "    <tr style=\"text-align: right;\">\n",
       "      <th></th>\n",
       "      <th>bike</th>\n",
       "      <th>Speed</th>\n",
       "      <th>max_speed</th>\n",
       "    </tr>\n",
       "  </thead>\n",
       "  <tbody>\n",
       "    <tr>\n",
       "      <th>0</th>\n",
       "      <td>YAHAMA</td>\n",
       "      <td>120</td>\n",
       "      <td>NaN</td>\n",
       "    </tr>\n",
       "    <tr>\n",
       "      <th>1</th>\n",
       "      <td>HONDA</td>\n",
       "      <td>150</td>\n",
       "      <td>NaN</td>\n",
       "    </tr>\n",
       "    <tr>\n",
       "      <th>2</th>\n",
       "      <td>Bajaj</td>\n",
       "      <td>200</td>\n",
       "      <td>300.0</td>\n",
       "    </tr>\n",
       "  </tbody>\n",
       "</table>\n",
       "</div>"
      ],
      "text/plain": [
       "     bike  Speed  max_speed\n",
       "0  YAHAMA    120        NaN\n",
       "1   HONDA    150        NaN\n",
       "2   Bajaj    200      300.0"
      ]
     },
     "execution_count": 118,
     "metadata": {},
     "output_type": "execute_result"
    }
   ],
   "source": [
    "bike_data.at[2,['max_speed']] =300\n",
    "bike_data"
   ]
  },
  {
   "cell_type": "code",
   "execution_count": 119,
   "id": "1d3db525",
   "metadata": {
    "ExecuteTime": {
     "end_time": "2021-09-04T12:45:39.346747Z",
     "start_time": "2021-09-04T12:45:39.328815Z"
    }
   },
   "outputs": [
    {
     "data": {
      "text/html": [
       "<div>\n",
       "<style scoped>\n",
       "    .dataframe tbody tr th:only-of-type {\n",
       "        vertical-align: middle;\n",
       "    }\n",
       "\n",
       "    .dataframe tbody tr th {\n",
       "        vertical-align: top;\n",
       "    }\n",
       "\n",
       "    .dataframe thead th {\n",
       "        text-align: right;\n",
       "    }\n",
       "</style>\n",
       "<table border=\"1\" class=\"dataframe\">\n",
       "  <thead>\n",
       "    <tr style=\"text-align: right;\">\n",
       "      <th></th>\n",
       "      <th>bike</th>\n",
       "      <th>Speed</th>\n",
       "      <th>max_speed</th>\n",
       "    </tr>\n",
       "  </thead>\n",
       "  <tbody>\n",
       "    <tr>\n",
       "      <th>0</th>\n",
       "      <td>YAHAMA</td>\n",
       "      <td>120</td>\n",
       "      <td>NaN</td>\n",
       "    </tr>\n",
       "    <tr>\n",
       "      <th>1</th>\n",
       "      <td>HONDA</td>\n",
       "      <td>150</td>\n",
       "      <td>NaN</td>\n",
       "    </tr>\n",
       "    <tr>\n",
       "      <th>2</th>\n",
       "      <td>Bajaj</td>\n",
       "      <td>200</td>\n",
       "      <td>300.0</td>\n",
       "    </tr>\n",
       "  </tbody>\n",
       "</table>\n",
       "</div>"
      ],
      "text/plain": [
       "     bike  Speed  max_speed\n",
       "0  YAHAMA    120        NaN\n",
       "1   HONDA    150        NaN\n",
       "2   Bajaj    200      300.0"
      ]
     },
     "execution_count": 119,
     "metadata": {},
     "output_type": "execute_result"
    }
   ],
   "source": [
    "bike_data"
   ]
  },
  {
   "cell_type": "markdown",
   "id": "ed80bd43",
   "metadata": {},
   "source": [
    "#### change data from lower to upper case"
   ]
  },
  {
   "cell_type": "code",
   "execution_count": 124,
   "id": "2975f496",
   "metadata": {
    "ExecuteTime": {
     "end_time": "2021-09-04T12:46:33.136807Z",
     "start_time": "2021-09-04T12:46:33.106618Z"
    },
    "scrolled": true
   },
   "outputs": [
    {
     "data": {
      "text/html": [
       "<div>\n",
       "<style scoped>\n",
       "    .dataframe tbody tr th:only-of-type {\n",
       "        vertical-align: middle;\n",
       "    }\n",
       "\n",
       "    .dataframe tbody tr th {\n",
       "        vertical-align: top;\n",
       "    }\n",
       "\n",
       "    .dataframe thead th {\n",
       "        text-align: right;\n",
       "    }\n",
       "</style>\n",
       "<table border=\"1\" class=\"dataframe\">\n",
       "  <thead>\n",
       "    <tr style=\"text-align: right;\">\n",
       "      <th></th>\n",
       "      <th>bike</th>\n",
       "      <th>Speed</th>\n",
       "      <th>max_speed</th>\n",
       "    </tr>\n",
       "  </thead>\n",
       "  <tbody>\n",
       "    <tr>\n",
       "      <th>0</th>\n",
       "      <td>YAHAMA</td>\n",
       "      <td>120</td>\n",
       "      <td>NaN</td>\n",
       "    </tr>\n",
       "    <tr>\n",
       "      <th>1</th>\n",
       "      <td>HONDA</td>\n",
       "      <td>150</td>\n",
       "      <td>NaN</td>\n",
       "    </tr>\n",
       "    <tr>\n",
       "      <th>2</th>\n",
       "      <td>BAJAJ</td>\n",
       "      <td>200</td>\n",
       "      <td>300.0</td>\n",
       "    </tr>\n",
       "  </tbody>\n",
       "</table>\n",
       "</div>"
      ],
      "text/plain": [
       "     bike  Speed  max_speed\n",
       "0  YAHAMA    120        NaN\n",
       "1   HONDA    150        NaN\n",
       "2   BAJAJ    200      300.0"
      ]
     },
     "execution_count": 124,
     "metadata": {},
     "output_type": "execute_result"
    }
   ],
   "source": [
    "bike_data['bike']= bike_data['bike'].str.upper()\n",
    "\n",
    "bike_data.apply(len)"
   ]
  },
  {
   "cell_type": "code",
   "execution_count": null,
   "id": "5ec4beb6",
   "metadata": {},
   "outputs": [],
   "source": [
    "methos \n",
    "\n",
    "1. apply  --> works on data frame and series object\n",
    "2. map  --> works on series , it applies on particular row/column/element\n",
    "3. applymap  --> works for dataframe \n",
    "4. replace --> works on series , instead of using map use replace to update data.\n",
    "\n",
    "df.rename(columns={ \"column_name\":'New_column_name'}, inplace=True)"
   ]
  },
  {
   "cell_type": "markdown",
   "id": "cf20c4af",
   "metadata": {},
   "source": [
    "#### apply on series function"
   ]
  },
  {
   "cell_type": "code",
   "execution_count": 127,
   "id": "44a4afdc",
   "metadata": {
    "ExecuteTime": {
     "end_time": "2021-09-04T12:51:36.796977Z",
     "start_time": "2021-09-04T12:51:36.776491Z"
    }
   },
   "outputs": [
    {
     "data": {
      "text/plain": [
       "0    6\n",
       "1    5\n",
       "2    5\n",
       "Name: bike, dtype: int64"
      ]
     },
     "execution_count": 127,
     "metadata": {},
     "output_type": "execute_result"
    }
   ],
   "source": [
    "bike_data['bike'].str.len()"
   ]
  },
  {
   "cell_type": "code",
   "execution_count": 125,
   "id": "695ae450",
   "metadata": {
    "ExecuteTime": {
     "end_time": "2021-09-04T12:46:43.536811Z",
     "start_time": "2021-09-04T12:46:43.517007Z"
    },
    "scrolled": false
   },
   "outputs": [
    {
     "data": {
      "text/plain": [
       "0    6\n",
       "1    5\n",
       "2    5\n",
       "Name: bike, dtype: int64"
      ]
     },
     "execution_count": 125,
     "metadata": {},
     "output_type": "execute_result"
    }
   ],
   "source": [
    "bike_data['bike'].apply(len)"
   ]
  },
  {
   "cell_type": "code",
   "execution_count": null,
   "id": "9fd8c890",
   "metadata": {
    "ExecuteTime": {
     "end_time": "2021-09-04T09:31:24.986449Z",
     "start_time": "2021-09-04T09:31:24.976418Z"
    }
   },
   "outputs": [],
   "source": [
    "filt= bike_data['bike_company'].apply(len)\n",
    "\n",
    "filt"
   ]
  },
  {
   "cell_type": "code",
   "execution_count": null,
   "id": "e2254bf5",
   "metadata": {},
   "outputs": [],
   "source": []
  },
  {
   "cell_type": "code",
   "execution_count": 129,
   "id": "8663471d",
   "metadata": {
    "ExecuteTime": {
     "end_time": "2021-09-04T12:53:29.609066Z",
     "start_time": "2021-09-04T12:53:29.601175Z"
    }
   },
   "outputs": [],
   "source": [
    "def update_case(bike):\n",
    "    return bike.lower()"
   ]
  },
  {
   "cell_type": "code",
   "execution_count": 130,
   "id": "6d66d16d",
   "metadata": {
    "ExecuteTime": {
     "end_time": "2021-09-04T12:53:30.807262Z",
     "start_time": "2021-09-04T12:53:30.786897Z"
    }
   },
   "outputs": [
    {
     "ename": "SyntaxError",
     "evalue": "invalid syntax (<ipython-input-130-0f2b6adc7934>, line 1)",
     "output_type": "error",
     "traceback": [
      "\u001b[1;36m  File \u001b[1;32m\"<ipython-input-130-0f2b6adc7934>\"\u001b[1;36m, line \u001b[1;32m1\u001b[0m\n\u001b[1;33m    apply doesn't change data frame so we need to store in variable\u001b[0m\n\u001b[1;37m          ^\u001b[0m\n\u001b[1;31mSyntaxError\u001b[0m\u001b[1;31m:\u001b[0m invalid syntax\n"
     ]
    }
   ],
   "source": [
    "apply doesn't change data frame so we need to store in variable"
   ]
  },
  {
   "cell_type": "code",
   "execution_count": 131,
   "id": "79699139",
   "metadata": {
    "ExecuteTime": {
     "end_time": "2021-09-04T12:53:32.467021Z",
     "start_time": "2021-09-04T12:53:32.459368Z"
    },
    "scrolled": true
   },
   "outputs": [
    {
     "data": {
      "text/plain": [
       "0    yahama\n",
       "1     honda\n",
       "2     bajaj\n",
       "Name: bike, dtype: object"
      ]
     },
     "execution_count": 131,
     "metadata": {},
     "output_type": "execute_result"
    }
   ],
   "source": [
    "\n",
    "bike_data['bike'].apply(update_case)"
   ]
  },
  {
   "cell_type": "code",
   "execution_count": null,
   "id": "7806e91d",
   "metadata": {
    "ExecuteTime": {
     "end_time": "2021-08-29T02:15:15.733696Z",
     "start_time": "2021-08-29T02:15:15.714668Z"
    },
    "scrolled": true
   },
   "outputs": [],
   "source": [
    "bike_data"
   ]
  },
  {
   "cell_type": "code",
   "execution_count": null,
   "id": "640e398c",
   "metadata": {
    "ExecuteTime": {
     "end_time": "2021-08-29T02:16:26.907703Z",
     "start_time": "2021-08-29T02:16:26.895694Z"
    }
   },
   "outputs": [],
   "source": [
    "bike_data['Bike']= bike_data['Bike'].apply(update_case)\n",
    "bike_data"
   ]
  },
  {
   "cell_type": "markdown",
   "id": "b3847af2",
   "metadata": {},
   "source": [
    "### apply work on data frame"
   ]
  },
  {
   "cell_type": "code",
   "execution_count": null,
   "id": "2e8f2e7a",
   "metadata": {},
   "outputs": [],
   "source": [
    "when we apply 'apply' on data frame we ran function on each row and column\n"
   ]
  },
  {
   "cell_type": "code",
   "execution_count": null,
   "id": "a7f47b28",
   "metadata": {
    "ExecuteTime": {
     "end_time": "2021-08-29T02:21:52.261163Z",
     "start_time": "2021-08-29T02:21:52.241612Z"
    }
   },
   "outputs": [],
   "source": [
    "bike_data['Bike'].apply(len)"
   ]
  },
  {
   "cell_type": "code",
   "execution_count": null,
   "id": "a2a2669d",
   "metadata": {},
   "outputs": [],
   "source": [
    "apply len function to each series of data frame specifically columns means \n",
    "Bile row has 3 values \n",
    "Speed row has 3 values"
   ]
  },
  {
   "cell_type": "code",
   "execution_count": 149,
   "id": "777a548d",
   "metadata": {
    "ExecuteTime": {
     "end_time": "2021-09-04T13:06:55.737696Z",
     "start_time": "2021-09-04T13:06:55.717389Z"
    }
   },
   "outputs": [],
   "source": [
    "import pandas as pd\n",
    "\n",
    "dataSet ={\n",
    "    'bike': ['yahama','honda','suzuki'],\n",
    "    'speed': [120,None,180]\n",
    "}\n",
    "\n",
    "bike_data= pd.DataFrame(dataSet)"
   ]
  },
  {
   "cell_type": "code",
   "execution_count": 150,
   "id": "f59df0f0",
   "metadata": {
    "ExecuteTime": {
     "end_time": "2021-09-04T13:06:57.864614Z",
     "start_time": "2021-09-04T13:06:57.847679Z"
    },
    "scrolled": true
   },
   "outputs": [
    {
     "data": {
      "text/html": [
       "<div>\n",
       "<style scoped>\n",
       "    .dataframe tbody tr th:only-of-type {\n",
       "        vertical-align: middle;\n",
       "    }\n",
       "\n",
       "    .dataframe tbody tr th {\n",
       "        vertical-align: top;\n",
       "    }\n",
       "\n",
       "    .dataframe thead th {\n",
       "        text-align: right;\n",
       "    }\n",
       "</style>\n",
       "<table border=\"1\" class=\"dataframe\">\n",
       "  <thead>\n",
       "    <tr style=\"text-align: right;\">\n",
       "      <th></th>\n",
       "      <th>bike</th>\n",
       "      <th>speed</th>\n",
       "    </tr>\n",
       "  </thead>\n",
       "  <tbody>\n",
       "    <tr>\n",
       "      <th>0</th>\n",
       "      <td>yahama</td>\n",
       "      <td>120.0</td>\n",
       "    </tr>\n",
       "    <tr>\n",
       "      <th>1</th>\n",
       "      <td>honda</td>\n",
       "      <td>NaN</td>\n",
       "    </tr>\n",
       "    <tr>\n",
       "      <th>2</th>\n",
       "      <td>suzuki</td>\n",
       "      <td>180.0</td>\n",
       "    </tr>\n",
       "  </tbody>\n",
       "</table>\n",
       "</div>"
      ],
      "text/plain": [
       "     bike  speed\n",
       "0  yahama  120.0\n",
       "1   honda    NaN\n",
       "2  suzuki  180.0"
      ]
     },
     "execution_count": 150,
     "metadata": {},
     "output_type": "execute_result"
    }
   ],
   "source": [
    "bike_data"
   ]
  },
  {
   "cell_type": "code",
   "execution_count": null,
   "id": "4ee5761b",
   "metadata": {},
   "outputs": [],
   "source": []
  },
  {
   "cell_type": "code",
   "execution_count": 151,
   "id": "c47e90fe",
   "metadata": {
    "ExecuteTime": {
     "end_time": "2021-09-04T13:07:03.313795Z",
     "start_time": "2021-09-04T13:07:03.297257Z"
    },
    "scrolled": true
   },
   "outputs": [
    {
     "data": {
      "text/plain": [
       "bike     3\n",
       "speed    3\n",
       "dtype: int64"
      ]
     },
     "execution_count": 151,
     "metadata": {},
     "output_type": "execute_result"
    }
   ],
   "source": [
    "bike_data.apply(len)"
   ]
  },
  {
   "cell_type": "code",
   "execution_count": 139,
   "id": "901a5592",
   "metadata": {
    "ExecuteTime": {
     "end_time": "2021-09-04T13:00:28.517650Z",
     "start_time": "2021-09-04T13:00:28.496965Z"
    }
   },
   "outputs": [],
   "source": [
    "bike_data.drop(columns=['max_speed'], inplace=True)"
   ]
  },
  {
   "cell_type": "code",
   "execution_count": 152,
   "id": "792a62f9",
   "metadata": {
    "ExecuteTime": {
     "end_time": "2021-09-04T13:07:18.796152Z",
     "start_time": "2021-09-04T13:07:18.783724Z"
    }
   },
   "outputs": [
    {
     "data": {
      "text/plain": [
       "bike     3\n",
       "speed    3\n",
       "dtype: int64"
      ]
     },
     "execution_count": 152,
     "metadata": {},
     "output_type": "execute_result"
    }
   ],
   "source": [
    "bike_data.apply(len,axis= 'rows')"
   ]
  },
  {
   "cell_type": "code",
   "execution_count": 153,
   "id": "57566130",
   "metadata": {
    "ExecuteTime": {
     "end_time": "2021-09-04T13:07:21.435165Z",
     "start_time": "2021-09-04T13:07:21.427290Z"
    },
    "scrolled": false
   },
   "outputs": [
    {
     "data": {
      "text/plain": [
       "0    2\n",
       "1    2\n",
       "2    2\n",
       "dtype: int64"
      ]
     },
     "execution_count": 153,
     "metadata": {},
     "output_type": "execute_result"
    }
   ],
   "source": [
    "bike_data.apply(len,axis= 'columns')"
   ]
  },
  {
   "cell_type": "code",
   "execution_count": null,
   "id": "ab4020db",
   "metadata": {},
   "outputs": [],
   "source": [
    "min values "
   ]
  },
  {
   "cell_type": "code",
   "execution_count": null,
   "id": "60e76df5",
   "metadata": {
    "ExecuteTime": {
     "end_time": "2021-08-29T02:27:54.907561Z",
     "start_time": "2021-08-29T02:27:54.889564Z"
    }
   },
   "outputs": [],
   "source": [
    "bike_data.apply(pd.Series.min)"
   ]
  },
  {
   "cell_type": "code",
   "execution_count": null,
   "id": "0f06b310",
   "metadata": {
    "ExecuteTime": {
     "end_time": "2021-08-29T02:30:36.133908Z",
     "start_time": "2021-08-29T02:30:36.127906Z"
    }
   },
   "outputs": [],
   "source": [
    "bike_data.apply(lambda x: x.min())"
   ]
  },
  {
   "cell_type": "code",
   "execution_count": null,
   "id": "d89f1fca",
   "metadata": {
    "ExecuteTime": {
     "end_time": "2021-08-29T02:31:23.578754Z",
     "start_time": "2021-08-29T02:31:23.567754Z"
    },
    "scrolled": false
   },
   "outputs": [],
   "source": [
    "Applymap \n",
    "Apply a function every indivisual element in the data frame \n",
    "applymap works on data frame\n",
    "series don't have apply map method"
   ]
  },
  {
   "cell_type": "code",
   "execution_count": null,
   "id": "4e610d33",
   "metadata": {
    "ExecuteTime": {
     "end_time": "2021-08-29T02:36:11.110767Z",
     "start_time": "2021-08-29T02:36:11.092230Z"
    }
   },
   "outputs": [],
   "source": [
    "applymap give ereor with \n",
    "applymap(str.lower)   - error wtih int data\n",
    "applymap(str.lower)  -- works fine for all element should not int or float data\n",
    "                        works fine for string data type\n",
    "\n",
    "applymap(len)  - error with int data \n",
    "applymap(len)  -- works fine for all element should not int or float data\n",
    "                        works fine for string data type\n",
    "\n"
   ]
  },
  {
   "cell_type": "code",
   "execution_count": null,
   "id": "a8c4afb5",
   "metadata": {
    "ExecuteTime": {
     "end_time": "2021-08-29T02:33:26.093583Z",
     "start_time": "2021-08-29T02:33:26.065042Z"
    },
    "scrolled": true
   },
   "outputs": [],
   "source": [
    "bike_data.applymap(len)"
   ]
  },
  {
   "cell_type": "markdown",
   "id": "fb2e96b4",
   "metadata": {},
   "source": [
    "## map"
   ]
  },
  {
   "cell_type": "code",
   "execution_count": null,
   "id": "2ba53e38",
   "metadata": {
    "ExecuteTime": {
     "end_time": "2021-08-29T02:39:37.848869Z",
     "start_time": "2021-08-29T02:39:37.839353Z"
    }
   },
   "outputs": [],
   "source": [
    "bike_data"
   ]
  },
  {
   "cell_type": "code",
   "execution_count": null,
   "id": "389fcc25",
   "metadata": {
    "ExecuteTime": {
     "end_time": "2021-08-29T02:40:35.053730Z",
     "start_time": "2021-08-29T02:40:35.033172Z"
    }
   },
   "outputs": [],
   "source": [
    "bike_data['Bike']= bike_data['Bike'].map({\"Bike\":'bike_name','Speed':\"Speedddddd\"})\n",
    "\n",
    "bike_data"
   ]
  },
  {
   "cell_type": "markdown",
   "id": "23f6f9ce",
   "metadata": {},
   "source": [
    "## some exmaple with data"
   ]
  },
  {
   "cell_type": "code",
   "execution_count": null,
   "id": "c3ef8975",
   "metadata": {
    "ExecuteTime": {
     "end_time": "2021-08-29T02:50:34.291686Z",
     "start_time": "2021-08-29T02:50:32.296577Z"
    }
   },
   "outputs": [],
   "source": [
    "import pandas as pd\n",
    "df= pd.read_csv('corey/developer_survey_2019/survey_results_public.csv')\n",
    "\n"
   ]
  },
  {
   "cell_type": "code",
   "execution_count": null,
   "id": "766c3778",
   "metadata": {},
   "outputs": [],
   "source": [
    "Que 1 replace all element from hobbyest column Yes to True"
   ]
  },
  {
   "cell_type": "code",
   "execution_count": null,
   "id": "2d94ddb8",
   "metadata": {
    "ExecuteTime": {
     "end_time": "2021-08-29T02:50:37.413973Z",
     "start_time": "2021-08-29T02:50:37.342959Z"
    }
   },
   "outputs": [],
   "source": [
    "df"
   ]
  },
  {
   "cell_type": "code",
   "execution_count": null,
   "id": "919a77da",
   "metadata": {
    "ExecuteTime": {
     "end_time": "2021-08-29T02:51:18.264167Z",
     "start_time": "2021-08-29T02:51:18.240167Z"
    }
   },
   "outputs": [],
   "source": [
    "df['Hobbyist'].map({'Yes':True,'No':False})"
   ]
  },
  {
   "cell_type": "code",
   "execution_count": null,
   "id": "54e79682",
   "metadata": {},
   "outputs": [],
   "source": [
    "update in data frame "
   ]
  },
  {
   "cell_type": "code",
   "execution_count": null,
   "id": "33960acb",
   "metadata": {
    "ExecuteTime": {
     "end_time": "2021-08-29T02:52:28.429892Z",
     "start_time": "2021-08-29T02:52:28.376360Z"
    }
   },
   "outputs": [],
   "source": [
    "df['Hobbyist']=df['Hobbyist'].map({'Yes':True,'No':False})"
   ]
  },
  {
   "cell_type": "code",
   "execution_count": null,
   "id": "825b97a3",
   "metadata": {
    "ExecuteTime": {
     "end_time": "2021-08-29T02:52:36.989145Z",
     "start_time": "2021-08-29T02:52:36.888471Z"
    }
   },
   "outputs": [],
   "source": [
    "df"
   ]
  },
  {
   "cell_type": "code",
   "execution_count": null,
   "id": "64732228",
   "metadata": {},
   "outputs": [],
   "source": []
  },
  {
   "cell_type": "markdown",
   "id": "b8a7d33e",
   "metadata": {},
   "source": [
    "### Add remove columns from data  frame and  combine multiple column in "
   ]
  },
  {
   "cell_type": "code",
   "execution_count": null,
   "id": "8c3ada41",
   "metadata": {
    "ExecuteTime": {
     "end_time": "2021-09-04T09:47:10.991053Z",
     "start_time": "2021-09-04T09:47:10.973449Z"
    }
   },
   "outputs": [],
   "source": [
    "import pandas as pd\n",
    "\n",
    "dataSet ={\n",
    "    'First_name': ['Vipin','Tony','JAck','Kaili'],\n",
    "    'Last_name': ['chaudhary','Stark','Ma','Jenner'],\n",
    "    'Python_Library': ['Pandas','','NumPy','MatpltLib'],\n",
    "    'Marks':[12,2,67,3]\n",
    "}\n",
    "\n",
    "df= pd.DataFrame(dataSet)\n",
    "print(df)"
   ]
  },
  {
   "cell_type": "code",
   "execution_count": null,
   "id": "c9e1da43",
   "metadata": {},
   "outputs": [],
   "source": [
    "combine First name and second name "
   ]
  },
  {
   "cell_type": "code",
   "execution_count": null,
   "id": "e245a06b",
   "metadata": {
    "ExecuteTime": {
     "end_time": "2021-08-29T03:07:37.445718Z",
     "start_time": "2021-08-29T03:07:37.432627Z"
    }
   },
   "outputs": [],
   "source": [
    "df['Full_name']=df['First_name']+ ' '+ df['Last_name']\n",
    "\n"
   ]
  },
  {
   "cell_type": "code",
   "execution_count": null,
   "id": "f66b0329",
   "metadata": {
    "ExecuteTime": {
     "end_time": "2021-08-29T03:07:39.559465Z",
     "start_time": "2021-08-29T03:07:39.541457Z"
    }
   },
   "outputs": [],
   "source": [
    "df"
   ]
  },
  {
   "cell_type": "code",
   "execution_count": null,
   "id": "b2e9e213",
   "metadata": {
    "ExecuteTime": {
     "end_time": "2021-08-29T03:05:48.238735Z",
     "start_time": "2021-08-29T03:05:48.226175Z"
    }
   },
   "outputs": [],
   "source": [
    "Drop column, make sure -->> inplace =True\n",
    "\n",
    "Give single column name to drop single column or \n",
    "list of column name for multiple columns"
   ]
  },
  {
   "cell_type": "code",
   "execution_count": null,
   "id": "b8bfe38e",
   "metadata": {
    "ExecuteTime": {
     "end_time": "2021-08-29T03:07:42.774617Z",
     "start_time": "2021-08-29T03:07:42.756078Z"
    }
   },
   "outputs": [],
   "source": [
    "df.drop(columns=['First_name','Last_name'], inplace=True)"
   ]
  },
  {
   "cell_type": "code",
   "execution_count": null,
   "id": "8590f01a",
   "metadata": {
    "ExecuteTime": {
     "end_time": "2021-08-29T03:07:44.517263Z",
     "start_time": "2021-08-29T03:07:44.501733Z"
    }
   },
   "outputs": [],
   "source": [
    "df"
   ]
  },
  {
   "cell_type": "markdown",
   "id": "d016c706",
   "metadata": {},
   "source": [
    "## split column data"
   ]
  },
  {
   "cell_type": "code",
   "execution_count": null,
   "id": "05536038",
   "metadata": {
    "ExecuteTime": {
     "end_time": "2021-08-29T03:07:03.217430Z",
     "start_time": "2021-08-29T03:07:03.200880Z"
    }
   },
   "outputs": [],
   "source": []
  },
  {
   "cell_type": "code",
   "execution_count": null,
   "id": "ff9f06ed",
   "metadata": {
    "ExecuteTime": {
     "end_time": "2021-08-29T03:09:05.354242Z",
     "start_time": "2021-08-29T03:09:05.337724Z"
    }
   },
   "outputs": [],
   "source": [
    "df['Full_name'].str.split(' ',expand=True)"
   ]
  },
  {
   "cell_type": "code",
   "execution_count": null,
   "id": "e16b0cd3",
   "metadata": {
    "ExecuteTime": {
     "end_time": "2021-08-29T03:10:20.497138Z",
     "start_time": "2021-08-29T03:10:20.477597Z"
    }
   },
   "outputs": [],
   "source": [
    "df[['First_Name', 'Last_Name']] = df['Full_name'].str.split(' ',expand=True)"
   ]
  },
  {
   "cell_type": "code",
   "execution_count": null,
   "id": "c92fe624",
   "metadata": {
    "ExecuteTime": {
     "end_time": "2021-08-29T03:10:27.390153Z",
     "start_time": "2021-08-29T03:10:27.368128Z"
    }
   },
   "outputs": [],
   "source": [
    "df"
   ]
  },
  {
   "cell_type": "markdown",
   "id": "de300bf6",
   "metadata": {},
   "source": [
    "### second method \n",
    "\n",
    "df.append(('first':'Tony'),ignore_index= True)"
   ]
  },
  {
   "cell_type": "code",
   "execution_count": null,
   "id": "590a7fec",
   "metadata": {},
   "outputs": [],
   "source": []
  },
  {
   "cell_type": "markdown",
   "id": "8bb210a9",
   "metadata": {},
   "source": [
    "Add two data frame```"
   ]
  },
  {
   "cell_type": "code",
   "execution_count": null,
   "id": "aed5ada3",
   "metadata": {
    "ExecuteTime": {
     "end_time": "2021-08-29T03:16:55.691500Z",
     "start_time": "2021-08-29T03:16:55.681437Z"
    }
   },
   "outputs": [],
   "source": [
    "import pandas as pd\n",
    "\n",
    "dataSet ={\n",
    "    'First_name': ['Vipin','Tony','JAck','Kaili'],\n",
    "    'Last_name': ['chaudhary','Stark','Ma','Jenner'],\n",
    "    'Python_Library': ['Pandas','','NumPy','MatpltLib'],\n",
    "    'Marks':[12,2,67,3]\n",
    "}\n",
    "df= pd.DataFrame(dataSet)"
   ]
  },
  {
   "cell_type": "code",
   "execution_count": null,
   "id": "c8ef2671",
   "metadata": {
    "ExecuteTime": {
     "end_time": "2021-08-29T03:16:07.159990Z",
     "start_time": "2021-08-29T03:16:07.150481Z"
    }
   },
   "outputs": [],
   "source": [
    "import pandas as pd\n",
    "\n",
    "dataSet_02 ={\n",
    "    'First_name': ['Vipin','Tony','JAck'],\n",
    "    'Last_name': ['chaudhary','Stark','Ma'],\n",
    "    'Python_Library': ['Pandas','NumPy','MatpltLib'] \n",
    "}\n",
    "\n",
    "df_2 = pd.DataFrame(dataSet_02)"
   ]
  },
  {
   "cell_type": "code",
   "execution_count": null,
   "id": "af979afb",
   "metadata": {
    "ExecuteTime": {
     "end_time": "2021-08-29T03:17:46.453607Z",
     "start_time": "2021-08-29T03:17:46.431087Z"
    }
   },
   "outputs": [],
   "source": [
    "df.append(df_2, ignore_index=True, sort=False)"
   ]
  },
  {
   "cell_type": "markdown",
   "id": "c4dd8ff6",
   "metadata": {},
   "source": [
    "permanently change data in data frmae\n"
   ]
  },
  {
   "cell_type": "code",
   "execution_count": null,
   "id": "08aa1529",
   "metadata": {
    "ExecuteTime": {
     "end_time": "2021-08-29T03:18:34.311156Z",
     "start_time": "2021-08-29T03:18:34.303624Z"
    }
   },
   "outputs": [],
   "source": [
    "df= df.append(df_2, ignore_index=True, sort=False)"
   ]
  },
  {
   "cell_type": "code",
   "execution_count": null,
   "id": "c1f74368",
   "metadata": {
    "ExecuteTime": {
     "end_time": "2021-08-29T03:18:38.221848Z",
     "start_time": "2021-08-29T03:18:38.210840Z"
    }
   },
   "outputs": [],
   "source": [
    "df"
   ]
  },
  {
   "cell_type": "code",
   "execution_count": null,
   "id": "9145b5ac",
   "metadata": {},
   "outputs": [],
   "source": []
  },
  {
   "cell_type": "markdown",
   "id": "81007b5b",
   "metadata": {},
   "source": [
    "# sorting in pandas "
   ]
  },
  {
   "cell_type": "code",
   "execution_count": null,
   "id": "d3905d16",
   "metadata": {},
   "outputs": [],
   "source": [
    "# Sort by single column\n",
    "df-sort_values(by='column_name',ascending= False)\n"
   ]
  },
  {
   "cell_type": "code",
   "execution_count": null,
   "id": "46ef36f7",
   "metadata": {},
   "outputs": [],
   "source": [
    "# sort with multiple column, give a list of colummn name\n",
    "\n",
    "df-sort_values(by=['First_Column','Second_column','Third_column'],ascending= False, inplace= True)\n"
   ]
  },
  {
   "cell_type": "code",
   "execution_count": null,
   "id": "eb4e2fe7",
   "metadata": {},
   "outputs": [],
   "source": [
    "# sort different coulmn as ascending , descinding , input list of boolen in ascending paramater"
   ]
  },
  {
   "cell_type": "code",
   "execution_count": null,
   "id": "d610d77b",
   "metadata": {},
   "outputs": [],
   "source": [
    "df-sort_values(by=['First_Column','Second_column','Third_column'],ascending= [True, False, True], inplace= True)"
   ]
  },
  {
   "cell_type": "code",
   "execution_count": null,
   "id": "0893c3f5",
   "metadata": {},
   "outputs": [],
   "source": [
    "# sort with index "
   ]
  },
  {
   "cell_type": "code",
   "execution_count": null,
   "id": "5136ecee",
   "metadata": {},
   "outputs": [],
   "source": [
    "# this function sort data with index\n",
    "df.sort_index()"
   ]
  },
  {
   "cell_type": "markdown",
   "id": "55897b7d",
   "metadata": {},
   "source": [
    "## convert date type and set indexing while importing from file"
   ]
  },
  {
   "cell_type": "code",
   "execution_count": null,
   "id": "40ab39dc",
   "metadata": {
    "ExecuteTime": {
     "end_time": "2021-09-04T10:00:56.597648Z",
     "start_time": "2021-09-04T10:00:56.585651Z"
    },
    "run_control": {
     "marked": true
    },
    "scrolled": true
   },
   "outputs": [],
   "source": [
    "import pandas as pd\n",
    "df = pd.read_csv('AAC.csv',index_col='Open')\n",
    "df\n",
    "\n"
   ]
  },
  {
   "cell_type": "code",
   "execution_count": null,
   "id": "d7422f01",
   "metadata": {},
   "outputs": [],
   "source": [
    "# convert date time \n",
    "df['Date'] = pd.to_datetime(df['Date'])"
   ]
  },
  {
   "cell_type": "code",
   "execution_count": null,
   "id": "7751e1cc",
   "metadata": {},
   "outputs": [],
   "source": [
    "# # convert all cells in the 'Date' column into dates.\n",
    "# pandas has a to_datetime() method for this\n",
    "print(df.to_string())"
   ]
  },
  {
   "cell_type": "code",
   "execution_count": null,
   "id": "590d7034",
   "metadata": {},
   "outputs": [],
   "source": []
  },
  {
   "cell_type": "code",
   "execution_count": null,
   "id": "8674c661",
   "metadata": {},
   "outputs": [],
   "source": [
    "# # we can remove the row by using the dropna() method\n",
    "\n",
    "df.dropna(subset=['date'], inplace = True)"
   ]
  },
  {
   "cell_type": "code",
   "execution_count": null,
   "id": "3b4bd797",
   "metadata": {},
   "outputs": [],
   "source": []
  },
  {
   "cell_type": "markdown",
   "id": "ecd83299",
   "metadata": {},
   "source": [
    "# Remove row by dropna()"
   ]
  },
  {
   "cell_type": "code",
   "execution_count": null,
   "id": "3e7b9d4b",
   "metadata": {
    "ExecuteTime": {
     "end_time": "2021-09-04T09:55:18.049529Z",
     "start_time": "2021-09-04T09:55:18.012304Z"
    },
    "scrolled": false
   },
   "outputs": [],
   "source": [
    "import pandas as pd\n",
    "\n",
    "df = pd.read_csv('AAC.csv')\n",
    "df\n"
   ]
  },
  {
   "cell_type": "code",
   "execution_count": null,
   "id": "d9c0eabb",
   "metadata": {
    "ExecuteTime": {
     "end_time": "2021-09-04T09:56:56.142881Z",
     "start_time": "2021-09-04T09:56:56.119845Z"
    }
   },
   "outputs": [],
   "source": [
    "# # convert all cells in the 'Date' column into dates.\n",
    "# pandas has a to_datetime() method for this\n",
    "\n",
    "df['Date'] = pd.to_datetime(df['Date'])\n",
    "df['Date']\n",
    "\n",
    "\n"
   ]
  },
  {
   "cell_type": "code",
   "execution_count": null,
   "id": "1fd71947",
   "metadata": {
    "ExecuteTime": {
     "end_time": "2021-09-04T09:57:09.072716Z",
     "start_time": "2021-09-04T09:57:09.050200Z"
    },
    "run_control": {
     "marked": false
    },
    "scrolled": true
   },
   "outputs": [],
   "source": [
    "# we can remove the row by using the dropna() method\n",
    "\n",
    "print(df.to_string())\n"
   ]
  },
  {
   "cell_type": "code",
   "execution_count": null,
   "id": "5ff5f0dc",
   "metadata": {
    "ExecuteTime": {
     "end_time": "2021-09-04T09:59:45.821530Z",
     "start_time": "2021-09-04T09:59:45.806481Z"
    }
   },
   "outputs": [],
   "source": [
    "# we can remove the row by using the dropna() method"
   ]
  },
  {
   "cell_type": "code",
   "execution_count": null,
   "id": "0e3b76e6",
   "metadata": {},
   "outputs": [],
   "source": []
  },
  {
   "cell_type": "code",
   "execution_count": null,
   "id": "e92ff57b",
   "metadata": {},
   "outputs": [],
   "source": []
  },
  {
   "cell_type": "code",
   "execution_count": null,
   "id": "8c999dbb",
   "metadata": {},
   "outputs": [],
   "source": []
  },
  {
   "cell_type": "markdown",
   "id": "152ad6f1",
   "metadata": {},
   "source": [
    "\n",
    "# Grouping and Aggregating"
   ]
  },
  {
   "cell_type": "code",
   "execution_count": null,
   "id": "0efad1b3",
   "metadata": {
    "ExecuteTime": {
     "end_time": "2021-08-29T03:44:56.403054Z",
     "start_time": "2021-08-29T03:44:54.562778Z"
    }
   },
   "outputs": [],
   "source": [
    "import pandas as pd\n",
    "df= pd.read_csv('corey/developer_survey_2019/survey_results_public.csv', index_col='Respondent')\n",
    "\n"
   ]
  },
  {
   "cell_type": "markdown",
   "id": "682ea131",
   "metadata": {},
   "source": [
    "## Grouping and Aggregates"
   ]
  },
  {
   "cell_type": "code",
   "execution_count": null,
   "id": "0ed3d960",
   "metadata": {
    "ExecuteTime": {
     "end_time": "2021-08-29T03:54:17.150761Z",
     "start_time": "2021-08-29T03:54:15.191000Z"
    }
   },
   "outputs": [],
   "source": [
    "import pandas as pd\n",
    "df= pd.read_csv('corey/developer_survey_2019/survey_results_public.csv', index_col='Respondent')\n",
    "\n",
    "\n",
    "schema_df = pd.read_csv('corey/developer_survey_2019/survey_results_schema.csv', index_col='Column')\n"
   ]
  },
  {
   "cell_type": "code",
   "execution_count": null,
   "id": "46167502",
   "metadata": {},
   "outputs": [],
   "source": [
    "\n",
    "pd.set_option('display.max_columns', 85)\n",
    "pd.set_option('display.max_rows', 85)"
   ]
  },
  {
   "cell_type": "code",
   "execution_count": null,
   "id": "30c9edf1",
   "metadata": {
    "ExecuteTime": {
     "end_time": "2021-08-29T03:54:17.230712Z",
     "start_time": "2021-08-29T03:54:17.153219Z"
    }
   },
   "outputs": [],
   "source": [
    "df"
   ]
  },
  {
   "cell_type": "code",
   "execution_count": null,
   "id": "80bed0c4",
   "metadata": {
    "ExecuteTime": {
     "end_time": "2021-08-29T03:54:20.428778Z",
     "start_time": "2021-08-29T03:54:20.412172Z"
    }
   },
   "outputs": [],
   "source": [
    "schema_df"
   ]
  },
  {
   "cell_type": "code",
   "execution_count": null,
   "id": "19d4aa88",
   "metadata": {
    "ExecuteTime": {
     "end_time": "2021-08-29T03:54:23.526422Z",
     "start_time": "2021-08-29T03:54:23.519424Z"
    },
    "scrolled": true
   },
   "outputs": [],
   "source": [
    "df['ConvertedComp'].head(15)"
   ]
  },
  {
   "cell_type": "markdown",
   "id": "0d6b573e",
   "metadata": {
    "ExecuteTime": {
     "end_time": "2021-08-29T03:49:43.877875Z",
     "start_time": "2021-08-29T03:49:43.870339Z"
    }
   },
   "source": [
    "Here we can apply algrabic or statics tools"
   ]
  },
  {
   "cell_type": "code",
   "execution_count": null,
   "id": "291c775e",
   "metadata": {
    "ExecuteTime": {
     "end_time": "2021-08-29T03:54:25.711391Z",
     "start_time": "2021-08-29T03:54:25.708389Z"
    }
   },
   "outputs": [],
   "source": [
    "median \n",
    "mode\n",
    "max\n",
    "min\n",
    "avg \n",
    "standatd dav\n"
   ]
  },
  {
   "cell_type": "code",
   "execution_count": null,
   "id": "d464c001",
   "metadata": {
    "ExecuteTime": {
     "end_time": "2021-08-29T03:54:28.055300Z",
     "start_time": "2021-08-29T03:54:28.050295Z"
    }
   },
   "outputs": [],
   "source": [
    "df['ConvertedComp'].median()"
   ]
  },
  {
   "cell_type": "code",
   "execution_count": null,
   "id": "045a5825",
   "metadata": {
    "ExecuteTime": {
     "end_time": "2021-08-29T03:54:29.794301Z",
     "start_time": "2021-08-29T03:54:29.561713Z"
    },
    "scrolled": true
   },
   "outputs": [],
   "source": [
    "df.median()\n",
    "# this find column that contain numeric value "
   ]
  },
  {
   "cell_type": "code",
   "execution_count": null,
   "id": "6126f248",
   "metadata": {
    "ExecuteTime": {
     "end_time": "2021-08-29T03:54:53.008058Z",
     "start_time": "2021-08-29T03:54:52.971500Z"
    },
    "scrolled": false
   },
   "outputs": [],
   "source": [
    "# this give a broad overview of data \n",
    "\n",
    "df.describe()"
   ]
  },
  {
   "cell_type": "code",
   "execution_count": null,
   "id": "a0c05e2d",
   "metadata": {
    "ExecuteTime": {
     "end_time": "2021-08-29T03:55:05.911809Z",
     "start_time": "2021-08-29T03:55:05.861798Z"
    }
   },
   "outputs": [],
   "source": [
    "df.describe"
   ]
  },
  {
   "cell_type": "code",
   "execution_count": null,
   "id": "c0a826f1",
   "metadata": {},
   "outputs": [],
   "source": [
    "# count values is number of non na rows   "
   ]
  },
  {
   "cell_type": "code",
   "execution_count": null,
   "id": "310a2ebc",
   "metadata": {
    "ExecuteTime": {
     "end_time": "2021-08-29T04:17:25.816284Z",
     "start_time": "2021-08-29T04:17:25.793521Z"
    },
    "scrolled": true
   },
   "outputs": [],
   "source": [
    "df['ConvertedComp']"
   ]
  },
  {
   "cell_type": "code",
   "execution_count": null,
   "id": "636750db",
   "metadata": {
    "ExecuteTime": {
     "end_time": "2021-08-29T04:16:03.146498Z",
     "start_time": "2021-08-29T04:16:03.126344Z"
    }
   },
   "outputs": [],
   "source": [
    "df['ConvertedComp'].count()"
   ]
  },
  {
   "cell_type": "code",
   "execution_count": null,
   "id": "c3dbc14f",
   "metadata": {
    "ExecuteTime": {
     "end_time": "2021-08-29T04:17:00.441640Z",
     "start_time": "2021-08-29T04:17:00.409119Z"
    }
   },
   "outputs": [],
   "source": [
    "df['Hobbyist'].value_counts()"
   ]
  },
  {
   "cell_type": "code",
   "execution_count": null,
   "id": "f79084cb",
   "metadata": {
    "ExecuteTime": {
     "end_time": "2021-08-29T04:18:28.334582Z",
     "start_time": "2021-08-29T04:18:28.310581Z"
    }
   },
   "outputs": [],
   "source": [
    "df['SocialMedia']"
   ]
  },
  {
   "cell_type": "code",
   "execution_count": null,
   "id": "d6fe0920",
   "metadata": {
    "ExecuteTime": {
     "end_time": "2021-08-29T04:18:57.362390Z",
     "start_time": "2021-08-29T04:18:57.333062Z"
    }
   },
   "outputs": [],
   "source": [
    "df['SocialMedia'].count()"
   ]
  },
  {
   "cell_type": "code",
   "execution_count": null,
   "id": "67ff64e1",
   "metadata": {
    "ExecuteTime": {
     "end_time": "2021-08-29T04:29:57.662581Z",
     "start_time": "2021-08-29T04:29:57.625349Z"
    }
   },
   "outputs": [],
   "source": [
    "df['SocialMedia'].value_counts(normalize=True)"
   ]
  },
  {
   "cell_type": "markdown",
   "id": "fc75975e",
   "metadata": {},
   "source": [
    "Group By: some combination of spliting the object and combinationmbining the result"
   ]
  },
  {
   "cell_type": "code",
   "execution_count": null,
   "id": "fc6c3fc9",
   "metadata": {
    "ExecuteTime": {
     "end_time": "2021-08-29T04:27:30.423932Z",
     "start_time": "2021-08-29T04:27:30.416051Z"
    }
   },
   "outputs": [],
   "source": [
    "df.groupby(['Country'])"
   ]
  },
  {
   "cell_type": "code",
   "execution_count": null,
   "id": "d86455ed",
   "metadata": {
    "ExecuteTime": {
     "end_time": "2021-08-29T04:28:36.708653Z",
     "start_time": "2021-08-29T04:28:36.688809Z"
    }
   },
   "outputs": [],
   "source": [
    "country_group= df.groupby(['Country'])\n",
    "country_group"
   ]
  },
  {
   "cell_type": "code",
   "execution_count": null,
   "id": "832a3d15",
   "metadata": {
    "ExecuteTime": {
     "end_time": "2021-08-29T04:29:06.496628Z",
     "start_time": "2021-08-29T04:29:06.396618Z"
    }
   },
   "outputs": [],
   "source": [
    "country_group.get_group('United States')"
   ]
  },
  {
   "cell_type": "code",
   "execution_count": null,
   "id": "4e2350ad",
   "metadata": {
    "ExecuteTime": {
     "end_time": "2021-08-29T04:30:43.475837Z",
     "start_time": "2021-08-29T04:30:43.386121Z"
    }
   },
   "outputs": [],
   "source": [
    "country_group.get_group('India')"
   ]
  },
  {
   "cell_type": "code",
   "execution_count": null,
   "id": "27074324",
   "metadata": {
    "ExecuteTime": {
     "end_time": "2021-08-29T04:33:05.781672Z",
     "start_time": "2021-08-29T04:33:05.723119Z"
    }
   },
   "outputs": [],
   "source": [
    "filt= df['Country']  =='United States'\n",
    "\n",
    "df.loc[filt]['SocialMedia'].value_counts()"
   ]
  },
  {
   "cell_type": "code",
   "execution_count": null,
   "id": "52669e97",
   "metadata": {
    "ExecuteTime": {
     "end_time": "2021-08-29T04:33:35.294234Z",
     "start_time": "2021-08-29T04:33:35.214521Z"
    }
   },
   "outputs": [],
   "source": [
    "filt= df['Country']  =='India'\n",
    "\n",
    "df.loc[filt]['SocialMedia'].value_counts()"
   ]
  },
  {
   "cell_type": "code",
   "execution_count": null,
   "id": "131919b6",
   "metadata": {
    "ExecuteTime": {
     "end_time": "2021-08-29T04:34:31.045083Z",
     "start_time": "2021-08-29T04:34:30.986480Z"
    }
   },
   "outputs": [],
   "source": [
    "country_group['SocialMedia'].value_counts()"
   ]
  },
  {
   "cell_type": "code",
   "execution_count": null,
   "id": "62261b27",
   "metadata": {
    "ExecuteTime": {
     "end_time": "2021-08-29T04:36:27.871086Z",
     "start_time": "2021-08-29T04:36:27.815877Z"
    }
   },
   "outputs": [],
   "source": [
    "country_group['SocialMedia'].value_counts().head(40)"
   ]
  },
  {
   "cell_type": "code",
   "execution_count": null,
   "id": "b765e26b",
   "metadata": {
    "ExecuteTime": {
     "end_time": "2021-08-29T04:37:15.407183Z",
     "start_time": "2021-08-29T04:37:15.345504Z"
    }
   },
   "outputs": [],
   "source": [
    "country_group['SocialMedia'].value_counts().loc['India']"
   ]
  },
  {
   "cell_type": "code",
   "execution_count": null,
   "id": "d874884d",
   "metadata": {
    "ExecuteTime": {
     "end_time": "2021-08-29T04:39:21.848876Z",
     "start_time": "2021-08-29T04:39:21.795493Z"
    }
   },
   "outputs": [],
   "source": [
    "country_group['SocialMedia'].value_counts().loc['United States']"
   ]
  },
  {
   "cell_type": "code",
   "execution_count": null,
   "id": "9a211a9f",
   "metadata": {
    "ExecuteTime": {
     "end_time": "2021-08-29T04:42:37.914425Z",
     "start_time": "2021-08-29T04:42:37.893038Z"
    }
   },
   "outputs": [],
   "source": [
    "list_of_filter_countries = ['India', 'United States','China', 'Russian Federation']"
   ]
  },
  {
   "cell_type": "code",
   "execution_count": null,
   "id": "208ca35a",
   "metadata": {
    "ExecuteTime": {
     "end_time": "2021-08-29T04:46:04.150155Z",
     "start_time": "2021-08-29T04:46:03.979716Z"
    }
   },
   "outputs": [],
   "source": [
    "for country in list_of_filter_countries:\n",
    "    print(country_group['SocialMedia'].value_counts().loc[country])\n",
    "    print('\\n')"
   ]
  },
  {
   "cell_type": "code",
   "execution_count": null,
   "id": "0fb6f55a",
   "metadata": {
    "ExecuteTime": {
     "end_time": "2021-08-29T05:02:30.614985Z",
     "start_time": "2021-08-29T05:02:30.594490Z"
    }
   },
   "outputs": [],
   "source": [
    "country_group['ConvertedComp'].median(12)"
   ]
  },
  {
   "cell_type": "code",
   "execution_count": null,
   "id": "6960c9b2",
   "metadata": {
    "ExecuteTime": {
     "end_time": "2021-08-29T05:02:34.028828Z",
     "start_time": "2021-08-29T05:02:34.007032Z"
    }
   },
   "outputs": [],
   "source": [
    "country_group['ConvertedComp'].median().loc['Germany']"
   ]
  },
  {
   "cell_type": "markdown",
   "id": "b31ad87d",
   "metadata": {},
   "source": [
    "# Agg"
   ]
  },
  {
   "cell_type": "code",
   "execution_count": null,
   "id": "06e2b0e4",
   "metadata": {
    "ExecuteTime": {
     "end_time": "2021-08-29T05:02:35.705136Z",
     "start_time": "2021-08-29T05:02:35.675330Z"
    }
   },
   "outputs": [],
   "source": [
    "country_group['ConvertedComp'].agg(['median','mean'])"
   ]
  },
  {
   "cell_type": "code",
   "execution_count": null,
   "id": "8f03d35a",
   "metadata": {
    "ExecuteTime": {
     "end_time": "2021-08-29T05:02:38.019482Z",
     "start_time": "2021-08-29T05:02:37.999112Z"
    }
   },
   "outputs": [],
   "source": [
    "country_group['ConvertedComp'].agg(['median','mean']).loc['India']"
   ]
  },
  {
   "cell_type": "code",
   "execution_count": null,
   "id": "889c14d8",
   "metadata": {},
   "outputs": [],
   "source": []
  },
  {
   "cell_type": "code",
   "execution_count": null,
   "id": "5fa4aee4",
   "metadata": {
    "ExecuteTime": {
     "end_time": "2021-08-29T05:02:41.588907Z",
     "start_time": "2021-08-29T05:02:41.504594Z"
    }
   },
   "outputs": [],
   "source": [
    "# sum works for numeeric values \n",
    "# it also works with boolean , sum all values , boolean have true\n",
    "filt = df['Country'] == 'India'\n",
    "df.loc[filt]['LanguageWorkedWith'].str.contains('Python').sum()"
   ]
  },
  {
   "cell_type": "code",
   "execution_count": null,
   "id": "14c80d08",
   "metadata": {
    "ExecuteTime": {
     "end_time": "2021-08-29T05:02:54.453469Z",
     "start_time": "2021-08-29T05:02:54.433247Z"
    }
   },
   "outputs": [],
   "source": [
    "\n",
    "country_group['LanguageWorkedWith'].str.contains('Python').sum()"
   ]
  },
  {
   "cell_type": "code",
   "execution_count": null,
   "id": "2ee3c889",
   "metadata": {
    "ExecuteTime": {
     "end_time": "2021-08-29T05:03:01.811657Z",
     "start_time": "2021-08-29T05:03:01.616364Z"
    }
   },
   "outputs": [],
   "source": [
    "country_group['LanguageWorkedWith'].apply(lambda x: x.str.contains('Python').sum())"
   ]
  },
  {
   "cell_type": "code",
   "execution_count": null,
   "id": "4c10aefb",
   "metadata": {
    "ExecuteTime": {
     "end_time": "2021-08-29T05:06:25.397252Z",
     "start_time": "2021-08-29T05:06:25.368813Z"
    }
   },
   "outputs": [],
   "source": [
    "country_respondents = df['Country'].value_counts()\n",
    "country_respondents"
   ]
  },
  {
   "cell_type": "code",
   "execution_count": null,
   "id": "59ffb2dd",
   "metadata": {
    "ExecuteTime": {
     "end_time": "2021-08-29T05:07:10.280749Z",
     "start_time": "2021-08-29T05:07:10.091658Z"
    }
   },
   "outputs": [],
   "source": [
    "country_uses_python= country_group['LanguageWorkedWith'].apply(lambda x: x.str.contains('Python').sum())"
   ]
  },
  {
   "cell_type": "code",
   "execution_count": null,
   "id": "bf4173c2",
   "metadata": {
    "ExecuteTime": {
     "end_time": "2021-08-29T05:07:18.497651Z",
     "start_time": "2021-08-29T05:07:18.474070Z"
    }
   },
   "outputs": [],
   "source": [
    "country_uses_python"
   ]
  },
  {
   "cell_type": "code",
   "execution_count": null,
   "id": "b82f0fc9",
   "metadata": {
    "ExecuteTime": {
     "end_time": "2021-08-29T05:08:58.665141Z",
     "start_time": "2021-08-29T05:08:58.649966Z"
    }
   },
   "outputs": [],
   "source": [
    "python_df = pd.concat([country_respondents, country_uses_python], axis='columns', sort=False)\n",
    "python_df"
   ]
  },
  {
   "cell_type": "code",
   "execution_count": null,
   "id": "c509c1e1",
   "metadata": {
    "ExecuteTime": {
     "end_time": "2021-08-29T05:09:54.924955Z",
     "start_time": "2021-08-29T05:09:54.909892Z"
    }
   },
   "outputs": [],
   "source": [
    "python_df.rename(columns={'Country': 'NumRespondents', 'LanguageWorkedWith': 'NumKnowsPython'}, inplace=True)"
   ]
  },
  {
   "cell_type": "code",
   "execution_count": null,
   "id": "adf1dd8e",
   "metadata": {
    "ExecuteTime": {
     "end_time": "2021-08-29T05:10:03.899600Z",
     "start_time": "2021-08-29T05:10:03.869853Z"
    }
   },
   "outputs": [],
   "source": [
    "python_df"
   ]
  },
  {
   "cell_type": "code",
   "execution_count": null,
   "id": "89de68b6",
   "metadata": {
    "ExecuteTime": {
     "end_time": "2021-08-29T05:11:26.139816Z",
     "start_time": "2021-08-29T05:11:26.114695Z"
    }
   },
   "outputs": [],
   "source": [
    "python_df['Per_Knows_Python'] = (python_df['NumKnowsPython']/python_df['NumRespondents']) * 100\n",
    "python_df"
   ]
  },
  {
   "cell_type": "code",
   "execution_count": null,
   "id": "bc896fd9",
   "metadata": {
    "ExecuteTime": {
     "end_time": "2021-08-29T05:11:53.199486Z",
     "start_time": "2021-08-29T05:11:53.189691Z"
    }
   },
   "outputs": [],
   "source": [
    "\n",
    "python_df.sort_values(by='Per_Knows_Pyt hon', ascending=False, inplace=True)"
   ]
  },
  {
   "cell_type": "code",
   "execution_count": null,
   "id": "edd43138",
   "metadata": {
    "ExecuteTime": {
     "end_time": "2021-08-29T05:12:04.319576Z",
     "start_time": "2021-08-29T05:12:04.289723Z"
    }
   },
   "outputs": [],
   "source": [
    "python_df"
   ]
  },
  {
   "cell_type": "code",
   "execution_count": null,
   "id": "440bb39c",
   "metadata": {
    "ExecuteTime": {
     "end_time": "2021-08-29T05:12:32.849662Z",
     "start_time": "2021-08-29T05:12:32.819866Z"
    },
    "scrolled": true
   },
   "outputs": [],
   "source": [
    "python_df.head(50)\n"
   ]
  },
  {
   "cell_type": "code",
   "execution_count": null,
   "id": "9ffe00d1",
   "metadata": {
    "ExecuteTime": {
     "end_time": "2021-08-29T05:13:03.759499Z",
     "start_time": "2021-08-29T05:13:03.749781Z"
    },
    "scrolled": true
   },
   "outputs": [],
   "source": [
    "\n",
    "python_df.loc['Japan']"
   ]
  },
  {
   "cell_type": "code",
   "execution_count": null,
   "id": "25a720df",
   "metadata": {},
   "outputs": [],
   "source": []
  },
  {
   "cell_type": "markdown",
   "id": "85a52ecc",
   "metadata": {},
   "source": [
    "## cleaning data and handling missing values"
   ]
  },
  {
   "cell_type": "code",
   "execution_count": null,
   "id": "ce335fca",
   "metadata": {
    "ExecuteTime": {
     "end_time": "2021-08-29T05:20:07.485041Z",
     "start_time": "2021-08-29T05:20:07.477039Z"
    }
   },
   "outputs": [],
   "source": [
    "import pandas as pd\n",
    "import numpy as np"
   ]
  },
  {
   "cell_type": "code",
   "execution_count": null,
   "id": "881fc1d2",
   "metadata": {
    "ExecuteTime": {
     "end_time": "2021-08-29T05:43:46.025974Z",
     "start_time": "2021-08-29T05:43:46.002158Z"
    }
   },
   "outputs": [],
   "source": [
    "\n",
    "people = {\n",
    "    'first': ['Corey', 'Jane', 'John', 'Chris', np.nan, None, 'NA'], \n",
    "    'last': ['Schafer', 'Doe', 'Doe', 'Schafer', np.nan, np.nan, 'Missing'], \n",
    "    'email': ['CoreyMSchafer@gmail.com', 'JaneDoe@email.com', 'JohnDoe@email.com', None, np.nan, 'Anonymous@email.com', 'NA'],\n",
    "    'age': ['33', '55', '63', '36', None, None, 'Missing']\n",
    "}"
   ]
  },
  {
   "cell_type": "code",
   "execution_count": null,
   "id": "8fe28350",
   "metadata": {
    "ExecuteTime": {
     "end_time": "2021-08-29T05:43:47.352051Z",
     "start_time": "2021-08-29T05:43:47.328992Z"
    }
   },
   "outputs": [],
   "source": [
    "\n",
    "df = pd.DataFrame(people)\n",
    "\n",
    "df.replace('NA', np.nan, inplace=True)\n",
    "df.replace('Missing', np.nan, inplace=True)"
   ]
  },
  {
   "cell_type": "code",
   "execution_count": null,
   "id": "fe28c366",
   "metadata": {
    "ExecuteTime": {
     "end_time": "2021-08-29T05:43:50.184326Z",
     "start_time": "2021-08-29T05:43:50.155758Z"
    },
    "scrolled": true
   },
   "outputs": [],
   "source": [
    "df"
   ]
  },
  {
   "cell_type": "markdown",
   "id": "d5a34dcd",
   "metadata": {},
   "source": [
    "dropna drops row , even if a single  value in column is NaN"
   ]
  },
  {
   "cell_type": "code",
   "execution_count": null,
   "id": "51ab6d68",
   "metadata": {
    "ExecuteTime": {
     "end_time": "2021-08-29T05:43:58.424027Z",
     "start_time": "2021-08-29T05:43:58.384205Z"
    }
   },
   "outputs": [],
   "source": [
    "df.dropna(axis='index', how='any')  \n",
    "# this is default dropna()"
   ]
  },
  {
   "cell_type": "code",
   "execution_count": null,
   "id": "8825cd3a",
   "metadata": {
    "ExecuteTime": {
     "end_time": "2021-08-29T05:44:01.164594Z",
     "start_time": "2021-08-29T05:44:01.144268Z"
    },
    "scrolled": false
   },
   "outputs": [],
   "source": [
    "df.dropna()"
   ]
  },
  {
   "cell_type": "markdown",
   "id": "c94e14a7",
   "metadata": {},
   "source": []
  },
  {
   "cell_type": "markdown",
   "id": "3e99dc02",
   "metadata": {
    "ExecuteTime": {
     "end_time": "2021-08-29T05:25:48.776855Z",
     "start_time": "2021-08-29T05:25:48.769443Z"
    }
   },
   "source": [
    "this drops rows, all values are NaN"
   ]
  },
  {
   "cell_type": "code",
   "execution_count": null,
   "id": "e3731495",
   "metadata": {},
   "outputs": [],
   "source": [
    "#dropna drops rows, if all value in rows is missing \n"
   ]
  },
  {
   "cell_type": "code",
   "execution_count": null,
   "id": "d3ff5ed9",
   "metadata": {
    "ExecuteTime": {
     "end_time": "2021-08-29T05:44:15.814741Z",
     "start_time": "2021-08-29T05:44:15.783970Z"
    }
   },
   "outputs": [],
   "source": [
    "df.dropna(axis='index', how='all') "
   ]
  },
  {
   "cell_type": "code",
   "execution_count": null,
   "id": "6c968ddc",
   "metadata": {},
   "outputs": [],
   "source": []
  },
  {
   "cell_type": "code",
   "execution_count": null,
   "id": "a8f0a32a",
   "metadata": {
    "ExecuteTime": {
     "end_time": "2021-08-29T05:44:19.504434Z",
     "start_time": "2021-08-29T05:44:19.477843Z"
    }
   },
   "outputs": [],
   "source": [
    "#dropna drops column , if all value in column is missing\n",
    "df.dropna(axis='columns', how='all') \n"
   ]
  },
  {
   "cell_type": "code",
   "execution_count": null,
   "id": "8bd22fe7",
   "metadata": {
    "ExecuteTime": {
     "end_time": "2021-08-29T05:44:25.352173Z",
     "start_time": "2021-08-29T05:44:25.334454Z"
    },
    "scrolled": true
   },
   "outputs": [],
   "source": [
    "\n",
    "#dropna drops column , even if any  single value in column is missing \n",
    "df.dropna(axis='columns', how='any') "
   ]
  },
  {
   "cell_type": "code",
   "execution_count": null,
   "id": "502133b6",
   "metadata": {
    "ExecuteTime": {
     "end_time": "2021-08-29T05:40:19.621753Z",
     "start_time": "2021-08-29T05:40:19.598020Z"
    },
    "scrolled": true
   },
   "outputs": [],
   "source": [
    "df.dropna(axis='index', how='all', subset=['last', 'email'])\n"
   ]
  },
  {
   "cell_type": "code",
   "execution_count": null,
   "id": "88a2e890",
   "metadata": {
    "ExecuteTime": {
     "end_time": "2021-08-29T05:42:33.503137Z",
     "start_time": "2021-08-29T05:42:33.486553Z"
    }
   },
   "outputs": [],
   "source": [
    "df.isna()"
   ]
  },
  {
   "cell_type": "code",
   "execution_count": null,
   "id": "e0caad32",
   "metadata": {
    "ExecuteTime": {
     "end_time": "2021-08-29T05:46:07.682332Z",
     "start_time": "2021-08-29T05:46:07.664176Z"
    }
   },
   "outputs": [],
   "source": [
    "df.fillna('Missing')"
   ]
  },
  {
   "cell_type": "code",
   "execution_count": null,
   "id": "c8ed4914",
   "metadata": {},
   "outputs": [],
   "source": [
    "If you want to make all changes permeant ,  inplace= True"
   ]
  },
  {
   "cell_type": "code",
   "execution_count": null,
   "id": "a4fa7777",
   "metadata": {
    "ExecuteTime": {
     "end_time": "2021-08-29T05:46:42.144420Z",
     "start_time": "2021-08-29T05:46:42.114949Z"
    }
   },
   "outputs": [],
   "source": [
    "df.fillna(0)"
   ]
  },
  {
   "cell_type": "markdown",
   "id": "acd45cb4",
   "metadata": {},
   "source": [
    "### object data type:   This is basically most lickly string or mixture of different data types"
   ]
  },
  {
   "cell_type": "code",
   "execution_count": null,
   "id": "561bede0",
   "metadata": {
    "ExecuteTime": {
     "end_time": "2021-08-29T05:53:13.541809Z",
     "start_time": "2021-08-29T05:53:13.518632Z"
    }
   },
   "outputs": [],
   "source": [
    "df.dtypes"
   ]
  },
  {
   "cell_type": "code",
   "execution_count": null,
   "id": "3921f51a",
   "metadata": {
    "ExecuteTime": {
     "end_time": "2021-08-29T05:52:28.912075Z",
     "start_time": "2021-08-29T05:52:28.872044Z"
    }
   },
   "outputs": [],
   "source": [
    "df['age'].mean()"
   ]
  },
  {
   "cell_type": "code",
   "execution_count": null,
   "id": "6e26b859",
   "metadata": {
    "ExecuteTime": {
     "end_time": "2021-08-29T05:52:41.635465Z",
     "start_time": "2021-08-29T05:52:41.626671Z"
    }
   },
   "outputs": [],
   "source": [
    "\n",
    "df['age'] = df['age'].astype(float)"
   ]
  },
  {
   "cell_type": "code",
   "execution_count": null,
   "id": "bbcd5bcf",
   "metadata": {
    "ExecuteTime": {
     "end_time": "2021-08-29T05:52:47.808329Z",
     "start_time": "2021-08-29T05:52:47.783397Z"
    }
   },
   "outputs": [],
   "source": [
    "\n",
    "df.dtypes"
   ]
  },
  {
   "cell_type": "code",
   "execution_count": null,
   "id": "ffbd4897",
   "metadata": {
    "ExecuteTime": {
     "end_time": "2021-08-29T05:52:55.134446Z",
     "start_time": "2021-08-29T05:52:55.116170Z"
    }
   },
   "outputs": [],
   "source": [
    "df['age'].mean()\n"
   ]
  },
  {
   "cell_type": "code",
   "execution_count": null,
   "id": "8d8bd898",
   "metadata": {},
   "outputs": [],
   "source": []
  },
  {
   "cell_type": "markdown",
   "id": "7b4f1fa7",
   "metadata": {},
   "source": [
    "# Stack Overflow data"
   ]
  },
  {
   "cell_type": "code",
   "execution_count": null,
   "id": "80b9b1bb",
   "metadata": {
    "ExecuteTime": {
     "end_time": "2021-08-29T05:56:01.456487Z",
     "start_time": "2021-08-29T05:55:58.369854Z"
    }
   },
   "outputs": [],
   "source": [
    "import pandas as pd\n",
    "df= pd.read_csv('corey/developer_survey_2019/survey_results_public.csv', index_col='Respondent')\n",
    "schema_df = pd.read_csv('corey/developer_survey_2019/survey_results_schema.csv', index_col='Column')\n"
   ]
  },
  {
   "cell_type": "code",
   "execution_count": null,
   "id": "8655027a",
   "metadata": {
    "ExecuteTime": {
     "end_time": "2021-08-29T05:56:08.541083Z",
     "start_time": "2021-08-29T05:56:08.519006Z"
    }
   },
   "outputs": [],
   "source": [
    "pd.set_option('display.max_columns', 85)\n",
    "pd.set_option('display.max_rows', 85)"
   ]
  },
  {
   "cell_type": "code",
   "execution_count": null,
   "id": "1c286249",
   "metadata": {
    "ExecuteTime": {
     "end_time": "2021-08-29T05:56:24.402218Z",
     "start_time": "2021-08-29T05:56:24.272609Z"
    }
   },
   "outputs": [],
   "source": [
    "df.head()"
   ]
  },
  {
   "cell_type": "code",
   "execution_count": null,
   "id": "16182a92",
   "metadata": {
    "ExecuteTime": {
     "end_time": "2021-08-29T05:57:09.432404Z",
     "start_time": "2021-08-29T05:57:09.412490Z"
    }
   },
   "outputs": [],
   "source": [
    "df['YearsCode'].head(10)"
   ]
  },
  {
   "cell_type": "code",
   "execution_count": null,
   "id": "a89d4852",
   "metadata": {
    "ExecuteTime": {
     "end_time": "2021-08-29T05:59:30.429480Z",
     "start_time": "2021-08-29T05:59:30.420161Z"
    }
   },
   "outputs": [],
   "source": [
    "df['YearsCode'].mean()"
   ]
  },
  {
   "cell_type": "code",
   "execution_count": null,
   "id": "348a41a5",
   "metadata": {
    "ExecuteTime": {
     "end_time": "2021-08-29T05:57:17.048534Z",
     "start_time": "2021-08-29T05:57:17.032521Z"
    }
   },
   "outputs": [],
   "source": [
    "df['YearsCode'].unique()"
   ]
  },
  {
   "cell_type": "code",
   "execution_count": null,
   "id": "c0b07fda",
   "metadata": {
    "ExecuteTime": {
     "end_time": "2021-08-29T05:59:15.958222Z",
     "start_time": "2021-08-29T05:59:15.936805Z"
    }
   },
   "outputs": [],
   "source": [
    "df['YearsCode'].mean()"
   ]
  },
  {
   "cell_type": "code",
   "execution_count": null,
   "id": "ae2a047f",
   "metadata": {
    "ExecuteTime": {
     "end_time": "2021-08-29T05:57:39.312267Z",
     "start_time": "2021-08-29T05:57:39.296027Z"
    }
   },
   "outputs": [],
   "source": [
    "df['YearsCode'].replace('More than 50 years', 51, inplace=True)\n"
   ]
  },
  {
   "cell_type": "code",
   "execution_count": null,
   "id": "449b3374",
   "metadata": {
    "ExecuteTime": {
     "end_time": "2021-08-29T05:58:55.752803Z",
     "start_time": "2021-08-29T05:58:55.728683Z"
    }
   },
   "outputs": [],
   "source": [
    "df['YearsCode'] = df['YearsCode'].astype(float)\n"
   ]
  },
  {
   "cell_type": "code",
   "execution_count": null,
   "id": "df517cf9",
   "metadata": {
    "ExecuteTime": {
     "end_time": "2021-08-29T05:57:27.852402Z",
     "start_time": "2021-08-29T05:57:27.839831Z"
    }
   },
   "outputs": [],
   "source": [
    "df['YearsCode'].replace('Less than 1 year', 0, inplace=True)\n"
   ]
  },
  {
   "cell_type": "code",
   "execution_count": null,
   "id": "1a7380fc",
   "metadata": {
    "ExecuteTime": {
     "end_time": "2021-08-29T05:58:28.207530Z",
     "start_time": "2021-08-29T05:58:28.190240Z"
    }
   },
   "outputs": [],
   "source": [
    "df['YearsCode'].mean()"
   ]
  },
  {
   "cell_type": "code",
   "execution_count": null,
   "id": "c8383e9c",
   "metadata": {
    "ExecuteTime": {
     "end_time": "2021-08-29T05:58:36.032259Z",
     "start_time": "2021-08-29T05:58:36.015703Z"
    }
   },
   "outputs": [],
   "source": [
    "df['YearsCode'].median()\n"
   ]
  },
  {
   "cell_type": "markdown",
   "id": "78e54826",
   "metadata": {},
   "source": [
    "# Date_time"
   ]
  },
  {
   "cell_type": "code",
   "execution_count": null,
   "id": "af02f5a9",
   "metadata": {},
   "outputs": [],
   "source": []
  },
  {
   "cell_type": "code",
   "execution_count": null,
   "id": "5f7c2fda",
   "metadata": {},
   "outputs": [],
   "source": []
  },
  {
   "cell_type": "code",
   "execution_count": null,
   "id": "e1ef542d",
   "metadata": {},
   "outputs": [],
   "source": []
  },
  {
   "cell_type": "code",
   "execution_count": null,
   "id": "ab2cac53",
   "metadata": {},
   "outputs": [],
   "source": []
  },
  {
   "cell_type": "code",
   "execution_count": null,
   "id": "760458fe",
   "metadata": {},
   "outputs": [],
   "source": []
  },
  {
   "cell_type": "code",
   "execution_count": null,
   "id": "121b8f5c",
   "metadata": {},
   "outputs": [],
   "source": []
  },
  {
   "cell_type": "code",
   "execution_count": null,
   "id": "3742d13a",
   "metadata": {},
   "outputs": [],
   "source": []
  },
  {
   "cell_type": "code",
   "execution_count": null,
   "id": "98cf70c3",
   "metadata": {},
   "outputs": [],
   "source": []
  },
  {
   "cell_type": "code",
   "execution_count": null,
   "id": "c1560286",
   "metadata": {},
   "outputs": [],
   "source": []
  },
  {
   "cell_type": "code",
   "execution_count": null,
   "id": "46b38f8e",
   "metadata": {},
   "outputs": [],
   "source": []
  },
  {
   "cell_type": "code",
   "execution_count": null,
   "id": "68d556f1",
   "metadata": {},
   "outputs": [],
   "source": []
  },
  {
   "cell_type": "code",
   "execution_count": null,
   "id": "a63d491d",
   "metadata": {},
   "outputs": [],
   "source": []
  },
  {
   "cell_type": "code",
   "execution_count": null,
   "id": "78d8b46d",
   "metadata": {},
   "outputs": [],
   "source": []
  },
  {
   "cell_type": "markdown",
   "id": "ff40b04b",
   "metadata": {},
   "source": [
    "## Box plot"
   ]
  },
  {
   "cell_type": "markdown",
   "id": "30cc4834",
   "metadata": {},
   "source": [
    "\n",
    "It can be inferred that most of the data in the distribution of applicant income is towards left which means it is not normally distributed. We will try to make it normal in later sections as algorithms works better if the data is normally distributed.\n",
    "\n",
    "The boxplot confirms the presence of a lot of outliers/extreme values. This can be attributed to the income disparity in the society. Part of this can be driven by the fact that we are looking at people with different education levels. Let us segregate them by Education:"
   ]
  },
  {
   "cell_type": "code",
   "execution_count": null,
   "id": "d843fe35",
   "metadata": {},
   "outputs": [],
   "source": []
  }
 ],
 "metadata": {
  "kernelspec": {
   "display_name": "Python 3",
   "language": "python",
   "name": "python3"
  },
  "language_info": {
   "codemirror_mode": {
    "name": "ipython",
    "version": 3
   },
   "file_extension": ".py",
   "mimetype": "text/x-python",
   "name": "python",
   "nbconvert_exporter": "python",
   "pygments_lexer": "ipython3",
   "version": "3.8.8"
  }
 },
 "nbformat": 4,
 "nbformat_minor": 5
}

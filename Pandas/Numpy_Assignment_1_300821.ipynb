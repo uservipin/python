{
 "cells": [
  {
   "cell_type": "code",
   "execution_count": 27,
   "id": "037962dc",
   "metadata": {},
   "outputs": [
    {
     "data": {
      "text/plain": [
       "array([ 0.32022555,  0.3245324 ,  0.50231645, -0.43374066,  1.89437957,\n",
       "        1.06782463,  0.32990683, -0.61759963, -0.21708353,  0.84085552,\n",
       "        1.33330146,  0.94869335,  0.5614153 ,  0.50169541, -2.06108424,\n",
       "       -1.4342271 , -0.23063178, -1.32189693,  0.4691527 , -0.45375407,\n",
       "        0.0399567 , -0.48095098,  0.23359058,  0.3216457 , -0.06822314])"
      ]
     },
     "execution_count": 27,
     "metadata": {},
     "output_type": "execute_result"
    }
   ],
   "source": [
    "### 1) Use NumPy to generate an array of 25 random numbers sampled from a standard normal distribution\n",
    "\n",
    "import numpy as np\n",
    "np.random.randn(25)"
   ]
  },
  {
   "cell_type": "code",
   "execution_count": 33,
   "id": "6cd44c6f",
   "metadata": {},
   "outputs": [
    {
     "data": {
      "text/plain": [
       "51.63333333333333"
      ]
     },
     "execution_count": 33,
     "metadata": {},
     "output_type": "execute_result"
    }
   ],
   "source": [
    "### 2) Create a random vector of size 30 and find the mean value.\n",
    "\n",
    "np.random.seed(7)\n",
    "a = np.random.randint(low=0,high=100,size=(30))\n",
    "\n",
    "np.mean(a)\n",
    "a.mean()\n",
    "\n",
    "np.random.randint(low=0,high=100,size=(30)).mean()"
   ]
  },
  {
   "cell_type": "code",
   "execution_count": 44,
   "id": "5ebcbc19",
   "metadata": {},
   "outputs": [
    {
     "data": {
      "text/plain": [
       "(10, 10)"
      ]
     },
     "execution_count": 44,
     "metadata": {},
     "output_type": "execute_result"
    }
   ],
   "source": [
    "### 3) Insert 1 to 100 numbers in a NumPy array and reshape it to 10*10 matrix.\n",
    "a = np.arange(1,101).reshape((10,-1))\n",
    "a.shape"
   ]
  },
  {
   "cell_type": "code",
   "execution_count": 39,
   "id": "4ee081c7",
   "metadata": {
    "collapsed": true
   },
   "outputs": [
    {
     "name": "stdout",
     "output_type": "stream",
     "text": [
      "Help on function reshape in module numpy:\n",
      "\n",
      "reshape(a, newshape, order='C')\n",
      "    Gives a new shape to an array without changing its data.\n",
      "    \n",
      "    Parameters\n",
      "    ----------\n",
      "    a : array_like\n",
      "        Array to be reshaped.\n",
      "    newshape : int or tuple of ints\n",
      "        The new shape should be compatible with the original shape. If\n",
      "        an integer, then the result will be a 1-D array of that length.\n",
      "        One shape dimension can be -1. In this case, the value is\n",
      "        inferred from the length of the array and remaining dimensions.\n",
      "    order : {'C', 'F', 'A'}, optional\n",
      "        Read the elements of `a` using this index order, and place the\n",
      "        elements into the reshaped array using this index order.  'C'\n",
      "        means to read / write the elements using C-like index order,\n",
      "        with the last axis index changing fastest, back to the first\n",
      "        axis index changing slowest. 'F' means to read / write the\n",
      "        elements using Fortran-like index order, with the first index\n",
      "        changing fastest, and the last index changing slowest. Note that\n",
      "        the 'C' and 'F' options take no account of the memory layout of\n",
      "        the underlying array, and only refer to the order of indexing.\n",
      "        'A' means to read / write the elements in Fortran-like index\n",
      "        order if `a` is Fortran *contiguous* in memory, C-like order\n",
      "        otherwise.\n",
      "    \n",
      "    Returns\n",
      "    -------\n",
      "    reshaped_array : ndarray\n",
      "        This will be a new view object if possible; otherwise, it will\n",
      "        be a copy.  Note there is no guarantee of the *memory layout* (C- or\n",
      "        Fortran- contiguous) of the returned array.\n",
      "    \n",
      "    See Also\n",
      "    --------\n",
      "    ndarray.reshape : Equivalent method.\n",
      "    \n",
      "    Notes\n",
      "    -----\n",
      "    It is not always possible to change the shape of an array without\n",
      "    copying the data. If you want an error to be raised when the data is copied,\n",
      "    you should assign the new shape to the shape attribute of the array::\n",
      "    \n",
      "     >>> a = np.zeros((10, 2))\n",
      "    \n",
      "     # A transpose makes the array non-contiguous\n",
      "     >>> b = a.T\n",
      "    \n",
      "     # Taking a view makes it possible to modify the shape without modifying\n",
      "     # the initial object.\n",
      "     >>> c = b.view()\n",
      "     >>> c.shape = (20)\n",
      "     Traceback (most recent call last):\n",
      "        ...\n",
      "     AttributeError: Incompatible shape for in-place modification. Use\n",
      "     `.reshape()` to make a copy with the desired shape.\n",
      "    \n",
      "    The `order` keyword gives the index ordering both for *fetching* the values\n",
      "    from `a`, and then *placing* the values into the output array.\n",
      "    For example, let's say you have an array:\n",
      "    \n",
      "    >>> a = np.arange(6).reshape((3, 2))\n",
      "    >>> a\n",
      "    array([[0, 1],\n",
      "           [2, 3],\n",
      "           [4, 5]])\n",
      "    \n",
      "    You can think of reshaping as first raveling the array (using the given\n",
      "    index order), then inserting the elements from the raveled array into the\n",
      "    new array using the same kind of index ordering as was used for the\n",
      "    raveling.\n",
      "    \n",
      "    >>> np.reshape(a, (2, 3)) # C-like index ordering\n",
      "    array([[0, 1, 2],\n",
      "           [3, 4, 5]])\n",
      "    >>> np.reshape(np.ravel(a), (2, 3)) # equivalent to C ravel then C reshape\n",
      "    array([[0, 1, 2],\n",
      "           [3, 4, 5]])\n",
      "    >>> np.reshape(a, (2, 3), order='F') # Fortran-like index ordering\n",
      "    array([[0, 4, 3],\n",
      "           [2, 1, 5]])\n",
      "    >>> np.reshape(np.ravel(a, order='F'), (2, 3), order='F')\n",
      "    array([[0, 4, 3],\n",
      "           [2, 1, 5]])\n",
      "    \n",
      "    Examples\n",
      "    --------\n",
      "    >>> a = np.array([[1,2,3], [4,5,6]])\n",
      "    >>> np.reshape(a, 6)\n",
      "    array([1, 2, 3, 4, 5, 6])\n",
      "    >>> np.reshape(a, 6, order='F')\n",
      "    array([1, 4, 2, 5, 3, 6])\n",
      "    \n",
      "    >>> np.reshape(a, (3,-1))       # the unspecified value is inferred to be 2\n",
      "    array([[1, 2],\n",
      "           [3, 4],\n",
      "           [5, 6]])\n",
      "\n"
     ]
    }
   ],
   "source": [
    "help(np.reshape)"
   ]
  },
  {
   "cell_type": "code",
   "execution_count": 50,
   "id": "a8b11a0f",
   "metadata": {},
   "outputs": [
    {
     "name": "stdout",
     "output_type": "stream",
     "text": [
      "Minimum value of the array :1\n",
      "Maximum value of the array :100\n"
     ]
    }
   ],
   "source": [
    "### 4) Create a 10x10 array with random values and find the minimum and maximum values.\n",
    "np.random.seed(42)\n",
    "a = np.random.randint(low=0,high=101,size=(10,10))\n",
    "print(\"Minimum value of the array :{}\".format(a.min()))\n",
    "print(\"Maximum value of the array :{}\".format(a.max()))"
   ]
  },
  {
   "cell_type": "code",
   "execution_count": 51,
   "id": "34d15c7a",
   "metadata": {},
   "outputs": [
    {
     "data": {
      "text/plain": [
       "14"
      ]
     },
     "execution_count": 51,
     "metadata": {},
     "output_type": "execute_result"
    }
   ],
   "source": [
    "### 5) Find Dot product of two arrays\n",
    "\n",
    "f = np.array([1,2])\n",
    "g = np.array([4,5])\n",
    "\n",
    "np.dot(f,g)"
   ]
  },
  {
   "cell_type": "code",
   "execution_count": 54,
   "id": "f36ac9b4",
   "metadata": {},
   "outputs": [
    {
     "data": {
      "text/plain": [
       "array([[1, 2],\n",
       "       [3, 4],\n",
       "       [5, 6]])"
      ]
     },
     "execution_count": 54,
     "metadata": {},
     "output_type": "execute_result"
    }
   ],
   "source": [
    "### 6) Concatenate following arrays along axis=0\n",
    "\n",
    "x=np.array([[1,2],\n",
    "            [3,4]])\n",
    "y=np.array([[5,6]])\n",
    "\n",
    "np.concatenate((x,y),axis=0)"
   ]
  },
  {
   "cell_type": "code",
   "execution_count": 55,
   "id": "0fffba36",
   "metadata": {},
   "outputs": [
    {
     "data": {
      "text/plain": [
       "array([2, 4])"
      ]
     },
     "execution_count": 55,
     "metadata": {},
     "output_type": "execute_result"
    }
   ],
   "source": [
    "### 7) How to get the common items between two python NumPy arrays?\n",
    "\n",
    "a = np.array([1,2,3,2,3,4,3,4,5,6])\n",
    "b = np.array([7,2,10,2,7,4,9,4,9,8])\n",
    "\n",
    "np.intersect1d(a,b)"
   ]
  },
  {
   "cell_type": "code",
   "execution_count": 56,
   "id": "3c1cf549",
   "metadata": {},
   "outputs": [
    {
     "data": {
      "text/plain": [
       "array([ 1,  2,  3,  4,  5,  7,  8, 10])"
      ]
     },
     "execution_count": 56,
     "metadata": {},
     "output_type": "execute_result"
    }
   ],
   "source": [
    "### 8) Sort the numpy array:\n",
    "\n",
    "arr = np.array([10,5,8,4,7,2,3,1])\n",
    "\n",
    "np.sort(arr)\n"
   ]
  },
  {
   "cell_type": "markdown",
   "id": "2a2ea3f2",
   "metadata": {},
   "source": [
    "## Numpy upcasting"
   ]
  },
  {
   "cell_type": "code",
   "execution_count": 2,
   "id": "8f7daaff",
   "metadata": {
    "ExecuteTime": {
     "end_time": "2021-09-03T14:20:50.524777Z",
     "start_time": "2021-09-03T14:20:50.207451Z"
    }
   },
   "outputs": [
    {
     "data": {
      "text/plain": [
       "array([12, 34, 54, 'Hello', 0.97, None], dtype=object)"
      ]
     },
     "execution_count": 2,
     "metadata": {},
     "output_type": "execute_result"
    }
   ],
   "source": [
    "import numpy as np\n",
    "list1 = [12,34,54,\"Hello\",0.97,None]\n",
    "\n",
    "arr = np.array(list1)\n",
    "arr"
   ]
  },
  {
   "cell_type": "code",
   "execution_count": 3,
   "id": "bd27b705",
   "metadata": {
    "ExecuteTime": {
     "end_time": "2021-09-03T14:20:51.578181Z",
     "start_time": "2021-09-03T14:20:51.559725Z"
    }
   },
   "outputs": [
    {
     "name": "stdout",
     "output_type": "stream",
     "text": [
      "float64\n"
     ]
    }
   ],
   "source": [
    "a = np.array([1.2,3.4,5.6])\n",
    "print(a.dtype)"
   ]
  },
  {
   "cell_type": "code",
   "execution_count": 4,
   "id": "f415b7c1",
   "metadata": {
    "ExecuteTime": {
     "end_time": "2021-09-03T14:20:53.183573Z",
     "start_time": "2021-09-03T14:20:53.174574Z"
    }
   },
   "outputs": [
    {
     "name": "stdout",
     "output_type": "stream",
     "text": [
      "int32\n"
     ]
    }
   ],
   "source": [
    "b = np.array([1,2,3])\n",
    "print(b.dtype)"
   ]
  },
  {
   "cell_type": "code",
   "execution_count": 5,
   "id": "0f1064f9",
   "metadata": {
    "ExecuteTime": {
     "end_time": "2021-09-03T14:20:54.505841Z",
     "start_time": "2021-09-03T14:20:54.489309Z"
    }
   },
   "outputs": [
    {
     "name": "stdout",
     "output_type": "stream",
     "text": [
      "<U5\n"
     ]
    }
   ],
   "source": [
    "c = np.array([\"hi\",\"hello\",\"fine\"])\n",
    "print(c.dtype)"
   ]
  },
  {
   "cell_type": "code",
   "execution_count": 7,
   "id": "b4e58588",
   "metadata": {
    "ExecuteTime": {
     "end_time": "2021-09-03T14:21:03.249473Z",
     "start_time": "2021-09-03T14:21:03.240467Z"
    }
   },
   "outputs": [
    {
     "data": {
      "text/plain": [
       "array(['1.2', '3.4', '5.6', '1', '2', '3', 'hi', 'hello', 'fine'],\n",
       "      dtype='<U32')"
      ]
     },
     "execution_count": 7,
     "metadata": {},
     "output_type": "execute_result"
    }
   ],
   "source": [
    "d = np.concatenate((a,b,c),axis=0)\n",
    "d"
   ]
  },
  {
   "cell_type": "code",
   "execution_count": 66,
   "id": "b2ef8fdd",
   "metadata": {},
   "outputs": [
    {
     "name": "stdout",
     "output_type": "stream",
     "text": [
      "<U32\n"
     ]
    }
   ],
   "source": [
    "print(d.dtype)"
   ]
  },
  {
   "cell_type": "code",
   "execution_count": null,
   "id": "0ed65dc2",
   "metadata": {},
   "outputs": [],
   "source": []
  }
 ],
 "metadata": {
  "kernelspec": {
   "display_name": "Python 3",
   "language": "python",
   "name": "python3"
  },
  "language_info": {
   "codemirror_mode": {
    "name": "ipython",
    "version": 3
   },
   "file_extension": ".py",
   "mimetype": "text/x-python",
   "name": "python",
   "nbconvert_exporter": "python",
   "pygments_lexer": "ipython3",
   "version": "3.8.8"
  }
 },
 "nbformat": 4,
 "nbformat_minor": 5
}

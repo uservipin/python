{
 "cells": [
  {
   "cell_type": "code",
   "execution_count": null,
   "id": "9511d8fc",
   "metadata": {},
   "outputs": [],
   "source": [
    "Read and write with exeel \n",
    "\n",
    "use module \n",
    "\n",
    "xlrd      --> write in excel \n",
    "\n",
    "openpyxl  -->to read excel file in python\n",
    "xlwt      --> xlrd module is used to extract data from a spreadsheet\n",
    "SQLAlchemy-->SQl with python\n",
    "psycopg2-binary"
   ]
  },
  {
   "cell_type": "code",
   "execution_count": 6,
   "id": "88d2fc81",
   "metadata": {
    "ExecuteTime": {
     "end_time": "2021-07-21T06:49:48.373375Z",
     "start_time": "2021-07-21T06:49:48.365865Z"
    }
   },
   "outputs": [],
   "source": [
    "import pandas as pd \n",
    "\n",
    "# load data \n",
    "data = pd.read_csv('data.csv')\n"
   ]
  },
  {
   "cell_type": "code",
   "execution_count": 7,
   "id": "1abd9dea",
   "metadata": {
    "ExecuteTime": {
     "end_time": "2021-07-21T06:49:51.512098Z",
     "start_time": "2021-07-21T06:49:51.504099Z"
    }
   },
   "outputs": [
    {
     "data": {
      "text/plain": [
       "(169, 4)"
      ]
     },
     "execution_count": 7,
     "metadata": {},
     "output_type": "execute_result"
    }
   ],
   "source": [
    "# get shape of data \n",
    "data.shape"
   ]
  },
  {
   "cell_type": "code",
   "execution_count": 8,
   "id": "e9a01060",
   "metadata": {
    "ExecuteTime": {
     "end_time": "2021-07-21T06:50:46.531175Z",
     "start_time": "2021-07-21T06:50:46.505186Z"
    }
   },
   "outputs": [
    {
     "name": "stdout",
     "output_type": "stream",
     "text": [
      "<class 'pandas.core.frame.DataFrame'>\n",
      "RangeIndex: 169 entries, 0 to 168\n",
      "Data columns (total 4 columns):\n",
      " #   Column    Non-Null Count  Dtype  \n",
      "---  ------    --------------  -----  \n",
      " 0   Duration  169 non-null    int64  \n",
      " 1   Pulse     169 non-null    int64  \n",
      " 2   Maxpulse  169 non-null    int64  \n",
      " 3   Calories  164 non-null    float64\n",
      "dtypes: float64(1), int64(3)\n",
      "memory usage: 5.4 KB\n"
     ]
    }
   ],
   "source": [
    "# get information about the csv file \n",
    "\n",
    "data.info()"
   ]
  },
  {
   "cell_type": "code",
   "execution_count": 9,
   "id": "30dda6f8",
   "metadata": {
    "ExecuteTime": {
     "end_time": "2021-07-21T07:17:12.722437Z",
     "start_time": "2021-07-21T07:17:12.707100Z"
    }
   },
   "outputs": [
    {
     "data": {
      "text/plain": [
       "Index(['Duration', 'Pulse', 'Maxpulse', 'Calories'], dtype='object')"
      ]
     },
     "execution_count": 9,
     "metadata": {},
     "output_type": "execute_result"
    }
   ],
   "source": [
    "# LIST column name \n",
    "\n",
    "data.columns"
   ]
  },
  {
   "cell_type": "code",
   "execution_count": 16,
   "id": "18ee08a4",
   "metadata": {
    "ExecuteTime": {
     "end_time": "2021-07-21T07:18:25.790350Z",
     "start_time": "2021-07-21T07:18:25.767396Z"
    },
    "scrolled": true
   },
   "outputs": [
    {
     "ename": "AttributeError",
     "evalue": "'DataFrame' object has no attribute 'rows'",
     "output_type": "error",
     "traceback": [
      "\u001b[1;31m---------------------------------------------------------------------------\u001b[0m",
      "\u001b[1;31mAttributeError\u001b[0m                            Traceback (most recent call last)",
      "\u001b[1;32m<ipython-input-16-d2333b5adec9>\u001b[0m in \u001b[0;36m<module>\u001b[1;34m\u001b[0m\n\u001b[0;32m      1\u001b[0m \u001b[1;31m# LIST Raws  name\u001b[0m\u001b[1;33m\u001b[0m\u001b[1;33m\u001b[0m\u001b[1;33m\u001b[0m\u001b[0m\n\u001b[0;32m      2\u001b[0m \u001b[1;33m\u001b[0m\u001b[0m\n\u001b[1;32m----> 3\u001b[1;33m \u001b[0mdata\u001b[0m\u001b[1;33m.\u001b[0m\u001b[0mrows\u001b[0m\u001b[1;33m\u001b[0m\u001b[1;33m\u001b[0m\u001b[0m\n\u001b[0m",
      "\u001b[1;32mc:\\users\\kumar\\appdata\\local\\programs\\python\\python39\\lib\\site-packages\\pandas\\core\\generic.py\u001b[0m in \u001b[0;36m__getattr__\u001b[1;34m(self, name)\u001b[0m\n\u001b[0;32m   5463\u001b[0m             \u001b[1;32mif\u001b[0m \u001b[0mself\u001b[0m\u001b[1;33m.\u001b[0m\u001b[0m_info_axis\u001b[0m\u001b[1;33m.\u001b[0m\u001b[0m_can_hold_identifiers_and_holds_name\u001b[0m\u001b[1;33m(\u001b[0m\u001b[0mname\u001b[0m\u001b[1;33m)\u001b[0m\u001b[1;33m:\u001b[0m\u001b[1;33m\u001b[0m\u001b[1;33m\u001b[0m\u001b[0m\n\u001b[0;32m   5464\u001b[0m                 \u001b[1;32mreturn\u001b[0m \u001b[0mself\u001b[0m\u001b[1;33m[\u001b[0m\u001b[0mname\u001b[0m\u001b[1;33m]\u001b[0m\u001b[1;33m\u001b[0m\u001b[1;33m\u001b[0m\u001b[0m\n\u001b[1;32m-> 5465\u001b[1;33m             \u001b[1;32mreturn\u001b[0m \u001b[0mobject\u001b[0m\u001b[1;33m.\u001b[0m\u001b[0m__getattribute__\u001b[0m\u001b[1;33m(\u001b[0m\u001b[0mself\u001b[0m\u001b[1;33m,\u001b[0m \u001b[0mname\u001b[0m\u001b[1;33m)\u001b[0m\u001b[1;33m\u001b[0m\u001b[1;33m\u001b[0m\u001b[0m\n\u001b[0m\u001b[0;32m   5466\u001b[0m \u001b[1;33m\u001b[0m\u001b[0m\n\u001b[0;32m   5467\u001b[0m     \u001b[1;32mdef\u001b[0m \u001b[0m__setattr__\u001b[0m\u001b[1;33m(\u001b[0m\u001b[0mself\u001b[0m\u001b[1;33m,\u001b[0m \u001b[0mname\u001b[0m\u001b[1;33m:\u001b[0m \u001b[0mstr\u001b[0m\u001b[1;33m,\u001b[0m \u001b[0mvalue\u001b[0m\u001b[1;33m)\u001b[0m \u001b[1;33m->\u001b[0m \u001b[1;32mNone\u001b[0m\u001b[1;33m:\u001b[0m\u001b[1;33m\u001b[0m\u001b[1;33m\u001b[0m\u001b[0m\n",
      "\u001b[1;31mAttributeError\u001b[0m: 'DataFrame' object has no attribute 'rows'"
     ]
    }
   ],
   "source": [
    "# LIST Raws  name \n",
    "\n",
    "data.rows"
   ]
  },
  {
   "cell_type": "code",
   "execution_count": null,
   "id": "1e095db2",
   "metadata": {},
   "outputs": [],
   "source": [
    "# LIST Raws  name \n",
    "with loc and oiloc"
   ]
  },
  {
   "cell_type": "code",
   "execution_count": 17,
   "id": "31993830",
   "metadata": {
    "ExecuteTime": {
     "end_time": "2021-07-21T07:20:28.766317Z",
     "start_time": "2021-07-21T07:20:28.751141Z"
    }
   },
   "outputs": [
    {
     "data": {
      "text/plain": [
       "Duration     45.0\n",
       "Pulse       109.0\n",
       "Maxpulse    175.0\n",
       "Calories    282.4\n",
       "Name: 3, dtype: float64"
      ]
     },
     "execution_count": 17,
     "metadata": {},
     "output_type": "execute_result"
    }
   ],
   "source": [
    "data.iloc[3]"
   ]
  },
  {
   "cell_type": "code",
   "execution_count": 20,
   "id": "ac1e6f18",
   "metadata": {
    "ExecuteTime": {
     "end_time": "2021-07-21T07:21:38.885830Z",
     "start_time": "2021-07-21T07:21:38.870657Z"
    }
   },
   "outputs": [
    {
     "data": {
      "text/plain": [
       "Duration     45.0\n",
       "Pulse       109.0\n",
       "Maxpulse    175.0\n",
       "Calories    282.4\n",
       "Name: 3, dtype: float64"
      ]
     },
     "execution_count": 20,
     "metadata": {},
     "output_type": "execute_result"
    }
   ],
   "source": [
    "data.loc[3]"
   ]
  },
  {
   "cell_type": "code",
   "execution_count": 25,
   "id": "1d97f8cd",
   "metadata": {
    "ExecuteTime": {
     "end_time": "2021-07-21T07:23:11.776425Z",
     "start_time": "2021-07-21T07:23:11.751465Z"
    }
   },
   "outputs": [
    {
     "data": {
      "text/plain": [
       "175.0"
      ]
     },
     "execution_count": 25,
     "metadata": {},
     "output_type": "execute_result"
    }
   ],
   "source": [
    "# getting details of particular column in this raw calles by loc or iloc \n",
    "\n",
    "data.loc[3][2]"
   ]
  },
  {
   "cell_type": "code",
   "execution_count": 26,
   "id": "2f071147",
   "metadata": {
    "ExecuteTime": {
     "end_time": "2021-07-21T07:25:56.658930Z",
     "start_time": "2021-07-21T07:25:56.627638Z"
    }
   },
   "outputs": [
    {
     "data": {
      "text/html": [
       "<div>\n",
       "<style scoped>\n",
       "    .dataframe tbody tr th:only-of-type {\n",
       "        vertical-align: middle;\n",
       "    }\n",
       "\n",
       "    .dataframe tbody tr th {\n",
       "        vertical-align: top;\n",
       "    }\n",
       "\n",
       "    .dataframe thead th {\n",
       "        text-align: right;\n",
       "    }\n",
       "</style>\n",
       "<table border=\"1\" class=\"dataframe\">\n",
       "  <thead>\n",
       "    <tr style=\"text-align: right;\">\n",
       "      <th></th>\n",
       "      <th>Duration</th>\n",
       "      <th>Pulse</th>\n",
       "      <th>Maxpulse</th>\n",
       "      <th>Calories</th>\n",
       "    </tr>\n",
       "  </thead>\n",
       "  <tbody>\n",
       "    <tr>\n",
       "      <th>2</th>\n",
       "      <td>60</td>\n",
       "      <td>103</td>\n",
       "      <td>135</td>\n",
       "      <td>340.0</td>\n",
       "    </tr>\n",
       "    <tr>\n",
       "      <th>4</th>\n",
       "      <td>45</td>\n",
       "      <td>117</td>\n",
       "      <td>148</td>\n",
       "      <td>406.0</td>\n",
       "    </tr>\n",
       "  </tbody>\n",
       "</table>\n",
       "</div>"
      ],
      "text/plain": [
       "   Duration  Pulse  Maxpulse  Calories\n",
       "2        60    103       135     340.0\n",
       "4        45    117       148     406.0"
      ]
     },
     "execution_count": 26,
     "metadata": {},
     "output_type": "execute_result"
    }
   ],
   "source": [
    "#getting details of more than 1, pass list\n",
    "\n"
   ]
  },
  {
   "cell_type": "code",
   "execution_count": 34,
   "id": "e88ca298",
   "metadata": {
    "ExecuteTime": {
     "end_time": "2021-07-21T07:30:39.746050Z",
     "start_time": "2021-07-21T07:30:39.715332Z"
    },
    "scrolled": true
   },
   "outputs": [
    {
     "data": {
      "text/plain": [
       "2    135\n",
       "4    148\n",
       "Name: Maxpulse, dtype: int64"
      ]
     },
     "execution_count": 34,
     "metadata": {},
     "output_type": "execute_result"
    }
   ],
   "source": [
    "# access column with column's index  in \"iloc\"\n",
    "\n",
    "data.iloc[[2,4],2]"
   ]
  },
  {
   "cell_type": "code",
   "execution_count": 35,
   "id": "0eff9b6d",
   "metadata": {
    "ExecuteTime": {
     "end_time": "2021-07-21T07:31:04.104522Z",
     "start_time": "2021-07-21T07:31:04.089381Z"
    }
   },
   "outputs": [
    {
     "data": {
      "text/plain": [
       "2    103\n",
       "4    117\n",
       "Name: Pulse, dtype: int64"
      ]
     },
     "execution_count": 35,
     "metadata": {},
     "output_type": "execute_result"
    }
   ],
   "source": [
    "# access column with column name in \"loc\"\n",
    "\n",
    "data.loc[[2,4],'Pulse']"
   ]
  },
  {
   "cell_type": "code",
   "execution_count": 36,
   "id": "6d42e6f8",
   "metadata": {
    "ExecuteTime": {
     "end_time": "2021-07-21T07:33:39.293584Z",
     "start_time": "2021-07-21T07:33:39.253550Z"
    },
    "scrolled": true
   },
   "outputs": [
    {
     "data": {
      "text/html": [
       "<div>\n",
       "<style scoped>\n",
       "    .dataframe tbody tr th:only-of-type {\n",
       "        vertical-align: middle;\n",
       "    }\n",
       "\n",
       "    .dataframe tbody tr th {\n",
       "        vertical-align: top;\n",
       "    }\n",
       "\n",
       "    .dataframe thead th {\n",
       "        text-align: right;\n",
       "    }\n",
       "</style>\n",
       "<table border=\"1\" class=\"dataframe\">\n",
       "  <thead>\n",
       "    <tr style=\"text-align: right;\">\n",
       "      <th></th>\n",
       "      <th>Pulse</th>\n",
       "      <th>Calories</th>\n",
       "    </tr>\n",
       "  </thead>\n",
       "  <tbody>\n",
       "    <tr>\n",
       "      <th>2</th>\n",
       "      <td>103</td>\n",
       "      <td>340.0</td>\n",
       "    </tr>\n",
       "    <tr>\n",
       "      <th>4</th>\n",
       "      <td>117</td>\n",
       "      <td>406.0</td>\n",
       "    </tr>\n",
       "  </tbody>\n",
       "</table>\n",
       "</div>"
      ],
      "text/plain": [
       "   Pulse  Calories\n",
       "2    103     340.0\n",
       "4    117     406.0"
      ]
     },
     "execution_count": 36,
     "metadata": {},
     "output_type": "execute_result"
    }
   ],
   "source": [
    "# access column with column name in \"loc\"\n",
    "\n",
    "data.loc[[2,4],['Pulse','Calories']]"
   ]
  },
  {
   "cell_type": "code",
   "execution_count": 38,
   "id": "873dd27b",
   "metadata": {
    "ExecuteTime": {
     "end_time": "2021-07-21T07:39:54.721452Z",
     "start_time": "2021-07-21T07:39:54.690211Z"
    }
   },
   "outputs": [
    {
     "data": {
      "text/plain": [
       "100    19\n",
       "90     12\n",
       "103     9\n",
       "109     9\n",
       "107     8\n",
       "108     7\n",
       "110     7\n",
       "97      7\n",
       "111     6\n",
       "106     6\n",
       "105     6\n",
       "102     6\n",
       "98      6\n",
       "104     4\n",
       "114     4\n",
       "115     3\n",
       "95      3\n",
       "118     3\n",
       "93      3\n",
       "92      3\n",
       "136     3\n",
       "117     3\n",
       "150     2\n",
       "123     2\n",
       "151     2\n",
       "80      2\n",
       "112     2\n",
       "101     2\n",
       "99      2\n",
       "152     1\n",
       "129     1\n",
       "149     1\n",
       "141     1\n",
       "137     1\n",
       "153     1\n",
       "130     1\n",
       "113     1\n",
       "125     1\n",
       "124     1\n",
       "122     1\n",
       "121     1\n",
       "120     1\n",
       "119     1\n",
       "116     1\n",
       "83      1\n",
       "85      1\n",
       "159     1\n",
       "Name: Pulse, dtype: int64"
      ]
     },
     "execution_count": 38,
     "metadata": {},
     "output_type": "execute_result"
    }
   ],
   "source": [
    "data['Pulse'].value_counts()"
   ]
  },
  {
   "cell_type": "code",
   "execution_count": null,
   "id": "43a252b7",
   "metadata": {},
   "outputs": [],
   "source": [
    "\n",
    "# Apply works with series function\n",
    "# data_frame\n",
    "\n",
    "# function can be len, user defined function.\n",
    "df['filter_column'].apply(function)\n"
   ]
  },
  {
   "cell_type": "code",
   "execution_count": null,
   "id": "7c0c605b",
   "metadata": {},
   "outputs": [],
   "source": [
    "Applymap module works on data_frames\n"
   ]
  }
 ],
 "metadata": {
  "kernelspec": {
   "display_name": "Python 3",
   "language": "python",
   "name": "python3"
  },
  "language_info": {
   "codemirror_mode": {
    "name": "ipython",
    "version": 3
   },
   "file_extension": ".py",
   "mimetype": "text/x-python",
   "name": "python",
   "nbconvert_exporter": "python",
   "pygments_lexer": "ipython3",
   "version": "3.9.5"
  }
 },
 "nbformat": 4,
 "nbformat_minor": 5
}

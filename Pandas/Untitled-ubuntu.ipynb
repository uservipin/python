{
 "cells": [
  {
   "cell_type": "code",
   "execution_count": 1,
   "id": "c34bbac7",
   "metadata": {
    "ExecuteTime": {
     "end_time": "2021-09-06T18:48:37.888181Z",
     "start_time": "2021-09-06T18:48:37.631886Z"
    },
    "scrolled": true
   },
   "outputs": [
    {
     "name": "stdout",
     "output_type": "stream",
     "text": [
      "float64\n"
     ]
    }
   ],
   "source": [
    "import numpy as np\n",
    "\n",
    "percentiles = [98, 76.37, 55.55, 69, 88]\n",
    "first_subject = np.array(percentiles)\n",
    "print(first_subject.dtype)"
   ]
  },
  {
   "cell_type": "code",
   "execution_count": 2,
   "id": "2d3c83c9",
   "metadata": {
    "ExecuteTime": {
     "end_time": "2021-09-06T18:49:54.241843Z",
     "start_time": "2021-09-06T18:49:54.231842Z"
    }
   },
   "outputs": [
    {
     "name": "stdout",
     "output_type": "stream",
     "text": [
      "2\n",
      "(2, 4)\n",
      "int32\n"
     ]
    }
   ],
   "source": [
    "import numpy as np\n",
    "series = [[23,45,12,679], [14,48,69,38]]\n",
    "new_series = np.array(series)\n",
    "print(new_series.ndim)\n",
    "print(new_series.shape)\n",
    "print(new_series.dtype)"
   ]
  },
  {
   "cell_type": "code",
   "execution_count": 4,
   "id": "4c390a39",
   "metadata": {
    "ExecuteTime": {
     "end_time": "2021-09-06T18:50:19.372717Z",
     "start_time": "2021-09-06T18:50:19.360547Z"
    },
    "run_control": {
     "marked": true
    }
   },
   "outputs": [],
   "source": [
    "import numpy as np\n",
    "import pandas as pd\n",
    "\n",
    "di = {'col_name_1' : np.random.rand(10),\n",
    "     'col_name_2' : np.random.rand(10)}\n",
    "df = pd.DataFrame(di)"
   ]
  },
  {
   "cell_type": "code",
   "execution_count": 5,
   "id": "04a71fa3",
   "metadata": {
    "ExecuteTime": {
     "end_time": "2021-09-06T18:50:59.959772Z",
     "start_time": "2021-09-06T18:50:59.950591Z"
    }
   },
   "outputs": [
    {
     "name": "stdout",
     "output_type": "stream",
     "text": [
      "[ True  True False  True False  True False]\n"
     ]
    }
   ],
   "source": [
    "from numpy import random \n",
    "dataset = np.array(['paul', 'jacob', 'vince', 'paul', 'miky', 'jacob', 'warren'])\n",
    "new_var = (dataset == 'paul') | (dataset == 'jacob')\n",
    "print(new_var)"
   ]
  }
 ],
 "metadata": {
  "kernelspec": {
   "display_name": "Python 3",
   "language": "python",
   "name": "python3"
  },
  "language_info": {
   "codemirror_mode": {
    "name": "ipython",
    "version": 3
   },
   "file_extension": ".py",
   "mimetype": "text/x-python",
   "name": "python",
   "nbconvert_exporter": "python",
   "pygments_lexer": "ipython3",
   "version": "3.8.8"
  }
 },
 "nbformat": 4,
 "nbformat_minor": 5
}

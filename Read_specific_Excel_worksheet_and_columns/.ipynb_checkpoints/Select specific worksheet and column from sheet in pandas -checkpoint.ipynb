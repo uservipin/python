{
 "cells": [
  {
   "cell_type": "markdown",
   "id": "79857a0b",
   "metadata": {},
   "source": [
    "1. Selected Columns\n",
    "\n",
    "df = pd.read_excel(file_location,sheet_name='Sheet1', usecols=\"A,C,F\")\n",
    "2. Range of Columns and selected column\n",
    "\n",
    "df = pd.read_excel(file_location,sheet_name='Sheet1', usecols=\"A:F,H\")\n",
    "3. Multiple Ranges\n",
    "\n",
    "df = pd.read_excel(file_location,sheet_name='Sheet1', usecols=\"A:F,H,J:N\")\n",
    "4. Range of columns\n",
    "\n",
    "df = pd.read_excel(file_location,sheet_name='Sheet1', usecols=\"A:N\")"
   ]
  },
  {
   "cell_type": "code",
   "execution_count": 1,
   "id": "eedc3801",
   "metadata": {
    "ExecuteTime": {
     "end_time": "2021-09-12T02:00:51.797712Z",
     "start_time": "2021-09-12T02:00:51.261439Z"
    }
   },
   "outputs": [],
   "source": [
    "import pandas as pd\n",
    "import numpy as np"
   ]
  },
  {
   "cell_type": "code",
   "execution_count": 13,
   "id": "d51eeeaa",
   "metadata": {
    "ExecuteTime": {
     "end_time": "2021-09-12T02:11:48.515664Z",
     "start_time": "2021-09-12T02:11:47.880986Z"
    }
   },
   "outputs": [
    {
     "name": "stdout",
     "output_type": "stream",
     "text": [
      "           Date\n",
      "0    1995-04-04\n",
      "1    1995-04-05\n",
      "2    1995-04-06\n",
      "3    1995-04-07\n",
      "4    1995-04-10\n",
      "...         ...\n",
      "6606 2021-06-30\n",
      "6607 2021-07-01\n",
      "6608 2021-07-02\n",
      "6609 2021-07-06\n",
      "6610 2021-07-07\n",
      "\n",
      "[6611 rows x 1 columns]\n"
     ]
    }
   ],
   "source": [
    "\n",
    "file_loc = \"Book1.xlsx\"\n",
    "df = pd.read_excel(file_loc, sheet_name= 'Sheet1', na_values=['NA'], usecols = \"A\")\n",
    "print(df)"
   ]
  },
  {
   "cell_type": "code",
   "execution_count": 3,
   "id": "8922b544",
   "metadata": {
    "ExecuteTime": {
     "end_time": "2021-09-12T02:02:51.798716Z",
     "start_time": "2021-09-12T02:02:51.165136Z"
    },
    "scrolled": false
   },
   "outputs": [
    {
     "name": "stdout",
     "output_type": "stream",
     "text": [
      "           Date         Low        Open\n",
      "0    1995-04-04    2.812500    2.937500\n",
      "1    1995-04-05    2.843750    2.906250\n",
      "2    1995-04-06    2.843750    2.843750\n",
      "3    1995-04-07    2.843750    2.906250\n",
      "4    1995-04-10    2.843750    2.843750\n",
      "...         ...         ...         ...\n",
      "6606 2021-06-30  113.620003  114.620003\n",
      "6607 2021-07-01  114.900002  114.900002\n",
      "6608 2021-07-02  115.050003  116.180000\n",
      "6609 2021-07-06  112.660004  116.040001\n",
      "6610 2021-07-07  114.629997  114.949997\n",
      "\n",
      "[6611 rows x 3 columns]\n"
     ]
    }
   ],
   "source": [
    "\n",
    "file_loc = \"Book1.xlsx\"\n",
    "df = pd.read_excel(file_loc, sheet_name= 'Sheet1', na_values=['NA'], usecols = \"A:C\")\n",
    "print(df)"
   ]
  },
  {
   "cell_type": "code",
   "execution_count": 12,
   "id": "2cf5be6a",
   "metadata": {
    "ExecuteTime": {
     "end_time": "2021-09-12T02:09:33.170740Z",
     "start_time": "2021-09-12T02:09:32.539484Z"
    }
   },
   "outputs": [
    {
     "data": {
      "text/html": [
       "<div>\n",
       "<style scoped>\n",
       "    .dataframe tbody tr th:only-of-type {\n",
       "        vertical-align: middle;\n",
       "    }\n",
       "\n",
       "    .dataframe tbody tr th {\n",
       "        vertical-align: top;\n",
       "    }\n",
       "\n",
       "    .dataframe thead th {\n",
       "        text-align: right;\n",
       "    }\n",
       "</style>\n",
       "<table border=\"1\" class=\"dataframe\">\n",
       "  <thead>\n",
       "    <tr style=\"text-align: right;\">\n",
       "      <th></th>\n",
       "      <th>Date</th>\n",
       "      <th>Low</th>\n",
       "      <th>Open</th>\n",
       "    </tr>\n",
       "  </thead>\n",
       "  <tbody>\n",
       "    <tr>\n",
       "      <th>0</th>\n",
       "      <td>1995-04-04</td>\n",
       "      <td>2.812500</td>\n",
       "      <td>2.937500</td>\n",
       "    </tr>\n",
       "    <tr>\n",
       "      <th>1</th>\n",
       "      <td>1995-04-05</td>\n",
       "      <td>2.843750</td>\n",
       "      <td>2.906250</td>\n",
       "    </tr>\n",
       "    <tr>\n",
       "      <th>2</th>\n",
       "      <td>1995-04-06</td>\n",
       "      <td>2.843750</td>\n",
       "      <td>2.843750</td>\n",
       "    </tr>\n",
       "    <tr>\n",
       "      <th>3</th>\n",
       "      <td>1995-04-07</td>\n",
       "      <td>2.843750</td>\n",
       "      <td>2.906250</td>\n",
       "    </tr>\n",
       "    <tr>\n",
       "      <th>4</th>\n",
       "      <td>1995-04-10</td>\n",
       "      <td>2.843750</td>\n",
       "      <td>2.843750</td>\n",
       "    </tr>\n",
       "    <tr>\n",
       "      <th>...</th>\n",
       "      <td>...</td>\n",
       "      <td>...</td>\n",
       "      <td>...</td>\n",
       "    </tr>\n",
       "    <tr>\n",
       "      <th>6606</th>\n",
       "      <td>2021-06-30</td>\n",
       "      <td>113.620003</td>\n",
       "      <td>114.620003</td>\n",
       "    </tr>\n",
       "    <tr>\n",
       "      <th>6607</th>\n",
       "      <td>2021-07-01</td>\n",
       "      <td>114.900002</td>\n",
       "      <td>114.900002</td>\n",
       "    </tr>\n",
       "    <tr>\n",
       "      <th>6608</th>\n",
       "      <td>2021-07-02</td>\n",
       "      <td>115.050003</td>\n",
       "      <td>116.180000</td>\n",
       "    </tr>\n",
       "    <tr>\n",
       "      <th>6609</th>\n",
       "      <td>2021-07-06</td>\n",
       "      <td>112.660004</td>\n",
       "      <td>116.040001</td>\n",
       "    </tr>\n",
       "    <tr>\n",
       "      <th>6610</th>\n",
       "      <td>2021-07-07</td>\n",
       "      <td>114.629997</td>\n",
       "      <td>114.949997</td>\n",
       "    </tr>\n",
       "  </tbody>\n",
       "</table>\n",
       "<p>6611 rows × 3 columns</p>\n",
       "</div>"
      ],
      "text/plain": [
       "           Date         Low        Open\n",
       "0    1995-04-04    2.812500    2.937500\n",
       "1    1995-04-05    2.843750    2.906250\n",
       "2    1995-04-06    2.843750    2.843750\n",
       "3    1995-04-07    2.843750    2.906250\n",
       "4    1995-04-10    2.843750    2.843750\n",
       "...         ...         ...         ...\n",
       "6606 2021-06-30  113.620003  114.620003\n",
       "6607 2021-07-01  114.900002  114.900002\n",
       "6608 2021-07-02  115.050003  116.180000\n",
       "6609 2021-07-06  112.660004  116.040001\n",
       "6610 2021-07-07  114.629997  114.949997\n",
       "\n",
       "[6611 rows x 3 columns]"
      ]
     },
     "execution_count": 12,
     "metadata": {},
     "output_type": "execute_result"
    }
   ],
   "source": [
    "df_1 = pd.read_excel(file_loc, sheet_name= 'Sheet1',index_col='Low')\n",
    "df"
   ]
  }
 ],
 "metadata": {
  "kernelspec": {
   "display_name": "Python 3",
   "language": "python",
   "name": "python3"
  },
  "language_info": {
   "codemirror_mode": {
    "name": "ipython",
    "version": 3
   },
   "file_extension": ".py",
   "mimetype": "text/x-python",
   "name": "python",
   "nbconvert_exporter": "python",
   "pygments_lexer": "ipython3",
   "version": "3.8.8"
  }
 },
 "nbformat": 4,
 "nbformat_minor": 5
}

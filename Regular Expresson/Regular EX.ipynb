{
 "cells": [
  {
   "cell_type": "code",
   "execution_count": 30,
   "id": "569c1197",
   "metadata": {
    "ExecuteTime": {
     "end_time": "2021-08-17T21:52:11.169378Z",
     "start_time": "2021-08-17T21:52:11.150231Z"
    }
   },
   "outputs": [
    {
     "name": "stdout",
     "output_type": "stream",
     "text": [
      "['a', 'a']\n",
      "<re.Match object; span=(0, 1), match='a'>\n",
      "<re.Match object; span=(8, 9), match='a'>\n"
     ]
    }
   ],
   "source": [
    "import re\n",
    "\n",
    "pattern= ''\n",
    "string= 'a hello a '\n",
    "\n",
    "res2 =re.finditer(pattern,string)\n",
    "\n",
    "for i in res2:\n",
    "    print(i)"
   ]
  },
  {
   "cell_type": "code",
   "execution_count": 31,
   "id": "e91a3c02",
   "metadata": {
    "ExecuteTime": {
     "end_time": "2021-08-17T21:53:14.933135Z",
     "start_time": "2021-08-17T21:53:14.924133Z"
    }
   },
   "outputs": [
    {
     "name": "stdout",
     "output_type": "stream",
     "text": [
      "None\n"
     ]
    }
   ],
   "source": [
    "import re\n",
    "\n",
    "pattern= 'a'\n",
    "string= 'hello a '\n",
    "\n",
    "res= re.match(pattern,string)\n",
    "# return first match\n",
    "\n",
    "\n",
    "print(res)"
   ]
  },
  {
   "cell_type": "code",
   "execution_count": 32,
   "id": "5474191d",
   "metadata": {
    "ExecuteTime": {
     "end_time": "2021-08-17T21:53:53.409786Z",
     "start_time": "2021-08-17T21:53:53.402593Z"
    }
   },
   "outputs": [
    {
     "name": "stdout",
     "output_type": "stream",
     "text": [
      "['a', 'a']\n"
     ]
    }
   ],
   "source": [
    "import re\n",
    "\n",
    "pattern= 'a'\n",
    "string= 'a hello a '\n",
    "\n",
    "res1= re.findall(pattern,string)\n",
    "#return a list of all matches\n",
    "print(res1)"
   ]
  },
  {
   "cell_type": "code",
   "execution_count": 62,
   "id": "00a79634",
   "metadata": {
    "ExecuteTime": {
     "end_time": "2021-08-17T21:58:31.633019Z",
     "start_time": "2021-08-17T21:58:31.619017Z"
    }
   },
   "outputs": [
    {
     "name": "stdout",
     "output_type": "stream",
     "text": [
      "None\n"
     ]
    }
   ],
   "source": [
    "import re\n",
    "\n",
    "pattern= 'abc'\n",
    "string= 'xcddsfdabc'\n",
    "\n",
    "res2 =re.fullmatch(pattern,string)\n",
    "# return full match at first position\n",
    "\n",
    "print(res2)\n"
   ]
  },
  {
   "cell_type": "code",
   "execution_count": 63,
   "id": "2053223b",
   "metadata": {
    "ExecuteTime": {
     "end_time": "2021-08-17T21:58:33.509494Z",
     "start_time": "2021-08-17T21:58:33.500495Z"
    }
   },
   "outputs": [
    {
     "name": "stdout",
     "output_type": "stream",
     "text": [
      "None\n"
     ]
    }
   ],
   "source": [
    "import re\n",
    "\n",
    "pattern= 'abc'\n",
    "string= 'xcd dsf dabc'\n",
    "\n",
    "res2 =re.fullmatch(pattern,string)\n",
    "# return full match at first position\n",
    "print(res2)"
   ]
  }
 ],
 "metadata": {
  "kernelspec": {
   "display_name": "Python 3",
   "language": "python",
   "name": "python3"
  },
  "language_info": {
   "codemirror_mode": {
    "name": "ipython",
    "version": 3
   },
   "file_extension": ".py",
   "mimetype": "text/x-python",
   "name": "python",
   "nbconvert_exporter": "python",
   "pygments_lexer": "ipython3",
   "version": "3.9.5"
  }
 },
 "nbformat": 4,
 "nbformat_minor": 5
}

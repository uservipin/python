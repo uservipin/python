{
 "cells": [
  {
   "cell_type": "code",
   "execution_count": 3,
   "id": "b29d03c4",
   "metadata": {
    "ExecuteTime": {
     "end_time": "2021-07-24T06:09:03.546833Z",
     "start_time": "2021-07-24T06:09:03.530771Z"
    }
   },
   "outputs": [
    {
     "name": "stdout",
     "output_type": "stream",
     "text": [
      "{1, 2, 3}\n"
     ]
    }
   ],
   "source": [
    "#  How we can convert the given list into the set ?\n",
    "\n",
    "\n",
    "list = [1,2,3]\n",
    "print(set(list))"
   ]
  },
  {
   "cell_type": "code",
   "execution_count": 12,
   "id": "63fa162d",
   "metadata": {
    "ExecuteTime": {
     "end_time": "2021-07-24T06:12:06.427510Z",
     "start_time": "2021-07-24T06:12:06.389381Z"
    },
    "scrolled": true
   },
   "outputs": [
    {
     "ename": "IndexError",
     "evalue": "list index out of range",
     "output_type": "error",
     "traceback": [
      "\u001b[1;31m---------------------------------------------------------------------------\u001b[0m",
      "\u001b[1;31mIndexError\u001b[0m                                Traceback (most recent call last)",
      "\u001b[1;32m<ipython-input-12-a1e91457bb83>\u001b[0m in \u001b[0;36m<module>\u001b[1;34m\u001b[0m\n\u001b[0;32m      4\u001b[0m \u001b[0mlistA\u001b[0m\u001b[1;33m=\u001b[0m \u001b[1;33m[\u001b[0m\u001b[1;36m1\u001b[0m\u001b[1;33m,\u001b[0m\u001b[1;36m2\u001b[0m\u001b[1;33m,\u001b[0m\u001b[1;36m3\u001b[0m\u001b[1;33m,\u001b[0m\u001b[1;36m5\u001b[0m\u001b[1;33m]\u001b[0m\u001b[1;33m\u001b[0m\u001b[1;33m\u001b[0m\u001b[0m\n\u001b[0;32m      5\u001b[0m \u001b[1;33m\u001b[0m\u001b[0m\n\u001b[1;32m----> 6\u001b[1;33m \u001b[0mprint\u001b[0m\u001b[1;33m(\u001b[0m\u001b[0mlistA\u001b[0m\u001b[1;33m[\u001b[0m\u001b[1;36m5\u001b[0m\u001b[1;33m]\u001b[0m\u001b[1;33m)\u001b[0m\u001b[1;33m\u001b[0m\u001b[1;33m\u001b[0m\u001b[0m\n\u001b[0m",
      "\u001b[1;31mIndexError\u001b[0m: list index out of range"
     ]
    }
   ],
   "source": [
    " # If we try to access the item outside the list index, then what type of error it may give ?\n",
    "    \n",
    "    \n",
    "listA= [1,2,3,5]\n",
    "    \n",
    "print(listA[5])"
   ]
  },
  {
   "cell_type": "code",
   "execution_count": null,
   "id": "41e94d96",
   "metadata": {},
   "outputs": [],
   "source": [
    "# In which data type, indexing is not valid ?\n",
    "\n",
    "Dictionery\n",
    "\n"
   ]
  },
  {
   "cell_type": "code",
   "execution_count": null,
   "id": "f8cbe2c1",
   "metadata": {},
   "outputs": [],
   "source": [
    "In which of the following data type, duplicate items are not allowed ?\n",
    "\n",
    "--> set"
   ]
  },
  {
   "cell_type": "code",
   "execution_count": 14,
   "id": "6153270a",
   "metadata": {
    "ExecuteTime": {
     "end_time": "2021-07-24T06:16:23.053753Z",
     "start_time": "2021-07-24T06:16:23.038367Z"
    }
   },
   "outputs": [
    {
     "name": "stdout",
     "output_type": "stream",
     "text": [
      "4\n"
     ]
    }
   ],
   "source": [
    "l=[1,2,3,4]\n",
    "\n",
    "print(l[3])\n",
    "\n",
    "\n"
   ]
  },
  {
   "cell_type": "code",
   "execution_count": 15,
   "id": "f285bbae",
   "metadata": {
    "ExecuteTime": {
     "end_time": "2021-07-24T06:16:32.567584Z",
     "start_time": "2021-07-24T06:16:32.552498Z"
    }
   },
   "outputs": [
    {
     "name": "stdout",
     "output_type": "stream",
     "text": [
      "3\n"
     ]
    }
   ],
   "source": [
    " l=[1,2,3,4]\n",
    "\n",
    "print(l[-2])"
   ]
  },
  {
   "cell_type": "code",
   "execution_count": null,
   "id": "1ec7052c",
   "metadata": {},
   "outputs": [],
   "source": [
    "What is list data type in Python ?\n",
    "\n",
    "colletion of different data types"
   ]
  },
  {
   "cell_type": "code",
   "execution_count": 26,
   "id": "f5acb2a4",
   "metadata": {
    "ExecuteTime": {
     "end_time": "2021-07-24T06:22:37.066590Z",
     "start_time": "2021-07-24T06:22:37.050480Z"
    }
   },
   "outputs": [
    {
     "ename": "ValueError",
     "evalue": "invalid literal for int() with base 10: 'a,b,c, d'",
     "output_type": "error",
     "traceback": [
      "\u001b[1;31m---------------------------------------------------------------------------\u001b[0m",
      "\u001b[1;31mValueError\u001b[0m                                Traceback (most recent call last)",
      "\u001b[1;32m<ipython-input-26-946327dee332>\u001b[0m in \u001b[0;36m<module>\u001b[1;34m\u001b[0m\n\u001b[0;32m      9\u001b[0m \u001b[0mstrA\u001b[0m\u001b[1;33m.\u001b[0m\u001b[0msplit\u001b[0m\u001b[1;33m(\u001b[0m\u001b[0msep\u001b[0m\u001b[1;33m=\u001b[0m\u001b[1;32mNone\u001b[0m\u001b[1;33m,\u001b[0m \u001b[0mmaxsplit\u001b[0m\u001b[1;33m=\u001b[0m\u001b[1;33m-\u001b[0m\u001b[1;36m1\u001b[0m\u001b[1;33m)\u001b[0m\u001b[1;33m\u001b[0m\u001b[1;33m\u001b[0m\u001b[0m\n\u001b[0;32m     10\u001b[0m \u001b[1;33m\u001b[0m\u001b[0m\n\u001b[1;32m---> 11\u001b[1;33m \u001b[1;32mfor\u001b[0m \u001b[0mi\u001b[0m \u001b[1;32min\u001b[0m \u001b[0mint\u001b[0m\u001b[1;33m(\u001b[0m\u001b[0mstrA\u001b[0m\u001b[1;33m)\u001b[0m\u001b[1;33m:\u001b[0m\u001b[1;33m\u001b[0m\u001b[1;33m\u001b[0m\u001b[0m\n\u001b[0m\u001b[0;32m     12\u001b[0m     \u001b[0mprint\u001b[0m\u001b[1;33m(\u001b[0m\u001b[0mstrA\u001b[0m\u001b[1;33m[\u001b[0m\u001b[0mi\u001b[0m\u001b[1;33m]\u001b[0m\u001b[1;33m)\u001b[0m\u001b[1;33m\u001b[0m\u001b[1;33m\u001b[0m\u001b[0m\n",
      "\u001b[1;31mValueError\u001b[0m: invalid literal for int() with base 10: 'a,b,c, d'"
     ]
    }
   ],
   "source": [
    "# which of the following function are used to convert the string into the list ?\n",
    "\n",
    "listA = []\n",
    "strA ='a,b,c, d'\n",
    "\n",
    "strA.split()\n",
    "\n",
    "# print(map(list, strA))\n",
    "strA.split(sep=None, maxsplit=-1)\n",
    "\n",
    "for i in int(strA):\n",
    "    print(strA[i])"
   ]
  },
  {
   "cell_type": "code",
   "execution_count": null,
   "id": "cc948089",
   "metadata": {},
   "outputs": [],
   "source": [
    "Which of the following is not the data type in python ?\n",
    "\n",
    "class"
   ]
  },
  {
   "cell_type": "code",
   "execution_count": 28,
   "id": "729d46d1",
   "metadata": {
    "ExecuteTime": {
     "end_time": "2021-07-24T06:25:25.298694Z",
     "start_time": "2021-07-24T06:25:25.283153Z"
    }
   },
   "outputs": [
    {
     "ename": "SyntaxError",
     "evalue": "invalid syntax (<ipython-input-28-002ae0e364c8>, line 1)",
     "output_type": "error",
     "traceback": [
      "\u001b[1;36m  File \u001b[1;32m\"<ipython-input-28-002ae0e364c8>\"\u001b[1;36m, line \u001b[1;32m1\u001b[0m\n\u001b[1;33m    x=3.123, then int(x) will give\u001b[0m\n\u001b[1;37m                  ^\u001b[0m\n\u001b[1;31mSyntaxError\u001b[0m\u001b[1;31m:\u001b[0m invalid syntax\n"
     ]
    }
   ],
   "source": [
    "x=3.123, then int(x) will give"
   ]
  },
  {
   "cell_type": "code",
   "execution_count": 29,
   "id": "083b817d",
   "metadata": {
    "ExecuteTime": {
     "end_time": "2021-07-24T06:25:41.297524Z",
     "start_time": "2021-07-24T06:25:41.281416Z"
    }
   },
   "outputs": [
    {
     "name": "stdout",
     "output_type": "stream",
     "text": [
      "3\n"
     ]
    }
   ],
   "source": [
    "x = 3.12\n",
    "\n",
    "print(int(x))"
   ]
  }
 ],
 "metadata": {
  "kernelspec": {
   "display_name": "Python 3",
   "language": "python",
   "name": "python3"
  },
  "language_info": {
   "codemirror_mode": {
    "name": "ipython",
    "version": 3
   },
   "file_extension": ".py",
   "mimetype": "text/x-python",
   "name": "python",
   "nbconvert_exporter": "python",
   "pygments_lexer": "ipython3",
   "version": "3.9.5"
  }
 },
 "nbformat": 4,
 "nbformat_minor": 5
}

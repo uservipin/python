{
 "cells": [
  {
   "cell_type": "code",
   "execution_count": 3,
   "id": "9bc2bc8d",
   "metadata": {
    "ExecuteTime": {
     "end_time": "2021-07-25T10:15:16.048007Z",
     "start_time": "2021-07-25T10:15:16.024763Z"
    }
   },
   "outputs": [
    {
     "name": "stdout",
     "output_type": "stream",
     "text": [
      "b\n",
      "c\n",
      "d\n",
      "f\n",
      "g\n",
      "h\n",
      "/\n",
      "$\n",
      "%\n",
      "^\n"
     ]
    }
   ],
   "source": [
    "my_string= 'abcdefghi/$%^'\n",
    "\n",
    "k = [print(i) for i in my_string if i not in \"aeiou\"]\n",
    "\n"
   ]
  },
  {
   "cell_type": "code",
   "execution_count": 4,
   "id": "58fe4a03",
   "metadata": {
    "ExecuteTime": {
     "end_time": "2021-07-25T10:15:53.747468Z",
     "start_time": "2021-07-25T10:15:53.723826Z"
    }
   },
   "outputs": [
    {
     "name": "stdout",
     "output_type": "stream",
     "text": [
      "b\n",
      "c\n",
      "d\n",
      "f\n",
      "g\n",
      "h\n",
      "/\n",
      "$\n",
      "%\n",
      "^\n",
      "[None, None, None, None, None, None, None, None, None, None]\n"
     ]
    }
   ],
   "source": [
    "k = [print(i) for i in my_string if i not in \"aeiou\"]\n",
    "print(k)\n",
    "\n"
   ]
  },
  {
   "cell_type": "code",
   "execution_count": 5,
   "id": "a4c3281e",
   "metadata": {
    "ExecuteTime": {
     "end_time": "2021-07-25T10:16:54.431305Z",
     "start_time": "2021-07-25T10:16:54.415302Z"
    }
   },
   "outputs": [
    {
     "name": "stdout",
     "output_type": "stream",
     "text": [
      "[('H', 1), ('E', 1), ('L', 1), ('L', 1), ('O', 1), (' ', 1), ('W', 1), ('O', 1), ('R', 1), ('L', 1), ('D', 1)]\n"
     ]
    }
   ],
   "source": [
    "my_string = \"hello world\"\n",
    "k = [(i.upper(), len(i)) for i in my_string]\n",
    "print(k)"
   ]
  },
  {
   "cell_type": "code",
   "execution_count": 7,
   "id": "d6074b3f",
   "metadata": {
    "ExecuteTime": {
     "end_time": "2021-07-25T10:18:23.111209Z",
     "start_time": "2021-07-25T10:18:23.087360Z"
    }
   },
   "outputs": [
    {
     "name": "stdout",
     "output_type": "stream",
     "text": [
      "[0, 1, 2]\n"
     ]
    }
   ],
   "source": [
    "x = [i**+1 for i in range(3)];\n",
    "print(x);"
   ]
  },
  {
   "cell_type": "code",
   "execution_count": 8,
   "id": "a1239ab5",
   "metadata": {
    "ExecuteTime": {
     "end_time": "2021-07-25T10:21:28.881804Z",
     "start_time": "2021-07-25T10:21:28.850789Z"
    }
   },
   "outputs": [
    {
     "name": "stdout",
     "output_type": "stream",
     "text": [
      "['h', 'e', 'l', 'l', 'o']\n"
     ]
    }
   ],
   "source": [
    "print([i.lower() for i in \"HELLO\"])\n",
    "\n"
   ]
  },
  {
   "cell_type": "code",
   "execution_count": 9,
   "id": "d1257af8",
   "metadata": {
    "ExecuteTime": {
     "end_time": "2021-07-25T10:22:14.815483Z",
     "start_time": "2021-07-25T10:22:14.783540Z"
    }
   },
   "outputs": [
    {
     "data": {
      "text/plain": [
       "[4, 5, 6, 8, 10, 12, 12, 15, 18]"
      ]
     },
     "execution_count": 9,
     "metadata": {},
     "output_type": "execute_result"
    }
   ],
   "source": [
    "l1=[1,2,3]\n",
    "l2=[4,5,6]\n",
    "[x*y for x in l1 for y in l2]"
   ]
  },
  {
   "cell_type": "code",
   "execution_count": 10,
   "id": "ebb724cd",
   "metadata": {
    "ExecuteTime": {
     "end_time": "2021-07-25T10:38:06.111376Z",
     "start_time": "2021-07-25T10:38:06.087640Z"
    },
    "scrolled": false
   },
   "outputs": [
    {
     "ename": "SyntaxError",
     "evalue": "invalid syntax (<ipython-input-10-082933a8dc76>, line 1)",
     "output_type": "error",
     "traceback": [
      "\u001b[1;36m  File \u001b[1;32m\"<ipython-input-10-082933a8dc76>\"\u001b[1;36m, line \u001b[1;32m1\u001b[0m\n\u001b[1;33m    Write the list comprehension to pick out only negative integers from a given list ‘l’.\u001b[0m\n\u001b[1;37m          ^\u001b[0m\n\u001b[1;31mSyntaxError\u001b[0m\u001b[1;31m:\u001b[0m invalid syntax\n"
     ]
    }
   ],
   "source": [
    "# Write the list comprehension to pick out only negative integers from a given list ‘l’.\n",
    "\n",
    "\n",
    "Option Checked Icon[x for x in l if x<0]"
   ]
  },
  {
   "cell_type": "code",
   "execution_count": 11,
   "id": "b2e7f187",
   "metadata": {
    "ExecuteTime": {
     "end_time": "2021-07-25T10:38:50.097797Z",
     "start_time": "2021-07-25T10:38:50.081726Z"
    }
   },
   "outputs": [
    {
     "data": {
      "text/plain": [
       "[('PUNE', 4), ('MUMBAI', 6), ('DELHI', 5)]"
      ]
     },
     "execution_count": 11,
     "metadata": {},
     "output_type": "execute_result"
    }
   ],
   "source": [
    "s=[\"pune\", \"mumbai\", \"delhi\"]\n",
    "[(w.upper(), len(w)) for w in s]"
   ]
  },
  {
   "cell_type": "code",
   "execution_count": 19,
   "id": "15e415e5",
   "metadata": {
    "ExecuteTime": {
     "end_time": "2021-07-25T10:40:55.989853Z",
     "start_time": "2021-07-25T10:40:55.966407Z"
    }
   },
   "outputs": [
    {
     "data": {
      "text/plain": [
       "[1.0, 0.5, 0.3333333333333333]"
      ]
     },
     "execution_count": 19,
     "metadata": {},
     "output_type": "execute_result"
    }
   ],
   "source": [
    "# Which of the following is the same as list(map(lambda x: x**-1, [1, 2, 3]))?\n",
    "\n",
    "list(map(lambda x: x**-1, [1, 2, 3]))\n",
    "\n",
    "\n",
    "#[x**-1 for x in [(1, 2, 3)]]\n",
    "#[1/x for x in [(1, 2, 3)]]\n",
    "[1/x for x in (1, 2, 3)]\n"
   ]
  },
  {
   "cell_type": "code",
   "execution_count": 20,
   "id": "71ff2c15",
   "metadata": {
    "ExecuteTime": {
     "end_time": "2021-07-25T10:41:37.017844Z",
     "start_time": "2021-07-25T10:41:37.003153Z"
    }
   },
   "outputs": [
    {
     "ename": "SyntaxError",
     "evalue": "invalid syntax (<ipython-input-20-fe124f33b1b1>, line 1)",
     "output_type": "error",
     "traceback": [
      "\u001b[1;36m  File \u001b[1;32m\"<ipython-input-20-fe124f33b1b1>\"\u001b[1;36m, line \u001b[1;32m1\u001b[0m\n\u001b[1;33m    print([if i%2==0: i; else: i+1; for i in range(4)])\u001b[0m\n\u001b[1;37m           ^\u001b[0m\n\u001b[1;31mSyntaxError\u001b[0m\u001b[1;31m:\u001b[0m invalid syntax\n"
     ]
    }
   ],
   "source": [
    "print([if i%2==0: i; else: i+1; for i in range(4)])\n",
    "\n"
   ]
  }
 ],
 "metadata": {
  "kernelspec": {
   "display_name": "Python 3",
   "language": "python",
   "name": "python3"
  },
  "language_info": {
   "codemirror_mode": {
    "name": "ipython",
    "version": 3
   },
   "file_extension": ".py",
   "mimetype": "text/x-python",
   "name": "python",
   "nbconvert_exporter": "python",
   "pygments_lexer": "ipython3",
   "version": "3.9.5"
  }
 },
 "nbformat": 4,
 "nbformat_minor": 5
}

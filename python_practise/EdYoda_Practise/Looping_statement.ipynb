{
 "cells": [
  {
   "cell_type": "code",
   "execution_count": 14,
   "id": "3fa711d1",
   "metadata": {
    "ExecuteTime": {
     "end_time": "2021-07-24T06:33:32.205731Z",
     "start_time": "2021-07-24T06:33:32.190568Z"
    },
    "scrolled": true
   },
   "outputs": [
    {
     "name": "stdout",
     "output_type": "stream",
     "text": [
      "J\n",
      "h\n",
      "o\n",
      "n\n"
     ]
    }
   ],
   "source": [
    "for l in 'Jhon':\n",
    "    if l =='o':\n",
    "        pass\n",
    "    print(l)"
   ]
  },
  {
   "cell_type": "code",
   "execution_count": 21,
   "id": "d35b8b8c",
   "metadata": {
    "ExecuteTime": {
     "end_time": "2021-07-24T06:41:49.764512Z",
     "start_time": "2021-07-24T06:41:49.749099Z"
    }
   },
   "outputs": [
    {
     "name": "stdout",
     "output_type": "stream",
     "text": [
      "1 2 3 4 5 6 7 8 9 10 11 12 13 14 15 16 17 18 19 20 21 22 23 24 25 26 27 28 29 30 31 32 33 34 35 36 37 38 39 40 41 42 43 44 45 46 47 48 49 50 51 52 53 54 55 56 57 58 59 60 61 62 63 64 65 66 67 68 69 70 71 72 73 74 75 76 77 78 79 80 81 82 83 84 85 86 87 88 89 90 "
     ]
    }
   ],
   "source": [
    "x =0 \n",
    "for i in range(10):\n",
    "    for j in range(-1,-10,-1):\n",
    "        x +=1\n",
    "        print(x,end= ' ')"
   ]
  },
  {
   "cell_type": "code",
   "execution_count": 19,
   "id": "f3143f3f",
   "metadata": {
    "ExecuteTime": {
     "end_time": "2021-07-24T06:40:12.012486Z",
     "start_time": "2021-07-24T06:40:11.783012Z"
    },
    "scrolled": false
   },
   "outputs": [
    {
     "name": "stdout",
     "output_type": "stream",
     "text": [
      "10\n"
     ]
    },
    {
     "ename": "NameError",
     "evalue": "name 'braek' is not defined",
     "output_type": "error",
     "traceback": [
      "\u001b[1;31m---------------------------------------------------------------------------\u001b[0m",
      "\u001b[1;31mNameError\u001b[0m                                 Traceback (most recent call last)",
      "\u001b[1;32m<ipython-input-19-4c109327e8ae>\u001b[0m in \u001b[0;36m<module>\u001b[1;34m\u001b[0m\n\u001b[0;32m      3\u001b[0m         \u001b[1;32mif\u001b[0m \u001b[0mnum\u001b[0m\u001b[1;33m%\u001b[0m\u001b[0mi\u001b[0m \u001b[1;33m==\u001b[0m\u001b[1;36m1\u001b[0m\u001b[1;33m:\u001b[0m\u001b[1;33m\u001b[0m\u001b[1;33m\u001b[0m\u001b[0m\n\u001b[0;32m      4\u001b[0m             \u001b[0mprint\u001b[0m\u001b[1;33m(\u001b[0m\u001b[0mnum\u001b[0m\u001b[1;33m)\u001b[0m\u001b[1;33m\u001b[0m\u001b[1;33m\u001b[0m\u001b[0m\n\u001b[1;32m----> 5\u001b[1;33m             \u001b[0mbraek\u001b[0m\u001b[1;33m\u001b[0m\u001b[1;33m\u001b[0m\u001b[0m\n\u001b[0m\u001b[0;32m      6\u001b[0m \u001b[1;33m\u001b[0m\u001b[0m\n\u001b[0;32m      7\u001b[0m \u001b[1;33m\u001b[0m\u001b[0m\n",
      "\u001b[1;31mNameError\u001b[0m: name 'braek' is not defined"
     ]
    }
   ],
   "source": [
    "for num in range(10,14):\n",
    "    for i in range(2,num):\n",
    "        if num%i ==1:\n",
    "            print(num)\n",
    "            braek\n",
    "    \n",
    "        "
   ]
  },
  {
   "cell_type": "code",
   "execution_count": 22,
   "id": "df6c0cc7",
   "metadata": {
    "ExecuteTime": {
     "end_time": "2021-07-24T06:42:46.471236Z",
     "start_time": "2021-07-24T06:42:46.455368Z"
    }
   },
   "outputs": [
    {
     "name": "stdout",
     "output_type": "stream",
     "text": [
      "-2,-3,-4,"
     ]
    }
   ],
   "source": [
    "for j in range(-2,-5,-1):\n",
    "    print(j,end= ',')\n"
   ]
  },
  {
   "cell_type": "code",
   "execution_count": null,
   "id": "d1c43fd5",
   "metadata": {},
   "outputs": [],
   "source": []
  },
  {
   "cell_type": "code",
   "execution_count": 24,
   "id": "11de223b",
   "metadata": {
    "ExecuteTime": {
     "end_time": "2021-07-24T06:44:30.865573Z",
     "start_time": "2021-07-24T06:44:30.849743Z"
    }
   },
   "outputs": [
    {
     "name": "stdout",
     "output_type": "stream",
     "text": [
      "2 4 6 8 10 12 14 16 18 20 22 24 26 28 30 32 34 36 38 40 42 44 46 48 50 52 54 56 58 60 62 64 66 68 70 72 74 76 78 80 82 84 86 88 90 92 94 96 98 100 100\n"
     ]
    }
   ],
   "source": [
    "x=0 \n",
    "while (x <100):\n",
    "    x+=2\n",
    "    print(x , end= ' ')\n",
    "print(x)"
   ]
  },
  {
   "cell_type": "code",
   "execution_count": null,
   "id": "a20191f8",
   "metadata": {},
   "outputs": [],
   "source": []
  },
  {
   "cell_type": "code",
   "execution_count": 31,
   "id": "3eee06c6",
   "metadata": {
    "ExecuteTime": {
     "end_time": "2021-07-24T07:00:35.906394Z",
     "start_time": "2021-07-24T07:00:35.894854Z"
    },
    "scrolled": true
   },
   "outputs": [
    {
     "name": "stdout",
     "output_type": "stream",
     "text": [
      "21\n"
     ]
    }
   ],
   "source": [
    "var =10\n",
    "for i in range (10):\n",
    "    for j in range (2,10,1):\n",
    "        if var % 2 ==0:\n",
    "            continue \n",
    "            var +=1\n",
    "    var+=1 \n",
    "    \n",
    "else:\n",
    "    var+=1\n",
    "    \n",
    "print( var)"
   ]
  },
  {
   "cell_type": "code",
   "execution_count": 32,
   "id": "a4494dfe",
   "metadata": {
    "ExecuteTime": {
     "end_time": "2021-07-24T07:02:16.547161Z",
     "start_time": "2021-07-24T07:02:16.526643Z"
    }
   },
   "outputs": [
    {
     "name": "stdout",
     "output_type": "stream",
     "text": [
      "10 chair\n",
      "10 table\n",
      "20 chair\n",
      "20 table\n"
     ]
    }
   ],
   "source": [
    "numbers=[ 10,20]\n",
    "items = ['chair', 'table']\n",
    "\n",
    "for x in numbers:\n",
    "    for y in items:\n",
    "        print(x,y)"
   ]
  }
 ],
 "metadata": {
  "kernelspec": {
   "display_name": "Python 3",
   "language": "python",
   "name": "python3"
  },
  "language_info": {
   "codemirror_mode": {
    "name": "ipython",
    "version": 3
   },
   "file_extension": ".py",
   "mimetype": "text/x-python",
   "name": "python",
   "nbconvert_exporter": "python",
   "pygments_lexer": "ipython3",
   "version": "3.9.5"
  }
 },
 "nbformat": 4,
 "nbformat_minor": 5
}

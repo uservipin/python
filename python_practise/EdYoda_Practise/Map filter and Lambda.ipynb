{
 "cells": [
  {
   "cell_type": "code",
   "execution_count": 1,
   "id": "2d130957",
   "metadata": {
    "ExecuteTime": {
     "end_time": "2021-07-25T09:47:17.631776Z",
     "start_time": "2021-07-25T09:47:17.606360Z"
    },
    "scrolled": true
   },
   "outputs": [
    {
     "name": "stdout",
     "output_type": "stream",
     "text": [
      "8\n"
     ]
    }
   ],
   "source": [
    "add_one = lambda x: x + 1\n",
    "print(add_one(7)) "
   ]
  },
  {
   "cell_type": "code",
   "execution_count": 2,
   "id": "602779e8",
   "metadata": {
    "ExecuteTime": {
     "end_time": "2021-07-25T09:48:49.550242Z",
     "start_time": "2021-07-25T09:48:49.528743Z"
    }
   },
   "outputs": [
    {
     "name": "stdout",
     "output_type": "stream",
     "text": [
      "[2, 4, 6]\n"
     ]
    }
   ],
   "source": [
    "multiply_by_two = lambda x: x * 2\n",
    "numbers = [1, 2, 3]\n",
    "doubled = map(multiply_by_two, numbers)\n",
    "doubled_list = list(doubled)\n",
    "print(doubled_list)\n"
   ]
  },
  {
   "cell_type": "code",
   "execution_count": 3,
   "id": "db981f7d",
   "metadata": {
    "ExecuteTime": {
     "end_time": "2021-07-25T09:50:01.000775Z",
     "start_time": "2021-07-25T09:50:00.985088Z"
    },
    "collapsed": true
   },
   "outputs": [
    {
     "name": "stdout",
     "output_type": "stream",
     "text": [
      "['beach is fun!', 'car is fun!']\n"
     ]
    }
   ],
   "source": [
    "letters = [\"beach\", \"car\"]\n",
    "funified = list(map(lambda word: f\"{word} is fun!\", letters))\n",
    "print(funified)"
   ]
  },
  {
   "cell_type": "code",
   "execution_count": 4,
   "id": "b86c66b0",
   "metadata": {
    "ExecuteTime": {
     "end_time": "2021-07-25T09:50:48.223174Z",
     "start_time": "2021-07-25T09:50:48.207229Z"
    }
   },
   "outputs": [
    {
     "name": "stdout",
     "output_type": "stream",
     "text": [
      "[3, 5]\n"
     ]
    }
   ],
   "source": [
    "nums = [3, 5, 16, 27]\n",
    "some_nums = list(filter(lambda num: num < 10, nums))\n",
    "print(some_nums)"
   ]
  },
  {
   "cell_type": "code",
   "execution_count": 5,
   "id": "8bfb4156",
   "metadata": {
    "ExecuteTime": {
     "end_time": "2021-07-25T09:51:39.815551Z",
     "start_time": "2021-07-25T09:51:39.799850Z"
    }
   },
   "outputs": [
    {
     "name": "stdout",
     "output_type": "stream",
     "text": [
      "['bay', 'boy']\n"
     ]
    }
   ],
   "source": [
    "words = [\"bay\", \"cat\", \"boy\", \"fan\"]\n",
    "b_words = list(filter(lambda word: word.startswith(\"b\"), words))\n",
    "print(b_words)"
   ]
  },
  {
   "cell_type": "code",
   "execution_count": 6,
   "id": "1d36aadd",
   "metadata": {
    "ExecuteTime": {
     "end_time": "2021-07-25T09:51:58.412444Z",
     "start_time": "2021-07-25T09:51:58.398494Z"
    }
   },
   "outputs": [
    {
     "name": "stdout",
     "output_type": "stream",
     "text": [
      "[16, 25, 36]\n"
     ]
    }
   ],
   "source": [
    "nums = [4, 5, 6]\n",
    "squares = list(map(lambda num: num ** 2, nums))\n",
    "print(squares)"
   ]
  },
  {
   "cell_type": "code",
   "execution_count": 7,
   "id": "5371909a",
   "metadata": {
    "ExecuteTime": {
     "end_time": "2021-07-25T09:52:14.177926Z",
     "start_time": "2021-07-25T09:52:14.163301Z"
    }
   },
   "outputs": [
    {
     "name": "stdout",
     "output_type": "stream",
     "text": [
      "[8, 64, 216, 512]\n"
     ]
    }
   ],
   "source": [
    "def cube(n): \n",
    "    return n**3\n",
    "\n",
    "evennum = [2,4,6,8] \n",
    "res = map(cube,evennum) \n",
    "print(list(res))"
   ]
  },
  {
   "cell_type": "code",
   "execution_count": 11,
   "id": "2b4ee062",
   "metadata": {
    "ExecuteTime": {
     "end_time": "2021-07-25T09:53:21.222350Z",
     "start_time": "2021-07-25T09:53:21.208777Z"
    },
    "scrolled": true
   },
   "outputs": [
    {
     "ename": "SyntaxError",
     "evalue": "invalid syntax (<ipython-input-11-343e4ea5cfcd>, line 1)",
     "output_type": "error",
     "traceback": [
      "\u001b[1;36m  File \u001b[1;32m\"<ipython-input-11-343e4ea5cfcd>\"\u001b[1;36m, line \u001b[1;32m1\u001b[0m\n\u001b[1;33m    func = lambda x : return x\u001b[0m\n\u001b[1;37m                      ^\u001b[0m\n\u001b[1;31mSyntaxError\u001b[0m\u001b[1;31m:\u001b[0m invalid syntax\n"
     ]
    }
   ],
   "source": [
    "func = lambda x : return x\n",
    "print(func(2))"
   ]
  },
  {
   "cell_type": "code",
   "execution_count": null,
   "id": "f65df21b",
   "metadata": {},
   "outputs": [],
   "source": [
    "What are the common functional programming methods that use lambdas? Select all that apply:\n",
    "    \n",
    "short, filter and map   \n",
    "    "
   ]
  },
  {
   "cell_type": "code",
   "execution_count": 29,
   "id": "25263f74",
   "metadata": {
    "ExecuteTime": {
     "end_time": "2021-07-25T10:02:00.046847Z",
     "start_time": "2021-07-25T10:02:00.031159Z"
    }
   },
   "outputs": [
    {
     "data": {
      "text/plain": [
       "[1, 2, 3]"
      ]
     },
     "execution_count": 29,
     "metadata": {},
     "output_type": "execute_result"
    }
   ],
   "source": [
    "\n",
    "numbers = [1, 2, 3]\n",
    "Ans:\n",
    "    \n",
    "list(filter(lambda x: x % 2 == 0, numbers))\n",
    "\n",
    "#list(filter(lambda x: x > 1, numbers))\n",
    "\n",
    "# list(filter(lambda x: 2, numbers))\n",
    "\n"
   ]
  }
 ],
 "metadata": {
  "kernelspec": {
   "display_name": "Python 3",
   "language": "python",
   "name": "python3"
  },
  "language_info": {
   "codemirror_mode": {
    "name": "ipython",
    "version": 3
   },
   "file_extension": ".py",
   "mimetype": "text/x-python",
   "name": "python",
   "nbconvert_exporter": "python",
   "pygments_lexer": "ipython3",
   "version": "3.9.5"
  }
 },
 "nbformat": 4,
 "nbformat_minor": 5
}

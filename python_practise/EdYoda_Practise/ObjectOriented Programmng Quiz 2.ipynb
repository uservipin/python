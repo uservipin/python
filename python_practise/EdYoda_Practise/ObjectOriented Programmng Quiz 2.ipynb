{
 "cells": [
  {
   "cell_type": "code",
   "execution_count": 22,
   "id": "dfd589d7",
   "metadata": {
    "ExecuteTime": {
     "end_time": "2021-08-01T21:42:13.389292Z",
     "start_time": "2021-08-01T21:42:13.369706Z"
    }
   },
   "outputs": [
    {
     "name": "stdout",
     "output_type": "stream",
     "text": [
      "123\n"
     ]
    }
   ],
   "source": [
    "class Sales:\n",
    "    def __init__(self,id):\n",
    "        self.id=id\n",
    "        id=100\n",
    "        \n",
    "        \n",
    "val= Sales(123)\n",
    "print(val.id)"
   ]
  },
  {
   "cell_type": "code",
   "execution_count": 28,
   "id": "0c8c3efa",
   "metadata": {
    "ExecuteTime": {
     "end_time": "2021-08-01T21:45:38.944384Z",
     "start_time": "2021-08-01T21:45:38.939401Z"
    }
   },
   "outputs": [
    {
     "name": "stdout",
     "output_type": "stream",
     "text": [
      "51\n"
     ]
    }
   ],
   "source": [
    "class Person:\n",
    "    def __init__(self,id):\n",
    "        self.id=id\n",
    "        \n",
    "        \n",
    "sam = Person(100)\n",
    "\n",
    "sam.__dict__['age'] = 49\n",
    "\n",
    "print(sam.age+ + len(sam.__dict__))"
   ]
  },
  {
   "cell_type": "code",
   "execution_count": 29,
   "id": "149bbf8a",
   "metadata": {
    "ExecuteTime": {
     "end_time": "2021-08-01T21:47:57.728977Z",
     "start_time": "2021-08-01T21:47:57.722411Z"
    }
   },
   "outputs": [
    {
     "name": "stdout",
     "output_type": "stream",
     "text": [
      "Hello world\n"
     ]
    }
   ],
   "source": [
    "class test:\n",
    "    def __init__(self,a= \"Hello world\"):\n",
    "        self.a =a\n",
    "        \n",
    "    def display(self):\n",
    "        print(self.a)\n",
    "        \n",
    "obj =test()\n",
    "obj.display()"
   ]
  },
  {
   "cell_type": "markdown",
   "id": "360fe020",
   "metadata": {},
   "source": [
    "# Quiz 3"
   ]
  },
  {
   "cell_type": "code",
   "execution_count": 31,
   "id": "7793a96a",
   "metadata": {
    "ExecuteTime": {
     "end_time": "2021-08-01T22:00:14.910333Z",
     "start_time": "2021-08-01T22:00:14.898798Z"
    }
   },
   "outputs": [
    {
     "ename": "TypeError",
     "evalue": "__init__() missing 1 required positional argument: 'a'",
     "output_type": "error",
     "traceback": [
      "\u001b[1;31m---------------------------------------------------------------------------\u001b[0m",
      "\u001b[1;31mTypeError\u001b[0m                                 Traceback (most recent call last)",
      "\u001b[1;32m<ipython-input-31-6e57e17c6e5b>\u001b[0m in \u001b[0;36m<module>\u001b[1;34m\u001b[0m\n\u001b[0;32m      6\u001b[0m         \u001b[0mprint\u001b[0m\u001b[1;33m(\u001b[0m\u001b[0mself\u001b[0m\u001b[1;33m.\u001b[0m\u001b[0ma\u001b[0m\u001b[1;33m)\u001b[0m\u001b[1;33m\u001b[0m\u001b[1;33m\u001b[0m\u001b[0m\n\u001b[0;32m      7\u001b[0m \u001b[1;33m\u001b[0m\u001b[0m\n\u001b[1;32m----> 8\u001b[1;33m \u001b[0mobj\u001b[0m \u001b[1;33m=\u001b[0m \u001b[0mtest\u001b[0m\u001b[1;33m(\u001b[0m\u001b[1;33m)\u001b[0m\u001b[1;33m\u001b[0m\u001b[1;33m\u001b[0m\u001b[0m\n\u001b[0m\u001b[0;32m      9\u001b[0m \u001b[0mobj\u001b[0m\u001b[1;33m.\u001b[0m\u001b[0mdisplay\u001b[0m\u001b[1;33m(\u001b[0m\u001b[1;33m)\u001b[0m\u001b[1;33m\u001b[0m\u001b[1;33m\u001b[0m\u001b[0m\n",
      "\u001b[1;31mTypeError\u001b[0m: __init__() missing 1 required positional argument: 'a'"
     ]
    }
   ],
   "source": [
    "class test:\n",
    "    def __init__(self,a):\n",
    "        self.a =a\n",
    "        \n",
    "    def display(self):\n",
    "        print(self.a)\n",
    "        \n",
    "obj = test()\n",
    "obj.display()"
   ]
  },
  {
   "cell_type": "code",
   "execution_count": 34,
   "id": "e9490d41",
   "metadata": {
    "ExecuteTime": {
     "end_time": "2021-08-01T22:03:20.908265Z",
     "start_time": "2021-08-01T22:03:20.895907Z"
    }
   },
   "outputs": [],
   "source": [
    "class A:\n",
    "    def __init__(self,b):\n",
    "        self.b=b \n",
    "        \n",
    "    def display (self):\n",
    "        print(self.b)\n",
    "        \n",
    "\n",
    "        "
   ]
  },
  {
   "cell_type": "code",
   "execution_count": 35,
   "id": "444fcfcb",
   "metadata": {
    "ExecuteTime": {
     "end_time": "2021-08-01T22:03:23.498115Z",
     "start_time": "2021-08-01T22:03:23.489126Z"
    }
   },
   "outputs": [],
   "source": [
    "obj =A(\"hello\")"
   ]
  },
  {
   "cell_type": "code",
   "execution_count": 36,
   "id": "3e50937d",
   "metadata": {
    "ExecuteTime": {
     "end_time": "2021-08-01T22:03:35.530900Z",
     "start_time": "2021-08-01T22:03:35.525911Z"
    }
   },
   "outputs": [],
   "source": [
    "del obj"
   ]
  },
  {
   "cell_type": "code",
   "execution_count": 40,
   "id": "f5c26c67",
   "metadata": {
    "ExecuteTime": {
     "end_time": "2021-08-01T22:07:03.280939Z",
     "start_time": "2021-08-01T22:07:03.273404Z"
    }
   },
   "outputs": [
    {
     "name": "stdout",
     "output_type": "stream",
     "text": [
      "13\n"
     ]
    }
   ],
   "source": [
    "class fruits:\n",
    "    def __init__(self, price):\n",
    "        self.price=price\n",
    "        \n",
    "obj = fruits(50)\n",
    "\n",
    "\n",
    "obj.quantity=10\n",
    "obj.bags=2\n",
    "\n",
    "print(obj.quantity+len(obj.__dict__))"
   ]
  },
  {
   "cell_type": "code",
   "execution_count": 41,
   "id": "86fc6590",
   "metadata": {
    "ExecuteTime": {
     "end_time": "2021-08-01T22:09:21.800617Z",
     "start_time": "2021-08-01T22:09:21.788439Z"
    }
   },
   "outputs": [
    {
     "name": "stdout",
     "output_type": "stream",
     "text": [
      "__main__\n"
     ]
    }
   ],
   "source": [
    "class Demo:\n",
    "    def __init_(self):\n",
    "        pass\n",
    "    \n",
    "    def test(self):\n",
    "        print(__name__)\n",
    "        \n",
    "obj =Demo()\n",
    "obj.test()"
   ]
  },
  {
   "cell_type": "code",
   "execution_count": 43,
   "id": "dc3f1b24",
   "metadata": {
    "ExecuteTime": {
     "end_time": "2021-08-01T22:13:40.155750Z",
     "start_time": "2021-08-01T22:13:40.144213Z"
    }
   },
   "outputs": [
    {
     "name": "stdout",
     "output_type": "stream",
     "text": [
      "old\n"
     ]
    }
   ],
   "source": [
    "class test:\n",
    "    \n",
    "    def __init__(self):\n",
    "        self.variable=\"old\"\n",
    "        self.Change(self.variable)\n",
    "        \n",
    "    def Change (self,var):\n",
    "        var = 'New'\n",
    "        \n",
    "obj =test()\n",
    "\n",
    "print(obj.variable)"
   ]
  },
  {
   "cell_type": "code",
   "execution_count": null,
   "id": "a9b9ed4e",
   "metadata": {},
   "outputs": [],
   "source": []
  }
 ],
 "metadata": {
  "kernelspec": {
   "display_name": "Python 3",
   "language": "python",
   "name": "python3"
  },
  "language_info": {
   "codemirror_mode": {
    "name": "ipython",
    "version": 3
   },
   "file_extension": ".py",
   "mimetype": "text/x-python",
   "name": "python",
   "nbconvert_exporter": "python",
   "pygments_lexer": "ipython3",
   "version": "3.9.5"
  }
 },
 "nbformat": 4,
 "nbformat_minor": 5
}

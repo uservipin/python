{
 "cells": [
  {
   "cell_type": "code",
   "execution_count": 1,
   "id": "a0a3b36c",
   "metadata": {
    "ExecuteTime": {
     "end_time": "2021-07-23T21:17:29.620338Z",
     "start_time": "2021-07-23T21:17:29.600308Z"
    }
   },
   "outputs": [
    {
     "ename": "SyntaxError",
     "evalue": "invalid syntax (<ipython-input-1-3aa4fc426901>, line 1)",
     "output_type": "error",
     "traceback": [
      "\u001b[1;36m  File \u001b[1;32m\"<ipython-input-1-3aa4fc426901>\"\u001b[1;36m, line \u001b[1;32m1\u001b[0m\n\u001b[1;33m    From which of the following? , the output will be 32\u001b[0m\n\u001b[1;37m         ^\u001b[0m\n\u001b[1;31mSyntaxError\u001b[0m\u001b[1;31m:\u001b[0m invalid syntax\n"
     ]
    }
   ],
   "source": [
    "From which of the following? , the output will be 32\n",
    "\n",
    "print(64//2)\n",
    "print(65//2)\n",
    "Both of the above\n",
    "Option Checked Icon\n",
    "print(66//2)\n"
   ]
  },
  {
   "cell_type": "code",
   "execution_count": 6,
   "id": "259b684a",
   "metadata": {
    "ExecuteTime": {
     "end_time": "2021-07-23T21:18:17.632106Z",
     "start_time": "2021-07-23T21:18:17.618049Z"
    }
   },
   "outputs": [
    {
     "name": "stdout",
     "output_type": "stream",
     "text": [
      "32\n",
      "32\n",
      "33\n"
     ]
    }
   ],
   "source": [
    "print(64//2)\n",
    "print(65//2)\n",
    "# Both of the above\n",
    "print(66//2)"
   ]
  },
  {
   "cell_type": "code",
   "execution_count": 7,
   "id": "90329145",
   "metadata": {
    "ExecuteTime": {
     "end_time": "2021-07-23T21:18:46.842448Z",
     "start_time": "2021-07-23T21:18:46.836446Z"
    }
   },
   "outputs": [
    {
     "name": "stdout",
     "output_type": "stream",
     "text": [
      "False\n"
     ]
    }
   ],
   "source": [
    "print(1000<300)"
   ]
  },
  {
   "cell_type": "code",
   "execution_count": 13,
   "id": "a0614360",
   "metadata": {
    "ExecuteTime": {
     "end_time": "2021-07-23T21:19:36.607230Z",
     "start_time": "2021-07-23T21:19:36.591686Z"
    },
    "scrolled": true
   },
   "outputs": [
    {
     "name": "stdout",
     "output_type": "stream",
     "text": [
      "False\n"
     ]
    }
   ],
   "source": [
    "print(1000==300)"
   ]
  },
  {
   "cell_type": "code",
   "execution_count": null,
   "id": "337594d6",
   "metadata": {},
   "outputs": [],
   "source": [
    "What is the use of the % operator ?\n",
    "\n",
    "Ans : to find remiander"
   ]
  },
  {
   "cell_type": "code",
   "execution_count": 14,
   "id": "94219307",
   "metadata": {
    "ExecuteTime": {
     "end_time": "2021-07-23T21:19:47.566229Z",
     "start_time": "2021-07-23T21:19:47.552219Z"
    }
   },
   "outputs": [
    {
     "name": "stdout",
     "output_type": "stream",
     "text": [
      "1\n"
     ]
    }
   ],
   "source": [
    "print(5%2)"
   ]
  },
  {
   "cell_type": "code",
   "execution_count": 15,
   "id": "13eec68a",
   "metadata": {
    "ExecuteTime": {
     "end_time": "2021-07-23T21:20:44.032026Z",
     "start_time": "2021-07-23T21:20:44.018003Z"
    },
    "scrolled": true
   },
   "outputs": [
    {
     "name": "stdout",
     "output_type": "stream",
     "text": [
      "8\n"
     ]
    }
   ],
   "source": [
    "print(2**3)"
   ]
  },
  {
   "cell_type": "code",
   "execution_count": 16,
   "id": "8d3dc4f0",
   "metadata": {
    "ExecuteTime": {
     "end_time": "2021-07-23T21:21:21.532533Z",
     "start_time": "2021-07-23T21:21:21.521537Z"
    }
   },
   "outputs": [
    {
     "name": "stdout",
     "output_type": "stream",
     "text": [
      "3\n"
     ]
    }
   ],
   "source": [
    "# What will be output of the following program ? \n",
    "print(3%4)\n"
   ]
  },
  {
   "cell_type": "code",
   "execution_count": 24,
   "id": "ba06cf4c",
   "metadata": {
    "ExecuteTime": {
     "end_time": "2021-07-23T21:24:24.258735Z",
     "start_time": "2021-07-23T21:24:24.242732Z"
    }
   },
   "outputs": [
    {
     "ename": "SyntaxError",
     "evalue": "invalid syntax (<ipython-input-24-eb3f501b3d72>, line 14)",
     "output_type": "error",
     "traceback": [
      "\u001b[1;36m  File \u001b[1;32m\"<ipython-input-24-eb3f501b3d72>\"\u001b[1;36m, line \u001b[1;32m14\u001b[0m\n\u001b[1;33m    d++\u001b[0m\n\u001b[1;37m       ^\u001b[0m\n\u001b[1;31mSyntaxError\u001b[0m\u001b[1;31m:\u001b[0m invalid syntax\n"
     ]
    }
   ],
   "source": [
    "# Which of the following is not correct Python Syntax?\n",
    "a=10\n",
    "a=a+10\n",
    "print(a)\n",
    "\n",
    "b=11\n",
    "b+=1\n",
    "print(b)\n",
    "\n",
    "c =+1\n",
    "print(c)\n",
    "\n",
    "d =15\n",
    "d++\n",
    "print(d)"
   ]
  },
  {
   "cell_type": "code",
   "execution_count": 25,
   "id": "7d8b42c0",
   "metadata": {
    "ExecuteTime": {
     "end_time": "2021-07-23T21:25:06.207757Z",
     "start_time": "2021-07-23T21:25:06.196744Z"
    }
   },
   "outputs": [
    {
     "name": "stdout",
     "output_type": "stream",
     "text": [
      "False\n"
     ]
    }
   ],
   "source": [
    "# What will be the output of the following:\n",
    "\n",
    "a = (1,2,3)\n",
    "\n",
    "b = (1,2,3)\n",
    "\n",
    "print(a is b)"
   ]
  },
  {
   "cell_type": "code",
   "execution_count": 37,
   "id": "95471607",
   "metadata": {
    "ExecuteTime": {
     "end_time": "2021-07-23T21:29:24.052023Z",
     "start_time": "2021-07-23T21:29:24.032464Z"
    }
   },
   "outputs": [
    {
     "name": "stdout",
     "output_type": "stream",
     "text": [
      "b-c-d-f-g-"
     ]
    }
   ],
   "source": [
    "vowels='aeiou'\n",
    "\n",
    "list_of_alphabets=['a','b','c','d','e','f','g']\n",
    "\n",
    "for i in list_of_alphabets:\n",
    "    if i not  in vowels:\n",
    "        print(i,end='-')"
   ]
  },
  {
   "cell_type": "code",
   "execution_count": null,
   "id": "cfc20220",
   "metadata": {},
   "outputs": [],
   "source": [
    "accordion-down-arrow\n",
    "Choose the correct Operators in Python among these:\n",
    "\n",
    "a) Membership (in , not in)\n",
    "\n",
    "b) Identity ( is, is not)\n",
    "\n",
    "c) Arithmetic (+,-,etc)\n",
    "\n",
    "d) Quality (!,&,etc)\n",
    "\n",
    "e) Logical (and,or,not)\n",
    "\n",
    "\n",
    "\n",
    "a) and b)\n",
    "Option Checked Icon\n",
    "a) b) c) e)       --> Correct Option\n",
    "a) b) c) d) e)\n",
    "a) b) d) e)"
   ]
  }
 ],
 "metadata": {
  "kernelspec": {
   "display_name": "Python 3",
   "language": "python",
   "name": "python3"
  },
  "language_info": {
   "codemirror_mode": {
    "name": "ipython",
    "version": 3
   },
   "file_extension": ".py",
   "mimetype": "text/x-python",
   "name": "python",
   "nbconvert_exporter": "python",
   "pygments_lexer": "ipython3",
   "version": "3.9.5"
  }
 },
 "nbformat": 4,
 "nbformat_minor": 5
}

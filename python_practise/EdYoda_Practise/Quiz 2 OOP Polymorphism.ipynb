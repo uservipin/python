{
 "cells": [
  {
   "cell_type": "code",
   "execution_count": null,
   "id": "d5450228",
   "metadata": {
    "ExecuteTime": {
     "end_time": "2021-08-03T08:12:44.165538Z",
     "start_time": "2021-08-03T08:12:44.155016Z"
    },
    "scrolled": true
   },
   "outputs": [],
   "source": [
    "class A :\n",
    "    def __str__(self):\n",
    "        return '1'\n",
    "class B(A):\n",
    "    \n",
    "    def __init__(self):\n",
    "        super().__init__()\n",
    "        \n",
    "class C(B):\n",
    "    \n",
    "    def __init__(self):\n",
    "        super.__init__()\n",
    "        \n",
    "def main():\n",
    "    \n",
    "    obj1= B()\n",
    "    obj2= A()\n",
    "    obj3= C() \n",
    "    \n",
    "    print(obj1, obj2,obj3)\n",
    "    \n",
    "    \n",
    "main()"
   ]
  },
  {
   "cell_type": "code",
   "execution_count": null,
   "id": "dd55a952",
   "metadata": {
    "ExecuteTime": {
     "end_time": "2021-08-03T08:17:55.320241Z",
     "start_time": "2021-08-03T08:17:55.300525Z"
    },
    "scrolled": true
   },
   "outputs": [],
   "source": [
    "class Demo:\n",
    "    \n",
    "    def __init__(self):\n",
    "        \n",
    "        self.x= 1\n",
    "        \n",
    "    def change(self):\n",
    "        \n",
    "        self.x=10\n",
    "        \n",
    "class Demo_derived(Demo):\n",
    "    def change(self):\n",
    "        self.x= self.x+1\n",
    "        return self.x\n",
    "    \n",
    "def main():\n",
    "    \n",
    "    obj = Demo_derived()\n",
    "    print(obj.change())\n",
    "    \n",
    "    \n",
    "main()\n",
    "        \n",
    "    "
   ]
  },
  {
   "cell_type": "code",
   "execution_count": null,
   "id": "6730ccb2",
   "metadata": {
    "ExecuteTime": {
     "end_time": "2021-08-03T08:21:56.412085Z",
     "start_time": "2021-08-03T08:21:56.399075Z"
    },
    "scrolled": true
   },
   "outputs": [],
   "source": [
    "class A :\n",
    "    def __repr__(self):\n",
    "        return '1'\n",
    "class B(A):\n",
    "    \n",
    "    def __repr__(self):\n",
    "        return '1'\n",
    "        \n",
    "        \n",
    "class C(B):\n",
    "    \n",
    "    def __repr__(self):\n",
    "        return \"3\"\n",
    "\n",
    "    \n",
    "o1 =A()\n",
    "o2= B()\n",
    "o3= C()\n",
    "\n",
    "print(obj1,obj2, obj3 )"
   ]
  },
  {
   "cell_type": "code",
   "execution_count": null,
   "id": "cb2fef68",
   "metadata": {},
   "outputs": [],
   "source": []
  },
  {
   "cell_type": "code",
   "execution_count": null,
   "id": "730e747e",
   "metadata": {
    "ExecuteTime": {
     "end_time": "2021-08-03T08:24:33.008394Z",
     "start_time": "2021-08-03T08:24:32.989796Z"
    },
    "scrolled": true
   },
   "outputs": [],
   "source": [
    "class Demo:\n",
    "    \n",
    "    def check(self):\n",
    "        \n",
    "        return \"Demo's check\"\n",
    "        \n",
    "    def display(self):\n",
    "        print(self.check())\n",
    "        \n",
    "class Demo_derived(Demo):\n",
    "    def check(self):\n",
    "        return \"Demo_Derived check\"\n",
    "    \n",
    "    \n",
    "Demo().display()\n",
    "Demo_derived.display()"
   ]
  },
  {
   "cell_type": "code",
   "execution_count": 1,
   "id": "6a0d0db2",
   "metadata": {
    "ExecuteTime": {
     "end_time": "2021-08-03T08:28:49.963705Z",
     "start_time": "2021-08-03T08:28:49.840129Z"
    }
   },
   "outputs": [
    {
     "ename": "AttributeError",
     "evalue": "'B' object has no attribute 'multiply'",
     "output_type": "error",
     "traceback": [
      "\u001b[1;31m---------------------------------------------------------------------------\u001b[0m",
      "\u001b[1;31mAttributeError\u001b[0m                            Traceback (most recent call last)",
      "\u001b[1;32m<ipython-input-1-54995bd0ed66>\u001b[0m in \u001b[0;36m<module>\u001b[1;34m\u001b[0m\n\u001b[0;32m     12\u001b[0m             \u001b[0mself\u001b[0m\u001b[1;33m.\u001b[0m\u001b[0mi\u001b[0m\u001b[1;33m=\u001b[0m \u001b[1;36m2\u001b[0m\u001b[1;33m*\u001b[0m\u001b[0mi\u001b[0m\u001b[1;33m\u001b[0m\u001b[1;33m\u001b[0m\u001b[0m\n\u001b[0;32m     13\u001b[0m \u001b[1;33m\u001b[0m\u001b[0m\n\u001b[1;32m---> 14\u001b[1;33m \u001b[0mobj\u001b[0m \u001b[1;33m=\u001b[0m\u001b[0mB\u001b[0m\u001b[1;33m(\u001b[0m\u001b[1;33m)\u001b[0m\u001b[1;33m\u001b[0m\u001b[1;33m\u001b[0m\u001b[0m\n\u001b[0m\u001b[0;32m     15\u001b[0m \u001b[1;33m\u001b[0m\u001b[0m\n",
      "\u001b[1;32m<ipython-input-1-54995bd0ed66>\u001b[0m in \u001b[0;36m__init__\u001b[1;34m(self)\u001b[0m\n\u001b[0;32m      7\u001b[0m \u001b[1;33m\u001b[0m\u001b[0m\n\u001b[0;32m      8\u001b[0m     \u001b[1;32mdef\u001b[0m \u001b[0m__init__\u001b[0m\u001b[1;33m(\u001b[0m\u001b[0mself\u001b[0m\u001b[1;33m)\u001b[0m\u001b[1;33m:\u001b[0m\u001b[1;33m\u001b[0m\u001b[1;33m\u001b[0m\u001b[0m\n\u001b[1;32m----> 9\u001b[1;33m         \u001b[0msuper\u001b[0m\u001b[1;33m(\u001b[0m\u001b[1;33m)\u001b[0m\u001b[1;33m.\u001b[0m\u001b[0m__init__\u001b[0m\u001b[1;33m(\u001b[0m\u001b[1;33m)\u001b[0m\u001b[1;33m\u001b[0m\u001b[1;33m\u001b[0m\u001b[0m\n\u001b[0m\u001b[0;32m     10\u001b[0m \u001b[1;33m\u001b[0m\u001b[0m\n\u001b[0;32m     11\u001b[0m         \u001b[1;32mdef\u001b[0m \u001b[0mmultiply\u001b[0m\u001b[1;33m(\u001b[0m\u001b[0mself\u001b[0m\u001b[1;33m,\u001b[0m\u001b[0mi\u001b[0m\u001b[1;33m)\u001b[0m\u001b[1;33m:\u001b[0m\u001b[1;33m\u001b[0m\u001b[1;33m\u001b[0m\u001b[0m\n",
      "\u001b[1;32m<ipython-input-1-54995bd0ed66>\u001b[0m in \u001b[0;36m__init__\u001b[1;34m(self)\u001b[0m\n\u001b[0;32m      1\u001b[0m \u001b[1;32mclass\u001b[0m \u001b[0mA\u001b[0m \u001b[1;33m:\u001b[0m\u001b[1;33m\u001b[0m\u001b[1;33m\u001b[0m\u001b[0m\n\u001b[0;32m      2\u001b[0m     \u001b[1;32mdef\u001b[0m \u001b[0m__init__\u001b[0m\u001b[1;33m(\u001b[0m\u001b[0mself\u001b[0m\u001b[1;33m)\u001b[0m\u001b[1;33m:\u001b[0m\u001b[1;33m\u001b[0m\u001b[1;33m\u001b[0m\u001b[0m\n\u001b[1;32m----> 3\u001b[1;33m         \u001b[0mself\u001b[0m\u001b[1;33m.\u001b[0m\u001b[0mmultiply\u001b[0m\u001b[1;33m(\u001b[0m\u001b[1;36m15\u001b[0m\u001b[1;33m)\u001b[0m\u001b[1;33m\u001b[0m\u001b[1;33m\u001b[0m\u001b[0m\n\u001b[0m\u001b[0;32m      4\u001b[0m \u001b[1;33m\u001b[0m\u001b[0m\n\u001b[0;32m      5\u001b[0m         \u001b[0mprint\u001b[0m\u001b[1;33m(\u001b[0m\u001b[0mself\u001b[0m\u001b[1;33m.\u001b[0m\u001b[0mi\u001b[0m\u001b[1;33m)\u001b[0m\u001b[1;33m\u001b[0m\u001b[1;33m\u001b[0m\u001b[0m\n",
      "\u001b[1;31mAttributeError\u001b[0m: 'B' object has no attribute 'multiply'"
     ]
    }
   ],
   "source": [
    "class A :\n",
    "    def __init__(self):\n",
    "        self.multiply(15)\n",
    "        \n",
    "        print(self.i)\n",
    "class B(A):\n",
    "    \n",
    "    def __init__(self):\n",
    "        super().__init__()\n",
    "        \n",
    "        def multiply(self,i):\n",
    "            self.i= 2*i\n",
    "        \n",
    "obj =B()\n",
    "        "
   ]
  }
 ],
 "metadata": {
  "kernelspec": {
   "display_name": "Python 3",
   "language": "python",
   "name": "python3"
  },
  "language_info": {
   "codemirror_mode": {
    "name": "ipython",
    "version": 3
   },
   "file_extension": ".py",
   "mimetype": "text/x-python",
   "name": "python",
   "nbconvert_exporter": "python",
   "pygments_lexer": "ipython3",
   "version": "3.9.5"
  }
 },
 "nbformat": 4,
 "nbformat_minor": 5
}

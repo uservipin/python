{
 "cells": [
  {
   "cell_type": "code",
   "execution_count": null,
   "id": "699d5274",
   "metadata": {},
   "outputs": [],
   "source": [
    "The character Dot (that is, ‘.’) in the default mode, matches any character other than _____________\n",
    "\n",
    "\n"
   ]
  },
  {
   "cell_type": "code",
   "execution_count": null,
   "id": "0fd0b69e",
   "metadata": {},
   "outputs": [],
   "source": [
    "The expression a{5} will match  .... characters with the previous regular expression."
   ]
  },
  {
   "cell_type": "code",
   "execution_count": null,
   "id": "6997ea68",
   "metadata": {},
   "outputs": [],
   "source": [
    "________ matches the start of the string.\n",
    "________ matches the end of the string.\n",
    "\n",
    "^ and $"
   ]
  },
  {
   "cell_type": "code",
   "execution_count": null,
   "id": "21ab7a80",
   "metadata": {},
   "outputs": [],
   "source": [
    "Which module in Python supports regular expressions?\n",
    "\n",
    "\n"
   ]
  },
  {
   "cell_type": "code",
   "execution_count": null,
   "id": "dbf8149b",
   "metadata": {},
   "outputs": [],
   "source": [
    "What does the function re.match do?\n",
    "\n",
    "\n",
    "Option Checked Iconmatches a pattern at the start of the string\n",
    "\n"
   ]
  },
  {
   "cell_type": "code",
   "execution_count": null,
   "id": "5824e726",
   "metadata": {},
   "outputs": [],
   "source": [
    "What does the function re.search do?\n",
    "\n",
    "\n",
    "\n",
    "\n",
    "matches a pattern at the start of the string\n"
   ]
  },
  {
   "cell_type": "code",
   "execution_count": null,
   "id": "5bb24d34",
   "metadata": {},
   "outputs": [],
   "source": [
    "Which of the following statements regarding the output of the function re.match is incorrect?\n",
    "\n",
    "'pq+' matchtchs p"
   ]
  },
  {
   "cell_type": "code",
   "execution_count": null,
   "id": "53514bba",
   "metadata": {},
   "outputs": [],
   "source": [
    "[0-9] character class will match all the single digit Numbers?\n",
    "\n",
    "True\n",
    "\n"
   ]
  },
  {
   "cell_type": "code",
   "execution_count": null,
   "id": "a61aa1b3",
   "metadata": {},
   "outputs": [],
   "source": [
    "'?' in RegX means either Once or not at all?\n",
    "\n",
    "\n",
    "\n",
    "True"
   ]
  }
 ],
 "metadata": {
  "kernelspec": {
   "display_name": "Python 3",
   "language": "python",
   "name": "python3"
  },
  "language_info": {
   "codemirror_mode": {
    "name": "ipython",
    "version": 3
   },
   "file_extension": ".py",
   "mimetype": "text/x-python",
   "name": "python",
   "nbconvert_exporter": "python",
   "pygments_lexer": "ipython3",
   "version": "3.9.5"
  }
 },
 "nbformat": 4,
 "nbformat_minor": 5
}

{
 "cells": [
  {
   "cell_type": "code",
   "execution_count": 2,
   "id": "9552aa25",
   "metadata": {
    "ExecuteTime": {
     "end_time": "2021-07-25T10:50:37.445549Z",
     "start_time": "2021-07-25T10:50:37.422220Z"
    },
    "scrolled": true
   },
   "outputs": [
    {
     "name": "stdout",
     "output_type": "stream",
     "text": [
      "ok\n"
     ]
    },
    {
     "ename": "KeyError",
     "evalue": "'d'",
     "output_type": "error",
     "traceback": [
      "\u001b[1;31m---------------------------------------------------------------------------\u001b[0m",
      "\u001b[1;31mKeyError\u001b[0m                                  Traceback (most recent call last)",
      "\u001b[1;32m<ipython-input-2-78ffe568df5e>\u001b[0m in \u001b[0;36m<module>\u001b[1;34m\u001b[0m\n\u001b[0;32m     10\u001b[0m     \u001b[0mprint\u001b[0m\u001b[1;33m(\u001b[0m\u001b[1;34m'ok'\u001b[0m\u001b[1;33m)\u001b[0m\u001b[1;33m\u001b[0m\u001b[1;33m\u001b[0m\u001b[0m\n\u001b[0;32m     11\u001b[0m \u001b[1;33m\u001b[0m\u001b[0m\n\u001b[1;32m---> 12\u001b[1;33m \u001b[1;32mif\u001b[0m \u001b[0md\u001b[0m\u001b[1;33m[\u001b[0m\u001b[1;34m'd'\u001b[0m\u001b[1;33m]\u001b[0m\u001b[1;33m>\u001b[0m\u001b[1;36m0\u001b[0m\u001b[1;33m:\u001b[0m\u001b[1;33m\u001b[0m\u001b[1;33m\u001b[0m\u001b[0m\n\u001b[0m\u001b[0;32m     13\u001b[0m     \u001b[0mprint\u001b[0m\u001b[1;33m(\u001b[0m\u001b[1;34m'ok'\u001b[0m\u001b[1;33m)\u001b[0m\u001b[1;33m\u001b[0m\u001b[1;33m\u001b[0m\u001b[0m\n\u001b[0;32m     14\u001b[0m \u001b[1;32melse\u001b[0m\u001b[1;33m:\u001b[0m\u001b[1;33m\u001b[0m\u001b[1;33m\u001b[0m\u001b[0m\n",
      "\u001b[1;31mKeyError\u001b[0m: 'd'"
     ]
    }
   ],
   "source": [
    "d ={'a': 0,'b': 1, 'c': 0}\n",
    "\n",
    "if d['a']>0:\n",
    "    print('ok')\n",
    "    \n",
    "if d['b']>0:\n",
    "    print('ok')\n",
    "    \n",
    "if d['c']>0:\n",
    "    print('ok')\n",
    "    \n",
    "if d['d']>0:\n",
    "    print('ok')\n",
    "else:\n",
    "    print('not ok')"
   ]
  },
  {
   "cell_type": "code",
   "execution_count": null,
   "id": "0db3d82f",
   "metadata": {},
   "outputs": [],
   "source": [
    "none "
   ]
  },
  {
   "cell_type": "code",
   "execution_count": 14,
   "id": "51ab7291",
   "metadata": {
    "ExecuteTime": {
     "end_time": "2021-07-25T10:53:20.928334Z",
     "start_time": "2021-07-25T10:53:20.913711Z"
    }
   },
   "outputs": [
    {
     "name": "stdout",
     "output_type": "stream",
     "text": [
      "false\n"
     ]
    }
   ],
   "source": [
    "if None:\n",
    "    \n",
    "    print('true')\n",
    "    \n",
    "else:\n",
    "    print('false')\n",
    "    "
   ]
  },
  {
   "cell_type": "code",
   "execution_count": 17,
   "id": "8dd2b253",
   "metadata": {
    "ExecuteTime": {
     "end_time": "2021-07-25T10:55:36.789397Z",
     "start_time": "2021-07-25T10:55:36.774101Z"
    }
   },
   "outputs": [
    {
     "name": "stdout",
     "output_type": "stream",
     "text": [
      "3\n"
     ]
    }
   ],
   "source": [
    "str1= \"hello\"\n",
    "c=0\n",
    "for x in str1:\n",
    "    if (x!=\"l\"):\n",
    "        c=c+1\n",
    "        \n",
    "print(c)"
   ]
  },
  {
   "cell_type": "code",
   "execution_count": 18,
   "id": "720269b9",
   "metadata": {
    "ExecuteTime": {
     "end_time": "2021-07-25T10:57:52.931748Z",
     "start_time": "2021-07-25T10:57:52.908754Z"
    }
   },
   "outputs": [
    {
     "name": "stdout",
     "output_type": "stream",
     "text": [
      "maybe here? \n",
      "but we are happy\n"
     ]
    }
   ],
   "source": [
    "if {}:\n",
    "    print(\"wow we are here\")\n",
    "\n",
    "else:\n",
    "    \n",
    "    print(\"maybe here? \")\n",
    "    \n",
    "    if {0}:\n",
    "        print(\"but we are happy\")\n",
    "    else:\n",
    "        print('and more then happy')"
   ]
  },
  {
   "cell_type": "code",
   "execution_count": null,
   "id": "5568b846",
   "metadata": {},
   "outputs": [],
   "source": []
  },
  {
   "cell_type": "code",
   "execution_count": 19,
   "id": "721f1e83",
   "metadata": {
    "ExecuteTime": {
     "end_time": "2021-07-25T10:59:13.815576Z",
     "start_time": "2021-07-25T10:59:13.803881Z"
    }
   },
   "outputs": [
    {
     "name": "stdout",
     "output_type": "stream",
     "text": [
      "five\n"
     ]
    }
   ],
   "source": [
    "spam =7 \n",
    "if spam > 5:\n",
    "    print('five')\n",
    "if spam >8:\n",
    "    print('eight')"
   ]
  },
  {
   "cell_type": "code",
   "execution_count": 22,
   "id": "ff5cf95d",
   "metadata": {
    "ExecuteTime": {
     "end_time": "2021-07-25T11:02:33.772632Z",
     "start_time": "2021-07-25T11:02:33.756707Z"
    }
   },
   "outputs": [
    {
     "name": "stdout",
     "output_type": "stream",
     "text": [
      "[]\n",
      "or we do\n"
     ]
    }
   ],
   "source": [
    "test_list= []\n",
    "\n",
    "vowels = 'aeiou'\n",
    "\n",
    "list_of_alphabets= ['a','e','o','u','e','a','a']\n",
    "for i in list_of_alphabets:\n",
    "    if i not in vowels:\n",
    "        test_list.append(i)\n",
    "        \n",
    "print(test_list)\n",
    "if test_list:\n",
    "    print('we know python ')\n",
    "    \n",
    "else:\n",
    "    print('or we do')"
   ]
  },
  {
   "cell_type": "code",
   "execution_count": 29,
   "id": "9c4af075",
   "metadata": {
    "ExecuteTime": {
     "end_time": "2021-07-25T11:07:40.266253Z",
     "start_time": "2021-07-25T11:07:40.250868Z"
    }
   },
   "outputs": [
    {
     "name": "stdout",
     "output_type": "stream",
     "text": [
      "foo\n"
     ]
    }
   ],
   "source": [
    "x =12\n",
    "y=23\n",
    "\n",
    "if x<y : print('foo')\n",
    "elif y<x : print('bar')\n",
    "else : print('baz')"
   ]
  },
  {
   "cell_type": "code",
   "execution_count": 30,
   "id": "0b33f298",
   "metadata": {
    "ExecuteTime": {
     "end_time": "2021-07-25T11:07:44.662420Z",
     "start_time": "2021-07-25T11:07:44.639803Z"
    },
    "scrolled": true
   },
   "outputs": [
    {
     "ename": "SyntaxError",
     "evalue": "invalid syntax (<ipython-input-30-2dc7dab21be7>, line 4)",
     "output_type": "error",
     "traceback": [
      "\u001b[1;36m  File \u001b[1;32m\"<ipython-input-30-2dc7dab21be7>\"\u001b[1;36m, line \u001b[1;32m4\u001b[0m\n\u001b[1;33m    if x<y : print('foo') else : print ('bar')\u001b[0m\n\u001b[1;37m                          ^\u001b[0m\n\u001b[1;31mSyntaxError\u001b[0m\u001b[1;31m:\u001b[0m invalid syntax\n"
     ]
    }
   ],
   "source": [
    "x =12\n",
    "y=23\n",
    "\n",
    "if x<y : print('foo') else : print ('bar')"
   ]
  },
  {
   "cell_type": "code",
   "execution_count": 31,
   "id": "b810e47d",
   "metadata": {
    "ExecuteTime": {
     "end_time": "2021-07-25T11:07:49.927286Z",
     "start_time": "2021-07-25T11:07:49.911404Z"
    }
   },
   "outputs": [
    {
     "ename": "SyntaxError",
     "evalue": "invalid syntax (<ipython-input-31-7f15e57a15e1>, line 4)",
     "output_type": "error",
     "traceback": [
      "\u001b[1;36m  File \u001b[1;32m\"<ipython-input-31-7f15e57a15e1>\"\u001b[1;36m, line \u001b[1;32m4\u001b[0m\n\u001b[1;33m    if x<y :if x>10 : print('foo')\u001b[0m\n\u001b[1;37m            ^\u001b[0m\n\u001b[1;31mSyntaxError\u001b[0m\u001b[1;31m:\u001b[0m invalid syntax\n"
     ]
    }
   ],
   "source": [
    "x =12\n",
    "y=23\n",
    "\n",
    "if x<y :if x>10 : print('foo')"
   ]
  },
  {
   "cell_type": "code",
   "execution_count": 32,
   "id": "6cf8f1bf",
   "metadata": {
    "ExecuteTime": {
     "end_time": "2021-07-25T11:07:54.349815Z",
     "start_time": "2021-07-25T11:07:54.338863Z"
    }
   },
   "outputs": [
    {
     "name": "stdout",
     "output_type": "stream",
     "text": [
      "foo\n",
      "bar\n",
      "baz\n"
     ]
    }
   ],
   "source": [
    "x =12\n",
    "y=23\n",
    "\n",
    "if x<y :print('foo') ; print('bar'); print('baz')"
   ]
  },
  {
   "cell_type": "code",
   "execution_count": 1,
   "id": "fd36b475",
   "metadata": {
    "ExecuteTime": {
     "end_time": "2021-07-27T18:26:01.883478Z",
     "start_time": "2021-07-27T18:26:01.849525Z"
    },
    "scrolled": true
   },
   "outputs": [
    {
     "name": "stdout",
     "output_type": "stream",
     "text": [
      "1\n",
      "2\n",
      "4\n"
     ]
    }
   ],
   "source": [
    "if 'bar' in { 'foo':1, 'bar':2,'baz':3}:\n",
    "    print(1)\n",
    "    print(2)\n",
    "    if 'a' in 'qux':\n",
    "        print(3)\n",
    "        \n",
    "print(4)"
   ]
  },
  {
   "cell_type": "code",
   "execution_count": 3,
   "id": "76cd4d81",
   "metadata": {
    "ExecuteTime": {
     "end_time": "2021-07-27T18:26:46.859945Z",
     "start_time": "2021-07-27T18:26:46.844199Z"
    }
   },
   "outputs": [
    {
     "ename": "IndentationError",
     "evalue": "expected an indented block (<ipython-input-3-96491c5191b2>, line 2)",
     "output_type": "error",
     "traceback": [
      "\u001b[1;36m  File \u001b[1;32m\"<ipython-input-3-96491c5191b2>\"\u001b[1;36m, line \u001b[1;32m2\u001b[0m\n\u001b[1;33m    print('foo')\u001b[0m\n\u001b[1;37m    ^\u001b[0m\n\u001b[1;31mIndentationError\u001b[0m\u001b[1;31m:\u001b[0m expected an indented block\n"
     ]
    }
   ],
   "source": [
    "if (1,2):\n",
    "print('foo')"
   ]
  },
  {
   "cell_type": "code",
   "execution_count": 4,
   "id": "e0fed1c7",
   "metadata": {
    "ExecuteTime": {
     "end_time": "2021-07-27T18:26:59.890836Z",
     "start_time": "2021-07-27T18:26:59.876052Z"
    },
    "scrolled": false
   },
   "outputs": [
    {
     "name": "stdout",
     "output_type": "stream",
     "text": [
      "foo\n"
     ]
    }
   ],
   "source": [
    "if (1,2):\n",
    "\n",
    "    print('foo')"
   ]
  },
  {
   "cell_type": "code",
   "execution_count": 5,
   "id": "46b2b2b1",
   "metadata": {
    "ExecuteTime": {
     "end_time": "2021-07-27T18:27:14.480674Z",
     "start_time": "2021-07-27T18:27:14.466849Z"
    }
   },
   "outputs": [
    {
     "name": "stdout",
     "output_type": "stream",
     "text": [
      "foo\n"
     ]
    }
   ],
   "source": [
    "if (1,2):if (1,2):\n",
    "\n",
    "    print('foo') print('foo')"
   ]
  },
  {
   "cell_type": "code",
   "execution_count": 6,
   "id": "bb9147c4",
   "metadata": {
    "ExecuteTime": {
     "end_time": "2021-07-27T18:27:26.148272Z",
     "start_time": "2021-07-27T18:27:26.138657Z"
    }
   },
   "outputs": [
    {
     "name": "stdout",
     "output_type": "stream",
     "text": [
      "foo\n"
     ]
    }
   ],
   "source": [
    "if (1,2):\n",
    "\n",
    "       print('foo')"
   ]
  }
 ],
 "metadata": {
  "kernelspec": {
   "display_name": "Python 3",
   "language": "python",
   "name": "python3"
  },
  "language_info": {
   "codemirror_mode": {
    "name": "ipython",
    "version": 3
   },
   "file_extension": ".py",
   "mimetype": "text/x-python",
   "name": "python",
   "nbconvert_exporter": "python",
   "pygments_lexer": "ipython3",
   "version": "3.9.5"
  }
 },
 "nbformat": 4,
 "nbformat_minor": 5
}

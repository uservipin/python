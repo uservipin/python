{
 "cells": [
  {
   "cell_type": "code",
   "execution_count": 2,
   "id": "a814ace6",
   "metadata": {
    "ExecuteTime": {
     "end_time": "2021-07-24T07:15:33.249958Z",
     "start_time": "2021-07-24T07:15:33.244967Z"
    }
   },
   "outputs": [
    {
     "name": "stdout",
     "output_type": "stream",
     "text": [
      "1\n",
      "100\n"
     ]
    }
   ],
   "source": [
    "def f1():\n",
    "    x=100\n",
    "    print(x)\n",
    "    \n",
    "x =+1\n",
    "# print(x)\n",
    "f1()"
   ]
  },
  {
   "cell_type": "code",
   "execution_count": 11,
   "id": "4af553a6",
   "metadata": {
    "ExecuteTime": {
     "end_time": "2021-07-24T07:16:53.690542Z",
     "start_time": "2021-07-24T07:16:53.677533Z"
    }
   },
   "outputs": [
    {
     "name": "stdout",
     "output_type": "stream",
     "text": [
      "x\n"
     ]
    }
   ],
   "source": [
    "def f1():\n",
    "    global x\n",
    "    x +=1\n",
    "    print(x)\n",
    "    \n",
    "x =12\n",
    "print(\"x\")"
   ]
  },
  {
   "cell_type": "code",
   "execution_count": 13,
   "id": "8fda66ca",
   "metadata": {
    "ExecuteTime": {
     "end_time": "2021-07-24T07:18:26.915273Z",
     "start_time": "2021-07-24T07:18:26.906745Z"
    }
   },
   "outputs": [
    {
     "name": "stdout",
     "output_type": "stream",
     "text": [
      "[3, 4, 2]\n"
     ]
    }
   ],
   "source": [
    "def f1(a,b=[]):\n",
    "    b.append(a)\n",
    "    return b\n",
    "print(f1(2,[3,4]))"
   ]
  },
  {
   "cell_type": "code",
   "execution_count": 22,
   "id": "161fc1a4",
   "metadata": {
    "ExecuteTime": {
     "end_time": "2021-07-24T07:24:30.268723Z",
     "start_time": "2021-07-24T07:24:30.257628Z"
    }
   },
   "outputs": [
    {
     "name": "stdout",
     "output_type": "stream",
     "text": [
      "10 20 30 40\n"
     ]
    }
   ],
   "source": [
    "def f (p,q,r):\n",
    "    global s\n",
    "    p=10\n",
    "    q= 20\n",
    "    r =30\n",
    "    s=40\n",
    "    print(p,q,r,s)\n",
    "        \n",
    "p,q,r,s= 1,2,3,4\n",
    "\n",
    "f(5,10,15)"
   ]
  },
  {
   "cell_type": "code",
   "execution_count": 35,
   "id": "491379a6",
   "metadata": {
    "ExecuteTime": {
     "end_time": "2021-07-24T07:28:04.437619Z",
     "start_time": "2021-07-24T07:28:04.428605Z"
    }
   },
   "outputs": [
    {
     "name": "stdout",
     "output_type": "stream",
     "text": [
      "outer\n"
     ]
    },
    {
     "data": {
      "text/plain": [
       "[1, 1, 1, 1, 1, 1, 1, 1, 1, 1, 1, 1, 1]"
      ]
     },
     "execution_count": 35,
     "metadata": {},
     "output_type": "execute_result"
    }
   ],
   "source": [
    "def f(x):\n",
    "    print ('outer')\n",
    "    def f1(a):\n",
    "        print('inner')\n",
    "        print(a,x)\n",
    "        \n",
    "f(3)\n",
    "f1(1)"
   ]
  },
  {
   "cell_type": "code",
   "execution_count": 37,
   "id": "a9bbef6e",
   "metadata": {
    "ExecuteTime": {
     "end_time": "2021-07-24T07:30:43.211843Z",
     "start_time": "2021-07-24T07:30:43.199339Z"
    }
   },
   "outputs": [
    {
     "name": "stdout",
     "output_type": "stream",
     "text": [
      "4 is maximum\n"
     ]
    }
   ],
   "source": [
    "def printMax (a,b):\n",
    "    if (a>b):\n",
    "        print(a, \"is maximum\")\n",
    "    if (a ==b):\n",
    "        print(a, \"is equlat to \",b)\n",
    "    else:\n",
    "        print(b, \"is maximum\")\n",
    "        \n",
    "        \n",
    "printMax(3,4)"
   ]
  },
  {
   "cell_type": "code",
   "execution_count": 38,
   "id": "812318d9",
   "metadata": {
    "ExecuteTime": {
     "end_time": "2021-07-24T07:32:53.516608Z",
     "start_time": "2021-07-24T07:32:53.500076Z"
    }
   },
   "outputs": [
    {
     "name": "stdout",
     "output_type": "stream",
     "text": [
      "a is  3 and b is  7 and c is  10\n",
      "a is  25 and b is  5 and c is  24\n",
      "a is  100 and b is  5 and c is  50\n"
     ]
    }
   ],
   "source": [
    "def func (a,b=5,c=10):\n",
    "    print('a is ',a ,'and b is ', b, 'and c is ',c)\n",
    "    \n",
    "func( 3,7)\n",
    "func(25,c=24)\n",
    "func (c=50,a=100)"
   ]
  },
  {
   "cell_type": "code",
   "execution_count": null,
   "id": "070a575d",
   "metadata": {},
   "outputs": [],
   "source": []
  },
  {
   "cell_type": "code",
   "execution_count": 41,
   "id": "39bd24a1",
   "metadata": {
    "ExecuteTime": {
     "end_time": "2021-07-24T07:36:32.549500Z",
     "start_time": "2021-07-24T07:36:32.534706Z"
    }
   },
   "outputs": [
    {
     "name": "stdout",
     "output_type": "stream",
     "text": [
      "odd\n"
     ]
    }
   ],
   "source": [
    "def check_even_odd(**check):\n",
    "    if check ['isEven']%2 ==0:\n",
    "        print(\"even\")\n",
    "    else:\n",
    "        print('odd')\n",
    "        \n",
    "check_even_odd(isEven=3)"
   ]
  }
 ],
 "metadata": {
  "kernelspec": {
   "display_name": "Python 3",
   "language": "python",
   "name": "python3"
  },
  "language_info": {
   "codemirror_mode": {
    "name": "ipython",
    "version": 3
   },
   "file_extension": ".py",
   "mimetype": "text/x-python",
   "name": "python",
   "nbconvert_exporter": "python",
   "pygments_lexer": "ipython3",
   "version": "3.9.5"
  }
 },
 "nbformat": 4,
 "nbformat_minor": 5
}

{
 "cells": [
  {
   "cell_type": "code",
   "execution_count": 2,
   "metadata": {},
   "outputs": [],
   "source": [
    "import re"
   ]
  },
  {
   "cell_type": "code",
   "execution_count": 3,
   "metadata": {},
   "outputs": [
    {
     "name": "stdout",
     "output_type": "stream",
     "text": [
      "Valid\n"
     ]
    }
   ],
   "source": [
    "# Problem 1\n",
    "s = \"29-02-2000\"\n",
    "r = re.compile(\"([0-9]{2})-([0-9]{2})-([0-9]{4})\")\n",
    "m = re.search(r,s)\n",
    "\n",
    "\n",
    "\n",
    "if m.group(2) in \"01030507081012\":\n",
    "    if int(m.group(1)) in range(1,32):\n",
    "        print(\"Valid\")\n",
    "    else:\n",
    "        print(\"Not valid\")\n",
    "elif m.group(2) in \"04060911\":\n",
    "    if int(m.group(1)) in range(1,31):\n",
    "        print(\"Valid\")\n",
    "    else:\n",
    "        print(\"Not valid\")\n",
    "elif m.group(2) == \"02\":\n",
    "    if int(m.group(3)) % 4 == 0 and int(m.group(3)) % 100 != 0:\n",
    "        if int(m.group(1)) in range(1,30):\n",
    "            print(\"Valid\")\n",
    "        else:\n",
    "            print(\"Not valid\")\n",
    "    elif int(m.group(3)) % 4 == 0 and int(m.group(3)) % 100 == 0 and int(m.group(3)) % 400 == 0:\n",
    "        if int(m.group(1)) in range(1,30):\n",
    "            print(\"Valid\")\n",
    "        else:\n",
    "            print(\"Not valid\")\n",
    "    else:\n",
    "        if int(m.group(1)) in range(1,29):\n",
    "            print(\"Valid\")\n",
    "        else:\n",
    "            print(\"Not valid\")"
   ]
  },
  {
   "cell_type": "code",
   "execution_count": 4,
   "metadata": {},
   "outputs": [
    {
     "name": "stdout",
     "output_type": "stream",
     "text": [
      "abcd.12_@xyz.co.in\n"
     ]
    }
   ],
   "source": [
    "# Problem 2\n",
    "s = \"abcd.12_@xyz.co.in\"\n",
    "r = re.compile(\"^[a-z]+(\\.)?[0-9]+(_)?@[a-z0-9]+(\\.[a-z]{2,3}){0,2}$\")\n",
    "m = re.search(r,s)\n",
    "if m:\n",
    "    print(m.group())\n",
    "else:\n",
    "    print(\"Invalid email\")"
   ]
  },
  {
   "cell_type": "code",
   "execution_count": 5,
   "metadata": {},
   "outputs": [
    {
     "name": "stdout",
     "output_type": "stream",
     "text": [
      "The code is present at url <a href=www.edyoda.com/code/python/bla/cla/fla>Click Here</a> or <a href=www.github.com/edyoda/python>Click Here</a>\n"
     ]
    }
   ],
   "source": [
    "# Problem 3\n",
    "s = \"The code is present at url www.edyoda.com/code/python/bla/cla/fla or www.github.com/edyoda/python\"\n",
    "r = re.compile(\"www\\.[a-z0-9]+\\.com(?:/[a-z]+)*\")\n",
    "l = re.findall(r,s)\n",
    "\n",
    "for value in l:\n",
    "    value2 = \"<a href=\" + value + \">Click Here</a>\"\n",
    "    s = s.replace(value, value2)\n",
    "    \n",
    "print(s)"
   ]
  },
  {
   "cell_type": "code",
   "execution_count": 23,
   "metadata": {},
   "outputs": [
    {
     "name": "stdout",
     "output_type": "stream",
     "text": [
      "2870\n",
      "PEP 587: Python Initialization Configuration\n",
      "The PEP 587 adds a new C API to configure the Python Initialization providing finer control on the whole configuration and better error reporting.\n",
      "\n",
      "New structures:\n",
      "\n",
      "PyConfig\n",
      "\n",
      "PyPreConfig\n",
      "\n",
      "PyStatus\n",
      "\n",
      "PyWideStringList\n",
      "\n",
      "New functions:\n",
      "\n",
      "PyConfig_Clear()\n",
      "\n",
      "PyConfig_InitIsolatedConfig()\n",
      "\n",
      "PyConfig_InitPythonConfig()\n",
      "\n",
      "PyConfig_Read()\n",
      "\n",
      "PyConfig_SetArgv()\n",
      "\n",
      "PyConfig_SetBytesArgv()\n",
      "\n",
      "PyConfig_SetBytesString()\n",
      "\n",
      "PyConfig_SetString()\n",
      "\n",
      "PyPreConfig_InitIsolatedConfig()\n",
      "\n",
      "PyPreConfig_InitPythonConfig()\n",
      "\n",
      "PyStatus_Error()\n",
      "\n",
      "PyStatus_Exception()\n",
      "\n",
      "PyStatus_Exit()\n",
      "\n",
      "PyStatus_IsError()\n",
      "\n",
      "PyStatus_IsExit()\n",
      "\n",
      "PyStatus_NoMemory()\n",
      "\n",
      "PyStatus_Ok()\n",
      "\n",
      "PyWideStringList_Append()\n",
      "\n",
      "PyWideStringList_Insert()\n",
      "\n",
      "Py_BytesMain()\n",
      "\n",
      "Py_ExitStatusException()\n",
      "\n",
      "Py_InitializeFromConfig()\n",
      "\n",
      "Py_PreInitialize()\n",
      "\n",
      "Py_PreInitializeFromArgs()\n",
      "\n",
      "Py_PreInitializeFromBytesArgs()\n",
      "\n",
      "Py_RunMain()\n",
      "\n",
      "This PEP also adds _PyRuntimeState.preconfig (PyPreConfig type) and PyInterpreterState.config (PyConfig type) fields to these internal structures. PyInterpreterState.config becomes the new reference configuration, replacing global configuration variables and other private variables.\n",
      "\n",
      "See Python Initialization Configuration for the documentation.\n",
      "\n",
      "See PEP 587 for a full description.\n",
      "\n",
      "(Contributed by Victor Stinner in bpo-36763.)\n",
      "\n",
      "Vectorcall: a fast calling protocol for CPython\n",
      "The “vectorcall” protocol is added to the Python/C API. It is meant to formalize existing optimizations which were already done for various classes. Any extension type implementing a callable can use this protocol.\n",
      "\n",
      "This is currently provisional. The aim is to make it fully public in Python 3.9.\n",
      "\n",
      "See PEP 590 for a full description.\n",
      "\n",
      "(Contributed by Jeroen Demeyer and Mark Shannon in bpo-36974.)\n",
      "\n",
      "Pickle protocol 5 with out-of-band data buffers\n",
      "When pickle is used to transfer large data between Python processes in order to take advantage of multi-core or multi-machine processing, it is important to optimize the transfer by reducing memory copies, and possibly by applying custom techniques such as data-dependent compression.\n",
      "\n",
      "The pickle protocol 5 introduces support for out-of-band buffers where PEP 3118-compatible data can be transmitted separately from the main pickle stream, at the discretion of the communication layer.\n",
      "\n",
      "See PEP 574 for a full description.\n",
      "\n",
      "(Contributed by Antoine Pitrou in bpo-36785.)\n",
      "\n",
      "PEP 578: Python Runtime Audit Hooks\n",
      "The PEP adds an Audit Hook and Verified Open Hook. Both are available from Python and native code, allowing applications and frameworks written in pure Python code to take advantage of extra notifications, while also allowing embedders or system administrators to deploy builds of Python where auditing is always enabled.\n",
      "\n",
      "See PEP 578 for full details.\n"
     ]
    }
   ],
   "source": [
    "data_1 = open(\"doc1.txt\",\"r\", encoding=\"utf8\")\n",
    "data_2 = open(\"doc2.txt\", \"r\", encoding=\"utf8\")\n",
    "\n",
    "cdata_1 = data_1.read()\n",
    "cdata_2 = data_2.read()\n",
    "\n",
    "a = cdata_1[4:7]\n",
    "ra = re.compile(\"[0-9]{3}\")\n",
    "ma = re.search(ra,a)\n",
    "\n",
    "b = cdata_2[4:7]\n",
    "rb = re.compile(\"[0-9]{3}\")\n",
    "mb = re.search(rb,b)\n",
    "\n",
    "data_3 = open(\"doc3.txt\", \"w+\", encoding=\"utf8\")\n",
    "\n",
    "if int(ma.group()) > int(mb.group()):\n",
    "    data_3.write(cdata_1)\n",
    "    data_3.seek(0,2)\n",
    "    data_3.write(\"\\n\")\n",
    "    data_3.seek(0,2)\n",
    "    data_3.write(\"\\n\")\n",
    "    data_3.seek(0,2)\n",
    "    data_3.write(cdata_2)\n",
    "else:\n",
    "    data_3.write(cdata_2)\n",
    "    data_3.seek(0,2)\n",
    "    data_3.write(\"\\n\")\n",
    "    data_3.seek(0,2)\n",
    "    data_3.write(\"\\n\")\n",
    "    data_3.seek(0,2)\n",
    "    data_3.write(cdata_1)\n",
    "    \n",
    "data_3.seek(0)\n",
    "cdata_3 = data_3.read()\n",
    "print(data_3.tell())\n",
    "print(cdata_3)"
   ]
  }
 ],
 "metadata": {
  "kernelspec": {
   "display_name": "Python 3",
   "language": "python",
   "name": "python3"
  },
  "language_info": {
   "codemirror_mode": {
    "name": "ipython",
    "version": 3
   },
   "file_extension": ".py",
   "mimetype": "text/x-python",
   "name": "python",
   "nbconvert_exporter": "python",
   "pygments_lexer": "ipython3",
   "version": "3.7.4"
  }
 },
 "nbformat": 4,
 "nbformat_minor": 2
}

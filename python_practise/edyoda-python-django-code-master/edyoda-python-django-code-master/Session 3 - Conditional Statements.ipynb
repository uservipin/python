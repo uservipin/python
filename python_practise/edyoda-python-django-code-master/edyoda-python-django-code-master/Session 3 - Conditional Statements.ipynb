{
 "cells": [
  {
   "cell_type": "code",
   "execution_count": 2,
   "metadata": {},
   "outputs": [
    {
     "name": "stdout",
     "output_type": "stream",
     "text": [
      "vowel\n"
     ]
    }
   ],
   "source": [
    "character = \"a\"\n",
    "\n",
    "if character in 'aeiou':\n",
    "    print(\"vowel\")\n",
    "else:\n",
    "    print(\"cons\")"
   ]
  },
  {
   "cell_type": "code",
   "execution_count": 3,
   "metadata": {},
   "outputs": [
    {
     "name": "stdout",
     "output_type": "stream",
     "text": [
      "Pass\n"
     ]
    }
   ],
   "source": [
    "marks_obtained = 380\n",
    "total_marks = 500\n",
    "passing_marks = 500 * 0.4\n",
    "\n",
    "if marks_obtained > passing_marks:\n",
    "    print(\"Pass\")\n",
    "else:\n",
    "    print(\"fail\")"
   ]
  },
  {
   "cell_type": "code",
   "execution_count": 5,
   "metadata": {},
   "outputs": [
    {
     "name": "stdout",
     "output_type": "stream",
     "text": [
      "even\n"
     ]
    }
   ],
   "source": [
    "num1 = 45\n",
    "\n",
    "if num1 % 2:\n",
    "    print(\"even\")\n",
    "else:\n",
    "    print(\"odd\")"
   ]
  },
  {
   "cell_type": "code",
   "execution_count": null,
   "metadata": {},
   "outputs": [],
   "source": [
    "currencies = 2000, 500, 100, 50, 10\n",
    "amount = 5560"
   ]
  },
  {
   "cell_type": "code",
   "execution_count": 1,
   "metadata": {},
   "outputs": [
    {
     "name": "stdout",
     "output_type": "stream",
     "text": [
      "Notes of 2000 are 2\n",
      "Notes of 500 are 3\n",
      "Can not issue notes of 100\n",
      "Notes of 50 are 1\n",
      "Notes of 10 are 1\n"
     ]
    }
   ],
   "source": [
    "amount = 5560\n",
    "\n",
    "if amount >= 2000:\n",
    "    print(\"Notes of 2000 are\", amount // 2000)\n",
    "    amount = amount % 2000\n",
    "else:\n",
    "    print(\"Can not issue notes of 2000\")\n",
    "    \n",
    "if amount >= 500:\n",
    "    print(\"Notes of 500 are\", amount // 500)\n",
    "    amount = amount % 500\n",
    "else:\n",
    "    print(\"Can not issue notes of 500\")\n",
    "\n",
    "if amount >= 100:\n",
    "    print(\"Notes of 100 are\", amount // 100)\n",
    "    amount = amount % 100\n",
    "else:\n",
    "    print(\"Can not issue notes of 100\")\n",
    "    \n",
    "if amount >= 50:\n",
    "    print(\"Notes of 50 are\", amount // 50)\n",
    "    amount = amount % 50\n",
    "else:\n",
    "    print(\"Can not issue notes of 50\")\n",
    "    \n",
    "if amount >= 10:\n",
    "    print(\"Notes of 10 are\", amount // 10)\n",
    "    amount = amount % 10\n",
    "else:\n",
    "    print(\"Can not issue notes of 10\")"
   ]
  },
  {
   "cell_type": "code",
   "execution_count": 5,
   "metadata": {},
   "outputs": [
    {
     "name": "stdout",
     "output_type": "stream",
     "text": [
      "1200.0\n"
     ]
    }
   ],
   "source": [
    "rating = 2\n",
    "total_bill = 1000\n",
    "tip = total_bill * (rating * 10) / 100\n",
    "final_amt = total_bill + tip\n",
    "print(final_amt)"
   ]
  }
 ],
 "metadata": {
  "kernelspec": {
   "display_name": "Python 3",
   "language": "python",
   "name": "python3"
  },
  "language_info": {
   "codemirror_mode": {
    "name": "ipython",
    "version": 3
   },
   "file_extension": ".py",
   "mimetype": "text/x-python",
   "name": "python",
   "nbconvert_exporter": "python",
   "pygments_lexer": "ipython3",
   "version": "3.7.4"
  }
 },
 "nbformat": 4,
 "nbformat_minor": 2
}

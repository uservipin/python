{
 "cells": [
  {
   "cell_type": "code",
   "execution_count": 7,
   "metadata": {},
   "outputs": [
    {
     "name": "stdout",
     "output_type": "stream",
     "text": [
      "100\n",
      "400\n",
      "900\n",
      "1600\n",
      "2500\n"
     ]
    }
   ],
   "source": [
    "nums = [10, 20, 30, 40, 50]\n",
    "    \n",
    "for value in nums:\n",
    "    print(value * value)"
   ]
  },
  {
   "cell_type": "code",
   "execution_count": 13,
   "metadata": {},
   "outputs": [
    {
     "name": "stdout",
     "output_type": "stream",
     "text": [
      "10\n",
      "30\n",
      "60\n",
      "100\n",
      "150\n"
     ]
    }
   ],
   "source": [
    "l = [10, 20, 30, 40, 50]\n",
    "sum = 0\n",
    "\n",
    "for value in l:\n",
    "    sum = sum + value\n",
    "    print(sum)\n",
    "    "
   ]
  },
  {
   "cell_type": "code",
   "execution_count": 17,
   "metadata": {},
   "outputs": [
    {
     "name": "stdout",
     "output_type": "stream",
     "text": [
      "10\n",
      "15\n",
      "20\n",
      "25\n",
      "30\n",
      "35\n",
      "40\n",
      "45\n"
     ]
    }
   ],
   "source": [
    "for value in range(10,50,5):\n",
    "    print(value)"
   ]
  },
  {
   "cell_type": "code",
   "execution_count": 22,
   "metadata": {},
   "outputs": [
    {
     "name": "stdout",
     "output_type": "stream",
     "text": [
      "[0, 1, 2, 3, 4, 5, 6, 7, 8, 9]\n"
     ]
    }
   ],
   "source": [
    "print(list(range(10)))"
   ]
  },
  {
   "cell_type": "code",
   "execution_count": 1,
   "metadata": {},
   "outputs": [
    {
     "name": "stdout",
     "output_type": "stream",
     "text": [
      "4 14\n"
     ]
    }
   ],
   "source": [
    "s = \"Python Sample String\"\n",
    "vowel_count = 0\n",
    "consonent_count = 0\n",
    "\n",
    "for character in s:\n",
    "    if character in \"aeiouAEIOU\":\n",
    "        vowel_count += 1\n",
    "    elif character == \" \":\n",
    "        continue\n",
    "    else:\n",
    "        consonent_count += 1\n",
    "        \n",
    "print(vowel_count, consonent_count)"
   ]
  },
  {
   "cell_type": "code",
   "execution_count": 7,
   "metadata": {},
   "outputs": [
    {
     "name": "stdout",
     "output_type": "stream",
     "text": [
      "10\n",
      "20\n",
      "30\n",
      "0\n",
      "Number is Negative -1\n"
     ]
    }
   ],
   "source": [
    "l = [10,20,30,0,-1,100,20,50]\n",
    "\n",
    "for value in l:\n",
    "    if value < 0:\n",
    "        print(\"Number is Negative\", value)\n",
    "        break\n",
    "    else:\n",
    "        print(value)"
   ]
  },
  {
   "cell_type": "code",
   "execution_count": 19,
   "metadata": {},
   "outputs": [
    {
     "name": "stdout",
     "output_type": "stream",
     "text": [
      "Key is present at index 4\n"
     ]
    }
   ],
   "source": [
    "keys = [10,20,30,40,50,60]\n",
    "key = 50\n",
    "\n",
    "for index,value in enumerate(keys):\n",
    "    if value == key:\n",
    "        print(\"Key is present at index\", index)\n",
    "        break\n",
    "else:\n",
    "    print(\"Key is not present\")"
   ]
  },
  {
   "cell_type": "code",
   "execution_count": 45,
   "metadata": {},
   "outputs": [
    {
     "name": "stdout",
     "output_type": "stream",
     "text": [
      "Perfect\n"
     ]
    }
   ],
   "source": [
    "num1 = 28\n",
    "possible_divisors = range(1,num1 // 2 + 1)\n",
    "sum = 0\n",
    "\n",
    "for value in possible_divisors:\n",
    "    if num1 % value == 0:\n",
    "        sum = sum + value\n",
    "if sum == num1:\n",
    "    print(\"Perfect\")\n",
    "else:\n",
    "    print(\"Not Perfect\")"
   ]
  },
  {
   "cell_type": "code",
   "execution_count": 71,
   "metadata": {},
   "outputs": [
    {
     "name": "stdout",
     "output_type": "stream",
     "text": [
      "1 2 3 4 5 6 7 8 9 10 \n",
      "\n",
      "2 4 6 8 10 12 14 16 18 20 \n",
      "\n",
      "3 6 9 12 15 18 21 24 27 30 \n",
      "\n",
      "4 8 12 16 20 24 28 32 36 40 \n",
      "\n",
      "5 10 15 20 25 30 35 40 45 50 \n",
      "\n"
     ]
    }
   ],
   "source": [
    "for value1 in range(1,6):\n",
    "    for value2 in range(1,11):\n",
    "        print(value1 * value2,end = \" \")\n",
    "    print(\"\\n\")"
   ]
  },
  {
   "cell_type": "code",
   "execution_count": 78,
   "metadata": {},
   "outputs": [
    {
     "name": "stdout",
     "output_type": "stream",
     "text": [
      "120\n"
     ]
    }
   ],
   "source": [
    "num1 = 5\n",
    "result = 1\n",
    "\n",
    "while num1 > 1:\n",
    "    result = result * num1\n",
    "    num1 = num1 - 1\n",
    "print(result)"
   ]
  },
  {
   "cell_type": "code",
   "execution_count": 85,
   "metadata": {},
   "outputs": [
    {
     "name": "stdout",
     "output_type": "stream",
     "text": [
      "15\n"
     ]
    }
   ],
   "source": [
    "count = 1\n",
    "sum = 0\n",
    "\n",
    "while count <= 20:\n",
    "    sum = sum + count\n",
    "    count = count + 1\n",
    "    if count == 15:\n",
    "        break\n",
    "else:\n",
    "    print(\"Statement gets executed\")\n",
    "print(count)"
   ]
  }
 ],
 "metadata": {
  "kernelspec": {
   "display_name": "Python 3",
   "language": "python",
   "name": "python3"
  },
  "language_info": {
   "codemirror_mode": {
    "name": "ipython",
    "version": 3
   },
   "file_extension": ".py",
   "mimetype": "text/x-python",
   "name": "python",
   "nbconvert_exporter": "python",
   "pygments_lexer": "ipython3",
   "version": "3.7.4"
  }
 },
 "nbformat": 4,
 "nbformat_minor": 2
}

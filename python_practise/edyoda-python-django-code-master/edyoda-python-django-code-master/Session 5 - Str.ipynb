{
 "cells": [
  {
   "cell_type": "code",
   "execution_count": 11,
   "metadata": {},
   "outputs": [
    {
     "name": "stdout",
     "output_type": "stream",
     "text": [
      "r,c++,c,java,python\n"
     ]
    }
   ],
   "source": [
    "s = \"python,java,c,c++,r\"\n",
    "l = s.split(\",\")\n",
    "s2 = (\",\".join(l[::-1]))\n",
    "print(s2)\n"
   ]
  },
  {
   "cell_type": "code",
   "execution_count": 24,
   "metadata": {},
   "outputs": [
    {
     "name": "stdout",
     "output_type": "stream",
     "text": [
      "z 6\n"
     ]
    }
   ],
   "source": [
    "s = \"aaabbbccsfkihljjjjjddddoooeeezzzzzz\"\n",
    "max_char = \"\"\n",
    "max_count = 0\n",
    "\n",
    "for value in s:\n",
    "    if s.count(value) > max_count:\n",
    "        max_char = value\n",
    "        max_count = s.count(value)\n",
    "print(max_char, max_count)"
   ]
  },
  {
   "cell_type": "code",
   "execution_count": 31,
   "metadata": {},
   "outputs": [
    {
     "name": "stdout",
     "output_type": "stream",
     "text": [
      "LEArnIng pythOn Is EAsy\n"
     ]
    }
   ],
   "source": [
    "#WRONG\n",
    "s = \"Learning python is easy\"\n",
    "s2 = \"\"\n",
    "\n",
    "for value in s:\n",
    "    if value in \"aeiouAEIOU\":\n",
    "        s2 = s2 + value.upper()\n",
    "    else:\n",
    "        s2 = s2 + value\n",
    "print(s2)"
   ]
  },
  {
   "cell_type": "code",
   "execution_count": 32,
   "metadata": {},
   "outputs": [
    {
     "name": "stdout",
     "output_type": "stream",
     "text": [
      "LEArnIng pythOn Is EAsy\n"
     ]
    }
   ],
   "source": [
    "#RIGHT\n",
    "s = \"Learning python is easy\"\n",
    "\n",
    "for value in s:\n",
    "    if value in \"aeiou\":\n",
    "        s = s.replace(value, value.upper())\n",
    "print(s)"
   ]
  },
  {
   "cell_type": "code",
   "execution_count": 42,
   "metadata": {},
   "outputs": [
    {
     "name": "stdout",
     "output_type": "stream",
     "text": [
      "False\n"
     ]
    }
   ],
   "source": [
    "s = \"Python is Easy to learn\"\n",
    "if s == s.capitalize():\n",
    "    print(True)\n",
    "else:\n",
    "    print(False)"
   ]
  }
 ],
 "metadata": {
  "kernelspec": {
   "display_name": "Python 3",
   "language": "python",
   "name": "python3"
  },
  "language_info": {
   "codemirror_mode": {
    "name": "ipython",
    "version": 3
   },
   "file_extension": ".py",
   "mimetype": "text/x-python",
   "name": "python",
   "nbconvert_exporter": "python",
   "pygments_lexer": "ipython3",
   "version": "3.7.4"
  }
 },
 "nbformat": 4,
 "nbformat_minor": 2
}

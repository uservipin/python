{
 "cells": [
  {
   "cell_type": "code",
   "execution_count": 4,
   "metadata": {},
   "outputs": [
    {
     "name": "stdout",
     "output_type": "stream",
     "text": [
      "p\n"
     ]
    }
   ],
   "source": [
    "l = [10,20,30,\"python\",40,50]\n",
    "print(l[3][0])"
   ]
  },
  {
   "cell_type": "code",
   "execution_count": 13,
   "metadata": {},
   "outputs": [
    {
     "name": "stdout",
     "output_type": "stream",
     "text": [
      "['Python', 'Java', 'C', 'C++', 'R']\n"
     ]
    }
   ],
   "source": [
    "l = ['Python','Java','C','C++']\n",
    "l.append('R')\n",
    "print(l)\n"
   ]
  },
  {
   "cell_type": "code",
   "execution_count": 10,
   "metadata": {},
   "outputs": [
    {
     "name": "stdout",
     "output_type": "stream",
     "text": [
      "['python', 'c', 'java', 'Clojure']\n"
     ]
    }
   ],
   "source": [
    "l = ['python','c','java']\n",
    "l2 = ['R',['Clojure'],'go']\n",
    "l.extend(l2[1])\n",
    "print(l)"
   ]
  },
  {
   "cell_type": "code",
   "execution_count": 41,
   "metadata": {},
   "outputs": [
    {
     "name": "stdout",
     "output_type": "stream",
     "text": [
      "['m', 'n', 'o', 'p', 'q', 'r', 's', 't', 'u', 'v', 'w', 'x', 'y', 'z']\n"
     ]
    }
   ],
   "source": [
    "alpha = []\n",
    "start = 'm'\n",
    "end = 'z'\n",
    "\n",
    "for value in range(ord(start),ord(end)+1):\n",
    "    alpha.append(chr(value))\n",
    "print(alpha)\n",
    "    "
   ]
  },
  {
   "cell_type": "code",
   "execution_count": 50,
   "metadata": {},
   "outputs": [
    {
     "name": "stdout",
     "output_type": "stream",
     "text": [
      "[1, 2, 3, 4, 5, 6, 7, 8, 9]\n"
     ]
    }
   ],
   "source": [
    "l1 = [[1,2,3],[4,5,6],[7,8,9]]\n",
    "l2 = []\n",
    "\n",
    "for value in l1:\n",
    "    l2.extend(value)\n",
    "print(l2)"
   ]
  },
  {
   "cell_type": "code",
   "execution_count": 26,
   "metadata": {},
   "outputs": [
    {
     "name": "stdout",
     "output_type": "stream",
     "text": [
      "[1, 2, 3, 4, 5, 6, 7, 8, 9, 10, 11, 12]\n",
      "[100, 200, 300, 400, 500, 600, 700, 800, 900, 1000, 1100, 1200]\n",
      "[101, 102, 103, 104, 105, 106, 107, 108, 109, 110, 111, 112]\n"
     ]
    }
   ],
   "source": [
    "l1 = [[1,2,3],[4,5,6],[7,8,9],[10,11,12]]\n",
    "l2 = [[100,200,300],[400,500,600],[700,800,900],[1000,1100,1200]]\n",
    "l3 = []\n",
    "r = []\n",
    "r2 = []\n",
    "\n",
    "for value in l1:\n",
    "    for value2 in value:\n",
    "        r.append(value2)\n",
    "print(r)\n",
    "\n",
    "for value in l2:\n",
    "    for value3 in value:\n",
    "        r2.append(value3)\n",
    "print(r2)\n",
    "\n",
    "for value in r:\n",
    "    l3.append(value + r2[0])\n",
    "    \n",
    "print(l3)\n",
    "        \n",
    "\n"
   ]
  },
  {
   "cell_type": "code",
   "execution_count": 11,
   "metadata": {},
   "outputs": [
    {
     "name": "stdout",
     "output_type": "stream",
     "text": [
      "[[101, 202, 303], [404, 505, 606], [707, 808, 909], [1010, 1111, 1212]]\n"
     ]
    }
   ],
   "source": [
    "l1 = [[1,2,3],[4,5,6],[7,8,9],[10,11,12]]\n",
    "l2 = [[100,200,300],[400,500,600],[700,800,900],[1000,1100,1200]]\n",
    "l3 = []\n",
    "\n",
    "for row_index in range(len(l1)):\n",
    "    temp = []\n",
    "    for col_index in range(len(l1[0])):\n",
    "        temp.append(l1[row_index][col_index] + l2[row_index][col_index])\n",
    "    l3.append(temp)\n",
    "print(l3)"
   ]
  },
  {
   "cell_type": "code",
   "execution_count": 18,
   "metadata": {},
   "outputs": [
    {
     "name": "stdout",
     "output_type": "stream",
     "text": [
      "['a', 'b', 'c', 's', 'f', 'k', 'i', 'h', 'l', 'j', 'd', 'o', 'e', 'z']\n",
      "z 6\n"
     ]
    }
   ],
   "source": [
    "s = \"aaabbbccsfkihljjjjjddddoooeeezzzzzz\"\n",
    "max_char = \"\"\n",
    "max_count = 0\n",
    "l = []\n",
    "\n",
    "for value in s:\n",
    "    if value not in l:\n",
    "        l.append(value)\n",
    "        if s.count(value) > max_count:\n",
    "            max_char = value\n",
    "            max_count = s.count(value)\n",
    "print(l)     \n",
    "print(max_char, max_count)"
   ]
  },
  {
   "cell_type": "code",
   "execution_count": 24,
   "metadata": {},
   "outputs": [
    {
     "name": "stdout",
     "output_type": "stream",
     "text": [
      "[10, 20, 40, 50] 30\n"
     ]
    }
   ],
   "source": [
    "l = [10,20,30,40,50]\n",
    "r = l.pop(2)\n",
    "print(l, r)"
   ]
  },
  {
   "cell_type": "code",
   "execution_count": 28,
   "metadata": {},
   "outputs": [
    {
     "name": "stdout",
     "output_type": "stream",
     "text": [
      "[10, 30, 40, 50] None\n"
     ]
    }
   ],
   "source": [
    "l = [10,20,30,40,50]\n",
    "r = l.remove(20)\n",
    "print(l, r)"
   ]
  },
  {
   "cell_type": "code",
   "execution_count": 32,
   "metadata": {},
   "outputs": [
    {
     "name": "stdout",
     "output_type": "stream",
     "text": [
      "[] None\n"
     ]
    }
   ],
   "source": [
    "l = [10,20,30,40,50]\n",
    "r = l.clear()\n",
    "print(l, r)"
   ]
  },
  {
   "cell_type": "code",
   "execution_count": 34,
   "metadata": {},
   "outputs": [
    {
     "ename": "NameError",
     "evalue": "name 'l' is not defined",
     "output_type": "error",
     "traceback": [
      "\u001b[1;31m---------------------------------------------------------------------------\u001b[0m",
      "\u001b[1;31mNameError\u001b[0m                                 Traceback (most recent call last)",
      "\u001b[1;32m<ipython-input-34-1b9b02f58d4f>\u001b[0m in \u001b[0;36m<module>\u001b[1;34m\u001b[0m\n\u001b[0;32m      1\u001b[0m \u001b[0ml\u001b[0m \u001b[1;33m=\u001b[0m \u001b[1;33m[\u001b[0m\u001b[1;36m10\u001b[0m\u001b[1;33m,\u001b[0m\u001b[1;36m20\u001b[0m\u001b[1;33m,\u001b[0m\u001b[1;36m30\u001b[0m\u001b[1;33m,\u001b[0m\u001b[1;36m40\u001b[0m\u001b[1;33m,\u001b[0m\u001b[1;36m50\u001b[0m\u001b[1;33m]\u001b[0m\u001b[1;33m\u001b[0m\u001b[1;33m\u001b[0m\u001b[0m\n\u001b[0;32m      2\u001b[0m \u001b[1;32mdel\u001b[0m \u001b[0ml\u001b[0m\u001b[1;33m\u001b[0m\u001b[1;33m\u001b[0m\u001b[0m\n\u001b[1;32m----> 3\u001b[1;33m \u001b[0mprint\u001b[0m\u001b[1;33m(\u001b[0m\u001b[0ml\u001b[0m\u001b[1;33m)\u001b[0m\u001b[1;33m\u001b[0m\u001b[1;33m\u001b[0m\u001b[0m\n\u001b[0m",
      "\u001b[1;31mNameError\u001b[0m: name 'l' is not defined"
     ]
    }
   ],
   "source": [
    "l = [10,20,30,40,50]\n",
    "del l\n",
    "print(l)"
   ]
  },
  {
   "cell_type": "code",
   "execution_count": 39,
   "metadata": {},
   "outputs": [
    {
     "name": "stdout",
     "output_type": "stream",
     "text": [
      "[87, 65, 45, 42, 36, 22, 20, 18, 10]\n"
     ]
    }
   ],
   "source": [
    "l = [10,20,45,36,87,42,22,18,65]\n",
    "l.sort(reverse = True)\n",
    "print(l)"
   ]
  },
  {
   "cell_type": "code",
   "execution_count": 43,
   "metadata": {},
   "outputs": [
    {
     "name": "stdout",
     "output_type": "stream",
     "text": [
      "8\n",
      "3\n"
     ]
    }
   ],
   "source": [
    "l = [10,20,45,42,42,36,87,42,22,18,65]\n",
    "print(l.index(22))\n",
    "print(l.count(42))\n"
   ]
  },
  {
   "cell_type": "code",
   "execution_count": 64,
   "metadata": {},
   "outputs": [
    {
     "name": "stdout",
     "output_type": "stream",
     "text": [
      "[10, 45, 21, 47, 74, 85, 100, 200, 45, 21, 74, 85]\n",
      "[10, 21, 21, 45, 45, 47, 74, 74, 85, 85, 100, 200]\n",
      "[10, 21, 45, 47, 74, 85, 100, 200]\n"
     ]
    }
   ],
   "source": [
    "l1 = [10,45,21,47,74,85]\n",
    "l2 = [100,200,45,21,74,85]\n",
    "l3 = []\n",
    "\n",
    "l1.extend(l2)\n",
    "print(l1)\n",
    "l1.sort()\n",
    "print(l1)\n",
    "\n",
    "# for index,value in enumerate(l1[:-1]):\n",
    "#     print(l1[index], l1[index+1])\n",
    "#     if l1[index] == l1[index+1]:\n",
    "#         l1.pop(index)\n",
    "# print(l1)\n",
    "\n",
    "for value in l1:\n",
    "    if value not in l3:\n",
    "        l3.append(value)\n",
    "        \n",
    "print(l3)"
   ]
  }
 ],
 "metadata": {
  "kernelspec": {
   "display_name": "Python 3",
   "language": "python",
   "name": "python3"
  },
  "language_info": {
   "codemirror_mode": {
    "name": "ipython",
    "version": 3
   },
   "file_extension": ".py",
   "mimetype": "text/x-python",
   "name": "python",
   "nbconvert_exporter": "python",
   "pygments_lexer": "ipython3",
   "version": "3.7.4"
  }
 },
 "nbformat": 4,
 "nbformat_minor": 2
}

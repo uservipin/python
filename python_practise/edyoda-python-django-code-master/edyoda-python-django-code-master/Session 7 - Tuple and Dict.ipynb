{
 "cells": [
  {
   "cell_type": "markdown",
   "metadata": {},
   "source": [
    "# Tuple"
   ]
  },
  {
   "cell_type": "code",
   "execution_count": 2,
   "metadata": {},
   "outputs": [
    {
     "name": "stdout",
     "output_type": "stream",
     "text": [
      "<class 'tuple'>\n"
     ]
    }
   ],
   "source": [
    "t= (10,20,30,40,50)\n",
    "print(type(t))"
   ]
  },
  {
   "cell_type": "code",
   "execution_count": 6,
   "metadata": {},
   "outputs": [
    {
     "name": "stdout",
     "output_type": "stream",
     "text": [
      "(10, 20) <class 'tuple'>\n"
     ]
    }
   ],
   "source": [
    "a = 10,20\n",
    "print(a, type(a))"
   ]
  },
  {
   "cell_type": "code",
   "execution_count": 9,
   "metadata": {},
   "outputs": [
    {
     "name": "stdout",
     "output_type": "stream",
     "text": [
      "(10,) <class 'tuple'>\n"
     ]
    }
   ],
   "source": [
    "b = (10,)\n",
    "print(b, type(b))"
   ]
  },
  {
   "cell_type": "code",
   "execution_count": 13,
   "metadata": {},
   "outputs": [
    {
     "name": "stdout",
     "output_type": "stream",
     "text": [
      "10 20 <class 'int'> <class 'int'>\n"
     ]
    }
   ],
   "source": [
    "a,b = (10,20)\n",
    "print(a,b,type(a),type(b))"
   ]
  },
  {
   "cell_type": "code",
   "execution_count": 15,
   "metadata": {},
   "outputs": [
    {
     "name": "stdout",
     "output_type": "stream",
     "text": [
      "['__add__', '__class__', '__contains__', '__delattr__', '__dir__', '__doc__', '__eq__', '__format__', '__ge__', '__getattribute__', '__getitem__', '__getnewargs__', '__gt__', '__hash__', '__init__', '__init_subclass__', '__iter__', '__le__', '__len__', '__lt__', '__mul__', '__ne__', '__new__', '__reduce__', '__reduce_ex__', '__repr__', '__rmul__', '__setattr__', '__sizeof__', '__str__', '__subclasshook__', 'count', 'index']\n"
     ]
    }
   ],
   "source": [
    "print(dir(tuple))"
   ]
  },
  {
   "cell_type": "code",
   "execution_count": 20,
   "metadata": {},
   "outputs": [
    {
     "name": "stdout",
     "output_type": "stream",
     "text": [
      "2\n",
      "1\n"
     ]
    }
   ],
   "source": [
    "t = (10,20,30,40,50,40,60)\n",
    "print(t.count(40))\n",
    "print(t.index(20))"
   ]
  },
  {
   "cell_type": "code",
   "execution_count": 36,
   "metadata": {},
   "outputs": [
    {
     "name": "stdout",
     "output_type": "stream",
     "text": [
      "100 300\n",
      "73798128\n",
      "(300, 400, 100, 200, 300)\n",
      "76108688\n"
     ]
    }
   ],
   "source": [
    "t = (100,200,300,400,100,200,300)\n",
    "print(t[0], t[-1])\n",
    "print(id(t))\n",
    "t1 = t[2:]\n",
    "print(t1)\n",
    "print(id(t1))"
   ]
  },
  {
   "cell_type": "code",
   "execution_count": 39,
   "metadata": {},
   "outputs": [
    {
     "name": "stdout",
     "output_type": "stream",
     "text": [
      "(0, 10)\n",
      "(1, 20)\n",
      "(2, 30)\n",
      "(3, 40)\n",
      "(4, 50)\n"
     ]
    }
   ],
   "source": [
    "l = [10,20,30,40,50]\n",
    "\n",
    "for value in enumerate(l):\n",
    "    print(value)"
   ]
  },
  {
   "cell_type": "markdown",
   "metadata": {},
   "source": [
    "# Dict"
   ]
  },
  {
   "cell_type": "code",
   "execution_count": 75,
   "metadata": {},
   "outputs": [
    {
     "name": "stdout",
     "output_type": "stream",
     "text": [
      "{'email': 'pqr@email.com', 'name': 'ABC'}\n"
     ]
    }
   ],
   "source": [
    "d = {\"email\":\"abc@email.com\" , \"name\":\"ABC\" , \"email\":\"pqr@email.com\"}\n",
    "print(d)"
   ]
  },
  {
   "cell_type": "code",
   "execution_count": 61,
   "metadata": {},
   "outputs": [
    {
     "name": "stdout",
     "output_type": "stream",
     "text": [
      "['__class__', '__contains__', '__delattr__', '__delitem__', '__dir__', '__doc__', '__eq__', '__format__', '__ge__', '__getattribute__', '__getitem__', '__gt__', '__hash__', '__init__', '__init_subclass__', '__iter__', '__le__', '__len__', '__lt__', '__ne__', '__new__', '__reduce__', '__reduce_ex__', '__repr__', '__setattr__', '__setitem__', '__sizeof__', '__str__', '__subclasshook__', 'clear', 'copy', 'fromkeys', 'get', 'items', 'keys', 'pop', 'popitem', 'setdefault', 'update', 'values']\n"
     ]
    }
   ],
   "source": [
    "print(dir(dict))"
   ]
  },
  {
   "cell_type": "code",
   "execution_count": 69,
   "metadata": {},
   "outputs": [
    {
     "name": "stdout",
     "output_type": "stream",
     "text": [
      "ABC\n",
      "50\n"
     ]
    },
    {
     "ename": "KeyError",
     "evalue": "'id'",
     "output_type": "error",
     "traceback": [
      "\u001b[1;31m---------------------------------------------------------------------------\u001b[0m",
      "\u001b[1;31mKeyError\u001b[0m                                  Traceback (most recent call last)",
      "\u001b[1;32m<ipython-input-69-21ac12383e4a>\u001b[0m in \u001b[0;36m<module>\u001b[1;34m\u001b[0m\n\u001b[0;32m      2\u001b[0m \u001b[0mprint\u001b[0m\u001b[1;33m(\u001b[0m\u001b[0md\u001b[0m\u001b[1;33m[\u001b[0m\u001b[1;34m\"name\"\u001b[0m\u001b[1;33m]\u001b[0m\u001b[1;33m)\u001b[0m\u001b[1;33m\u001b[0m\u001b[1;33m\u001b[0m\u001b[0m\n\u001b[0;32m      3\u001b[0m \u001b[0mprint\u001b[0m\u001b[1;33m(\u001b[0m\u001b[0md\u001b[0m\u001b[1;33m[\u001b[0m\u001b[1;34m\"marks\"\u001b[0m\u001b[1;33m]\u001b[0m\u001b[1;33m[\u001b[0m\u001b[1;33m-\u001b[0m\u001b[1;36m1\u001b[0m\u001b[1;33m]\u001b[0m\u001b[1;33m)\u001b[0m\u001b[1;33m\u001b[0m\u001b[1;33m\u001b[0m\u001b[0m\n\u001b[1;32m----> 4\u001b[1;33m \u001b[0mprint\u001b[0m\u001b[1;33m(\u001b[0m\u001b[0md\u001b[0m\u001b[1;33m[\u001b[0m\u001b[1;34m\"id\"\u001b[0m\u001b[1;33m]\u001b[0m\u001b[1;33m)\u001b[0m\u001b[1;33m\u001b[0m\u001b[1;33m\u001b[0m\u001b[0m\n\u001b[0m",
      "\u001b[1;31mKeyError\u001b[0m: 'id'"
     ]
    }
   ],
   "source": [
    "d = {\"email\":\"abc@email.com\" , \"name\":\"ABC\" , \"age\":50, \"marks\":[10,20,30,40,50]}\n",
    "print(d[\"name\"])\n",
    "print(d[\"marks\"][-1])\n",
    "print(d[\"id\"])"
   ]
  },
  {
   "cell_type": "code",
   "execution_count": 76,
   "metadata": {},
   "outputs": [
    {
     "name": "stdout",
     "output_type": "stream",
     "text": [
      "{'email': 'abc@email.com', 'name': 'ABC', 'age': 50, 'marks': [10, 20, 30, 40, 50], 'id': 45}\n"
     ]
    }
   ],
   "source": [
    "d = {\"email\":\"abc@email.com\" , \"name\":\"ABC\" , \"age\":50, \"marks\":[10,20,30,40,50]}\n",
    "d[\"id\"] = 45\n",
    "print(d)"
   ]
  },
  {
   "cell_type": "code",
   "execution_count": 82,
   "metadata": {},
   "outputs": [
    {
     "name": "stdout",
     "output_type": "stream",
     "text": [
      "{'a': 97, 'b': 98, 'c': 99, 'd': 100, 'e': 101, 'f': 102, 'g': 103, 'h': 104, 'i': 105, 'j': 106, 'k': 107, 'l': 108, 'm': 109, 'n': 110, 'o': 111, 'p': 112, 'q': 113, 'r': 114, 's': 115, 't': 116, 'u': 117, 'v': 118, 'w': 119, 'x': 120, 'y': 121, 'z': 122}\n"
     ]
    }
   ],
   "source": [
    "d = {}\n",
    "\n",
    "for value in range(97,123):\n",
    "    d[chr(value)] = value\n",
    "    \n",
    "print(d)"
   ]
  },
  {
   "cell_type": "code",
   "execution_count": 86,
   "metadata": {},
   "outputs": [
    {
     "name": "stdout",
     "output_type": "stream",
     "text": [
      "Naihai\n"
     ]
    }
   ],
   "source": [
    "d = {\"email\":\"abc@email.com\" , \"name\":\"ABC\" , \"age\":50, \"marks\":[10,20,30,40,50]}\n",
    "print(d.get(\"id\",\"Naihai\"))"
   ]
  },
  {
   "cell_type": "code",
   "execution_count": 91,
   "metadata": {},
   "outputs": [
    {
     "name": "stdout",
     "output_type": "stream",
     "text": [
      "ABD\n"
     ]
    }
   ],
   "source": [
    "d = {\"email\":\"abc@email.com\" , \"name\":\"ABC\" , \"age\":50, \"marks\":[10,20,30,40,50]}\n",
    "print(d.setdefault(\"id\", \"ABD\"))"
   ]
  },
  {
   "cell_type": "code",
   "execution_count": 93,
   "metadata": {},
   "outputs": [
    {
     "name": "stdout",
     "output_type": "stream",
     "text": [
      "{'a': 97, 'b': 98, 'c': 99, 'd': 100, 'e': 101, 'f': 102, 'g': 103, 'h': 104, 'i': 105, 'j': 106, 'k': 107, 'l': 108, 'm': 109, 'n': 110, 'o': 111, 'p': 112, 'q': 113, 'r': 114, 's': 115, 't': 116, 'u': 117, 'v': 118, 'w': 119, 'x': 120, 'y': 121, 'z': 122}\n"
     ]
    }
   ],
   "source": [
    "d = {}\n",
    "\n",
    "for value in range(97,123):\n",
    "    d.setdefault(chr(value), value)\n",
    "    \n",
    "print(d)"
   ]
  },
  {
   "cell_type": "code",
   "execution_count": 95,
   "metadata": {},
   "outputs": [
    {
     "name": "stdout",
     "output_type": "stream",
     "text": [
      "{1: 1, 2: 4, 3: 9, 4: 16, 5: 25, 6: 36, 7: 49, 8: 64, 9: 81, 10: 100, 11: 121, 12: 144, 13: 169, 14: 196, 15: 225, 16: 256, 17: 289, 18: 324, 19: 361, 20: 400}\n"
     ]
    }
   ],
   "source": [
    "d = {}\n",
    "\n",
    "for value in range(1,21):\n",
    "    d.setdefault(value, value*value)\n",
    "    \n",
    "print(d)"
   ]
  },
  {
   "cell_type": "code",
   "execution_count": 102,
   "metadata": {},
   "outputs": [
    {
     "name": "stdout",
     "output_type": "stream",
     "text": [
      "[(10, 100), (20, 200), (30, 300), (40, 400), (50, 500)]\n",
      "(10, 100, 100)\n",
      "(20, 200, 200)\n",
      "(30, 300, 300)\n",
      "(40, 400, 400)\n",
      "(50, 500, 500)\n"
     ]
    }
   ],
   "source": [
    "l1 = [10,20,30,40,50]\n",
    "l2 = [100,200,300,400,500]\n",
    "l3 = [100,200,300,400,500]\n",
    "\n",
    "print(list(zip(l1,l2)))\n",
    "\n",
    "for value in zip(l1,l2,l3):\n",
    "    print(value)"
   ]
  },
  {
   "cell_type": "code",
   "execution_count": 127,
   "metadata": {},
   "outputs": [
    {
     "name": "stdout",
     "output_type": "stream",
     "text": [
      "{(1, 10): 0, (11, 20): 0, (21, 30): 0, (31, 40): 0, (41, 50): 0, (51, 60): 0, (61, 70): 0, (71, 80): 0, (81, 90): 0, (91, 100): 0}\n"
     ]
    }
   ],
   "source": [
    "d = {}\n",
    "l1 = range(1,92, 10)\n",
    "l2 = range(10,101, 10)\n",
    "\n",
    "for value in zip(l1,l2):\n",
    "    d.setdefault(value,0)\n",
    "    \n",
    "print(d)"
   ]
  },
  {
   "cell_type": "code",
   "execution_count": 142,
   "metadata": {},
   "outputs": [
    {
     "name": "stdout",
     "output_type": "stream",
     "text": [
      "{(1, 10): 0, (11, 20): 2, (21, 30): 1, (31, 40): 0, (41, 50): 0, (51, 60): 1, (61, 70): 0, (71, 80): 1, (81, 90): 0, (91, 100): 0}\n"
     ]
    }
   ],
   "source": [
    "d = {}\n",
    "l1 = range(1,92, 10)\n",
    "l2 = range(10,101, 10)\n",
    "\n",
    "\n",
    "for value in zip(l1,l2):\n",
    "    d.setdefault(value,0)\n",
    "    \n",
    "# print(d)\n",
    "\n",
    "num1 = 23\n",
    "l3 = [14,15,56,78,41,25]\n",
    "\n",
    "for num1 in l3:\n",
    "    for key,value in d.items():\n",
    "        if num1 > key[0] and num1 <= key[1]:\n",
    "            d[key]+=1\n",
    "        \n",
    "print(d)"
   ]
  },
  {
   "cell_type": "code",
   "execution_count": 151,
   "metadata": {},
   "outputs": [
    {
     "name": "stdout",
     "output_type": "stream",
     "text": [
      "{}\n"
     ]
    }
   ],
   "source": [
    "d = {\"email\":\"abc@email.com\" , \"name\":\"ABC\" , \"age\":50, \"marks\":[10,20,30,40,50]}\n",
    "# r = d.popitem()\n",
    "# print(d, r)\n",
    "\n",
    "# r = d.pop(\"email\")\n",
    "# print(d, r)\n",
    "\n",
    "d.clear()\n",
    "print(d)"
   ]
  },
  {
   "cell_type": "code",
   "execution_count": 155,
   "metadata": {},
   "outputs": [
    {
     "name": "stdout",
     "output_type": "stream",
     "text": [
      "{1: 1, 2: 4, 3: 9, 4: 16, 5: 25}\n"
     ]
    }
   ],
   "source": [
    "l1 = [1,2,3,4,5]\n",
    "l2 = [1,4,9,16,25]\n",
    "d = dict(zip(l1,l2))\n",
    "\n",
    "print(d)"
   ]
  },
  {
   "cell_type": "code",
   "execution_count": 157,
   "metadata": {},
   "outputs": [
    {
     "name": "stdout",
     "output_type": "stream",
     "text": [
      "{1: 0, 2: 0, 3: 0, 4: 0, 5: 0, 6: 0, 7: 0}\n"
     ]
    }
   ],
   "source": [
    "l1 = [1,2,3,4,5,6,7]\n",
    "d = dict.fromkeys(l1,0)\n",
    "\n",
    "print(d)"
   ]
  }
 ],
 "metadata": {
  "kernelspec": {
   "display_name": "Python 3",
   "language": "python",
   "name": "python3"
  },
  "language_info": {
   "codemirror_mode": {
    "name": "ipython",
    "version": 3
   },
   "file_extension": ".py",
   "mimetype": "text/x-python",
   "name": "python",
   "nbconvert_exporter": "python",
   "pygments_lexer": "ipython3",
   "version": "3.7.4"
  }
 },
 "nbformat": 4,
 "nbformat_minor": 2
}

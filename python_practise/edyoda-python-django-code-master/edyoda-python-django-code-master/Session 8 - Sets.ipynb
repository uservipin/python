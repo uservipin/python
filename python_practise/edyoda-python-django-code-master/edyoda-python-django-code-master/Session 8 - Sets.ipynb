{
 "cells": [
  {
   "cell_type": "code",
   "execution_count": 21,
   "metadata": {},
   "outputs": [
    {
     "name": "stdout",
     "output_type": "stream",
     "text": [
      "{100, 40, 10, 15, 50, 20, 25, 60, 30}\n",
      "[10, 15, 20, 25, 30, 40, 50, 60, 100]\n"
     ]
    }
   ],
   "source": [
    "l1 = [10,15,10,25,60,50]\n",
    "l2 = [100,10,20,30,40,50]\n",
    "\n",
    "s1 = set(l1)\n",
    "s2 = set(l2)\n",
    "\n",
    "s1.update(s2)\n",
    "print(s1)\n",
    "print(sorted(s1))"
   ]
  },
  {
   "cell_type": "code",
   "execution_count": 1,
   "metadata": {},
   "outputs": [
    {
     "name": "stdout",
     "output_type": "stream",
     "text": [
      "q is present max no. of times and the count is 19\n"
     ]
    }
   ],
   "source": [
    "s = \"aaaabbbbbwwwweeedddqqqqqqqqqqqqqqqqqqq\"\n",
    "s1 = set(s)\n",
    "max_count = 0\n",
    "max_char = \"\"\n",
    "\n",
    "for value in s1:\n",
    "    if s.count(value) > max_count:\n",
    "        max_count = s.count(value)\n",
    "        max_char = value\n",
    "        \n",
    "print(\"{} is present max no. of times and the count is {}\".format(max_char, max_count))"
   ]
  },
  {
   "cell_type": "code",
   "execution_count": 2,
   "metadata": {},
   "outputs": [],
   "source": [
    "import random"
   ]
  },
  {
   "cell_type": "code",
   "execution_count": 28,
   "metadata": {},
   "outputs": [
    {
     "name": "stdout",
     "output_type": "stream",
     "text": [
      "4\n"
     ]
    }
   ],
   "source": [
    "dice = [1,2,3,4,5,6]\n",
    "print(random.choice(dice))"
   ]
  },
  {
   "cell_type": "code",
   "execution_count": 44,
   "metadata": {},
   "outputs": [
    {
     "name": "stdout",
     "output_type": "stream",
     "text": [
      "14\n",
      "11\n"
     ]
    }
   ],
   "source": [
    "print(random.randint(10,20))\n",
    "print(random.randrange(10,20))"
   ]
  },
  {
   "cell_type": "code",
   "execution_count": 45,
   "metadata": {},
   "outputs": [
    {
     "name": "stdout",
     "output_type": "stream",
     "text": [
      "0.7076517504950921\n"
     ]
    }
   ],
   "source": [
    "print(random.random())"
   ]
  },
  {
   "cell_type": "code",
   "execution_count": 48,
   "metadata": {},
   "outputs": [
    {
     "name": "stdout",
     "output_type": "stream",
     "text": [
      "14.092919500742717\n"
     ]
    }
   ],
   "source": [
    "print(random.uniform(10,20))"
   ]
  },
  {
   "cell_type": "code",
   "execution_count": 142,
   "metadata": {},
   "outputs": [
    {
     "name": "stdout",
     "output_type": "stream",
     "text": [
      "I8369z+8\n"
     ]
    }
   ],
   "source": [
    "upper = chr(random.randint(65,90))\n",
    "lower = chr(random.randint(97,122))\n",
    "char = [\"~\",\"!\",\"@\",\"#\",\"$\",\"%\",\"%\",\"^\",\"&\",\"*\",\"_\",\"+\"]\n",
    "spc_char = random.choice(char)\n",
    "five_digits = random.randint(10000,99999)\n",
    "temp_pass = upper + lower + spc_char + str(five_digits)\n",
    "shuf_pass = random.sample(temp_pass,8)\n",
    "password = (\"\").join(shuf_pass)\n",
    "\n",
    "print(password)"
   ]
  }
 ],
 "metadata": {
  "kernelspec": {
   "display_name": "Python 3",
   "language": "python",
   "name": "python3"
  },
  "language_info": {
   "codemirror_mode": {
    "name": "ipython",
    "version": 3
   },
   "file_extension": ".py",
   "mimetype": "text/x-python",
   "name": "python",
   "nbconvert_exporter": "python",
   "pygments_lexer": "ipython3",
   "version": "3.7.4"
  }
 },
 "nbformat": 4,
 "nbformat_minor": 2
}

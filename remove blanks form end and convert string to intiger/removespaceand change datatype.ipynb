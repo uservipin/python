{
 "cells": [
  {
   "cell_type": "code",
   "execution_count": 89,
   "metadata": {},
   "outputs": [],
   "source": [
    "import pandas  as pd \n",
    "import numpy as np"
   ]
  },
  {
   "cell_type": "code",
   "execution_count": 90,
   "metadata": {},
   "outputs": [],
   "source": [
    "df = pd.read_excel('Alrawanaq Perfume_12_01_2022_.xlsx')\n",
    "df['Original Price'] = df['Original Price'].str.rsplit().str[0]\n",
    "df['Discounted Price'] = df['Discounted Price'].str.rsplit().str[0]\n",
    "# df['Original Price'] = pd.to_numeric(df['Original Price'])"
   ]
  },
  {
   "cell_type": "code",
   "execution_count": 91,
   "metadata": {},
   "outputs": [
    {
     "name": "stdout",
     "output_type": "stream",
     "text": [
      "<class 'pandas.core.frame.DataFrame'>\n",
      "RangeIndex: 222 entries, 0 to 221\n",
      "Data columns (total 21 columns):\n",
      " #   Column                  Non-Null Count  Dtype  \n",
      "---  ------                  --------------  -----  \n",
      " 0   Product URL             222 non-null    object \n",
      " 1   Brand                   222 non-null    object \n",
      " 2   Product Category        222 non-null    object \n",
      " 3   Sub Category            0 non-null      float64\n",
      " 4   Product Name            222 non-null    object \n",
      " 5   Individual/Set          0 non-null      float64\n",
      " 6   Unit No.                0 non-null      float64\n",
      " 7   Original Price          222 non-null    object \n",
      " 8   Discounted Price        89 non-null     object \n",
      " 9   Currency                0 non-null      float64\n",
      " 10  Product Description     222 non-null    object \n",
      " 11  SKU                     0 non-null      float64\n",
      " 12  Product Size            0 non-null      float64\n",
      " 13  Product Size Unit       0 non-null      float64\n",
      " 14  Origins                 0 non-null      float64\n",
      " 15  Gender                  0 non-null      float64\n",
      " 16  Type                    0 non-null      float64\n",
      " 17  Promotion Availability  222 non-null    object \n",
      " 18  Type of Promotion       0 non-null      float64\n",
      " 19  Discount %              0 non-null      float64\n",
      " 20  Weight                  180 non-null    object \n",
      "dtypes: float64(12), object(9)\n",
      "memory usage: 36.5+ KB\n"
     ]
    }
   ],
   "source": [
    "# df['Original Price']  =df['Original Price\n",
    "# df.info()\n",
    "df['Original Price'] =df['Original Price'].astype(float)\n",
    "df['Discounted Price']  = df['Discounted Price'].fillna(0)\n",
    "df['Discounted Price'] = pd.to_numeric(df['Discounted Price'], errors=\"coerce\")\n",
    "\n",
    "df.to_excel(\"test.xlsx\")"
   ]
  },
  {
   "cell_type": "code",
   "execution_count": null,
   "metadata": {},
   "outputs": [],
   "source": []
  }
 ],
 "metadata": {
  "kernelspec": {
   "display_name": "Python 3.9.7 ('tf-gpu')",
   "language": "python",
   "name": "python3"
  },
  "language_info": {
   "codemirror_mode": {
    "name": "ipython",
    "version": 3
   },
   "file_extension": ".py",
   "mimetype": "text/x-python",
   "name": "python",
   "nbconvert_exporter": "python",
   "pygments_lexer": "ipython3",
   "version": "3.9.7"
  },
  "orig_nbformat": 4,
  "vscode": {
   "interpreter": {
    "hash": "3d2f09c9dc5930be7fd103d89db5d969547e1477d10880c7b0c543452a5a4524"
   }
  }
 },
 "nbformat": 4,
 "nbformat_minor": 2
}
